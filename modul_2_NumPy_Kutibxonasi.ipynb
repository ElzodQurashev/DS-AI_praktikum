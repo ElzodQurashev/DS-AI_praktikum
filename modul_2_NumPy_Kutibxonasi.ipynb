{
  "nbformat": 4,
  "nbformat_minor": 0,
  "metadata": {
    "colab": {
      "name": "modul_2_NumPy_Kutibxonasi.ipynb",
      "provenance": [],
      "collapsed_sections": [
        "_lWCLTWX9sBM",
        "-KCsAKoAnXEp",
        "SCeS4SB9xuHx",
        "jTzTFGD42GLj",
        "IWZ6ozqLcjjb",
        "NnRCpraBeYhy",
        "XmIWOcWBOJxw",
        "I5efqQ7Pf6jq",
        "oGhWH1YbvSNX",
        "For3SR5Rw6OT",
        "WpzBDQ0zxztr",
        "Lx0jLECFyLKY",
        "QL6EwsSiyuBP",
        "sfWI6ZoeznI2",
        "h09Br9ew0736",
        "FBryRyBE2og_",
        "pr8wqAOP4RGg",
        "4YKPlzUQ5N_6",
        "rjeGMdD56H80",
        "3f4IvOF56gTe",
        "xLWOcmRo6i8Z",
        "6C2Ad-LlBrou",
        "vxI87ZJcEDIP",
        "8UA-DOszFWKn",
        "5ykB8gLvFZQ8",
        "QtK-27dmFbeJ",
        "kopYogkLFdiQ",
        "zp1rN5dRFgH6",
        "75-BHdVsFmBF"
      ],
      "authorship_tag": "ABX9TyMjLhCQzNZyAbd1qzzgszGW",
      "include_colab_link": true
    },
    "kernelspec": {
      "name": "python3",
      "display_name": "Python 3"
    },
    "language_info": {
      "name": "python"
    }
  },
  "cells": [
    {
      "cell_type": "markdown",
      "metadata": {
        "id": "view-in-github",
        "colab_type": "text"
      },
      "source": [
        "<a href=\"https://colab.research.google.com/github/ElzodQurashev/DS-AI_praktikum/blob/main/modul_2_NumPy_Kutibxonasi.ipynb\" target=\"_parent\"><img src=\"https://colab.research.google.com/assets/colab-badge.svg\" alt=\"Open In Colab\"/></a>"
      ]
    },
    {
      "cell_type": "code",
      "metadata": {
        "colab": {
          "base_uri": "https://localhost:8080/"
        },
        "id": "Bxvnyycgn8Oa",
        "outputId": "267b5d0a-15c0-489d-c742-ff46cbc1f3f7"
      },
      "source": [
        "print('Assalomu Alekum')"
      ],
      "execution_count": null,
      "outputs": [
        {
          "output_type": "stream",
          "name": "stdout",
          "text": [
            "Assalomu Alekum\n"
          ]
        }
      ]
    },
    {
      "cell_type": "markdown",
      "metadata": {
        "id": "_lWCLTWX9sBM"
      },
      "source": [
        "# Heading. **`\"NumPy kutibxonasi bilan ishlash\"`**\n",
        "\n",
        "- [Mohirdev.uz](https://mohirdev.uz)\n",
        "* kerakli kutibxonalar"
      ]
    },
    {
      "cell_type": "code",
      "metadata": {
        "id": "U9kUVT0ACo3E"
      },
      "source": [
        "import numpy as np\n",
        "import pandas as pd\n",
        "import sklearn\n",
        "import matplotlib.pyplot as plt # ism familiyaga o'xshash Matpo'latov Pypo'lat\n",
        "import torch\n",
        "import tensorflow as tf\n",
        "import keras\n",
        "import seaborn as sns"
      ],
      "execution_count": 2,
      "outputs": []
    },
    {
      "cell_type": "code",
      "metadata": {
        "colab": {
          "base_uri": "https://localhost:8080/"
        },
        "id": "GOF2eGyJDFu0",
        "outputId": "0b080b7c-9d69-449a-aa8e-d47870be628d"
      },
      "source": [
        "tf.__version__"
      ],
      "execution_count": null,
      "outputs": [
        {
          "output_type": "execute_result",
          "data": {
            "application/vnd.google.colaboratory.intrinsic+json": {
              "type": "string"
            },
            "text/plain": [
              "'2.7.0'"
            ]
          },
          "metadata": {},
          "execution_count": 4
        }
      ]
    },
    {
      "cell_type": "code",
      "metadata": {
        "colab": {
          "base_uri": "https://localhost:8080/"
        },
        "id": "VuPH2wDwDSut",
        "outputId": "38a04708-ef99-4684-8114-ab94596d2961"
      },
      "source": [
        "torch.__version__"
      ],
      "execution_count": null,
      "outputs": [
        {
          "output_type": "execute_result",
          "data": {
            "application/vnd.google.colaboratory.intrinsic+json": {
              "type": "string"
            },
            "text/plain": [
              "'1.10.0+cu111'"
            ]
          },
          "metadata": {},
          "execution_count": 5
        }
      ]
    },
    {
      "cell_type": "code",
      "metadata": {
        "colab": {
          "base_uri": "https://localhost:8080/"
        },
        "id": "QCBR3DPcDWY2",
        "outputId": "82e86696-a542-4770-a094-62b81481e570"
      },
      "source": [
        "sns.__version__"
      ],
      "execution_count": null,
      "outputs": [
        {
          "output_type": "execute_result",
          "data": {
            "application/vnd.google.colaboratory.intrinsic+json": {
              "type": "string"
            },
            "text/plain": [
              "'0.11.2'"
            ]
          },
          "metadata": {},
          "execution_count": 6
        }
      ]
    },
    {
      "cell_type": "code",
      "metadata": {
        "colab": {
          "base_uri": "https://localhost:8080/"
        },
        "id": "iHwbMg9-FB-t",
        "outputId": "f47c07b3-7f2a-4278-dad9-2ba3383ae316"
      },
      "source": [
        "torch.cuda.is_available()"
      ],
      "execution_count": null,
      "outputs": [
        {
          "output_type": "execute_result",
          "data": {
            "text/plain": [
              "False"
            ]
          },
          "metadata": {},
          "execution_count": 7
        }
      ]
    },
    {
      "cell_type": "markdown",
      "metadata": {
        "id": "-KCsAKoAnXEp"
      },
      "source": [
        "# ***# 1 List va Array***\n",
        "\n",
        "*   **count CPU time, `List va Array`**"
      ]
    },
    {
      "cell_type": "code",
      "source": [
        "my_list = list(range(100000))\n",
        "my_array = np.array(range(100000))"
      ],
      "metadata": {
        "id": "9iTlMo6ns2gL"
      },
      "execution_count": 3,
      "outputs": []
    },
    {
      "cell_type": "code",
      "metadata": {
        "colab": {
          "base_uri": "https://localhost:8080/"
        },
        "id": "dILZn29jl-Rb",
        "outputId": "6847ffd0-9d94-4517-d65c-ea667b07e0fe"
      },
      "source": [
        "my_list\n",
        "my_array"
      ],
      "execution_count": 6,
      "outputs": [
        {
          "output_type": "execute_result",
          "data": {
            "text/plain": [
              "array([    0,     1,     2, ..., 99997, 99998, 99999])"
            ]
          },
          "metadata": {},
          "execution_count": 6
        }
      ]
    },
    {
      "cell_type": "code",
      "metadata": {
        "id": "6fQolyAtl-77",
        "colab": {
          "base_uri": "https://localhost:8080/"
        },
        "outputId": "23ad4565-33b3-4d58-b30b-e77c94b85b51"
      },
      "source": [
        "%time for _ in range(10): [x*2 for x in my_list]"
      ],
      "execution_count": 7,
      "outputs": [
        {
          "output_type": "stream",
          "name": "stdout",
          "text": [
            "CPU times: user 83.1 ms, sys: 16.6 ms, total: 99.7 ms\n",
            "Wall time: 100 ms\n"
          ]
        }
      ]
    },
    {
      "cell_type": "code",
      "metadata": {
        "colab": {
          "base_uri": "https://localhost:8080/"
        },
        "id": "tC5XFPfynflE",
        "outputId": "9b263ed4-48d5-4c00-ad57-ae10118717fa"
      },
      "source": [
        "%time for _ in range(10): 2*my_array"
      ],
      "execution_count": 8,
      "outputs": [
        {
          "output_type": "stream",
          "name": "stdout",
          "text": [
            "CPU times: user 3.33 ms, sys: 0 ns, total: 3.33 ms\n",
            "Wall time: 3.22 ms\n"
          ]
        }
      ]
    },
    {
      "cell_type": "code",
      "source": [
        ""
      ],
      "metadata": {
        "id": "DAPU7Dt-xsBv"
      },
      "execution_count": null,
      "outputs": []
    },
    {
      "cell_type": "markdown",
      "source": [
        "# ***# 2 NumPy Array*** "
      ],
      "metadata": {
        "id": "SCeS4SB9xuHx"
      }
    },
    {
      "cell_type": "markdown",
      "source": [
        "## ***Massiv o'lchamlari***"
      ],
      "metadata": {
        "id": "jTzTFGD42GLj"
      }
    },
    {
      "cell_type": "code",
      "source": [
        "data1 = [3.5, 5, 6, 2]    # list\n",
        "arr1 = np.array(data1)    # array"
      ],
      "metadata": {
        "id": "KX_8kqH4x0AL"
      },
      "execution_count": 9,
      "outputs": []
    },
    {
      "cell_type": "code",
      "source": [
        "arr1"
      ],
      "metadata": {
        "colab": {
          "base_uri": "https://localhost:8080/"
        },
        "id": "8xa4V5sUyMRs",
        "outputId": "3e6366d9-bb03-452c-f5b3-21ee582a75ea"
      },
      "execution_count": null,
      "outputs": [
        {
          "output_type": "execute_result",
          "data": {
            "text/plain": [
              "array([3.5, 5. , 6. , 2. ])"
            ]
          },
          "metadata": {},
          "execution_count": 13
        }
      ]
    },
    {
      "cell_type": "code",
      "source": [
        "data2 = (4, 5, 3.2, 7)    # tuple\n",
        "arr2 = np.array(data2)    # array"
      ],
      "metadata": {
        "id": "etAYdRcpyNXW"
      },
      "execution_count": null,
      "outputs": []
    },
    {
      "cell_type": "code",
      "source": [
        "arr2"
      ],
      "metadata": {
        "colab": {
          "base_uri": "https://localhost:8080/"
        },
        "id": "afDCgVc2yc0w",
        "outputId": "aa72d7bf-8b7a-46e6-f233-e1f007f9d5a3"
      },
      "execution_count": null,
      "outputs": [
        {
          "output_type": "execute_result",
          "data": {
            "text/plain": [
              "array([4. , 5. , 3.2, 7. ])"
            ]
          },
          "metadata": {},
          "execution_count": 15
        }
      ]
    },
    {
      "cell_type": "code",
      "source": [
        ""
      ],
      "metadata": {
        "id": "Q0hKrgNBydpm"
      },
      "execution_count": null,
      "outputs": []
    },
    {
      "cell_type": "markdown",
      "source": [
        "***Massiv o'lchami***\n",
        "\n",
        "\n",
        "1.  **`.ndim`**\n",
        "2.   **2D array**\n",
        "3.   **`shape`, `size`**\n",
        "\n",
        "\n",
        "\n",
        "\n",
        "\n",
        "---\n",
        "\n",
        "\n",
        "\n",
        "---\n",
        "\n"
      ],
      "metadata": {
        "id": "2Z-79y-cy59A"
      }
    },
    {
      "cell_type": "code",
      "source": [
        "arr1.ndim   # array1 ning o'lchami "
      ],
      "metadata": {
        "colab": {
          "base_uri": "https://localhost:8080/"
        },
        "id": "37SJM3Hpy-Qw",
        "outputId": "af17224f-10da-4d3d-dd07-fd1d5c5bd281"
      },
      "execution_count": null,
      "outputs": [
        {
          "output_type": "execute_result",
          "data": {
            "text/plain": [
              "1"
            ]
          },
          "metadata": {},
          "execution_count": 16
        }
      ]
    },
    {
      "cell_type": "code",
      "source": [
        "arr2.ndim   # array2 ning o'lchami"
      ],
      "metadata": {
        "colab": {
          "base_uri": "https://localhost:8080/"
        },
        "id": "qjSSS6nvzByt",
        "outputId": "a8d5a414-b3af-4eb4-bac4-eb4cb3daa8d3"
      },
      "execution_count": null,
      "outputs": [
        {
          "output_type": "execute_result",
          "data": {
            "text/plain": [
              "1"
            ]
          },
          "metadata": {},
          "execution_count": 17
        }
      ]
    },
    {
      "cell_type": "code",
      "source": [
        "data3 = [[1, 2, 3, 4], [5, 6, 7, 8]]\n",
        "arr3 = np.array(data3)"
      ],
      "metadata": {
        "id": "jRHvfqzVzDRF"
      },
      "execution_count": null,
      "outputs": []
    },
    {
      "cell_type": "code",
      "source": [
        "print(type(data3))\n",
        "print(type(arr3))"
      ],
      "metadata": {
        "colab": {
          "base_uri": "https://localhost:8080/"
        },
        "id": "phhMGN2Bz3nE",
        "outputId": "52ef1516-fcef-4cd7-e140-c4347051b47f"
      },
      "execution_count": null,
      "outputs": [
        {
          "output_type": "stream",
          "name": "stdout",
          "text": [
            "<class 'list'>\n",
            "<class 'numpy.ndarray'>\n"
          ]
        }
      ]
    },
    {
      "cell_type": "code",
      "source": [
        "arr3"
      ],
      "metadata": {
        "colab": {
          "base_uri": "https://localhost:8080/"
        },
        "id": "RcdWVEAnz4Wt",
        "outputId": "2ea0be2d-745c-4a7d-b12c-526dbe8bfa5d"
      },
      "execution_count": null,
      "outputs": [
        {
          "output_type": "execute_result",
          "data": {
            "text/plain": [
              "array([[1, 2, 3, 4],\n",
              "       [5, 6, 7, 8]])"
            ]
          },
          "metadata": {},
          "execution_count": 20
        }
      ]
    },
    {
      "cell_type": "code",
      "source": [
        "arr3.ndim   # massiv o'lchami"
      ],
      "metadata": {
        "colab": {
          "base_uri": "https://localhost:8080/"
        },
        "id": "GQqUKSyb0FGl",
        "outputId": "01d10fb6-eab4-4bdb-ec40-f2c09f51ee9e"
      },
      "execution_count": null,
      "outputs": [
        {
          "output_type": "execute_result",
          "data": {
            "text/plain": [
              "2"
            ]
          },
          "metadata": {},
          "execution_count": 21
        }
      ]
    },
    {
      "cell_type": "code",
      "source": [
        "arr3.shape    # massiv shakli"
      ],
      "metadata": {
        "colab": {
          "base_uri": "https://localhost:8080/"
        },
        "id": "zKJImEe20M2N",
        "outputId": "957b1183-4af3-449c-8c2b-14940265d45d"
      },
      "execution_count": null,
      "outputs": [
        {
          "output_type": "execute_result",
          "data": {
            "text/plain": [
              "(2, 4)"
            ]
          },
          "metadata": {},
          "execution_count": 22
        }
      ]
    },
    {
      "cell_type": "code",
      "source": [
        "arr3.size   # massiv elementlari soni"
      ],
      "metadata": {
        "colab": {
          "base_uri": "https://localhost:8080/"
        },
        "id": "j_Q7wWiu0v9D",
        "outputId": "5c71cda5-db4f-452d-fce5-44221889649d"
      },
      "execution_count": null,
      "outputs": [
        {
          "output_type": "execute_result",
          "data": {
            "text/plain": [
              "8"
            ]
          },
          "metadata": {},
          "execution_count": 23
        }
      ]
    },
    {
      "cell_type": "code",
      "source": [
        ""
      ],
      "metadata": {
        "id": "zrsL37L80xZ9"
      },
      "execution_count": null,
      "outputs": []
    },
    {
      "cell_type": "markdown",
      "source": [
        "## `zeros` va `ones`"
      ],
      "metadata": {
        "id": "IeFfz6dy1WGy"
      }
    },
    {
      "cell_type": "code",
      "source": [
        "arr4 = np.zeros((2,6))    # 2x6   \"faqat \"o\" (nol) sonidan tashkil topgan array hosil qilish \" \n",
        "arr4"
      ],
      "metadata": {
        "colab": {
          "base_uri": "https://localhost:8080/"
        },
        "id": "rZsKJYjZ6f9S",
        "outputId": "96c1e723-5a7e-4f01-a54d-d8894c8042db"
      },
      "execution_count": 12,
      "outputs": [
        {
          "output_type": "execute_result",
          "data": {
            "text/plain": [
              "array([[0., 0., 0., 0., 0., 0.],\n",
              "       [0., 0., 0., 0., 0., 0.]])"
            ]
          },
          "metadata": {},
          "execution_count": 12
        }
      ]
    },
    {
      "cell_type": "code",
      "source": [
        "arr5 = np.ones((4,4))    # 4x4   \"faqat \"1\" (bir) sonidan tashkil topgan array hosil qilish \" \n",
        "arr5"
      ],
      "metadata": {
        "colab": {
          "base_uri": "https://localhost:8080/"
        },
        "id": "RFk-xrcf6ftO",
        "outputId": "49706b37-19fb-4c73-fc8a-a14251c49acc"
      },
      "execution_count": 11,
      "outputs": [
        {
          "output_type": "execute_result",
          "data": {
            "text/plain": [
              "array([[1., 1., 1., 1.],\n",
              "       [1., 1., 1., 1.],\n",
              "       [1., 1., 1., 1.],\n",
              "       [1., 1., 1., 1.]])"
            ]
          },
          "metadata": {},
          "execution_count": 11
        }
      ]
    },
    {
      "cell_type": "code",
      "source": [
        "arr6 = np.zeros_like(arr5)    # boshqa array shakliga o'xshash array hosil qilish\n",
        "arr6"
      ],
      "metadata": {
        "colab": {
          "base_uri": "https://localhost:8080/"
        },
        "id": "SqDerWdzIaN8",
        "outputId": "fc86dc10-d43f-4593-e085-3566621d335e"
      },
      "execution_count": 13,
      "outputs": [
        {
          "output_type": "execute_result",
          "data": {
            "text/plain": [
              "array([[0., 0., 0., 0.],\n",
              "       [0., 0., 0., 0.],\n",
              "       [0., 0., 0., 0.],\n",
              "       [0., 0., 0., 0.]])"
            ]
          },
          "metadata": {},
          "execution_count": 13
        }
      ]
    },
    {
      "cell_type": "markdown",
      "source": [
        ""
      ],
      "metadata": {
        "id": "kAwPWsCu6dGC"
      }
    },
    {
      "cell_type": "markdown",
      "source": [
        "### **`np.arange`**"
      ],
      "metadata": {
        "id": "zHxX0Rx11xpT"
      }
    },
    {
      "cell_type": "code",
      "source": [
        "arr6 = np.arange(4,20,2)    # 4 dan 20 gacha bo'lgan sonlarni 2 qadam bn massivga joylab beradi\n",
        "arr6"
      ],
      "metadata": {
        "colab": {
          "base_uri": "https://localhost:8080/"
        },
        "id": "wtXvvKhF55qV",
        "outputId": "c040c0f1-54c3-4260-f764-d76008b2329c"
      },
      "execution_count": null,
      "outputs": [
        {
          "output_type": "execute_result",
          "data": {
            "text/plain": [
              "array([ 4,  6,  8, 10, 12, 14, 16, 18])"
            ]
          },
          "metadata": {},
          "execution_count": 27
        }
      ]
    },
    {
      "cell_type": "code",
      "source": [
        "arr7 = np.arange(20)    # 20 gacha bo'lgan sonlarni 1 qadam bn massivga joylab beradi\n",
        "arr7"
      ],
      "metadata": {
        "colab": {
          "base_uri": "https://localhost:8080/"
        },
        "id": "H1C708QM6rck",
        "outputId": "9b0f0d8b-eaff-404b-f816-fcb2479edf0f"
      },
      "execution_count": null,
      "outputs": [
        {
          "output_type": "execute_result",
          "data": {
            "text/plain": [
              "array([ 0,  1,  2,  3,  4,  5,  6,  7,  8,  9, 10, 11, 12, 13, 14, 15, 16,\n",
              "       17, 18, 19])"
            ]
          },
          "metadata": {},
          "execution_count": 28
        }
      ]
    },
    {
      "cell_type": "code",
      "source": [
        ""
      ],
      "metadata": {
        "id": "uPhX-rnAIQni"
      },
      "execution_count": null,
      "outputs": []
    },
    {
      "cell_type": "markdown",
      "source": [
        "# **# 3 Ma'lumot turi `dtype`**"
      ],
      "metadata": {
        "id": "IWZ6ozqLcjjb"
      }
    },
    {
      "cell_type": "code",
      "source": [
        "arr1 = np.array([1, 2, 3], dtype = np.float64)    # float64\n",
        "print(arr1)\n",
        "print(arr1.dtype)"
      ],
      "metadata": {
        "colab": {
          "base_uri": "https://localhost:8080/"
        },
        "id": "DJd4QAouYrbB",
        "outputId": "8a962cc4-e481-4762-ffc2-c7ca3b711f44"
      },
      "execution_count": null,
      "outputs": [
        {
          "output_type": "stream",
          "name": "stdout",
          "text": [
            "[1. 2. 3.]\n",
            "float64\n"
          ]
        }
      ]
    },
    {
      "cell_type": "code",
      "source": [
        "arr2 = np.array([1, 2, 3], dtype = np.float32)    # float32\n",
        "arr2"
      ],
      "metadata": {
        "colab": {
          "base_uri": "https://localhost:8080/"
        },
        "id": "HCsIo4p0Z4Az",
        "outputId": "70b4063c-0450-4e63-c496-3a08b6ce2583"
      },
      "execution_count": null,
      "outputs": [
        {
          "output_type": "execute_result",
          "data": {
            "text/plain": [
              "array([1., 2., 3.], dtype=float32)"
            ]
          },
          "metadata": {},
          "execution_count": 30
        }
      ]
    },
    {
      "cell_type": "markdown",
      "source": [
        "***Bir turdagi ma'lumot turidan boshqasiga o'girish***\n",
        "\n",
        "---\n",
        "\n",
        "\n",
        "\n",
        "---\n",
        "\n"
      ],
      "metadata": {
        "id": "aO74sDB2dhCK"
      }
    },
    {
      "cell_type": "code",
      "source": [
        "arr = np.array([1, 2, 3, 4])    # int64\n",
        "arr"
      ],
      "metadata": {
        "colab": {
          "base_uri": "https://localhost:8080/"
        },
        "id": "QdniFlPKagD7",
        "outputId": "5703becb-0cf2-471a-831b-942666387931"
      },
      "execution_count": null,
      "outputs": [
        {
          "output_type": "execute_result",
          "data": {
            "text/plain": [
              "array([1, 2, 3, 4])"
            ]
          },
          "metadata": {},
          "execution_count": 31
        }
      ]
    },
    {
      "cell_type": "code",
      "source": [
        "arr.dtype"
      ],
      "metadata": {
        "colab": {
          "base_uri": "https://localhost:8080/"
        },
        "id": "BUCNV7tNdu4D",
        "outputId": "8489dce7-3c2f-401c-a0b8-d95422e9bcf0"
      },
      "execution_count": null,
      "outputs": [
        {
          "output_type": "execute_result",
          "data": {
            "text/plain": [
              "dtype('int64')"
            ]
          },
          "metadata": {},
          "execution_count": 32
        }
      ]
    },
    {
      "cell_type": "code",
      "source": [
        "float64 = arr.astype(np.float64)    # from int64 to float64\n",
        "float64"
      ],
      "metadata": {
        "colab": {
          "base_uri": "https://localhost:8080/"
        },
        "id": "nKb76zg3a_aS",
        "outputId": "24d024dc-fe42-4748-f8d6-e83ce6ec73f5"
      },
      "execution_count": null,
      "outputs": [
        {
          "output_type": "execute_result",
          "data": {
            "text/plain": [
              "array([1., 2., 3., 4.])"
            ]
          },
          "metadata": {},
          "execution_count": 33
        }
      ]
    },
    {
      "cell_type": "code",
      "source": [
        "float64.dtype"
      ],
      "metadata": {
        "colab": {
          "base_uri": "https://localhost:8080/"
        },
        "id": "8vlDE61YbOlM",
        "outputId": "3da67e80-3933-4a19-92ca-c3e9f6658777"
      },
      "execution_count": null,
      "outputs": [
        {
          "output_type": "execute_result",
          "data": {
            "text/plain": [
              "dtype('float64')"
            ]
          },
          "metadata": {},
          "execution_count": 34
        }
      ]
    },
    {
      "cell_type": "markdown",
      "source": [
        "# **# 4 Indexing & Slicing**  \"Indekslash va kesish\""
      ],
      "metadata": {
        "id": "NnRCpraBeYhy"
      }
    },
    {
      "cell_type": "code",
      "source": [
        "arr = np.arange(10, 100, 10)\n",
        "arr"
      ],
      "metadata": {
        "colab": {
          "base_uri": "https://localhost:8080/"
        },
        "id": "uPNTDbejefq0",
        "outputId": "8d55f1bc-51a1-4f4c-b2a6-acd9f20e4148"
      },
      "execution_count": null,
      "outputs": [
        {
          "output_type": "execute_result",
          "data": {
            "text/plain": [
              "array([10, 20, 30, 40, 50, 60, 70, 80, 90])"
            ]
          },
          "metadata": {},
          "execution_count": 35
        }
      ]
    },
    {
      "cell_type": "code",
      "source": [
        "arr[-2]   # oxiridan 2- element"
      ],
      "metadata": {
        "colab": {
          "base_uri": "https://localhost:8080/"
        },
        "id": "IuLsgpage2JE",
        "outputId": "d53cec76-1e05-42a5-e34f-934ef88d434d"
      },
      "execution_count": null,
      "outputs": [
        {
          "output_type": "execute_result",
          "data": {
            "text/plain": [
              "80"
            ]
          },
          "metadata": {},
          "execution_count": 36
        }
      ]
    },
    {
      "cell_type": "code",
      "source": [
        "arr[3:5]    # 3 dan 5 gacha elementlar"
      ],
      "metadata": {
        "colab": {
          "base_uri": "https://localhost:8080/"
        },
        "id": "M0skttsDe70_",
        "outputId": "585799ac-bc2c-4cc1-8a96-e11b90145259"
      },
      "execution_count": null,
      "outputs": [
        {
          "output_type": "execute_result",
          "data": {
            "text/plain": [
              "array([40, 50])"
            ]
          },
          "metadata": {},
          "execution_count": 37
        }
      ]
    },
    {
      "cell_type": "code",
      "source": [
        "sliced_arr = arr[3:5]\n",
        "sliced_arr[:] = 0\n",
        "sliced_arr"
      ],
      "metadata": {
        "colab": {
          "base_uri": "https://localhost:8080/"
        },
        "id": "4MkObtdGe-OX",
        "outputId": "c18372e9-767e-4098-c302-283a243743b6"
      },
      "execution_count": null,
      "outputs": [
        {
          "output_type": "execute_result",
          "data": {
            "text/plain": [
              "array([0, 0])"
            ]
          },
          "metadata": {},
          "execution_count": 38
        }
      ]
    },
    {
      "cell_type": "code",
      "source": [
        "arr   # sliced_arr dagi o'zgarish asosiy arrayga tasir qildi"
      ],
      "metadata": {
        "colab": {
          "base_uri": "https://localhost:8080/"
        },
        "id": "7cLY8NvJEK32",
        "outputId": "485459f7-221c-48d0-80c5-5a81eac32b26"
      },
      "execution_count": null,
      "outputs": [
        {
          "output_type": "execute_result",
          "data": {
            "text/plain": [
              "array([10, 20, 30,  0,  0, 60, 70, 80, 90])"
            ]
          },
          "metadata": {},
          "execution_count": 39
        }
      ]
    },
    {
      "cell_type": "code",
      "source": [
        "arr1 = np.arange(10,100,10)\n",
        "arr1"
      ],
      "metadata": {
        "colab": {
          "base_uri": "https://localhost:8080/"
        },
        "id": "mynRt9ZFESeu",
        "outputId": "a197116a-71c6-418e-98a6-58ec5b31d5f4"
      },
      "execution_count": null,
      "outputs": [
        {
          "output_type": "execute_result",
          "data": {
            "text/plain": [
              "array([10, 20, 30, 40, 50, 60, 70, 80, 90])"
            ]
          },
          "metadata": {},
          "execution_count": 40
        }
      ]
    },
    {
      "cell_type": "code",
      "source": [
        "sliced_arr1 = arr[3:5].copy()   # \"\" copy \"\" metodidan foydalanish \n",
        "sliced_arr1[:] = 0\n",
        "sliced_arr1"
      ],
      "metadata": {
        "colab": {
          "base_uri": "https://localhost:8080/"
        },
        "id": "Kpc8K9HkEglB",
        "outputId": "2c81ce4a-7475-4cd8-c8c2-9362c9d44db9"
      },
      "execution_count": null,
      "outputs": [
        {
          "output_type": "execute_result",
          "data": {
            "text/plain": [
              "array([0, 0])"
            ]
          },
          "metadata": {},
          "execution_count": 41
        }
      ]
    },
    {
      "cell_type": "code",
      "source": [
        "arr1    # asosiy arrayga tasir qilmadi"
      ],
      "metadata": {
        "colab": {
          "base_uri": "https://localhost:8080/"
        },
        "id": "mIjl4LBsEo8W",
        "outputId": "6a6e84f1-b77d-4fca-f1bb-d09b44b939e5"
      },
      "execution_count": null,
      "outputs": [
        {
          "output_type": "execute_result",
          "data": {
            "text/plain": [
              "array([10, 20, 30, 40, 50, 60, 70, 80, 90])"
            ]
          },
          "metadata": {},
          "execution_count": 42
        }
      ]
    },
    {
      "cell_type": "code",
      "source": [
        ""
      ],
      "metadata": {
        "id": "lKdtG5KeE9gO"
      },
      "execution_count": null,
      "outputs": []
    },
    {
      "cell_type": "markdown",
      "source": [
        "## ***2 o'lchamli (2d array) massivlarda index va kesib olish***\n",
        "\n",
        "---\n",
        "\n",
        "\n",
        "\n",
        "---\n",
        "\n"
      ],
      "metadata": {
        "id": "H7w_oFlrFQBO"
      }
    },
    {
      "cell_type": "code",
      "source": [
        "arr2d = np.array([[1, 2 ,3 ], [4, 5, 6], [7, 8, 9]])    # 2 o'lchamli 3x3 massiv\n",
        "arr2d"
      ],
      "metadata": {
        "colab": {
          "base_uri": "https://localhost:8080/"
        },
        "id": "0zMO4idAFcQM",
        "outputId": "d7b4ad48-7baf-4252-b2f7-de3d16dc3aa8"
      },
      "execution_count": null,
      "outputs": [
        {
          "output_type": "execute_result",
          "data": {
            "text/plain": [
              "array([[1, 2, 3],\n",
              "       [4, 5, 6],\n",
              "       [7, 8, 9]])"
            ]
          },
          "metadata": {},
          "execution_count": 43
        }
      ]
    },
    {
      "cell_type": "markdown",
      "source": [
        "![arr2d.png](data:image/png;base64,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)"
      ],
      "metadata": {
        "id": "U35H7j8XHoGx"
      }
    },
    {
      "cell_type": "code",
      "source": [
        "arr2d"
      ],
      "metadata": {
        "colab": {
          "base_uri": "https://localhost:8080/"
        },
        "id": "Depv9GQpHNPn",
        "outputId": "7275416a-b1d9-466a-d9b5-971bf723aff0"
      },
      "execution_count": null,
      "outputs": [
        {
          "output_type": "execute_result",
          "data": {
            "text/plain": [
              "array([[1, 2, 3],\n",
              "       [4, 5, 6],\n",
              "       [7, 8, 9]])"
            ]
          },
          "metadata": {},
          "execution_count": 44
        }
      ]
    },
    {
      "cell_type": "code",
      "source": [
        "arr2d[1,1]    # 5"
      ],
      "metadata": {
        "colab": {
          "base_uri": "https://localhost:8080/"
        },
        "id": "kw0uq8JuIAsN",
        "outputId": "cb36ae21-e2a5-4cb7-daab-d345fc2fe333"
      },
      "execution_count": null,
      "outputs": [
        {
          "output_type": "execute_result",
          "data": {
            "text/plain": [
              "5"
            ]
          },
          "metadata": {},
          "execution_count": 45
        }
      ]
    },
    {
      "cell_type": "code",
      "source": [
        "arr2d[2,2]    # 9"
      ],
      "metadata": {
        "colab": {
          "base_uri": "https://localhost:8080/"
        },
        "id": "0lvaSbI1IDNF",
        "outputId": "2f974561-2bce-4706-9cc9-d6ae1300dafe"
      },
      "execution_count": null,
      "outputs": [
        {
          "output_type": "execute_result",
          "data": {
            "text/plain": [
              "9"
            ]
          },
          "metadata": {},
          "execution_count": 46
        }
      ]
    },
    {
      "cell_type": "code",
      "source": [
        "arr2d[1,1:]   # 5, 6"
      ],
      "metadata": {
        "colab": {
          "base_uri": "https://localhost:8080/"
        },
        "id": "c7h-7AXAINF-",
        "outputId": "3d196405-5e19-499f-ba09-56d89cc7fc05"
      },
      "execution_count": null,
      "outputs": [
        {
          "output_type": "execute_result",
          "data": {
            "text/plain": [
              "array([5, 6])"
            ]
          },
          "metadata": {},
          "execution_count": 47
        }
      ]
    },
    {
      "cell_type": "code",
      "source": [
        "sl_arr2d = arr2d[2,1:3]   # 8, 9\n",
        "sl_arr2d"
      ],
      "metadata": {
        "colab": {
          "base_uri": "https://localhost:8080/"
        },
        "id": "tZ_oDbqCITE2",
        "outputId": "18c335a8-41e6-45b2-85a7-f5a83c394716"
      },
      "execution_count": null,
      "outputs": [
        {
          "output_type": "execute_result",
          "data": {
            "text/plain": [
              "array([8, 9])"
            ]
          },
          "metadata": {},
          "execution_count": 48
        }
      ]
    },
    {
      "cell_type": "code",
      "source": [
        "# sl_arr2d[0] = 9\n",
        "# sl_arr2d"
      ],
      "metadata": {
        "id": "pRvQ-E-JIkTu"
      },
      "execution_count": null,
      "outputs": []
    },
    {
      "cell_type": "markdown",
      "source": [
        "![arr2d_2.png](data:image/png;base64,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)"
      ],
      "metadata": {
        "id": "qRL2SjfBJQt6"
      }
    },
    {
      "cell_type": "code",
      "source": [
        ""
      ],
      "metadata": {
        "id": "hL4UlQccJZjB"
      },
      "execution_count": null,
      "outputs": []
    },
    {
      "cell_type": "markdown",
      "source": [
        "## ***3 o'lchamli (3d array) massivlarda index va kesib olish***\n",
        "\n",
        "---\n",
        "\n"
      ],
      "metadata": {
        "id": "ZKWgk1nqJsXw"
      }
    },
    {
      "cell_type": "code",
      "source": [
        ""
      ],
      "metadata": {
        "id": "TE8gzq58Jxq7"
      },
      "execution_count": null,
      "outputs": []
    },
    {
      "cell_type": "markdown",
      "source": [
        "![3d_arr.png](data:image/png;base64,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)"
      ],
      "metadata": {
        "id": "FzDWFKKtKDTr"
      }
    },
    {
      "cell_type": "code",
      "source": [
        "# 3D array\n",
        "arr3d = np.array([[[ 0,  1,  2],\n",
        "                   [ 3,  4,  5],\n",
        "                   [ 6,  7,  8]],\n",
        "\n",
        "                  [[ 9, 10, 11],\n",
        "                   [12, 13, 14],\n",
        "                   [15, 16, 17]],\n",
        "\n",
        "                  [[18, 19, 20],\n",
        "                   [21, 22, 23],\n",
        "                   [24, 25, 26]]])"
      ],
      "metadata": {
        "id": "uGRu6-jiKJ0B"
      },
      "execution_count": null,
      "outputs": []
    },
    {
      "cell_type": "code",
      "source": [
        "arr3d[1,1:,1:]"
      ],
      "metadata": {
        "colab": {
          "base_uri": "https://localhost:8080/"
        },
        "id": "5OzrxZA-MvMH",
        "outputId": "e7899757-90a5-41ee-a352-59f3d4fe2dff"
      },
      "execution_count": null,
      "outputs": [
        {
          "output_type": "execute_result",
          "data": {
            "text/plain": [
              "array([[13, 14],\n",
              "       [16, 17]])"
            ]
          },
          "metadata": {},
          "execution_count": 51
        }
      ]
    },
    {
      "cell_type": "code",
      "source": [
        "arr3d"
      ],
      "metadata": {
        "colab": {
          "base_uri": "https://localhost:8080/"
        },
        "id": "j5fc5yOtKaUz",
        "outputId": "54680cda-6256-4fcc-a243-6620b6476e54"
      },
      "execution_count": null,
      "outputs": [
        {
          "output_type": "execute_result",
          "data": {
            "text/plain": [
              "array([[[ 0,  1,  2],\n",
              "        [ 3,  4,  5],\n",
              "        [ 6,  7,  8]],\n",
              "\n",
              "       [[ 9, 10, 11],\n",
              "        [12, 13, 14],\n",
              "        [15, 16, 17]],\n",
              "\n",
              "       [[18, 19, 20],\n",
              "        [21, 22, 23],\n",
              "        [24, 25, 26]]])"
            ]
          },
          "metadata": {},
          "execution_count": 52
        }
      ]
    },
    {
      "cell_type": "code",
      "source": [
        "arr3d[0]    # index 0"
      ],
      "metadata": {
        "colab": {
          "base_uri": "https://localhost:8080/"
        },
        "id": "NS7ZNa1JKw81",
        "outputId": "73022179-80ee-4e62-abc0-7ed8c1ae9584"
      },
      "execution_count": null,
      "outputs": [
        {
          "output_type": "execute_result",
          "data": {
            "text/plain": [
              "array([[0, 1, 2],\n",
              "       [3, 4, 5],\n",
              "       [6, 7, 8]])"
            ]
          },
          "metadata": {},
          "execution_count": 53
        }
      ]
    },
    {
      "cell_type": "code",
      "source": [
        "arr3d[1]    # index 1"
      ],
      "metadata": {
        "colab": {
          "base_uri": "https://localhost:8080/"
        },
        "id": "lyIswKY0Ky9V",
        "outputId": "404332c6-45f6-4c58-d3ec-ee6bbab47999"
      },
      "execution_count": null,
      "outputs": [
        {
          "output_type": "execute_result",
          "data": {
            "text/plain": [
              "array([[ 9, 10, 11],\n",
              "       [12, 13, 14],\n",
              "       [15, 16, 17]])"
            ]
          },
          "metadata": {},
          "execution_count": 54
        }
      ]
    },
    {
      "cell_type": "code",
      "source": [
        "arr3d[2]    # index 2"
      ],
      "metadata": {
        "colab": {
          "base_uri": "https://localhost:8080/"
        },
        "id": "VBvGOk3eWecN",
        "outputId": "1fc48586-37ea-41e2-faaf-183649b84384"
      },
      "execution_count": null,
      "outputs": [
        {
          "output_type": "execute_result",
          "data": {
            "text/plain": [
              "array([[18, 19, 20],\n",
              "       [21, 22, 23],\n",
              "       [24, 25, 26]])"
            ]
          },
          "metadata": {},
          "execution_count": 55
        }
      ]
    },
    {
      "cell_type": "code",
      "source": [
        "arr3d[0][1,:2]    # index 0, element 3, 4"
      ],
      "metadata": {
        "colab": {
          "base_uri": "https://localhost:8080/"
        },
        "id": "Wyd9EOaNWrDE",
        "outputId": "4453ed51-1646-4176-a41e-89dc553c1555"
      },
      "execution_count": null,
      "outputs": [
        {
          "output_type": "execute_result",
          "data": {
            "text/plain": [
              "array([3, 4])"
            ]
          },
          "metadata": {},
          "execution_count": 56
        }
      ]
    },
    {
      "cell_type": "code",
      "source": [
        "arr3d[0,0,0]    # index 0, element 0"
      ],
      "metadata": {
        "colab": {
          "base_uri": "https://localhost:8080/"
        },
        "id": "E-mVd3dQMD8k",
        "outputId": "516503cc-b189-4776-ad4b-1bfde2c39965"
      },
      "execution_count": null,
      "outputs": [
        {
          "output_type": "execute_result",
          "data": {
            "text/plain": [
              "0"
            ]
          },
          "metadata": {},
          "execution_count": 57
        }
      ]
    },
    {
      "cell_type": "code",
      "source": [
        "arr3d[1,2,2]    # index 1, element 17"
      ],
      "metadata": {
        "colab": {
          "base_uri": "https://localhost:8080/"
        },
        "id": "sCmIdvdbMl_c",
        "outputId": "878a525b-e18b-417d-d6c9-871a0aea86de"
      },
      "execution_count": null,
      "outputs": [
        {
          "output_type": "execute_result",
          "data": {
            "text/plain": [
              "17"
            ]
          },
          "metadata": {},
          "execution_count": 58
        }
      ]
    },
    {
      "cell_type": "code",
      "source": [
        "arr3d[1,1,1:]    # index 1, element 13,14"
      ],
      "metadata": {
        "colab": {
          "base_uri": "https://localhost:8080/"
        },
        "id": "aIvxl1x-MNvc",
        "outputId": "91b084a6-a380-4b6a-9325-8613467440e8"
      },
      "execution_count": null,
      "outputs": [
        {
          "output_type": "execute_result",
          "data": {
            "text/plain": [
              "array([13, 14])"
            ]
          },
          "metadata": {},
          "execution_count": 59
        }
      ]
    },
    {
      "cell_type": "code",
      "source": [
        "arr3d[2,1:,1:]    # index 2, element 22, 23, 25, 26"
      ],
      "metadata": {
        "colab": {
          "base_uri": "https://localhost:8080/"
        },
        "id": "CaEnl2bPM8IQ",
        "outputId": "01ec5e9f-3993-48b5-eecb-12981aabf9ec"
      },
      "execution_count": null,
      "outputs": [
        {
          "output_type": "execute_result",
          "data": {
            "text/plain": [
              "array([[22, 23],\n",
              "       [25, 26]])"
            ]
          },
          "metadata": {},
          "execution_count": 60
        }
      ]
    },
    {
      "cell_type": "code",
      "source": [
        "arr3d[2][0:2,0:2]    # index 2, element 18, 19, 21, 22"
      ],
      "metadata": {
        "colab": {
          "base_uri": "https://localhost:8080/"
        },
        "id": "SLPkfgQhM80t",
        "outputId": "e84de62f-7303-404d-b3a0-87be67e43bcf"
      },
      "execution_count": null,
      "outputs": [
        {
          "output_type": "execute_result",
          "data": {
            "text/plain": [
              "array([[18, 19],\n",
              "       [21, 22]])"
            ]
          },
          "metadata": {},
          "execution_count": 61
        }
      ]
    },
    {
      "cell_type": "code",
      "source": [
        "arr3d[2,:2,:2]    # index 2, element 18, 19, 21, 22"
      ],
      "metadata": {
        "colab": {
          "base_uri": "https://localhost:8080/"
        },
        "id": "LVPheTKPNHXq",
        "outputId": "2a3e0db2-9ae4-4513-8a91-5ac14a406765"
      },
      "execution_count": null,
      "outputs": [
        {
          "output_type": "execute_result",
          "data": {
            "text/plain": [
              "array([[18, 19],\n",
              "       [21, 22]])"
            ]
          },
          "metadata": {},
          "execution_count": 62
        }
      ]
    },
    {
      "cell_type": "code",
      "source": [
        "arr3d[2,:2,2:]    # index 2, element 20, 23"
      ],
      "metadata": {
        "id": "tMZXd6SwNPvc",
        "colab": {
          "base_uri": "https://localhost:8080/"
        },
        "outputId": "8004bae9-c83b-4c23-a07c-06a122567c49"
      },
      "execution_count": null,
      "outputs": [
        {
          "output_type": "execute_result",
          "data": {
            "text/plain": [
              "array([[20],\n",
              "       [23]])"
            ]
          },
          "metadata": {},
          "execution_count": 63
        }
      ]
    },
    {
      "cell_type": "markdown",
      "source": [
        "# ***# 5 Boolen Indekslash***"
      ],
      "metadata": {
        "id": "XmIWOcWBOJxw"
      }
    },
    {
      "cell_type": "markdown",
      "source": [
        "## Boolean Indekslash\n",
        "\n",
        "---\n",
        "\n"
      ],
      "metadata": {
        "id": "W7dxLQwZP09d"
      }
    },
    {
      "cell_type": "code",
      "source": [
        "# Ismlar\n",
        "names = np.array(['Hasan', 'Husan', 'Mirzabek', 'Elyor', 'Hasan', 'Javohir', 'Elyor'])\n",
        "names\n"
      ],
      "metadata": {
        "colab": {
          "base_uri": "https://localhost:8080/"
        },
        "id": "CfgDU1PWOXN0",
        "outputId": "91bad5a6-9c5f-499a-e065-262565021524"
      },
      "execution_count": null,
      "outputs": [
        {
          "output_type": "execute_result",
          "data": {
            "text/plain": [
              "array(['Hasan', 'Husan', 'Mirzabek', 'Elyor', 'Hasan', 'Javohir', 'Elyor'],\n",
              "      dtype='<U8')"
            ]
          },
          "metadata": {},
          "execution_count": 64
        }
      ]
    },
    {
      "cell_type": "code",
      "source": [
        "# Data\n",
        "data = np.random.randn(7,4)\n",
        "data"
      ],
      "metadata": {
        "colab": {
          "base_uri": "https://localhost:8080/"
        },
        "id": "piJr6ABKP-C8",
        "outputId": "acf2bcbb-9145-48a7-999d-897dc2a486d8"
      },
      "execution_count": null,
      "outputs": [
        {
          "output_type": "execute_result",
          "data": {
            "text/plain": [
              "array([[ 0.71356639,  0.60840462, -0.69576362,  0.80096951],\n",
              "       [ 2.13972366, -0.3247958 ,  0.16540787, -0.43187082],\n",
              "       [-2.22164021, -0.1974542 , -1.23520929, -0.99748529],\n",
              "       [ 0.73446063,  0.24223633, -0.56431737,  0.50651035],\n",
              "       [-0.50201695,  0.38005938, -0.80750733, -0.76172636],\n",
              "       [ 0.01821619, -0.66512749, -1.45701407, -0.94798534],\n",
              "       [-0.31372724, -1.25989015,  0.53092583,  0.08851345]])"
            ]
          },
          "metadata": {},
          "execution_count": 65
        }
      ]
    },
    {
      "cell_type": "code",
      "source": [
        "names == \"Hasan\""
      ],
      "metadata": {
        "colab": {
          "base_uri": "https://localhost:8080/"
        },
        "id": "f2wJN3qCQZZx",
        "outputId": "d77efd95-db30-4bbc-df9b-01301b2e11a9"
      },
      "execution_count": null,
      "outputs": [
        {
          "output_type": "execute_result",
          "data": {
            "text/plain": [
              "array([ True, False, False, False,  True, False, False])"
            ]
          },
          "metadata": {},
          "execution_count": 66
        }
      ]
    },
    {
      "cell_type": "code",
      "source": [
        "data[names == \"Hasan\"]    # Hasan ga tegishli barcha ma'lumotlar"
      ],
      "metadata": {
        "colab": {
          "base_uri": "https://localhost:8080/"
        },
        "id": "myh9LQYUQNVE",
        "outputId": "9dcb1d05-e4fa-4e46-c587-660824855832"
      },
      "execution_count": null,
      "outputs": [
        {
          "output_type": "execute_result",
          "data": {
            "text/plain": [
              "array([[ 0.71356639,  0.60840462, -0.69576362,  0.80096951],\n",
              "       [-0.50201695,  0.38005938, -0.80750733, -0.76172636]])"
            ]
          },
          "metadata": {},
          "execution_count": 67
        }
      ]
    },
    {
      "cell_type": "code",
      "source": [
        "data[names == 'Elyor']    # Elyor ga tegishli barcha ma'lumotlar"
      ],
      "metadata": {
        "id": "mgxlgAgTQRY8",
        "colab": {
          "base_uri": "https://localhost:8080/"
        },
        "outputId": "3103c9c1-9276-4d55-ac6a-bfb1ada6b84b"
      },
      "execution_count": null,
      "outputs": [
        {
          "output_type": "execute_result",
          "data": {
            "text/plain": [
              "array([[ 0.73446063,  0.24223633, -0.56431737,  0.50651035],\n",
              "       [-0.31372724, -1.25989015,  0.53092583,  0.08851345]])"
            ]
          },
          "metadata": {},
          "execution_count": 68
        }
      ]
    },
    {
      "cell_type": "code",
      "source": [
        "data[names == \"Hasan\", 2:]    # Hasanga tegishli oxirgi ikkita ustundagi ma'lumotlar"
      ],
      "metadata": {
        "id": "FQSbgFhS8CAq",
        "colab": {
          "base_uri": "https://localhost:8080/"
        },
        "outputId": "f6705833-45c9-4939-bf92-7abe903f8a90"
      },
      "execution_count": null,
      "outputs": [
        {
          "output_type": "execute_result",
          "data": {
            "text/plain": [
              "array([[-0.69576362,  0.80096951],\n",
              "       [-0.80750733, -0.76172636]])"
            ]
          },
          "metadata": {},
          "execution_count": 69
        }
      ]
    },
    {
      "cell_type": "code",
      "source": [
        "data[names != \"Hasan\"]    # \"Hasandan tashqari barcha shaxslarning ma'lumotlari\"  "
      ],
      "metadata": {
        "id": "rf6kBMzG84cJ",
        "colab": {
          "base_uri": "https://localhost:8080/"
        },
        "outputId": "93694a3a-3610-40aa-9bff-dbaa5ac62782"
      },
      "execution_count": null,
      "outputs": [
        {
          "output_type": "execute_result",
          "data": {
            "text/plain": [
              "array([[ 2.13972366, -0.3247958 ,  0.16540787, -0.43187082],\n",
              "       [-2.22164021, -0.1974542 , -1.23520929, -0.99748529],\n",
              "       [ 0.73446063,  0.24223633, -0.56431737,  0.50651035],\n",
              "       [ 0.01821619, -0.66512749, -1.45701407, -0.94798534],\n",
              "       [-0.31372724, -1.25989015,  0.53092583,  0.08851345]])"
            ]
          },
          "metadata": {},
          "execution_count": 70
        }
      ]
    },
    {
      "cell_type": "code",
      "source": [
        "data[~(names == \"Hasan\")]   # Yuqoridagi cell bilan bir xil natija"
      ],
      "metadata": {
        "id": "ojXbP8Jw99k_",
        "colab": {
          "base_uri": "https://localhost:8080/"
        },
        "outputId": "4d994019-c80e-4f00-ee98-422f7368c211"
      },
      "execution_count": null,
      "outputs": [
        {
          "output_type": "execute_result",
          "data": {
            "text/plain": [
              "array([[ 2.13972366, -0.3247958 ,  0.16540787, -0.43187082],\n",
              "       [-2.22164021, -0.1974542 , -1.23520929, -0.99748529],\n",
              "       [ 0.73446063,  0.24223633, -0.56431737,  0.50651035],\n",
              "       [ 0.01821619, -0.66512749, -1.45701407, -0.94798534],\n",
              "       [-0.31372724, -1.25989015,  0.53092583,  0.08851345]])"
            ]
          },
          "metadata": {},
          "execution_count": 71
        }
      ]
    },
    {
      "cell_type": "code",
      "source": [
        "print(f\"{names}\\n\")\n",
        "print(data)"
      ],
      "metadata": {
        "id": "ZVZOcCBk99Dj",
        "colab": {
          "base_uri": "https://localhost:8080/"
        },
        "outputId": "68e61e27-4fde-4757-a776-bfd240579250"
      },
      "execution_count": null,
      "outputs": [
        {
          "output_type": "stream",
          "name": "stdout",
          "text": [
            "['Hasan' 'Husan' 'Mirzabek' 'Elyor' 'Hasan' 'Javohir' 'Elyor']\n",
            "\n",
            "[[ 0.71356639  0.60840462 -0.69576362  0.80096951]\n",
            " [ 2.13972366 -0.3247958   0.16540787 -0.43187082]\n",
            " [-2.22164021 -0.1974542  -1.23520929 -0.99748529]\n",
            " [ 0.73446063  0.24223633 -0.56431737  0.50651035]\n",
            " [-0.50201695  0.38005938 -0.80750733 -0.76172636]\n",
            " [ 0.01821619 -0.66512749 -1.45701407 -0.94798534]\n",
            " [-0.31372724 -1.25989015  0.53092583  0.08851345]]\n"
          ]
        }
      ]
    },
    {
      "cell_type": "code",
      "source": [
        "mask = (names == 'Hasan') | (names == 'Husan')    # \" | \" - or (yoki)  # Hasan va Husan ga tegishli barcha ma'lumotlar"
      ],
      "metadata": {
        "id": "iJMnTrDD99AD"
      },
      "execution_count": null,
      "outputs": []
    },
    {
      "cell_type": "code",
      "source": [
        "data[mask]    # Hasan va Husan ga tegishli barcha ma'lumotlar"
      ],
      "metadata": {
        "id": "HM1jiBk_-phq",
        "colab": {
          "base_uri": "https://localhost:8080/"
        },
        "outputId": "8acc54a1-3b70-458c-ee63-03af8b3c6bcb"
      },
      "execution_count": null,
      "outputs": [
        {
          "output_type": "execute_result",
          "data": {
            "text/plain": [
              "array([[ 0.71356639,  0.60840462, -0.69576362,  0.80096951],\n",
              "       [ 2.13972366, -0.3247958 ,  0.16540787, -0.43187082],\n",
              "       [-0.50201695,  0.38005938, -0.80750733, -0.76172636]])"
            ]
          },
          "metadata": {},
          "execution_count": 74
        }
      ]
    },
    {
      "cell_type": "code",
      "source": [
        "data"
      ],
      "metadata": {
        "id": "2kQupade_CFY",
        "colab": {
          "base_uri": "https://localhost:8080/"
        },
        "outputId": "47136586-57e6-4b37-db49-9b7e3bf1e827"
      },
      "execution_count": null,
      "outputs": [
        {
          "output_type": "execute_result",
          "data": {
            "text/plain": [
              "array([[ 0.71356639,  0.60840462, -0.69576362,  0.80096951],\n",
              "       [ 2.13972366, -0.3247958 ,  0.16540787, -0.43187082],\n",
              "       [-2.22164021, -0.1974542 , -1.23520929, -0.99748529],\n",
              "       [ 0.73446063,  0.24223633, -0.56431737,  0.50651035],\n",
              "       [-0.50201695,  0.38005938, -0.80750733, -0.76172636],\n",
              "       [ 0.01821619, -0.66512749, -1.45701407, -0.94798534],\n",
              "       [-0.31372724, -1.25989015,  0.53092583,  0.08851345]])"
            ]
          },
          "metadata": {},
          "execution_count": 75
        }
      ]
    },
    {
      "cell_type": "code",
      "source": [
        "data[data<0]= 0\n",
        "# data[data>0]= 1\n",
        "data"
      ],
      "metadata": {
        "id": "1_8Uukas-3Or",
        "colab": {
          "base_uri": "https://localhost:8080/"
        },
        "outputId": "33f106f2-f1d5-4d04-b01b-1c303d77f846"
      },
      "execution_count": null,
      "outputs": [
        {
          "output_type": "execute_result",
          "data": {
            "text/plain": [
              "array([[0.71356639, 0.60840462, 0.        , 0.80096951],\n",
              "       [2.13972366, 0.        , 0.16540787, 0.        ],\n",
              "       [0.        , 0.        , 0.        , 0.        ],\n",
              "       [0.73446063, 0.24223633, 0.        , 0.50651035],\n",
              "       [0.        , 0.38005938, 0.        , 0.        ],\n",
              "       [0.01821619, 0.        , 0.        , 0.        ],\n",
              "       [0.        , 0.        , 0.53092583, 0.08851345]])"
            ]
          },
          "metadata": {},
          "execution_count": 76
        }
      ]
    },
    {
      "cell_type": "code",
      "source": [
        ""
      ],
      "metadata": {
        "id": "SJgppK52fOr3"
      },
      "execution_count": null,
      "outputs": []
    },
    {
      "cell_type": "markdown",
      "source": [
        "# ***# 6 Array (Massiv) o'qlarini almashtirish***"
      ],
      "metadata": {
        "id": "I5efqQ7Pf6jq"
      }
    },
    {
      "cell_type": "code",
      "source": [
        ""
      ],
      "metadata": {
        "id": "GIofCt_2hR0i"
      },
      "execution_count": null,
      "outputs": []
    },
    {
      "cell_type": "markdown",
      "source": [
        "***Massivlar pozitsiyasini almashtirsh `Transpose` va o'qlar o'rnini almashtirish `Swapping axis`***\n",
        "\n",
        "---\n",
        "\n"
      ],
      "metadata": {
        "id": "MYgX1JZbg8-7"
      }
    },
    {
      "cell_type": "markdown",
      "source": [
        "![transpose.png](data:image/png;base64,iVBORw0KGgoAAAANSUhEUgAACPMAAAOrCAYAAAA4AFF9AAAAAXNSR0IArs4c6QAAAARnQU1BAACxjwv8YQUAAAAJcEhZcwAAFxEAABcRAcom8z8AAP+lSURBVHhe7P0LvHRXXR/+++u/tEoEY0npJQYkVlSwkuaXnxUNLdiS6NMWwiUX7rFNTTSoaa3ghRLURuKVi5ifl5pA6yVGIECiRK1iQAVNBJRaFOMFtOIFsIK22v7b+c335Nkne9az9pk1c/aZs9be7/fr9XnleWb2zOyzZ+1nrzPzyd4fBQAAAMDkLQYCAAAAAAAAAADsWK7IEwEAAAAAAAAAAHYsV+SJAAAAAAAAAAAAO5Yr8kQAAAAAAAAAAIAdyxV5IgAAAAAAAAAAwI7lijwRAAAAAAAAAABgx3JFnggAAAAAAAAAALBjuSJPBAAAAAAAAAAA2LFckScCAAAAAAAAAADsWK7IEwEAAAAAAAAAAHYsV+SJAAAAAAAAAAAAO5Yr8kQAAAAAAAAAAIAdyxV5IgAAAAAAAAAAwI7lijwRAAAAAAAAAABgx3JFnggAAAAAAAAAALBjuSJPBAAAAAAAAAAA2LFckScCAAAAAAAAAADsWK7IEwEAAAAAAAAAAHYsV+SJAAAAAAAAAAAAO5Yr8kQAAAAAAAAAAIAdyxV5IgAAAAAAAAAAwI7lijwRAAAAAAAAAABgx3JFnggAAAAAAAAAALBjuSJPBAAAAAAAAAAA2LFckScCAAAAAAAAAADsWK7IEwEAAAAAAAAAAHYsV+SJAAAAAAAAAAAAO5Yr8kQAAAAAAAAAAIAdyxV5IgAAAAAAAAAAwI7lijwRAAAAAAAAAABgx3JFnggAAAAAAAAAALBjuSJPBAAAAAAAAAAA2LFckScCAAAAAAAAAADsWK7IEwEAAAAAAAAAAHYsV+SJAAAAAAAAAAAAO5Yr8kQAAAAAAAAAAIAdyxV5IgAAAAAAAAAAwI7lijwRAAAAAAAAAABgx3JFnggAAAAAAAAAALBjuSJPBAAAAAAAAAAA2LFckScCAAAAAAAAAADsWK7IEwEAAAAAAAAAAHYsV+SJAAAAAAAAAAAAO5Yr8kQAAAAAAAAAAIAdyxV5IgAAAAAAAAAAwI7lijwRAAAAAAAAAABgx3JFnggAAAAAAAAAALBjuSJPBAAAAAAAAAAA2LFckScCAAAAAAAAAADsWK7IEwEAAAAAAAAAAHYsV+SJAAAAAAAAAAAAO5Yr8kQAAAAAAAAAAIAdyxV5IgAAAAAAAAAAwI7lijwRAAAAAAAAAABgx3JFnggAAAAAAAAAALBjuSJPBAAAAAAAAAAA2LFckScCAAAAAAAAAADsWK7IEwEAAAAAAAAAAHYsV+SJAAAAAAAAAAAAO5Yr8kQAAAAAAAAAAIAdyxV5IgAAAAAAAAAAwI7lijwRAAAAAAAAAABgx3JFnggAAAAAAAAAALBjuSJPBAAAAAAAAAAA2LFckScCAAAAAAAAAADsWK7IEwEAAAAAAAAAAHYsV+SJAAAAAAAAAAAAO5Yr8kQAAAAAAAAAAIAdyxV5IgAAAAAAAAAAwI7lijwRAAAAAAAAAABgx3JFnggAAAAAAAAAALBjuSJPBAAAAAAAAAAA2LFckScCAAAAAAAAAADsWK7IEwEAAAAAAAAAAHYsV+SJAAAAAAAAAAAAO5Yr8kQAAAAAAAAAAIAdyxV5IgAAAAAAAAAAwI7lijwRAAAAAAAAAABgx3JFnggAAAAAAAAAALBjuSJPBAAAAAAAAAAA2LFckScCAAAAAAAAAADsWK7IEwEAAAAAAAAAAHYsV+SJAAAAAAAAAAAAO5Yr8kQAAAAAAAAAAIAdyxV5IgAAAAAAAAAAwI7lijwRAAAAAAAAAABgx3JFnggAAAAAAAAAALBjuSJPBAAAAAAAAAAA2LFckScCAAAAAAAAAADsWK7IEwEAAAAAAAAAAHYsV+SJAAAAAAAAAAAAO5Yr8kQAAAAAAAAAAIAdyxV5IgAAAAAAAAAAwI7lijwRAAAAAAAAAABgx3JFnggAAAAAAAAAALBjuSJPBAAAAAAAAAAA2LFckScCAAAAAAAAAADsWK7IEwEAAAAAAAAAAHYsV+SJAAAAAAAAAAAAO5Yr8kQAAAAAAAAAAIAdyxV5IgAAAAAAAAAAwI7lijwRAAAAAAAAAABgx3JFnggAAAAAAAAAALBjuSJPBAAAAAAAAAAA2LFckScCAAAAAAAAAADsWK7IEwEAAAAAAAAAAHYsV+SJAAAAAAAAAAAAO5Yr8kQAAAAAAAAAAIAdyxV5IgAAAAAAAAAAwI7lijwRAAAAAAAAAABgx3JFnggAAAAAAAAAALBjuSJPBAAAAAAAAAAA2LFckScCAAAAAAAAAADsWK7IEwEAAAAAAAAAAHYsV+SJAAAAAAAAAAAAO5Yr8kQAAAAAAAAAAIAdyxV5IgAAAAAAAAAAwI7lijwRAAAAAAAAAABgx3JFnggAAAAAAAAAALBjuSJPBAAAAAAAAAAA2LFckScCAAAAAAAAAADsWK7IEwEAAAAAAAAAAHYsV+SJAAAAAAAAAAAAO5Yr8kQAAAAAAAAAAIAdyxV5IgAAAAAAAAAAwI7lijwRAAAAAAAAAABgx3JFnggAAAAAAAAAALBjuSJPBAAAAAAAAAAA2LFckScCAAAAAAAAAADsWK7IEwEAAAAAAAAAAHYsV+SJAAAAAAAAAAAAO5Yr8kQAAAAAAAAAAIAdyxV5IgAAAAAAAAAAwI7lijwRAAAAAAAAAABgx3JFnggAAAAAAAAAALBjuSJPBAAAAAAAAAAA2LFckScCAAAAAAAAAADsWK7IEwEAAAAAAAAAAHYsV+SJAAAAAAAAAAAAO5Yr8kQAAAAAAAAAAIAdyxV5IgAAAAAAAAAAwI7lijwRAAAAAAAAAABgx3JFnggAAAAAAAAAALBjuSJPBAAAAAAAAAAA2LFckScCAAAAAAAAAADsWK7IEwEAAAAAAAAAAHYsV+SJAAAAAAAAAAAAO5Yr8kQAAAAAAAAAAIAdyxV5IgAAAAAAAAAAwI7lijwRAAAAAAAAAABgx3JFnggAAAAAAAAAALBjuSJPBAAAAAAAAAAA2LFckScCAAAAAAAAAADsWK7IEwEAAAAAAAAAAHYsV+SJAAAAAAAAAAAAO5Yr8kQAAAAAAAAAAIAdyxV5IgAAAAAAAAAAwI7lijwRAAAAAAAAAABgx3JFnggAAAAAAAAAALBjuSJPBAAAAAAAAAAA2LFckScCAAAAAAAAAADsWK7IEwEAAAAAAAAAAHYsV+SJAAAAAAAAAAAAO5Yr8kQAAAAAAAAAAIAdyxV5IgAAAAAAAAAAwI7lijwRAAAAAAAAAABgx3JFnggAAAAAAAAAALBjuSJPBAAAAAAAAAAA2LFckScCAAAAAAAAAADsWK7IEwEAAAAAAAAAAHYsV+SJAAAAAAAAAAAAO5Yr8kQAAAAAAAAAAIAdyxV5IgAAAAAAAAAAwI7lijwRAAAAAAAAAABgx3JFnggAAAAAAAAAALBjuSJPBAAAAAAAAAAA2LFckScCAAAAAAAAAADsWK7IEwEAAAAAAAAAAHYsV+SJAAAAAAAAAAAAO5Yr8kQAAAAAAAAAAIAdyxV5IgAAAAAAAAAAwI7lijwRAAAAAAAAAABgx3JFnggAAAAAAAAAALBjuSJPBAAAAAAAAAAA2LFckScCAAAAAAAAAADsWK7IEwEAAAAAAAAAAHYsV+SJAAAAAAAAAAAAO5Yr8kQAAAAAAAAAAIAdyxV5IgAAAAAAAAAAwI7lijwRAAAAAAAAAABgx3JFnggAAAAAAAAAALBjuSJPBAAAAACAmnzcQ2/9xJN/BAAAYLpyRZ4IAAAAAAA1Oe3M2x77sZ9w+0uUegAAACYtV+SJAAAAAABQmyjzPOCs2xZKPQAAAJOVK/JEAAAAAACo0QPOesObotCj1AMAADBJuSJPBAAAAACAGn3cQ289/WM/4bbf6go9Sj0AAACTkivyRAAAAAAAqFUUd/plHqUeAACAycgVeSIAAAAAANTstDNve2yu0BNR6gEAAGhWrsgTAQAAAACgdlHayZV5uij1AAAANCdX5IkAAAAAANCCB5z1hjflijz9KPUAAAA0I1fkiQAAAABQo9yX9CIipVHqAQAAqF6uyBMBAAAAoEa5L+dFRDaNUg8AAEC1ckWeCAAAAAA1yn0pLyKyed7wpvv/7dvPOflPCwAAAPXIFXkiAAAAANQo/6W8iEhplHgAAAAqlyvyRAAAAAAAaMEDzrrt1lNLO2mUeAAAABqRK/JEAAAAAACo3QPOev01+fJOFyUeAACAxuSKPBEAanTrEz/x5J8AAACAuXvAWa+//GM/4bY/VuIBAACYlFyRJwJAjW594mM/6nUXvUSpBwAAAGYuijr5Io8SDwAAQONyRZ4IALWKMs/rLloo9QAAAMBMfdxDbz39AWe94R1KPAAAAJOUK/JEAKjZ6y5608lCj1IPAAAAzM0DzrrtViUeAACAycoVeSIA1OzWJ57+Ua+76Ld6hR6lHgAAAJiDB5z1+muUeAAAACYtV+SJAFC7KO6slnmUegAAAGDKHnDW6y+Ps/Io8QAAAExarsgTAaAFtz7xsZkyTxelHgAAAJiSj3vorX7RBwAAmL5ckScCQCuitJMv83RR6gEAAAAAAABoRK7IEwGgJa+76E1JgScXpR4AAAAAAACAyuWKPBFqlv+SXkSkNEo9AAAAAAAAAJXKFXki1Cz/5byIyKZR6gEAAAAAAACoTK7IE6Fm+S/lRUQ2zZs+6tYnnnPyXxYAAAAAAAAAKpAr8kSoWf5LeRGR0ijxAAAAAAAAAFQqV+SJANCS1110a1LYyUWJBwAAAAAAAKByuSJPBIBW3PrEazLFnX6UeAAAAAAAAAAakSvyRABowa1PvPyjXnfRHyflHSUeAAAAAAAAgEblijwRAGoXRZ18kUeJBwAAAAAAAKBRuSJPBICa3frE0z/qdRe9Q4kHAAAAAAAAYFpyRZ4IADV73UW3KvEAAAAAAAAATE+uyBMBoFa3PvEaJR4AAAAAAACAacoVeSIA1OjWJ17+UXFWHiUeAAAAAAAAgEnKFXkiANTo1id+4sk/AQAAAAAAADBBuSJPBAAAAAAAAAAA2LFckScCAAAAAAAAAADsWK7IEwEAAAAAAAAAAHYsV+SJAAAAAFChH1/mncu8TOSAfM8yMU5e2btNJJcYJ29ZBgAAgHrkijwRAAAAACr0v5fJfZgjIrJt/s8yAAAA1CP3u1sEAAAAgAr9yTKLz3nKJy4+7ws/RSSbs//eg/Y+5Hvo3/347P0ikX9w2dndh8H/YxkAAADq0f2+lgYAAACACr1/mcVX3vK5i5e/8yKRbC644lP2PuR77DM+KXu/SOSFtz2++zA4SoIAAADUo/t9LQ0AAAAAFVLmkbVR5pGSKPMAAABUq/t9LQ0AAAAAFVLmkbVR5pGSKPMAAABUq/t9LQ0AAAAAFVLmkbVR5pGSKPMAAABUq/t9LQ0AAAAAFVLmkbVR5pGSKPMAAABUq/t9LQ0AAAAAFVLmkbVR5pGSKPMAAABUq/t9LQ0AAAAAFVLmkbVR5pGSKPMAAABUq/t9LQ0AAAAAFVLmkbVR5pGSKPMAAABUq/t9LQ0AAAAAFVLmkbVR5pGSKPMAAABUq/t9LQ0AAAAAFVLmkbVR5pGSKPMAAABUq/t9LQ0AAAAAFVLmkbVR5pGSKPMAAABUq/t9LQ0AAAAAFVLmkbVR5pGSKPMAAABUq/t9LQ0AAAAAFVLmkbVR5pGSKPMAAABUq/t9LQ0AAAAAFVLmkbVR5pGSKPMAAABUq/t9LQ0AAAAAFVLmkbVR5pGSKPMAAABUq/t9LQ0AAAAAFVLmkbVR5pGSKPMAAABUq/t9LQ0AAAAAFVLmkbVR5pGSKPMAAABUq/t9LQ0AAAAAFVLmkbVR5pGSKPMAAABUq/t9LQ0AAAAAFVLmkbVR5pGSKPMAAABUq/t9LQ0AAAAAFVLmkbVR5pGSKPMAAABUq/t9LQ0AAAAAFVLmkbVR5pGSKPMAAABUq/t9LQ0AAAAAFVLmkbVR5pGSKPMAAABUq/t9LQ0AAAAAFVLmkbVR5pGSKPMAAABUq/t9LQ0AAAAAFVLmkbVR5pGSKPMAAABUq/t9LQ0AAAAAFVLmkbVR5pGSKPMAAABUq/t9LQ0AAAAAFVLmkbVR5pGSKPMAAABUq/t9LQ0AAAAAFVLmkbVR5pGSKPMAAABUq/t9LQ0AAAAAFVLmkbVR5pGSKPMAAABUq/t9LQ0AAAAAFVLmkbVR5pGSKPMAAABUq/t9LQ0AAAAAFVLmkbVR5pGSKPMAAABUq/t9LQ0AAAAAFVLmkbVR5pGSKPMAAABUq/t9LQ0AAAAAFVLmkbVR5pGSKPMAAABUq/t9LQ0AAAAAFVLmkbVR5pGSKPMAAABUq/t9LQ0AAAAAFVLmkbVR5pGSKPMAAABUq/t9LQ0AAAAAFVLmkbVR5pGSKPMAAABUq/t9LQ0z8oCzblscVT72Ia+/+OTLwKzl9o+xYj8DAIB5UeaRtVHmkZIo8wAAAFSr+30tDTOSKweMFSUDuFdu/xgvb/DvNgAAzIgyj6yNMo+URJkHAACgWt3va2mYkXw5YJwo88C9cvvHeFHmAQCAOVHmkbVR5pGSKPMAAABUq/t9LQ0zki8HjBNlHrhXbv8YL8o8AAAwJ8o8sjbKPFISZR4AAIBqdb+vpWFG0mLAyZuBitlvAQBgvpR5ZG2UeaQkyjwAAADV6n5fS8OMKAVAe+y3AAAwX8o8sjbKPFISZR4AAIBqdb+vpWFGlAKgPfZbAACYL2UeWRtlHimJMg8AAEC1ut/X0jAjjZYCzl7mymVuXuaeZfrj90PL3LHM85aJ5ZivE8tct0yMhxgX/XES4yZuj3HU3DhpdL8FAABGoMwja6PMIyVR5gEAAKhW9/taGmaksVJAlC5uWCYdswclyhwPWob5iCJXWvJalyj2PGqZJjS23wIAACNS5pG1UeaRkijzAAAAVKv7fS0NM9JQKeCyZdKzq5TmrmUUeqYvyjjxXufGQGniTD3Va2i/BQAARqbMI2ujzCMlUeYBAACoVvf7WhpmpJFSwKZn48klLsnFdEWRZ9uyV5oYb1VrZL8FAACOgDKPrI0yj5REmQcAAKBa3e9raZiRBkoBcUaedIxum2Yuo8RGxizydIlxV60G9lsAAOCIKPPI2ijzSEmUeQAAAKrV/b6WhhmpvBRw9jJpSeOOZU4s0102K5Z53jL9ZYYSyzEtMQ5yl9aKs+ucv0wnlotxU3qWpxh3MbaqVPl+CwAAHCFlHlkbZR4piTIPAABAtbrf19IwI5WXAuLSWN24jHJFlDGGRHGjW3YoUQRiWtIi1z3LrDsDU4yVkjP5VHu5rcr3WwAA4Agp88jaKPNISZR5AAAAqtX9vpaGGam4FNAv50TxouQSWVcu0z0mF2WeaYmz7fRLOfHn7oxN65Remqv0+Xaq4v0WAAA4Yk2WeV5854nFBVc8fHHGWaft/8L1kEecvrj8+vOyyx9HWljH0rRe5mnlvYj1vP8D77e/jvHn3HK1RpkHAACgWvu/ayZhRiouBUTxphuT/cslrXNQQSPO9MN0XLZM//3dZJyEksuzHXQ2qGNT8X4LAAAcsebKPFe94tErhYc0UdKIUkTusbtKC+u4SVou87TyXsQ6xLqk65dbttYo8wAAAFRr5XfNXpiRiksBZy8TlzmKwsUm+iWgNHHmHqajfxm2u+KGDcVZd/rjI5dNx99OVLzfAgAAR6ypMk8UM2J9u1z6gnP2br/29scvzr3wzP3bj7Og0cI6bppWyzytvBdDRZ5Ibvlao8wDAABQrZXfNXthRiZYChgq82xyCSba0H+v4yw924gSUH+cpKnybE4T3G8BAIBCzZR5ooDRP8PKE6555Mr9UYjoX0Ypyhr9+3eRFtZxm7RY5mnlvXj+LY8bLPLE+uceU2uUeQAAAKq18vtmL8zIBEsBQ+WMKs+wwqH0yzxxJqdtxNmf+uMkTbxGdSa43wIAAIWaKfOcf8nDVn7Byp1J5YIrHr6yzDU3PeaUZY4yLazjNmmxzNPCexFnCuoKR+n6Rj7tsx+cfVytUeYBAACo1srvm70wIxMrBUShIx3PkW0uwUT9ujLPPXt/206UvNLx0o8yDwAAUJUmyjxxlpVYzy5xJpPcclHG6C+3yzJEC+u4bVor89T+XsTrxmvFa0aZJy4HFrf312WX6zNWlHkAAACqtfL7Zi/MyMRKAXFJpHQ8R5HH5bWmqSvzHKZws67MU+UZnSa23wIAABtoosyTnkFlqOSQljgicRmj3LJjp4V13DatlXlqfy9i/aJgFJf+6p8xKF0XZR4AAABGsvL7Zi/MyIRKAZctk47lKHko8nCQdWWeGFfVmdB+CwAAbKiJMs8ZZ5228stVlCByy0X6y0WiOJFbbuy0sI7bprUyT6vvRbouyjwAAACMZOX3zV6YkYmUAnJFnirPqEJ1urP7DKXKMthE9lsAAGAL1Zd5cmdP2aScsYtCRAvreJi0VOZp+b2oaV22iTIPAABAtVZ+3+yFGZlAKSAt8tyzzPnLQIkPLdMfP/3csEyVJrDfAgAAW6q+zHP59eelv1xtVM6I5JYbMy2s42HSUpmn5fciXQ9lHgAAAEay8vtmL8xI46WA3Bl5ukRJ4+ZlqrxMElU4sUxu7HQ5e5kqNb7fAgAAh1B9mSeKGLGO/WxazoizteSWHSstrONh0lKZp+X3Il0PZR4AAABGsvL7Zi/MSMOlgDhrSjp2hxJn64niBvQdNIaqPStPaHi/BQAADqn6Mk8UGmId+9m0nHHNTY/JLjtWWljHw6SlMk/L70W6Hso8AAAAjGTl981emJEGSwEPWuauZdJxWxJn6aET4yg3RiJxVqe4v1oN7rcAAMBIlHlGiDJPPVHmOb4o8wAAAFRr5ffNXpiRxkoB5y8TRYt0zG4SZ+ghXLdMbnxEHrVM1RrbbwEAgBEp84wQZZ56osxzfFHmAQAAqNbK75u9MCONlQIOKmCUJspAZy/DfEVZJzc2Ik2cvamx/RYAABiRMs8IUeapJ8o8xxdlHgAAgGqt/L7ZCzPSYCng5mVuWCbOsNNdCin+GyWMe5ZJx3Mu8Xjma+gybc1chq3B/RYAABiJMs8IUeapJ8o8xxdlHgAAgGqt/L7ZCzMysVJAlHqiqJOO6VycnWeenrdMbjzE7c2Y2H4LAABsQJlnhCjz1BNlnuOLMg8AAEC1Vn7f7IUZmWgpYOjMK/3EJbuYl/OXyY2F5s7UNNH9FgAAKFB9mef8Sx6W/tK1cTkjt9yYaWEdD5OWyjwtvxfpeijzAAAAMJKV3zd7YUYmWgqIs+6k4zrNHcswHzEmPrRMOg6avOTaRPdbAACgQPVlnihixDr2s0k544yzTssuN2ZaWMfDpKUyT8vvRbouyjwAAACMZOX3zV6YkQmXAm5eJh3baZiHuPxa7mxNTRZ5woT3WwAAYI3qyzxxyaNYx342KWece+GZ2eXGTAvreJi0VOZp+b1I10WZBwAAgJGs/L7ZCzMy4VLAZcukYzsN8xClnfS9b7bIEya83wIAAGtUX+Z58Z0n0l/ABssZuSLHpS84J7vsmGlhHQ+Tlso8Lb8X6boo8wAAADCSld83e2FGJlwKOH+ZdGynYfqet0z6vjdd5AkT3m8BAIA1qi/zROJsKbGeXc6/5GHZ5XLljGtvf3x22bHTwjpum5bKPJFW34t0XZR5AAAAGMnK75u9MCMTLgUo85A7O1PzRZ4w4f0WAABYo4kyz1WvePTKL2NDJYc4q0p/uaFLJj3/lsftFz7u/8D77ZU94owuuWVLM/Y61pTWyjxjvxfxfA95xOl7y5xx1mkHXrbrMOmvS0SZBwAAgJGs/L7ZCzMy4VLAujLPPcswXY9aJn3PJ1HkCRPebwEAgDWaKPNEokQR6xqJAk5umSjldMtE4swrueX6z9UlnvOwhZ4x17GmtFbmiYz1XsSZevrLdBm7aJO7PJgyDwAAACNZ+X2zF2ZkwqWAdWWem5dhmqLI86Fl+u/3ZIo8YcL7LcB2XnfRYiUAMGHNlHnSSyJdfv15K/enpYsLrnj4yv1dcpdW6nLY8sRY61hbWizzjPVexFl4+sv1c9gz9MQ6xHrFa+cKZpG4L84MFGeTyj1HTVHmAQAAqNbK75q9MCMTLgWsK/NcuQzTM2aR57plqhwvE95vAbajzAPAjDRT5olEsSHWNxJnW+nOpBKliO4ySJH489BZdg4q80TiuXKPK80Y61hbWizzRMZ4Lw4q80QBJ/eY0uSe86Ac1eW9xooyDwAAQLVWfr/shRmZcCkgyhfp2O7n7GWYllyR57JlttV/rhNxQy0mvN8CbEeZB4AZaarME0kvjZQmzq5zUEkm7otiR+6xka7wcZgcdh1rS6tlnshh34t15a/cY0qTe76DoswDAADAllZ+v+yFGZlwKSAuo5WO7S53LMO0PGiZe5bpv8+HKfJEeaf/XFWVvya83wJsR5kHgBlprswTiYLFuReeuXJpoji7SnoppaHEmVmixNE9tp8xyjyRw65jTWm5zBM57HsRjx+6DFZu+blGmQcAAKBaK7/L9sKMVFYKiEJGXBKpG4tRyImzrWwqnic9Q0s/hyl5UJ94v+9aZsz3OH2+qlS23wIcP2UeAGakyTLPWLn0Beeccpae59/yuOyyc07rZZ4xEmfv6V+2KxJjJ7fsXKPMAwAAUK2V32d7YUYqKwXEGXPS8RjZtJgRy+eeJxIlDaalfxamKHEdpshz/jLpWZ2qGzOV7bcAx0+ZB4AZmXWZJxKXLoptEFHOyEeZ5770z+gUZ/vJLTPXKPMAAABUa/932STMSEWlgDgDTzoWu0RBo/QMPbnLLfWzzZl+qNd1y+Te5zFT3WXZKtpvAeqgzAPAjMy+zNM/20oUe3LLzD3KPPclLs/VjZexLsk2lSjzAAAAVGv/d9kkzEhFpYA4I0o6FvuJQk8UddbpX6YrjctrTctBZ2AaM89bpioV7bcAdVDmAWBGZl3miUtqdZfZiv/GpZRyy809yjz35vLrz9vbDpE4Q09umTlHmQcAAKBa+7/PJmFGKioFnL1MOhbTxOWOhgo9cbsiz3wcdCansXPlMlWpaL8FqIMyDwAzMtsyz1WvePRKkSeKPbnlRJkn0r8cW5ydR/Hr1CjzAEzaZy/zF8t8eJlfEzkgf7ZMjJVf790mkiZ+D41x8oe920RyiXHy35fh8PZ/p03CjFRWCii5ZFJcQivKFVH+CVHqiDOnxJl7csvH7XHWH6YjiltD7/dRpLrxU9l+C3D8lHkAmJHZlXmuvf3xK5dKij8r8hycOZd5ovR1xlmn7Y+Xcy88U5FnIMo8AJP2/GX2j4ciIiI7DoeX264RZqTCUsBBZ9fZNPFcJZfmoi1R3sq930eV6sZQhfstwPFS5gFgRmZ5Zp4o8ERBIy6blLtfVjPnMk+Uv+LMTXFZrWtuekx2Gbk3yjwAk/b4ZRZ//SGn7R0PRYbygL/2V/fmA0970d/L3i8S+ayLHro3Th71j/529n6RyL/41s/sfr/482U4vG57pmFGKi0FxJlQ7lgmHZsliTO2RImnO3MP07PLMk+Mp+pUut8CHB9lHgBmZLaX2ZLyuMyWlESZB2B7DXxAu1fmOfNTPi57DBDp8vF/82P25gNf8YOPzd4vEvn8qz51b5w85tKzs/eLRL72jgu73y9cZmsc3fZMw4xUPueMQk5cUuvmZYbKPXctE/dFwcPltJiFyvdbgN1T5gFgRpR5ZG2UeaQkyjwA22vgA1plHimKMo+URJlHSqLMM7pue6ZhRhqYcwIJ+y1AQpkHgBlR5pG1UeaRkijzAGyvgQ9olXmkKMo8UhJlHimJMs/ouu2ZhhlpYM4JJOy3AAllHgBmRJlH1kaZR0qizAOwvQY+oFXmkaIo80hJlHmkJMo8o+u2ZxpmpIE5J5Cw3wIklHkAmBFlHlkbZR4piTIPwPYa+IBWmUeKoswjJVHmkZIo84yu255pmJEG5pxAwn4LkFDmAWBGlHlkbZR5pCTKPADba+ADWmUeKYoyj5REmUdKoswzum57pmFGGphzAgn7LUBCmQeAGVHmkbVR5pGSKPMAbK+BD2iVeaQoyjxSEmUeKYkyz+i67ZmGGWlgzgkk7LcACWUeAGZEmUfWRplHSqLMA7C9Bj6gVeaRoijzSEmUeaQkyjyj67ZnGmakgTknkLDfAiSUeQCYEWUeWRtlHimJMg/A9hr4gFaZR4qizCMlUeaRkijzjK7bnmmYkQbmnEDCfguQUOYBYEaUeWRtlHmkJMo8ANtr4ANaZR4pijKPlESZR0qizDO6bnumYUYamHMCCfstQEKZB4AZUeaRtVHmkZIo8wBsr4EPaJV5pCjKPFISZR4piTLP6LrtmYYZaWDOCSTstwAJZR4AZkSZR9ZGmUdKoswDsL0GPqBV5pGiKPNISZR5pCTKPKPrtmcaZqSBOSeQsN8CJJR5AJgRZR5ZG2UeKYkyD8D2GviAVplHiqLMIyVR5pGSKPOMrtueaZiRBuacQMJ+C5BQ5gFgRpR5ZG2UeaQkyjwA22vgA1plHimKMo+URJlHSqLMM7pue6ZhRhqYcwIJ+y1AQpkHgBlR5pG1UeaRkijzAGyvgQ9olXmkKMo8UhJlHimJMs/ouu2ZhhlpYM4JJOy3AAllHgBmRJlH1kaZR0qizAOwvQY+oFXmkaIo80hJlHmkJMo8o+u2ZxpmpIE5J5Cw3wIklHkAmBFlHlkbZR4piTIPwPYa+IBWmUeKoswjJVHmkZIo84yu255pmJEG5pxAwn4LkFDmAWBGlHlkbZR5pCTKPADba+ADWmUeKYoyj5REmUdKoswzum57pmFGGphzAgn7LUBCmQeAGVHmkbVR5pGSKPMAbK+BD2iVeaQoyjxSEmUeKYkyz+i67ZmGGWlgzgkk7LcACWUeAGZEmUfWRplHSqLMA7C9Bj6gVeaRoijzSEmUeaQkyjyj67ZnGmakgTknkLDfAiSUeQCYEWUeWRtlHimJMg/A9hr4gFaZR4qizCMlUeaRkijzjK7bnmmYkQbmnEDCfguQUOYBYEaUeWRtlHmkJMo8ANtr4ANaZR4pijKPlESZR0qizDO6bnumYUYamHMCCfstQEKZB4AZUeaRtVHmkZIo8wBsr4EPaJV5pCjKPFISZR4piTLP6LrtmYYZaWDOCSTstwAJZR4AZkSZR9ZGmUdKoswDsL0GPqBV5pGiKPNISZR5pCTKPKPrtmcaZqSBOSeQsN8CJJR5AJgRZR5ZG2UeKYkyD8D2GviAVplHiqLMIyVR5pGSKPOMrtueaZiRBuacQMJ+C5BQ5gFgRpR5ZG2UeaQkyjwA22vgA1plHimKMo+URJlHSqLMM7pue6ZhRhqYcwIJ+y1AQpkHgBlR5pG1UeaRkijzAGyvgQ9olXmkKMo8UhJlHimJMs/ouu2ZhhlpYM4JJOy3AAllHgBmRJlH1kaZR0qizAOwvQY+oFXmkaIo80hJlHmkJMo8o+u2ZxpmpIE5J5Cw3wIklHkAmBFlHlkbZR4piTIPwPYa+IBWmUeKoswjJVHmkZIo84yu255pmJEG5pxAwn4LkFDmAWBGlHlkbZR5pCTKPADba+ADWmUeKYoyj5REmUdKoswzum57pmFGGphzAgn7LUBCmQeAY5DOy486H/fQW0+P11XmkbVR5pGSKPMAbC+dqJ28uSbKPFIUZR4piTKPlESZZ3Td9kzDjDQw5wQS9luAROVlnvTf7SPO+06+LABHLPNv8JFGmUeKo8wjJVHmAdheOlE7eXNNlHmkKMo8UhJlHimJMs/ouu2ZhhlpYM4JJOy3AAllnn6UeQB2JPNv8JFGmUeKo8wjJVHmAdheOlE7eXNNlHmkKMo8UhJlHimJMs/ouu2ZhhlpYM4JJOy3AAllnn6UeQB2JPNv8JFGmUeKo8wjJVHmAdheOlE7eXNNlHmkKMo8UhJlHimJMs/ouu2ZhhlpYM4JJOy3AAllnn6UeQAmIv03/uTNyjyyPso8UhJlHoDtDU3UKqLMI0VR5pGSKPNISZR5RtdtzzTMSANzTiBhvwVINFbmOXkzABxo6PihzCNro8wjJVHmAdje0EStIso8UhRlHimJMo+URJlndN32TMOMNDDnBBL2W4CEMg8AEzR0/FDmkbVR5pGSKPMAbG9oolYRZR4pijKPlESZR0qizDO6bnumYUYamHMCCfstQEKZB4AJGjp+KPPI2ijzSEmUeQC2NzRRq4gyjxRFmUdKoswjJVHmGV23PdMwIw3MOYGE/RYgocwDwAQNHT+UeWRtlHmkJMo8ANsbmqhVRJlHiqLMIyVR5pGSKPOMrtueaZiRBuacQMJ+C5BQ5gFggoaOH8o8sjbKPFISZR6A7Q1N1CqizCNFUeaRkijzSEmUeUbXbc80zEgDc04gYb8FSCjzADBBQ8cPZR5ZG2UeKYkyD8D2hiZqFVHmkaIo80hJlHmkJMo8o+u2ZxpmpIE5J5Cw3wIklHkAmKCh44cyj6yNMo+URJkHYHtDE7WKKPNIUZR5pCTKPFISZZ7RddszDTPSwJwTSNhvARLKPABM0NDxQ5lH1kaZR0qizAOwvaGJWkWUeaQoyjxSEmUeKYkyz+i67ZmGGWlgzgkk7LcACWUeACZo6PgRH4otHvYZf23xqZ/1YJFsHnTmaTFgFh//tz4me79I5JPOedDeOFnmfy4DwAaGJmoVUeaRoijzSEmUeaQkyjyj67ZnGmakgTknkLDfAiSUeQCYoKHjx/9eJv4iIjJW/s8yAGxgaKJWEWUeKYoyj5REmUdKoswzum57pmFGGphzAgn7LUBCmQeACRo6fnxwmcU/+7JHLp794vNEsvm7j/tbMWAWn/Y5fyN7v0jkSf/m7+6Nk2X+bBkANjA0UauIMo8URZlHSqLMIyVR5hldtz3TMCMNzDmBhP0WIKHMA8AEDR0/3r/M4itv+dzsh2cikQuu+JQYMIvHPuOTsveLRF542+P3xskyf7IMABsYmqhVRJlHiqLMIyVR5pGSKPOMrtueaZiRBuacQMJ+C5BQ5gFggoaOH8o8sjbKPFISZR6A7Q1N1CqizCNFUeaRkijzSEmUeUbXbc80zEgDc04gYb8FSCjzADBBQ8cPZR5ZG2UeKYkyD8D2hiZqFVHmkaIo80hJlHmkJMo8o+u2ZxpmpIE5J5Cw3wIklHkAmKCh44cyj6yNMo+URJkHYHtDE7WKNFvmef4tj1ucf8nDFvd/4P2649Ti3AvPXFxz02Oyyx9HWljH0kyhzBPbvXsfuvcit9wuc9UrHr23Ht06xViJMXPt7Y/PLl97Wi3zxL56wRUPXzzkEafvvxeR+HvcXsv7MZXxoswzuv0xkYQZaWDOCSTstwAJZR4AJmjo+KHMI2ujzCMlUeYB2N7QRK0iTZZ5nnDNI7tjUzbx5XbucbtMC+u4SVov80RZo1+qinzaZz84u+wu8uI7T6yUMnK5/Przso+tOa2VeUrehy5R6sk9xy4ytfGizDO6lbHQCzPSwJwTSNhvARLKPMflxDLXLXPHMvFz9XPXMjcsc9kysIkrl+nGUYwxmK2h44cyj6yNMo+URJkHYHtDE7WKNFfmiS/UY50jUc7oznIT/+2fVeM4yzItrOOmabnMkyvyRI6zzNMfB/Hn7swqUcjor2trhZ6WyjxRkOm/DyU5rn12auNFmWd0+2MgCTPSwJwTSNhvARLKPLsWBZ17lomfpSSx7PnLMA9R8PrQMrmxsGnOXoZpuHmZ3Hs8ZqJYOClDxw9lHlkbZR4piTIPwPaGJmoVaarME5eYifXt0pVkukRpo3//pS84Z+X+XaSFddwmrZZ54v3IFXkicaaT3GOOOmnZK0ol/ftjTPTXM8ZM//6a01KZp3+mmziTVn87RynmjLNO27+/nxhT/ec56kxxvCjzjG5lDPTCjDQw5wQS9luAhDLPrjxomdxZeErjLD3zkHvvt0kUgpiOw/zbURplHpEuyjxSEmUegO0NTdQq0lSZp//lepydIrdM/wwWuS++jzotrOM2aa3ME9u0X4KIM6p0f+4SBY7cY48ycUaV/jrEOqbLxLr3lznOMwhtmlbKPFGy67bvUDkn3of+vtol9vHc8keRqY4XZZ7RrYyBXpiRBuacQMJ+C5BQ5tmFRy0zxtlW4nmYttz7vk3iTC5MxyZn89o2yjwiXZR5pCTKPADbG5qoVaSZMk+cKSPWtUvuS+1IFDT6y+2ysNHCOm6blso8/bOqRBkjzlTSL290OY7tnpaKhookUcjoL5ee4anWtFLm6Ype6y6blRs3ke4yV0edqY4XZZ7Rrbz/vTAjDcw5gYT9FiChzHPU4ow8dy0T637YKGhMX+593ybPW4bpyL3HY+eGZSZl6PihzCNro8wjJVHmAdje0EStIs2UedIzZAwVMdJCTZz5JrfcUaSFddw2LZV54n2IckNs5+62Gso86RlUIkOli7TEcVyXBNs0rZR5uvJLySWpYv/svxeRXZRlpjxelHlGt/L+98KMNDDnBBL2W4CEMs9Ru26ZWO8ucYaeKFr0z7JzYpnSwg/TlnvPt8n5yzAdufd47MS/Q5MydPxQ5pG1UeaRkijzAGxvaKJWkSbKPOmlZiJDX2rnShtDZ7MYMy2s42HS2mW20uS2+a7LPGmJK5JbLhLrli4b5Y7csjWltTJP7r406VlvIkP79piZ8nhR5hndynvfCzPSwJwTSNhvARLKPEcpCjuxzl3izDpxpp6cuD3u7y+fi5LGdMUYyL3nmyYKY0xH7PO593nsDP3b1Kyh44cyj6yNMo+URJkHYHtDE7WKNFHmyX2pvUlRZheljRbW8TBR5jl80rOnRHLLRXLljKHxVFNaKfNskuMq80x5vCjzjG7lve+FGWlgzgkk7LcACWWeo3THMrHOkZJL2MSX6fcs0z0mF2We6RqrtDG5yyXN3C7KPJO8hN/Q8UOZR9ZGmUdKoswDsL2hiVpFmijz5L7UHvqiOlfaiC/jc8uOmRbW8TBR5jl8zjjrtFPWIbdcJFfO2PX6bpMplnnS921Xl8Wb8nhR5hndynvfCzPSwJwTSNhvARLKPEel/wV8lHpKXblM97hc+pfnYlrS0kZcei3GTpxpp3/7UKIIFssbI9MSl+XLvd9jZnKX2ApDxw9lHlkbZR4piTIPwPaGJmoVaaLMs8mZMXKljfhSPLfsmGlhHQ8TZZ7DJ339SG65SK6cEYWx3LI1ZWplntzl83Y1btLXjeSWi7Q2XpR5Rrfy3vfCjDQw5wQS9luAhDLPUbpsmShkbHL5moPOwuHySdO2bQGMaUvLPFH42/aSWPG4tDA42X9Xho4fyjyyNso8UhJlHoDtDU3UKtJEmSfWMc0mRZlIbtkxk3vN2tbxMFHmOVw2fc9z5Yzaz94UmVqZ59IXnLPyHsRZeV5854nssmNm6uNFmWd0K+99L8xIA3NOIGG/BUgo89TmoDJPfKnPdCnzkNMv84wxLuIybN3zRSZ7Wbah44cyj6yNMo+URJkHYHtDE7WKKPOMlNxr1raOh4kyz+Gy6XuuzFNH0ktdXfWKR2eXGztTHy/KPKNbee97YUYamHMCCfstQEKZpzZxuZv4OdPE2TO2PRsHbVDmISfGQjcu4qw6h5Vetm2Sl9gKQ8cPZR5ZG2UeKYkyD8D2hiZqFVHmGSm516xtHQ8TZZ7DZdP3XJnn+JO+B3GWntxyR5GpjxdlntGtvPe9MCMNzDmBhP0WIKHMU5v0rBldJvuFO/uUecjpl3keFTccQloWnPSl+4aOH8o8sjbKPFISZR6A7Q1N1CqizDNScq9Z2zoeJso8h8um77kyz/Hm+bc8bmXbn3/Jw7LLHVWmPl6UeUa38t73wow0MOcEEvZbgIQyT03ii/r4GdNctgzTF2dd6d7z6+IGWOouszVGwatfDIpM9hJbYej4ocwja6PMIyVR5gHY3tBErSLKPCMl95q1reNhosxzuGz6nivzHF9efOeJlctr7brIE5n6eFHmGd3Ke98LM9LAnBNI2G8BEso8tYhLaN21TPyMXeKsGYo889GVNiLxZxjT2cv0/32JTPqMX0PHD2UeWRtlHimJMg/A9oYmahVR5hkpudesbR0PE2Wew2XT91yZ5/gS27nb5sdR5IlMfbwo84xu5b3vhRlpYM4JJOy3AAllnhrkijzx98NeUoe2KPNwlPrjKzLpS2yFoeOHMo+sjTKPlESZB2B7QxO1ijRR5umfJaPLJkWZXXyp3cI6HibKPIfLtbfvz6dWkls2kitn7HJ9t03rZZ4Lrnj4/vY+riJPZOrjRZlndCvvfS/MSANzTiBhvwVIKPMct1yRJy6xFLczL2mZJ8ZAnJnp5mXSMXLPMnF73G+sUCLGTH8MTf5SbkPHD2UeWRtlHimJMg/A9oYmahVposzTP1NGl02KMrv4Ur6FdTxMlHkOn/T1I7nlIrlyxuXXn5ddtqa0XOaJ7dtt6xr2x25d+sktF2ltvCjzjG7lve+FGWlgzgkk7LcACWWe45Qr8vQT98UX7nF5HKavX+ZJixcHJc6w0pV/IOf8ZdJxM/kzfw0dP5R5ZG2UeaQkyjwA2xuaqFWkiTJP7ovqTYoyl77gnOyyY6aFdTxMlHkOn1zhK7dcJDeenn/L47LL1pRWyzy1FXkiUx4vyjyjW3nve2FGGphzAgn7LUBCmee4xBfpUcKIn6kkNyyjrDFtdyyTe+9LE+MpShuQin8/+mMlymKTN3T8UOaRtVHmkZIo8wBsb2iiVpEmyjxXveLR3bFoP0NFmeP6UruFdTxMlHkOn/4lnLrkloukRY77P/B+2eVqS4tlntj3YvvGesd7lFumn27/PerxM+XxoswzupX3vxdmpIE5J5Cw3wIklHmOQ1waKX6WTRNn6lHoma7Dlnm6xPiCTvybkRYHJ3+JrTB0/FDmkbVR5pGSKPMAbG9oolaRJso8ke7L9i5Dl5BJizJnnHVadrmjSAvruG2UeQ6fKI2k63Dt7Y/PLpuWM2q/DFuX1so8/SJP6WWpYn+N5YfKemNlyuNFmWd0K+9/L8xIA3NOIGG/BUgo8+xSfKmeniFj00Shh2kaq8wTObEMhFx5cBaX7hs6fijzyNoo80hJlHkAtjc0UatIM2We9CwVQ0WMcy88c2W5octXxeO7L+Uf8ojT986sk1tuk4y9jjVlbmWeF995Yq8Q0RU94j0b4+xJMdb66zBUCEmLYWO89i7SUpln0yJPNya696RfrDFeNosyz+hW3v9emJEG5pxAwn4LkFDm2aX4An2TS2sNZRZn1ZihMcs8Mc5mUdhgrSgA9sfGbAqBQ8cPZR5ZG2UeKYkyD8D2hiZqFWmmzBNfnMe6dokvy3PLdQWdSHzBHV+yp8vEF/f95+py2DO1jLmOtaX1Mk/uMmgHvd/90kY/hz0bSzr2ckWudBzFWVfSZWpNK2We2OfSosym6T+f8bJZlHlGtzIGemFGGphzAgn7LUBCmWfXHrXMPctcefLPnfjzJmftUdSYnjHLPJGbl2He4t+VdFzM5jJsQ8cPZR5ZG2UeKYkyD8D2hiZqFWmmzBOJ8kWsb5f+mTEi6RffQ2fbSS9J089hv3wfax1rS4tlnjg7SZQf+mdM6Sdui/cr3vP0fUqX7TJG+ao//nKXWOsXQ+L10nWrOa2UeQ76N6AkUQTqP19umYjxko8yz+j2x0ASZqSBOSeQsN8CJJR5anP+MiVn74niD9MSJa/ce32YxHhivuIsXumYiMv9zcLQ8UOZR9ZGmUdKoswDsL2hiVpFmirzRPpn04g/d19cRyEjvsju7osvuNPHdjnoi/yDHleaMdaxtrRW5olt3W3n0vSLXLn7u0Qhq/9amybGQzoOusJHlI/GfK1dp4UyT3o5vG2SnnUrt0wX4+XUKPOMbmUc9MKMNDDnBBL2W4CEMk+NTiwTP+u6zOZL+ZlI398odaVncApR0ImSRknpK872w3ylY2RWZ2saOn4o88jaKPNISZR5ALY3NFGrSHNlnpLL48SX9bnHdknPntNPFH1yj9kkY6xjbZlbmeegwtdBl+cqTZw1qF/QSBP3tVbkibRQ5jnsWXki6RgwXjaLMs/oVsZDL8xIA3NOIGG/BUgo89Sq5JJbzroyLf33Nso668pacam1u5bpPy4X5ikup5WOhSgKzsbQ8UOZR9ZGmUdKoswDsL2hiVpFmivzdIkvruML9P4X3HG2jH4h46DEGS1yX46PUebpcth1rCktXmbrMIlC1tAZXMYoZ0TiNeK5+kWQGCtx5pUWLpWUSyuX2Ro7xstmUeYZ3f6YSMKMNDDnBBL2W4CEMk+t4mws8fMelOctw3REgSfOnLJJSSsKP+sKPUpf8xRjqT8O4iw9szJ0/FDmkbVR5pGSKPMAbG9oolaRZss8YyS+AO9/MR5JL58j92ZuZZ4uUbw646zTVsZIFMFyy8p8yzxdjJeyKPOMbmXM9cKMNDDnBBL2W4CEMk/N7lkmfuahKPMQotBz0FhR5pmfOGtTOg7ibF+zMnT8UOaRtVHmkZIo8wBsb2iiVpFZl3m6xDbo4ov3fOZa5olEQaM/RuKSR7nlRJknYrysjzLP6FbGXC/MSANzTiBhvwVIKPPU7I5l4mceijIPndwllboYJ/MT73k6DmZX6ho6fijzyNoo80hJlHkAtjc0UavI7Ms8cema2AaRuGRN/D233Nwz5zLPVa949P4YGfMybFOMMo/xUhJlntHtj7kkzEgDc04gYb8FSCjz1EyZh03EZZSME0J6pqb4++wMHT+UeWRtlHmkJMo8ANsbmqhVZPZlnvMveVh3nFs84ZpHZpeR+ZZ5otz1kEecvj9G4qwrueXk3sy9zGO8lEWZZ3T7Yy4JM9LAnBNI2G8BEso8NVtX5omzsUDn5mVy4+TEMsxHnIEnHQPXLTM7Q8cPZR5ZG2UeKYkyD8D2hiZqFZltmSe+dD/3wjO7Y9xeqSe3nNybOZZ54vJI/WLG5defl11O7sucyzzGS3mUeUa3P+6SMCMNzDmBhP0WIKHMU7N1ZZ5HLQOd3KWVIrO7vNLM3bBMOgbOXmZ2ho4fyjyyNso8UhJlHoDtDU3UKjLLMk+cgScuqRU/e8QZedZnbmWeftErxkpcOim3nKxmrmUe42WzKPOMbn/8JWFGGphzAgn7LUBCmadmB5V54pJK0DdU5mE+HrRM+v7ftcwsDR0/lHlkbZR5pCTKPADbG5qoVWSWZZ74oj1+7jgbz7W3Pz67jKxmbmWeC654+F4pI4pecRan3DJyauZa5jFeNosyz+i67ZmGGWlgzgkk7LcACWWemkVhJ37mXOLsG9CXOyPLbIscMxWX3kvHwJXLzNLQ8UOZR9ZGmUdKoswDM/HQ51xz8k+MaGiiVpHZXmZLNsscL7Mlm2fOl9mS8ijzjK7bnmmYkQbmnEDCfgvte9k7nuiztDEp89QqLqEVP+9QXDqJ1D3LpOMkyh3MR5S30jEQZ+uZpaHjhzKPrI0yj5REmQfm4S990uWLv3S2Qs/YhiZqFVHmkaIo80hJlHmkJMo8o+u2ZxpmpIE5J5Cw30L7Ym6r0DMiZZ6xnVimK1XEf+PSR9sYumRSJJ6XaYizpvTHy7blm1z5K55vtkWOGTp7mXQM3LzMbA0dP5R5ZG2UeaQkyjwwD3/5ky9f7OXvKPSMaWiiVhFlHimKMo+URJlHSqLMM7pue6ZhRhqYcwIJ+y20r5vfKvSMRJlnTHG2nFjHNHG2jE1LFV3BI5coDNG+ocLWNpdQy11iyziZl+uWScfArM/MNHT8UOaRtVHmkZIo88A8/JVPec6iy19+uELPWIYmahVR5pGiKPNISZR5pCTKPKPrtmcaZqSBOecY4v8W7sa3LwToy33JWL2Z7Lcwaf05rkLPCJR5xhRnweiOiWk2KWj0519pZn2mjYn50DK59ziyyXjJnZXHOJmfdDzF32dt6PihzCNro8wjJVHmgXn4q5/6nEU/f+VTFXrGMDRRq4gyjxRFmUdKoswjJVHmGV23PdMwIw3MOUP8H5oHfVGwSeLU7RBy/+dvpHqN7LfAAdJ5rkLPISnzjOmOZbpjYi4ll9yKYsbQ3G2bM/xQr9x73E/JeInxkBasXV5rfuIMPP0xENnmDE+TMnT8UOaRtVHmkZIo88A8fPQjnrNI8zEKPYc2NFGriDKPFEWZR0qizCMlUeYZXbc90zAjDcw5QzpGt83s/89O9sUZmnJjJFK9RvZb4AC5ua5CzyEo84wpd6mjNAdd9iYu06XIMx+59znNQeMlil8xLvrLx/iJ25mXXJEw/j2ZtaHjhzKPrI0yj5REmQfm4f6f/pxFLh/zSIWewxiaqFVEmUeKoswjJVHmkZIo84yu255pmJEG5pwhHaPbxqn6CfEl4kFneqpeI/stcIDcXDei0LMlZZ4xxVkMDzpOdonST3f50ji2xp8POqtPLK/IMz1DZzpME2fo6Rd0oqSRK44p8sxTvOfpWIjM3tDxQ5lH1kaZR0qizAPz8LGf8ZzFUE77uwo92xqaqFVEmUeKoswjJVHmkZIo84yu255pmJEG5pwhHaPbpuQ0/0zfujMOVK+R/RY4QG6u20WhZwvKPGOLL9ZLCj0licsldaUfpikK87n3ftNEGcwlcedpaH5+0FmdZmHo+KHMI2ujzCMlUeaBeXjAOc9ZHJhHPcuHEFsYmqhVRJlHiqLMIyVR5pGSKPOMrtueaZiRBuacIR2j22b2p2lnbwzkxkY/1WtkvwUOkJvr9qPQsyFlnqMQZ9GJIvS2pZ64dNLsv4ifkXivo7iVGwvrEiUe8/T5in9rcuOiy6zP1DR0/FDmkbVR5pGSKPPAPDzw3Gcv1uUB5yr0bGpoolYRZR4pijKPlESZR0qizDO6bnumYUYamHOu+3C3NPFFFPMWY6nkC8nqNbDfAmvk5rppFHo2oMxz1OLMOnE5pShd5AobcXyN++LsGlHqcHaV+eqPlXScRKLkFffFMsYKIcZBbqxE4t+WWY+RoeOHMo+sjTKPlESZB+bh9POevSjJx52n0LOJoYlaRZR5pCjKPFISZR4piTLP6LrtmYYZaWDOWXImlZLEl0vM29CXSmmq18B+C6yRm+vmotBTSJkHgAkaOn40X+a55qbHxA+zn3MvPDO73C5z1Ssevbce3Trd/4H3W5x/ycMW197++OzytWdKZZ4ax0vkCdc8cmW9Ln3BOdnlao4yD8zDX/vMZy/Ko9BTamiiVhFlHimKMo+URJlHSqLMM7pue6ZhRhqYc6Zlnu7/5i295EP83+Ox/KxPz85HXblMNyZiDPXHSJrqNbDfAmvk5rpDUegpoMwDwAQNHT+aLvM8/5bH7RVl4mfo8mmf/eDssrvIi+88sVLiyeXy68/LPrbmTKXMU9t46RJjor9OkSj35JatOco8MA8P+vvPXmwShZ4yQxO1iijzSFGUeaQkyjxSEmWe0XXbMw0z0sCcs1/miVIObCqKXN0Y6k7V3/09l+o1sN8Ca+TmugdFoWcNZR4AJmjo+NFsmSdXzIgcZznjIY84fX894s/dmXiirNFf19YKPVMo89Q4XiK5Ik9EmQeo1V9/9LMXm+aMz1LoWWdoolYRZR4pijKPlESZR0qizDO6bnumYUYamHMq83BY/TPxXBY3LHV/T9PEGGtgvwXWyM1110Wh5wDKPABM0NDxo8kyT1zGKlfMiBzXZZMuuOLh++sQ6xZn6enfH5dN6q9nlEv699ec1ss8NY6XSHpprX5cZguo1d/4nGcttsmDP0eh5yBDE7WKKPNIUZR5pCTKPFISZZ7RddszDTPSwJxTmYfDeN4y3fi5IW44qbstjTIPsBO5uW5JFHoGKPMAMEFDx4+myjxRkOmXZs6/5GH7f+5yHGc0iTPw9Nch1jFdJta9v0wNl3cqTatlnprHS7z/8fpRMspdmu2amx6TfWzNUeaBefibj3nWYts8+DEKPUOGJmoVUeaRoijzSEmUeaQkyjyj67ZnGmakgTmnMg/b6l9e655lHrRMp7s9TVyGq3oN7LfAGrm5bmkUejKUeQCYoKHjRzNlnrgc0RlnnRYrvncJqzizTRQe4u/9HEc5Iy2JxJlgcst1BY4urRQ2Wizz1DheolwUr9edJShKPN1t6Xop8wC1+lv/8FmLQ8aHEBlDE7WKKPNIUZR5pCTKPFISZZ7RddszDTPSwJzzymW6sXld3ACF+pfXimJPX3d7LtVrYL8F1sjNdTeJQk9CmQeACRo6fjRT5olCRpRhoqTR3VZDmSc9405kqIiRln6O8xJPm6TFMk+N4yXOyBMFo3jf+2NEmQdoyZmPe9bi0FHoOcXQRK0iyjxSFGUeKYkyj5REmWd03fZMw4w0MOfsXyYp/gwl+iWw3Ljp7kvjMlvATuTmuptGoadHmQeACRo6fjR1ma00NZR5oiySrkNuuUiutBFloNyyNaXVy2ylqWG85KLMA7TkrH/0rMUo+VyFnr6hiVpFlHmkKMo8UhJlHimJMs/ouu2ZhhlpYM6pzMOmzl4mLpcVYya9vFanG1NplHmAnXjZO6KMM0YUevYo8wAwQUPHD2WeQyY9204kt1yk1dKGMs/RRpkHaMlDHv+sxVg56x8r9HSGJmoVUeaRoijzSEmUeaQkyjyj67ZnGmakgTlnWuaJYsZly9y8TP8ySpEobsTtcX+uwME8xBjoxsSJuCGjP276iRJQ9RrYb4E1Xvr2ixZj5SV3K/Qo8wAwRUPHD2WeQyYum5SuQ265SK60UUOZZF2UeY42yjxASz7xgmctxsxDL1DoCUMTtYoo80hRlHmkJMo8UhJlntF12zMNM9LAnLNf5omyTvfndYlSRlf+YT7OX6YbA1HqGdIfK2mq18B+C6zxkrujhDNevvUXZl7oUeYBYIKGjh/KPIdM+vqR3HKRXGkjzuyTW7amKPMcbZR5gJY87POeuRg7Z3/eM2Zf6BmaqFVEmUeKoswjJVHmkZIo84yu255pmJEG5pxx2aN0jG6SKPVEwYPpi+JWV/iK9z0utzUkHSdd4vHVa2C/Bdb41p9/0mLsfNPbZlzoUeYBYIKGjh/KPIdI7vUjuWUjudLGp332g7PL1hRlnqONMg/Qkk868czFUeTsfzLvQs/QRK0iyjxSFGUeKYkyj5REmWd03fZMw4w0MOc8bJmnS1x6i2nrn8XpyrjhAP2x0U+Mt+o1sN8Ca3zz2560OIp808/NtNCjzAPABA0dP5R5DhFlnraizHO0UeaBefjkf/rMxVHl78y40DM0UauIMo8URZlHSqLMIyVR5hldtz3TMCMNzDnHKvNETizDND1qme59Ljm7Tn9c9KPMA+zEN/7skxZHlevfMsNCjzIPABM0dPxQ5jlElHnaijLP0UaZB+bh4U945uJI88/mWegZmqhVRJlHiqLMIyVR5pGSKPOMrtueaZiRBuacY5Z51l16iXb1x0nJZdX64yJN9RrYb4E1XvyWJy2OMt9w58wKPco8AEzQ0PFDmecQUeZpK8o8R5u5lHk+9aJnXisy53zKRc9cHHUe/sT5FXqGJmoVUeaRoijzSEmUeaQkyjyj67ZnGmakgTnnmGWeyM3LMC1xSa3u/b0hbijQHxNpqtfAfrvWN/z0RdeKzDnX3fmkxVHn371pRoUeZR4AJmjo+KHMc4go87QVZZ6jzVzKPJ/25GcsROTo86lPmlehZ2iiVhFlHimKMo+URJlHSqLMM7pue6ZhRhqYc8Ylk9IxetiUnLmFNjxomTjjUryv8d/4e4l0TPRTvQb227W+/qeevBCRo8+/+09Pmsdnaco8AEzQ0PFDmecQUeZpK8o8R5u5lHke+dRnLERkZ5lNoWdoolYRZR4pijKPlESZR0qizDO6bnumYUYamHOm4zMKG3Emlkct0xcFneuW6YodByXO9sM0xJmWuvf1RNxQqD8e0lSvgf12ra/7yScvRGQ3+do5FHqUeQCYoKHjhzLPIXLt7fvlhZXklo3kShs1lEnWRZnnaKPM05ZPv/gZCxHZXeZS6BmaqFVEmUeKoswjJVHmkZIo84yu255pmJEG5pz9sRllnXVnXjl7mbuW6T8uF9oX5Z3u/dy0oNUfC2mq18B+u9aLfvzJCxHZXa798YkXepR5AJigoeOHMs8hk75+JLdcJFfauPz687LL1hRlnqONMk9bPuPSZyxEZLf5u5dMv9AzNFGriDKPFEWZR0qizCMlUeYZXbc90zAjDcw5o8ATZ1/Z5NJYUfhZV+hxqa22xXvcvwRbeqamdfpjIU31Gthv13rhHU9eiMhu82/vmHChR5kHgAkaOn4o8xwycZmsdB1yy0VypY3n3/K47LI1RZnnaKPM05Zznv6MhYjsPo+6bNqFnqGJWkWUeaQoyjxSEmUeKYkyz+i67ZmGGWlgzrmttOyRRpmnbc9bpnsvb4gbNtQfC2mqN4X99gU/+uSFiOw+X/2jEy30KPMAMEFDxw9lnkPmgisefso65JaLpMWf+z/wftnlaosyz9FGmactf+8Zz1iIyPHkUc+YbqFnaKJWEWUeKYoyj5REmUdKoswzum57pmFGGphzHsZly6Tju0uUQWhX7j09ylRV/prCfvs1tz9lISLHk6++bYKFHmUeACZo6PihzHPIxJl10nW49vbHZ5dNyzznX/Kw7HK1RZnnaKPM05Zzn/X0hYgcZy6bZKFnaKJWEWUeKYoyj5REmUdKoswzum57pmFGGphzHtaHlknHeESZp2259/Qoo8wzsq96w1MWInJ8+crXT6zQo8wDwAQNHT9mVeZ58Z0n9go0cUacWPbcC88c5TJXD3nE6SvrMFTE6F63SwuX2IrMtcxzVOMljTJPW857ztMXInLcmV6hZ2iiVhFlHimKMo+URJlHSqLMM7pue6ZhRhqYcx7WzcukYzxyYhnalXtPjzLKPCN7/uueshCR483zbp1QoUeZB4AJGjp+NF3mueoVj44fZCUHlTOimJEuHzlsceLy689beb5LX3DOKcvE2Xr6y8RZetJlas1Uyjy1jJc0uUu1KfPU6zO/4OkLEakgEyv0DE3UKqLMI0VR5pGSKPNISZR5RtdtzzTMSANzzsOKM/CkYzxSVTmDjeXe06OMMs/InvfapyxEpIK8ZiKFHmUeACZo6PjRXJknzowSZZn+GVP6iduioBFliPRyV+myXeIxcRaW/rKbpn8JrTPOOu2U+/vFkHi9oUtx1ZiWyzy1jpd4vXjdONtP7jXibE+x3rHcYV9rV5lLmefv/4unL0SkjnzmF0yn0DM0UauIMo8URZlHSqLMIyVR5hldtz3TMCMNzDkPa6jMQ9ty7+lRRplnZP/m1U9ZiEgluWUChR5lHgAmaOj40VSZJ4oNsb6bJB7TPT53f5c4u07/tTZNFEH6ZZEoj3QljChljPlau06rZZ5ax0uUeHLPeVByz1Nb5lLmefQVT1/sMne89S2L//EXf7F40vO/NHv/Nvm33/XyRfi2H3xV9n6RlvJZV0yj0DM0UauIMo8URZlHSqLMIyVR5hldtz3TMCMNzDkP64Zl0jF+1zLMVxRz0jHR5Y5lqjeF/fZf3/KUxS5z92/fufiL//+fL77+9quy92+T//DWb9v7LO3Wd3xv9n6RlvKvbm680KPMA8AEDR0/ZlXm6Z89J81Bl1sqTZwFJnf2ly5xX2tFnshcyzxHNV6Uedr2OV/49MUu8zt/8P69Dwve8s5fzN6/aZ7yVV+6+M+/8et7z/nSm1+VXUakvbRf6BmaqFVEmUeKoswjJVHmkZIo84yu255pmJEG5pyHdc8y6Ri/bBnmS5mnAtfc/NTFLvOHH/69vc+93vW7d2Xv3zRfe9sXLX77A7+295yvffuN2WVEWsuX/cBT2/0sTZkHgAkaOn40d5mtwyTOlHPBFQ+PH/6UjFHmicRrxHP1iyBR4okz9bR0aa1+Wr7M1mGyi/EypcylzHP+VU9b7DJH6aU/9Krsa4q0mNYLPUMTtYoo80hRlHmkJMo8UhJlntF12zMNM1LpnPPKZboSTvx32/LNo5bpj+3u+R60DPOlzFOBL/v+py52maP0mrtvzL6mSJP5j40WepR5AJigoePHrMo8XeLsK2ecdVpshP3EpbByy8p8yzxdjJeyzKXM85gvftpiV3nZLa86+VHBYvGHf/zBxbXf+/LscnFf6md+6e5Tlrv4BV+yf6afEM+fLiPSdK5qt9AzNFGriDKPFEWZR0qizCMlUeYZXbc90zAjFc45n7dMOiYjcbmsTeUusXViGebt7GXScdFFmWdHvuT7nrrYVV59140nP/VaLP74zz6wuOkt35ZdLu5L/fLv3HXKctfe+kX7Z/oJ8fzpMiJNp8VCjzIPABM0dPyYZZknkl6CKS6RlVtOlHkixsv6zKXM8w+f+7TFrvIzv3z33gcFf/KnH1lc8sIvyS4T+Z0/vK+g04nH5pZ97Z0/dnKJxeLlP/yq7DIiTefqNgs9QxO1iijzSFGUeaQkyjxSEmWe0XXbMw0zUuGc80PLpGOyyyaFntxZeW5eBkI6Nroo8+zI1a966mJX+eX33bX3mdef/vmHF//21V+UXSbyh39yX0GnE4/NLfvT737jySUWix/+hRuzy4g0nrY+S1PmAWCCho4fsy3zXPWKR8dG2EtcEiu3jNwbZR7jpSRzKfM87kuftthVujPu/Ic7Xpu9v0uuzPOz77o7u+xlL/qSk0ssFt/+mldllxFpPf/wS9or9AxN1CqizCNFUeaRkijzSEmUeUbXbc80zEiFc850PKaJM/esE5fR6i7T1cXltejrj41+YpxUr8L9dmNfdNNTF7vKH//pvWfc+ZF3/nD2/i5/kCnz/NL77sou+zU//EUnl1gsbnnbjdllRFrPVTc1VOhR5gFggoaOH7Ms87z4zhOLhzzi9NgIe4mzruSWk3sz9zKP8VKWuZR5Pveapy12kS97+dfufUjwu3/4/uz9/cQyqSjz5JaN/Mpv//reMq947auy94tMIl/WVqFnaKJWkf0yz0vf/kSRwXRlnn/z/f8we79I5POuvLfMc/4lZ2fvF4lc+6MXdL9fKPOMo9ueaZiRCuec6XjM5bJlhsQZee5apr98nO0nbodOf3ykqV6F++3Grvreixe7yLfc/sK9z7uiqJO7v59smee9d2WXjfzmH7xnb5kfeuuN2ftFppFGCj3KPABM0NDxY3Zlnrg8Ur+Ycfn152WXk/sy5zKP8VKeuZR5/vG/etpiF3nG133J3pl5/t2rXp69v59cmefn/vPd2WUj3/HaV+0tE//N3S8ymTRU6BmaqFXk+cvsHw9FRER2HA4vt10jzEiFc87rlknHZC5xhp5+Qef8ZeIyXOlyijzkpOOkSxTBqlfhfruxL/yeixe7yFf94BcvPvSnH1h890++JHt/P3/w304t87zzt+/KLhu5+edu3Fsm/pu7X2Qy+e4GCj3KPABM0NDxY1ZlnnMvPDN+8L3c/4H327t0Um45Wc1cyzzGy2aZS5nn8V9+2aK2/O4f5cs8uWVF5pZ//K8uaaLQMzRRq4gyj4iIHGc4vNx2jTAjlc45b14mHZfb5I5lzl4GUrnxEokxU71K99uNXPFdFy9qy1CZJ7esyOzynZUXepR5AJigoePHrMo8F1zx8L1SxhOueeTepZNyy8ipmWuZx3jZLHMp81z4FZctakuuzPPWX7k7u6zIHHPBv6m/0DM0UavI3mW2/tbfeeDeMVFkKKc/+KP35gPP/Z7Pyd4vEvnHl3/y3jj5rCc9NHu/SCTOkhrjZBmX2RpHtz3TMCMVzznjUlr3LJOOz5JEISPO1ANDcuMmosyzI//8/714UVt+P1Pmecdv3ZVdVmSO+YIbKi70KPMAMEFDx4/ZXWZLNs+cL7Ml5ZlLmefzn3/Zorb814EyT25Zkbnm855Xd6FnaKJWkb0yz5mf8nHZY4BIl4//mx+zNx/4ih98bPZ+kcjnX/Wpe+PkMZeenb1fJPK1d1zY/X6hzDOObnumYUYamHOeWCYuvRUli3SsRuKySHFfLBMFIGfioURuLEWUeXbkC77j4kVtGSrz5JYVmWue8+2VFnqUeQCYoKHjhzKPrI0yj5RkLmWeE1912aK2/NcPnFrmedt/uTu77EH5qXe8ZeWx8fc//59/vnfbO+551ynLd/mK73rR3v3pesRj3/2+9+zdn3tcP7HMH/23D+49R3fbD/zkaxa/+f737q9DiL/H7f3H5vKGn7vjlMeGeP5Yp++87ZXZx3WJ9el+nvh7vGY8LtaxL/4e2+vyb3zuKc+Ry/U/+LK9bZU+z4f/7CN76xvrnXtcmsP+fJFYJp4jXrsTz7fJerSWz/vKegs9QxO1iijzSFGUeaQkyjxSEmWe0XXbMw0z0sCcE0hMYb99zrdfsqgtv//Hp5Z53v6bd2WXPSg/+6tvXnls/P0v/te9n9X8yu+865Tlu1z3mhfu3Z+uRzz2nve/Z+/+3OP6iWU++JEP7D1Hd9vrf+HVi/d94L376xDi73F7/7G5/MQvvfGUx4Z4/lin73vzTdnHdYn7P/I/Pry3/L9+5dX7zxe39cX9cV/uOXK54Y6X7m2r+Fn74nnj+Uuf67A/XySWSX+meL5N1qO1POtlFX6WpswDwAQNHT+UeWRtlHmkJHMp8/yTr7lsUVvSEk1427vvzi6b5nnf86LFbW+9Y6XQEY995z3vOvm3+0S5p//YL/jm5+4VR8Jvvf+9i+tvftn+c6YFkVi2/9hILB+v3T1HiJ8lbv+jP1ktu6TiMenzdYl1CfHfWJe4Lf7b3d5JH/ddt79y72dMX7v/swyJn7H7+XPpb6sQ27dbt7gvtnknXu+g59r25+sSr9dftntf4/b++x7boXv+SeWr6yz0DE3UKqLMI0VR5pGSKPNISZR5RtdtzzTMSANzTiAxhf322S+7ZFFbosCRevtv3JVdNs11P/zCxU+8840rhY547K+879TP0n723W9eeey/vvHqveJIeN8fvXfxHW986f5zpgWRWLb/2EgsH6/dPUeInyVuT8suqXhM+nxdYl1C/DfWJW6L/3a3d/qPifX7jz99097Pna57WpjJifXN/Yxd+tsqxOt06xb3xTbvxOt32zKXbX6+fuL1+st272vc3n/f42fqnn9KedZLKvssTZkHgAkaOn4o88jaKPNISeZS5vln//ayRW3JlXl+/t13Z5ft503vvPdMPKnc84W4vXvsN/3Qy/ZLLlH66D9vJF6/L16rf//Qa0QpJhLPefvb7lj8i2997t7y8ee4vS9u6z9npHvdWLf0vsiv9go13/0jr9y/PV3fvnf+xrtWlo2fPW5Lxfp95b9/0f5yXeJn6BeEYh3SZSLx83TiueJ10mW2/fm6pOuSvi+R/nPEenTvwZRSY6FnaKJWEWUeKYoyj5REmUdKoswzum57pmFGGphzAokp7LfPfMkli9ry/kyZ5xd/467ssv38zLvvPRNPKvd8IW7vHvuKH3npfuklSh/9543E6/fFa/XvH3qNrjwTz/nj73zj4prvvXpv+fhzWqqJ2/rPGeleN9YtvS/y67933+dE/+FNN+3fftD6xLrHz9stG4/LLZ/bDpH4GeK+TqxDbrn4eTrxuv3X7LLtz9clXZf0fYn0nyPWo3sPppRnfGtFn6Up8wAwQUPHD2UeWRtlHinJXMo8T7z20kVtyZZ5fvXu7LJpvvmHX5p9/E//0psXt//8feWSELfFY654ydUrxZrca/3QT7/m5L33+qXfeNfK/fEc8fwf/rP7/s+dztC6x+19v/X77z1lme754r/pfZF43W6Z7/nRm1bui3XObYv+Mv2k2yfk1il9zq+68dpTlunS3x6xjWN9c/dv8/NF+usSz5/eH4kx0ferv/Oe7HKt55/927oKPUMTtYoo80hRlHmkJMo8UhJlntF12zMNM9LAnBNITGG/ffq3XLKoLe//UKbMc89d2WXTvPy2l2Yf/5b/8ubFj739vnJJiNviMV/63Vcv/qL3WVrutV771lefvPde//m971q5P54jnv8j//2+z446Q+set/e99w/fe8oy3fPFf9P7IvG63TKv+qmbVm7PrU9sm/7j++mXXjrdNuon3b5fe/MLT1mmS//1YxvHeuXu3/Tn69Jfl3j+9P5IjIm++Dlzy7Wey76pks/SlHkAmKCh44cyj6yNMo+UZC5lnotedOmitvzeB/NlntyyufzQnavFm9Dd9yMnCyvxGv/yJVfv3dYv1UQh5HveeNP+8l3itr54fLrMJstFSpbti2LNV9947SnLdD9TbhvFz5hKl+knXiPVf810nT/83z+88vg0v/Sbq2f8+bXfec/K/X2b/nybbOtUbpkJ5CUnd+sqDE3UKqLMI0VR5pGSKPNISZR5RtdtzzTMSANzTiAxhf32sm/aKwFUlVwZ5+5fvyu7bC6v+bnV4k3o7rvjF+8t9MRrPPc7r967LZ67E5+lvfI/3bS/fJe4rS8eny6zyXKRkmX7ouzzoh944SnLdD9Tbhul2+Kg9YntkZZ/4u/9ZdJ1Tu9P867fXv0s7T3/9T0r9/dt+vNtsq1TuWVaz6XffHEdn6Up8wAwQUPHD2UeWRtlHinJXMo8T/q6Sxe1JUoZqV/4tbuzy+by7+9Y/cU0ni+3XJd47g/8yQcXP/3Lb1584cuuzi5T+pybvPa3vGb1/3LJLRtlmVSsa5RkbnnzawbXt59Ubpku6TqF2C7d/b/2u6v/x1HJtu2LD3j69x/m50vXZRPxPuWes9U8+evqKvKEoYlaRZR5pCjKPFISZR4piTLP6LrtmYYZaWDOCSSmsN9eev0li9oSpYxUFDlyy+Zy00+cWvLILdclnvuDH/7A4s3/+c2Lq2+4OrtM6XNu8tovff3q51a5ZXOfNcW6RknmNT/76sH17bLptohtkIr17O6PMk5fybbti8/S+vcf5udL12UTsV1yz9lsvrGiz9KUeQCYoKHjhzKPrI0yj5RkLmWep/y7Sxe1JQoiqSiF5JbN5Xt/7NRCTW65knzba1+6+OXfetfeL859Q8+56Wv35Zb90btOvfRVKkotL3jVtac8tksqt0w/6YcC/W2fvjfrfr60zBNim3b3H+bnS9dlkzEyqXx9fUWeMDRRq4gyjxRFmUdKoswjJVHmGV23PdMwIw3MOYHEFPbbi7/h0kVtST8jCXe95+7ssrnc+OOnfp6VW64kL7l1+LO03PKbvnZfbtk33r3+s6b3/O57Fi/8j9ee8tjIpusTz5OK5+juj8f3rXu+eN9SsU27+w/z86XrsskYmVSuq+yzNGUeACZo6PihzCNro8wjJZlLmSf7C80xJ/3FMuzyA4gv/o6r934x/sCHP7j/+PgQom/oOQ/zAUTILZP7JT4VH5D0f7HvJ5Vbpp90+/e3fXrfup8vt+79DzSGlknlfr6D1nM2qe3Dh56hiVpFlHmkKMo8UhJlHimJMs/ouu2ZhhlpYM4JJKaw32b/R5tjTvoZSdjl/xh31bdfvfc/bMXZlrvH5z5Lyz32MP9jXMgtk/ufy1LxWVP/fzjrss22SMVzdPfF4/vWPV9u3fvPN7RMKvfzpesyy/8xrsb/KU6ZB4AJGjp+KPPI2ijzSEnmUua55PpLF7Xl9z506gcQd/363dllc0lPhxvPl1suTZyGNl6n+z+HoswTzxX3lT7nC79v9f/GWffaqdwykXje/rrlxH3xM6SPTaX3p0m3f3/bp/et+/nisan4WdLltvn50nWJUwX3n3Pqubim0wFnDE3UKqLMI0VR5pGSKPNISZR5RtdtzzTMSANzTiAxhf02d/nr405a0ghR1Mgtm8uml6zvEpdHj9fZ/yztTz64f2nz0uf8mlcmn6Wtee1UbplIPG9/3XLivvQS79tsi1T/8u7pe7Pu+XJFnfhZ0uW2+fnSdYmzYfefc+q5qMLL1O9R5gFggoaOH8o8sjbKPFKSuZR5LvumSxa1Ja4dnYrrReeWzeWV/2n1l+54vtxy/bzsDS9dfKR3eam41vRzv/Pq/fs3ec6+da+dyi2T5o5ffGN2G4VYz3T5VHp/mvS5+8+Zu853/7Fpctf5zi3XT+nP994/fO/JW+8V71//eaacS7/54qqLPGFoolYRZR4pijKPlESZR0qizDO6bnumYUYamHMCiSnstxe96NJFbUlLGuHnf/Xu7LK5fM8bTy2w5Jbr51t++KUrl2qPIs+/fMnV+/dv8px96147lVsmzY/8/B3ZbRRiPfvLbrMtUv37fu13Vj9LW/d88b71xWdpueX6Kf35fuv3Vz9Li/ev/zwTT72fpSnzADBBQ8cPZR5ZG2UeKclcyjxP/5ZLFrUlV+T4xXvuyi6by6t+6tTiTW65Ll/63Vcv/iL5v1hefttLV5Z57VtfffKeew09Zzyub91rp3L3D/3s8XOm2ypuS5dLpfen6Zea4s/9+9JtG9utf3+aX/+91Q8s4u/9+8O2P9+Pvf2NJ2+9z1v+y5tXnmOKedq31F/kCUMTtYoo80hRlHmkJMo8UhJlntF12zMNM9LAnBNITGG/fcILL1vUlv/6gXyZJ7dsLt/9o688+ah7xfPllutyxbc995QzwnzTLS9bWebmn37NyXvuNfSc8bi+da+dyt0/9LPHz5luq7gtXaZv3fp85fe+6OSS9/rV33nPyv3p88V269+fJh7flz5f2Pbnu/1td5y89T5veudbVp5jmqn77NbKPABM0dDxQ5lH1kaZR0oylzLPM77tkkVtef8f58s8uWVz+Q9vSso8y+fLLdflZ/7Lm08ueZ8v+/dXryzz3j9a/T9XPviRD+wtE//99h956f5ym752Kr3/I//j3mJN/zXSdMuE3HKpr/uhF56yTJd0/W9926tPWSZ9f0rX7S/+15+fsl0P+/PF9u+L1zjouWIcxXuZrkcrefq3tVHkCUMTtYoo80hRlHmkJMo8UhJlntF12zMNM9LAnBNITGG//adfc9mitqQFjvC2d9+dXTaX77r91AJLbrkuP/WOt5xc8j7//Jufu7LMb71/9bO0P/qTD+4tE//9xptftr/cpq+dSu//8J99ZO/2/muk6ZYJ6XLp+sSy/fvTxHbuRFHn+d/zolOWSd+f0nWL50u362F/vtj+ffEaBz1X/HzxXqbr0U4qL/IEZR4AJmjo+KHMI2ujzCMlmUuZ55kvuWRRW9KCRvjF37gru2wuuUJNbrku8dypOINM3Pf1t7xw78//+X3vOuUsM51rvvfq/edKXzvKJd19uaTS+7viTGyTWJf0/njteI0w9HOmhrZlPFd/2//4O99YtNz7/ui92eV+5t2rJanYNukyh/35XvEjL92/vy/er7ivWy5KSd1rxX3952gmL22nyBOGJmoVUeaRoijzSEmUeaQkyjyj67ZnGmakgTknkJjCfnviqy9b1JY/+m+rBY3wtv9yd3bZXL7ztlMLNbnlusRzp979vvfs3fcV3/2ivT+/45537f035/Jveu7+c6WvHeWS7r5cUun9XXEmtkmsS3p/vHa8Rsj9nOn6hLgtXS5y/Q++bP+54r/x99xy8Zr99+g33//e7HJpSSr3uof9+frr3BfvV3/9f+CnXrP/WnFf/zmayVc1UOQJyjwATNDQ8UOZR9ZGmUdKMpcyz7NfdsmihnzHG1+6+Nl3vzlb5AlxdpafeOcb95bLPb7Lv77x6sWvvO9dJx91n//40zdll49c98MvPLlU3u//8e/tPW9uuXve/57954l1e3umGBS3xWP7rxmJnycV6xmv1S3T/1mitBLbqHuueL1ue8V/+4/rJyfWqb8tX/fzr95/rnidWLf+c6RJt3MUerrni/tiPTvx3g29b2P8fLFc/+w9Q2KZ+Dlzz1F9Xt5WkScMTdQqoswjRVHmkZIo80hJlHlG123PNMxIA3NOIDGF/fbzn3/Zooa8+PtftvjJt78lW+QJf/JnH1m84Wfv2Fsu9/guz7n+uYt3/Pqpn6V95xtemV0+8hXfuXppqdR//aP37z1vbrl3v/c9+88T6/bWXzm1GBS3xWP7rxmJnycV6xmv1S3T/1mitBLbqHuueL1ue8V/+4/rEs+XiueJ1+6eJx4Xf+9KMbGtN93Ov/l7791/TNwX69k56PkO+/N1y8VrrBPL/MB/ek32OepPI0WeoMwDwAQNHT+UeWRtlHmkJHMp81z+7RcvjjNf/sovzp5ZZZ0b7njJKc/1K7/zy2ufK+7PPfb1v/DqvdJOJ5Z73wd+e/GffumNpyzXFUdi+Vj/uD2WXad7jrf/5qmFn1S3bCReM362eL1+aSXWMW5L1zFNKl4/SkhpAeZDH/nA3ut8w2temH2eXGLZbt364rlz2y+Xw/58XWK5dD3672P3XjWXV7RX5AlDE7WKKPNIUZR5pCTKPFISZZ7RddszDTPSwJwTSExhv73wKy5bHGee9Q33nXllE9/wfS875bmiGLLuueL+3GO//ydes/jdP7rv8lGxXBRUXv+zd5yyXFccieVj/eP2WHad7jlyhZ9Ut2wkXjN+tni9fmkl1jFuS9exnxtef2qZJ5aP9U23VTzXT/7iW/Z/ppJ8+Q0v2l+3vljP3PbL5TA/Xz+xXLoe/fdxk5+rrjRU5AnKPABM0NDxQ5lH1kaZR0oylzLPF3zHxQuZdlLf/5Ybs8tJfbn8O9os8oShiVpFlHmkKMo8UhJlHimJMs/ouu2ZhhlpYM4JJKaw3z7+yy9byHTzHbeeWubJLSe1prEiT1DmAWCCho4fyjyyNso8UpK5lHn+xf978UKmndQP/MyN2eWkujRb5AlDE7WKKPNIUZR5pCTKPFISZZ7RddszDTPSwJwTSExhv/1H/+ppC5luXvHaV538BO0+ueWkwlzztDY/S1PmAWCCho4fyjyyNso8UpK5lHmu+K6LFzLtpH7wZ2/MLif15F98V9tFnjA0UauIMo8URZlHSqLMIyVR5hldtz3TMCMNzDmBxBT228/9sqctZLp5xWtOLfPklpO68rgvbbTIE5R5AJigoeOHMo+sjTKPlGQuZZ4v/J6LFzLtpG7+uRuzy0kd+Zff036RJwxN1CqizCNFUeaRkijzSEmUeUbXbc80zEgDc04gMYX99rFf8rSFTDcvf/WpZZ7cclJRnttwkSco8wAwQUPHD2UeWRtlHinJXMo8V33vxQuZdlI/9NYbs8vJ8efKfz+NIk8YmqhVRJlHiqLMIyVR5pGSKPOMrtueaZiRBuacQGIK++0/uPppC5luXvbDp5Z5cstJJfnixos8QZkHgAkaOn4o88jaKPNISeZS5vmiGy9eyLTzx3/6gZMfPdzrlrfdmF1Ojj2TKfKEoYlaRZR5pCjKPFISZR4piTLP6LrtmYYZaWDOCSSmsN8+5ouetpDp5uKv+ZKTn6DdJ7ecHH/O/6IJFHmCMg8AEzR0/FDmkbVR5pGSzKXM88WvfOpCpp3ULT9/Y3Y5Oc48ZVJFnjA0UauIMo8URZlHSqLMIyVR5hldtz3TMCMNzDmBxBT228+58ukLmW5e+kOnnpknt5wcbz77yqdP57M0ZR4AJmjo+KHMI2ujzCMlmUuZ57n/4akLmWbu/NU3Lv7ww7938mOH+/zuh3578cO/cOPiha/5ouzjZNeZXpEnDE3UKqLMI0VR5pGSKPNISZR5RtdtzzTMSANzTiAxhf320f/y6QuZXp70lV+6uOOtb1n8tz/9yMlP0O7z5nf+4uLbfvBV2cfJsWRan6Up8wAwQUPHD2UeWRtlHinJXMo8X/p9T13I9PIX/+vPT37ccLDcY2WXmWaRJwxN1CqizCNFUeaRkijzSEmUeUbXbc80zEgDc04gMYX99u//86cvZFr5mu98+clPyg72vt9/f/bxstNM77M0ZR4AJmjo+KHMI2ujzCMlmUuZ58t+4KkLEdl9rvn+6RZ5wtBErSLKPFIUZR4piTKPlESZZ3Td9kzDjDQw5wQSU9hvP/Pypy9EZPf5fy6fYJEnKPMAMEFDxw9lHlkbZR4pyVzKPNfc/NSFiOw4PzjtIk8YmqhVRJlHiqLMIyVR5pGSKPOMrtueaZiRBuacQGIK++3//eynL0Rk55nuZ2nKPABM0NDxQ5lH1kaZR0oylzLPv77lKQsR2WF+aPpFnjA0UauIMo8URZlHSqLMIyVR5hldtz3TMCMNzDmBxBT227/3zGcsRGSXmXCRJyjzADBBQ8cPZR5ZG2UeKclcyjz/5tVPWYjIbvLlr55HkScMTdQqoswjRVHmkZIo80hJlHlG123PNMxIA3NOIDGF/facpz9jISK7ysSLPEGZB4AJGjp+KPPI2ijzSEnmUub5itc8ZSEiO8hr51PkCUMTtYoo80hRlHmkJMo8UhJlntF12zMNM9LAnBNITGG/fdSlz1iIyNHnMy6dQZEnKPMAMEFDxw9lHlkbZR4pyVzKPM973ZOvFZlznn/rUxZHntfNq8gThiZqFVHmkaIo80hJlHmkJMo8o+u2ZxpmpIE5J5CYwn776Zc8/VqRWefiZyyOPjMp8gRlHgAmaOj4ocwja6PMIyWZS5kH5u6rXv+UxZHmDfMr8oShiVpFlHmkKMo8UhJlHimJMs/ouu2ZhhlpYM4JJOy30L5HPOUZi6PNjIo8QZkHgAkaOn4o88jaKPNISZR5YB6++ranLI4qX3P7PIs8YWiiVhFlHimKMo+URJlHSqLMM7pue6ZhRhqYcwIJ+y2079Oe9MzFkeXJz5zfZ2nKPABM0NDxQ5lH1kaZR0qizAPz8IIfefLiKPI1P/Lk2RZ5wtBErSLKPFIUZR4piTKPlESZZ3Td9kzDjDQw5wQS9lto36c88ZmLI8lFMyzyBGUeACZo6PihzCNro8wjJVHmgXl44RufvDiCzLrIE4YmahVR5pGiKPNISZR5pCTKPKPrtmcaZqSBOSeQsN9C+z75nz1zMXr+6UyLPEGZB4AJGjp+KPPI2ijzSEmUeWAerv2xJy/GzAt/TJEnDE3UKqLMI0VR5pGSKPNISZR5RtdtzzTMSANzTiBhv4X2fdI/eeZi1JyYcZEnKPMAMEFDxw9lHlkbZR4piTIPzMOLfuLJixGjyHPS0EStIso8UhRlHimJMo+URJlndN32TMOMNDDnBBL2W2jf2Z//zMVYedjnz7zIE5R5AJigoeOHMo+sjTKPlESZB+bh637yyYuR4sOHnqGJWkWUeaQoyjxSEmUeKYkyz+i67ZmGGWlgzgkk7LfQvk+88JmLkeKztKDMA8AEDR0/lHlkbZR5pCTKPDAPX/+mJy8OnZ9S5EkNTdQqoswjRVHmkZIo80hJlHlG123PNMxIA3NOIGG/hfY95PHPWhw+ijz7lHkAmKCh44cyj6yNMo+URJkH5uG6O5+0OFR+WpEnZ2iiVhFlHimKMo+URJlHSqLMM7pue6ZhRhqYcwIJ+y2076zPfdbiMPmExynyrFDmAWCCho4fyjyyNso8UhJlHpiHF7/5SYvto8gzZGiiVhFlHimKMo+URJlHSqLMM7pue6ZhRhqYcwIJ+y2078zHPWuxbf72YxV5TqHMA8AEDR0/lHlkbZR5pCTKPDAP1//Mkxbb5Bt/RpHnIEMTtYoo80hRlHmkJMo8UhJlntF12zMNM9LAnBNI2G+hfX/rHzxrsU3+5j9Q5MlS5gFggoaOH8o8sjbKPFISZR6Yh2/6uSctNs03/qwizzpDE7WKKPNIUZR5pCTKPFISZZ7RddszDTPSwJwTSNhvoX1/4/xnLTaPIs8gZR4AJmjo+PE/l1k84EF/dXH63/gYkWw++rS/HANm8Vfv/5ez94tEHnjGR++Nk2X+9zLARH3z25602ChvVeQpMTRRq4gyjxRFmUdKoswjJVHmGV23PdMwIw3MOYGE/Rba9+DPfvZik/z1z362z9IOoswDwAQNHT/iS/f4i4jIWPk/ywAT9a2/8KRFab7lLkWeUkMTtYoo80hRlHmkJMo8UhJlntF12zMNM9LAnBNI2G+hfWd81rMXpXnQ31fkWUuZB4AJGjp+/MEyiy/4pv9n8bybHyeSzaOf9IkxYBbnnfiE7P0ikS982WftjZNlPrIMMFHfdvdFi6L84kU+fNjA0EStIso8UhRlHimJMo+URJlndN32TMOMNDDnBBL2W2jfX/vMZy9K8vGKPGWUeQCYoKHjx/uXWXzlLZ+b/fBMJHLBFZ8SA2bx2Gd8UvZ+kcgLb3v83jhZ5k+WASbqpW+/aFEQHz5saGiiVhFlHimKMo+URJlHSqLMM7pue6ZhRhqYcwIJ+y207/Tznr1Ym/9bkaeYMg8AEzR0/FDmkbVR5pGSKPPAPOT2/yQ+fNjC0EStIso8UhRlHimJMo+URJlndN32TMOMNDDnBBL2W2jfx5377MVBOf3vKfJsRJkHgAkaOn4o88jaKPNISZR5YB5y+38vPnzY0tBErSLKPFIUZR4piTKPlESZZ3Td9kzDjDQw5wQS9lto3wPOec5iKB97jiLPxpR5AJigoeOHMo+sjTKPlESZB+Yht/+fjA8fDmFoolaR5ss8l77gnMVDHnF6d6xanHHWaYsnXPPIxYvvPJFd/rjyaZ/94P11jDz/lsdll6s1Uyrz1PhexHi9/wPvt79O8efccrWn5TJPvAeXX3/e4twLzzzlvYjb4r7c444jrY8XZZ7R7Y+FJMxIA3NOIGG/hfad9hnPWeRy/89Q5NmKMg8AEzR0/FDmkbVR5pGSKPPAPOT2/2V8+HBIQxO1ijRb5okCRr/Ekya+3K6lMHP+JQ87Zf2uuekx2WVrzVTKPDW+F1HMyI3l3LK1p9Uyz1WvePRKOWYoURY87n9XpjBelHlGtzIWemFGGphzAgn7LbTvYz79OYs0H/3pijxbU+Y5DieWuW6ZO5b50DLxc3W5Z5m4/cplzl4GDnLZMv3xE3neMrTtQcvEvwXpe3vXMmOJ14jxk/47FH++eZm4L5Zp1tDxQ5lH1kaZR0qizAPzkNn/ffgwgqGJWkWaLPNce/vjV754j4JGfMEdibPydLfXUOjJlUciyjy7T43vxVAxI5Jbvva0WOaJM+6k2/6gHOe/K1MZL8o8o1sZC70wIw3MOYGE/Rba99Gf9pzFahR5DkWZZ5eiZJH7gv6gxBftj1oGUlH2SstgEWWe9kWZJn1fu4whijq5sZMmlollmzR0/FDmkbVR5pGSKPPAPCT7vg8fRjI0UatIk2We/pfZccmk9P64JE53f5xJI74AT5c56sRr9tcjTS1nDSpNy2WeWt+LeN2hYkYURnKPqT2tlXniPei2ebwXcYae7t+LKA0OFcBi2fS5jjpTGi/KPKNbGQ+9MCMNzDmBhP0W2vdXPvU5iy73+xRFnkNT5tmFKOPEGTVi/bdNnKkH+obGlDJP2+KsXbn3tcthxJl2DioKDeWGZZo7S8/Q8UOZR9ZGmUdKoswD89Db7334MKKhiVpFmivzpGfRiC/f02Xitv4ycbaedJmjTJzpJUpE8drx5XvuC/jc42pOq2WeWt+LS19wzv7ZpXKFkVxJrYW0VuaJ7dxt76HS39CZe+L23PJHkamNF2We0a2Mh16YkQbmnEDCfgvt+8uf/JxF5P/3yZf7LG0MyjxHLYo8JWfAKEl8oQ4hCju5MRJR5mlX7rJp/cSZvbYVZZxcASxuO3+Z0F1666gv8bUTQ8cPZR5ZG2UeKYkyD8zDyX3ehw8jG5qoVaS5Mk9XzOgy9AV8f5n4EnxouTGTnsmjKxF1hYF+0sfWntbKPLW+F1Eu6tYhxmVXRkvXqbVyRpeWyjzxb0K3vWO85Jbpkhs3Mb5yy46ZqY4XZZ7RrYyHXpiRBuacQMJ+C+37S590+eL/+iRFntEo8xylMYs8XZq95A2jictr5cZGF2WeNkVZL/d+9hOX3dtWPDZ9vjhLT06UenKFnqYKhUPHD2UeWRtlHimJMg/Mw3J/9+HDERiaqFWkqTJPesadSG65SFr6iTNb5JYbM7F+8brxJX+/HJArAvQf10JaK/PU+l5ccMXD984OFOWifsEsXafWyhldWirzRFEm1jUuwZa7v5/496P//kR28R5Ndbwo84xuZTz0wow0MOcEEvZbaN//9TBFnlEp8xyVobNgxJfh3VkwQix3YpmSL/IjUQ6KMgfzlStl9KPM057S/X/bMk/uTE7xb0n8+zMk/p1KHxOJf6+aMHT8UOaRtVHmkZIo8wBsb2iiVpGmyjz9M61EDvoCOy1txBfiueV2kXRdIrnlak6rl9lKU+t7ka5Ta+WMLi2WeUouw9ct289xvkc1rcs2UeYZ3cp46IUZaWDOCSTstwAJZZ6jkn55Hme5iDP1HCS+PC85k09TZ8dgVLlSRhplnnZEmSYtZx30b8A2ZZ6hMzldt8w6ubPzrCsBVWPo+KHMI2ujzCMlUeYB2N7QRK0iTZV50rPtHPQFdk2ljZrWZdso8xxt0nVqrZzRpaUyzyZR5hk3yjyjWxkPvTAjDcw5gYT9FiChzHMU4ovu/hfym3z5XXppria+TGdUQ2dKSaPM04Z4P/tlmfhz3HbQmZe2KfMMnfUnXmudKPzkHtvEGBs6fijzyNoo80hJlHkAtjc0UatIM2WeuFRSrGs/B32BnSttxBfyuWWPOrl1yS1Xc5R5jjbpOrVWzugy1TLP5defd8p7tItL9w0lXZfWxosyz+hWxkMvzEgDc04gYb8FSCjzHIXLlol17VLypXlfydlXmrnUDaOI8la/+JG7hFsXZZ66xXt58zL99yxKM11Bb8wyz9BZeSIl4t+Z3GMj1RcKh44fyjyyNso8UhJlHoDtDU3UKtJMmWfTM2PkShvxhXxu2aNOrQWSTaLMc7RJ16m1ckaXqZZ50kv83f+B91u8+M4T2WV3kf66RFobL8o8o1sZD70wIw3MOYGE/RYgocxzFPpf1EfpYlPxJXn3+KEobMxLf0xF8eOgwpexUa94b/pn3urOxtM3Zpln6Kw8pf8uxZnCco+PVD/Oho4fyjyyNso8UhJlHoDtDU3UKtJMmecJ1zyyOx7t56AvsHOljXiO3LJHnVoLJJtEmedok65Ta+WMLlMt80R5p//+HNe/JV366xJpbbwo84xuZTz0wow0MOcEEvZbgIQyz1HofxkfZ+nZxkFnXolEuYN56J8dJcZFlL0OKvNseiYodiPet36RZ6gMM2aZZ+iSfZs8T+7xkXjuqg0dP5R5ZG2UeaQkyjwA2xuaqFVEmWcHqbVAskmUeY426Tq1Vs7oMsUyT3qJrYc84vTscrtMf30irY0XZZ7RrYyHXpiRBuacQMJ+C5BQ5jkK/S/j4zI32xg6o0aXTb/Up039Akj8N86UEpR52hTlvth3D/p3of/vR5pN9vuDLpEV/76Uyj2+S9WX+xs6fijzyNoo80hJlHkAtjc0UauIMs8OUmuBZJMo8xxt0nVqrZzRZWplnriUVv+sPGecddqxXl6rS7c+XVobL8o8o1sZD70wIw3MOYGE/RYgocxzFLov4+MSOts6qKwRUeaZh/7lta6MG046aHz0l6M9Y5V54nJsueeIDJ0VKOeg9YnXqNbQ8UOZR9ZGmUdKoswDsL2hiVpFlHl2kFoLJJtEmedok65Ta+WMLlMr85x74Zn770mUep5/y+Oyy+063Tp1aW28KPOMbmU89MKMNDDnBBL2W4CEMs9R6L78PkzhZl2ZZ5Mv42lT/8wq6WXVDhofxkbbxirzHHSpvrHKPPEa1Ro6fijzyNoo80hJlHkAtjc0UauIMs8OUmuBZJMo8xxt0nVqrZzRZUplnktfcM7++1FTkSfSrVeX1saLMs/oVsZDL8xIA3NOIGG/BUgo89RqXZknLtfDdMXlteLMTvFex+W14u99B40Pl9lq20ElnNIyT4yX3OO7jFXmiVRr6PihzCNro8wjJVHmAdje0EStIso8O0itBZJNosxztEnXqbVyRpeplHmuuekx++9FbUWeSLduXVobL8o8o1sZD70wIw3MOYGE/RYgocxTq3VfoKflDqalf4mk3GWzlHmm66B9v7TME2Mg9/guY5Z5qh1vQ8cPZR5ZG2UeKYkyD8D2hiZqFWmmzHP59ed1x6P9HPQFdq60EV/Q55Y96tRaINkkyjxHm3SdWitndJlCmefa2x+/V+CJn6PGIk+kP1YirY0XZZ7RrYyHXpiRBuacQMJ+C5BQ5qlVnI0lft5cbliG6XrUMt17PXQZo4PKPLnyD+0Yo8xz0PiIjFnmicvBVWno+KHMI2ujzCMlUeYB2N7QRK0izZR5+mfK6HLQF9i50kZ8SZ9b9qhTa4FkkyjzHG3SdWqtnNGl9TLPi+88sXjII07f+xlqLfJE+mMl0tp4UeYZ3cp46IUZaWDOCSTstwAJZZ4axZfj8bMO5exlmK5+eSKKPTkHlTU2KWpQnzHKPFH4yz2+y5hlnmrH29DxQ5lH1kaZR0qizAOwvaGJWkWaKfNEYl37OegL7LS0EV/M55bbRWotkGwSZZ6jTbpOrZUzurRc5mmlyBPpj5VIa+NFmWd0K+OhF2akgTknkLDfAiSUeWp00BfxzsozbXFWne69jkttDTmozHPZMrRrjDLPmAUcZR6ZX5R5pCTKPADbG5qoVaSpMk/3RXuXg77A7i8XOffCM7PL7SLKPPVEmedo03KZ5/xLHra37mecddraIk8Uf7pLceXuP+p046SLMs/srYyHXpiRBuacQMJ+C5BQ5qnNg5aJnzOXuPRW3M80xXvbXV7tnpN/H3JQmef8ZWiXMs9Iho4fyjyyNso8UhJlHoDtDU3UKtJUmefSF5zTHZP2El+655aL9JeLXH79ednldhFlnnqizHO0abXM0xV5ojAYRZ3cMv3EvyfH+T5146SLMs/srYyHXpiRBuacQMJ+C5BQ5qlNnI0lfs5chi65xDTcvEz3Xq87u44yz3Qp84xk6PihzCNro8wjJVHmAdje0EStIk2VeeJL9ljffnLLxVk1+ssMXWIrlosz9nTLxBf6JV/kbxplnnqy6XuxqzGSrpMyz+6yaZHnmpses39Wnnhs/76rXvHo/TOIRdnwCdc8cuX+sRLP348yz+ytjIdemJEG5pxAwn4LkFDmqUmUdeJnzMWlk6YtCjjde11S2DiozFNtuYIiyjwjGTp+KPPI2ijzSEmUeQC2NzRRq0hTZZ5I98V7l9zlcLqzZnQZ+kI9vmzvLxeJL+nHLmuklweL5JarOVMp82z6XuxijMRzpa+hzLObpP9WbJr+vy3X3r4/Z17J2O/lFMaLMs/oVsZDL8xIA3NOIGG/BUgo89TkrmXiZ0yjyDNtcTmtuKxW936fvcw6yjzTpcwzkqHjhzKPrI0yj5REmQdge0MTtYo0V+aJL7K7s2JE0jNjRPoFjChvpPdH4uwa3TJpDvvFeKxjnKEjvujPlUcicbaXKBLEeuSeo7a0WuY5zHtxlGMkih/xmhdc8fBsYSgS98W65wprtaalMs9B729p4v3pni/GWG6ZyFChsDRTGy/KPKNbGQu9MCMNzDmBhP0WIKHMU4uhcoZixvT13/vS93tovESMmbbl3tMuyjwbGDp+KPPI2ijzSEmUeQC2NzRRq0hzZZ5IfGEd693l0hecs3d7FDf6Z+6J0s/QF9vrvsiPL89zjytJFD1yzzmUFs6q0WqZ5zDvxVGOkdzzHZTDlkF2lVbKPPHe9UuB26b/78tBZZ4o4PRff9PknvOg1D5elHlGt/L+98KMNDDnBBL2W4CEMk8N+pdY6ueGZZi2/qXV4sxMpZR5piv3nnZR5tnA0PFDmUfWRplHSqLMA7C9oYlaRZos80TWXR4nvjw/6AwV6Rl+0qRnadkkyjz15DDvxVGOkdzzHRRlnnEzxll5Ips8Z3/ZTZN7voOizDM7K+9/L8xIA3NOIGG/BUgo8xy3uKTSh5aJn60fRZ556F9aLUpdpZR5piv3nnZR5tnA0PFDmUfWRplHSqLMA7C9oYlaRZot80Ti7BpxJp7+5ZOixBNfZEcRI/eYfuLxQ2WPwxQ1pphWyzyHjTGyWVq6zNZRJMbE0GWwcsvPNco8o1sZa70wIw3MOYGE/RYgocxznB60TL/M0UWRZx6uXKZ7z2+OGzagzDNdufe0S41lnhPLVGno+KHMI2ujzCMlUeYB2N7QRK0iTZd5xkpcpis9A8tBZ/WZY+Za5ulijJRl7mWeSBQJL7ji4StjJcZObtm5RplndCvjrRdmpIE5J5Cw3wIklHmOU5R24mfqR5FnHqLI1T8jU5yhaRPKPNOVe0+7lJZ5DhofkTHLPJucUWqnho4fyjyyNso8UhJlHoDtDU3UKqLMczJxNp/YFhFfvJ+auZd5IsbI+ijz3Jf+GZ3OvfDM7DJzjTLP6PbHWhJmpIE5J5Cw3wIklHmOS+7LdkWe+VhXthg7pSUQjl/u/etSY5mnWkPHD2UeWRtlHimJMg/A9oYmahVR5jmZ/pk0orSRW2bOUeYxRkqizHNf+pf/c0m21SjzjG5/rCVhRhqYcwIJ+y1AQpnnOFy2TPws/SjyzIsyD0Ny71+X0suxxdlyco/vskmZp38GqTT3LFOtoeOHMo+sjTKPlESZB2B7QxO1iijzLBOXS+ouoRT/jcvk5Jabc+Ze5jFGyqLMc28uv/68ve0QiTP05JaZc5R5Rrc/3pIwIw3MOYGE/RYgocyza49aJn6OfhR55keZhyG5969LaQknLuOWe3yXTco8ucd3KS0XHYuh44cyj6yNMo+URJkHYHtDE7WKzL7Mc9UrHr1S0ojSRm65uWfOZR5jpDzKPKuXY4uz8yh+nRplntHtj7kkzEgDc04gYb8FSCjz7FIUedKzXCjyzJMyD0Ny71+XTUo4dy2Te47IWGWeK5ep1tDxQ5lH1kaZR0qizAOwvaGJWkVmW+a59vbHr1wGJ/6spDGcOZZ5jJHNM+cyT5S+zjjrtP3xcu6FZyryDESZZ3T74y4JM9LAnBNI2G8BEso8uzJmkee6ZbrnqPrLdAYp8zAk9/512aSE0/93Ik3pvz1nL5N7fJe4v1pDxw9lHlkbZR4piTIPwPaGJmoVmfWZeaKcEV++xyVxcvfLfZnrmXmMkc0y5zJPlL/izE1xWa1rbnpMdhm5N8o8o+u2ZxpmpIE5J5Cw3wIklHl2IVfkuWyZbfWf60TcwOxEOac/nvo5fxnalXtPu2xS5sld0q9LabkrxlLu8ZE480/Vho4fyjyyNso8UhJlHoDtDU3UKjL7y2xJWeZ8mS0pj8tsSUmUeUbXbc80zEgDc04gYb8FSCjzHLUHLXPPMrHuXQ5T5InyTv+5qj4zBkdGmWe6cu9pl03KPGHoUlulZZ7035t+DvPv2E4MHT+UeWRtlHmkJMo8ANsbmqhVRJlHiqLMIyVR5pGSKPOMrtueaZiRBuacQMJ+C5BQ5jlKUeRJv0w/7Bfg6fMxT8o805V7T7tsWuaJf29yzxMFwxJDl4OLs4PFv29VGzp+KPPI2ijzSEmUeQC2NzRRq4gyjxRFmUdKoswjJVHmGV23PdMwIw3MOYGE/RYgocxzlG5eJtY5El9+H6bIEwWN/vNFqr/MDUfmhmX6Y6EfZZ625d7TLpuWeUJ6ZrAuJWWcodLYNuuxc0PHD2UeWRtlHimJMg/A9oYmahVR5pGiKPNISZR5pCTKPKPrtmcaZqSBOSd0cpf4iIz5JWC8RnxJGR/6xxeW3WvEn+PLx7jv2P8PXvstQEKZ56hct0x3LDyqlF4qh+kZOmNKRJmnbbn3tMs2JZqhs/OsKxfGvD33uNKz+hy7oeOHMo+sjTKPlESZB2B7QxO1iijzSFGUeaQkyjxSEmWe0XXbMw0zUumcs1+iOKo08X9isiL9P/n7GUN8GVAy9g57VoJDq3S/BTg+yjxHYejL87FjTjZfB5V5jnWuxdbOXuagOXskijTblONzZ9hZVwYcGmPNlMWGjh/KPLI2yjxSEmUegO0NTdQqoswjRVHmkZIo80hJlHlG123PNMxIpXPOdEweRXxx1JZ1ZwY4jPgyYd2XDrnEpSGO5Sw9le63AMdHmWdsj1qmO94dda5chnk6qMxjrt6GKMXEexVz6aFLYeXSnfUyHhvFrZJyTRSFcsX7obEy9O9Y/F7RjKHjhzKPrI0yj5REmQdge0MTtYoo80hRlHmkJMo8UhJlntF12zMNM1LhnDM+pE3H5FHEFwTtWHdmgMOcJj/KOHGZrvQ547buS4VYJtbhqC/xVazC/RbgeCnzjCmOe7s4S2IXl1Oar5iP58ZE5MQy1O2g92+blFxyL8ZF7rFRDIrfI0P8N9Yt9+9YlPGbMnT8UOaRtVHmkZIo8wBsb2iiVhFlHimKMo+URJlHSqLMM7pue6ZhRiqcc8YXOumYPIo4dX8b4gP33PvXT8kH/0Nyp+uPLwNy4svNXKFn518KVLjfAhwvZZ4xjf0F/bocy1nuqMJBY03Jq37HUeYJ8XvcNoXDps7I0xk6fijzyNoo80hJlHkAtjc0UauIMo8URZlHSqLMIyVR5hldtz3TMCMVzjl3VebxxVH9Soo8kW3LPLkvIOKLgYPGxtD43On/PV7hfgtwvJR5xrTLMk8cd5kvZZ62HVeZJ8QltHJn18wlyvjNnulp6PihzCNro8wjJVHmAdje0EStIso8UhRlHimJMo+URJlndN32TMOMVDjn3MUXSMdyaSSKRZkmPWPOQf/37TZlnqHLuZX8H7u5s/OsKwGNqsL9FuB4KfNAi5R5OKwo6cT8PX4fSH9fiLNtNn821qHjhzKPrI0yj5REmQdge0MTtYoo80hRlHmkJMo8UhJlntF12zMNM1LhnHMXZZ4rl6FO8cVNvywTf47b0nJPP9uUeYbO+lPyxVF8YZB7bIzdnahwvwU4Xso8AEzQ0PGjuTLPi+88sbj8+vMW51545uL+D7xf/CB7iT/HbXFf7nG7TqznBVc8fHHGWaftr+NDHnF6Neu3SVou87QyXiKxruk65parNco8ANsbmqhVRJlHiqLMIyVR5pGSKPOMrtueaZiRCuecB5U2xopLbNUn3pP4v2f771OUZrr3aswyz9BZeSIl4v8Azj02spOxVeF+C3C8lHkAmKCh40dTZZ6rXvHolbLDUKJA8/xbHpd9jl1k3XpGqSeKG7nH1phWyzytjJdIjIcYF+m65ZatNco8ANsbmqhVRJlHiqLMIyVR5pGSKPOMrtueaZiRCuec/dJGnCo9ihPbitJGegaWKIxQlzijTf+0+N3ZePrGLPMMnZWn9PJrj1om9/jITs7OU+F+C3C8lHkAmKCh40czZZ44g0qsa2mixHEcBY0okPTX49IXnLN3+7W3P37vTDDd7S0Velos87QyXiJDRZ5Ibvlao8wDsL2hiVpFlHmkKMo8UhJlHimJMs/ouu2ZhhmpcM7ZL22MUYzoX7Ipctky1CPOZNMv8gy952OWefqvt+3z5B4fiec+chXutwDHS5kHgAkaOn40UeaJkkWsZyRKD1GY6YowUZI5/5KH7d/fTyybPtdRJtalfyaYJ1zzyJX7Y537l92Kck///lrTWpmnlfESiXUdKvLEWMo9ptYo8wBsb2iiVhFlHimKMo+URJlHSqLMM7pue6ZhRiqcc/bHYpwB5TByZ1Bxia36RMEqijRxJqUhY5V5DrpEVpyxp1Tu8V0OczapIhXutwDHS5kHgAkaOn40Ueb5tM9+cKzw3n+HzmYzdCaWuD23/FEkLYnk1vWCKx6+ssw1Nz3mlGVqS2tlnlbGS5y1qSt/5QpGsf65x9UaZR6A7Q1N1CqizCNFUeaRkijzSEmUeUbXbc80zEiFc85uHI5xhpPrlumeL+ISW+0aq8yTjol+NjkT1EHrE69xpCrcbwGOlzIPABM0dPyovswTZYxYx0icVSW3TJeuxNFPlCRyy46dWLf+6w6d5SXKO/3lWihstFTmaWG8xBjoXjvKPHHmoLg9XRdlHoD5GJqoVUSZR4qizCMlUeaRkijzjK7bnmmYkQrnnF1J4rCX2Eov3xRxia12jVXmuWuZ3HNExirzxGscqQr3W4DjpcwDwAQNHT+qL/N05ZeSS1LFmU5i2X52VYhIz7gz9Lpp6ScSl1rKLVtLWirztDBeYqxE2Ssuw9Y/c9BxrMuYUeYB2N7QRK0iyjxSFGUeKYkyj5REmWd03fZMw4w0MOfcVhR30rHtElvtOqiEU1rmifc/9/guY5V5IkdqwvstwHaUeQCYoKHjRzNlnig+5O7vJz3rTWRXhYgzzjpt5XUPWt/+cpEod+SWqyUtlnlqHy+51LQu20SZB2B7QxO1iijzSFGUeaQkyjxSEmWe0XXbMw0z0sCcc1tp2cIlttp2UHmmtMxz/jK5x3cZs8wTr3VkJrzfAmxHmQeACRo6flRf5tkkx1XOyJ1tZ5MyT+2ljZbKPJtEmWfcKPMAbG9oolYRZR4pijKPlESZR0qizDO6bnumYUYamHNu4+xl0nF9YhnaNUaZJ8o6ucd3GbPMc6TjbaL7LcD2lHkAmKCh48ekyjyXX39e/GAriUsp5ZYdM7nX3aTME8ktV0umWuY5rvEylHRdlHkA5mNoolYRZR4pijKPlESZR0qizDO6bnumYUYamHNuIy1tfGgZ2jZGmeeGZXKP7zJmmWeT59rYRPdbgO0p8wAwQUPHj0mVec6/5GHxg+3n/g+83+LFd57ILjtmorjTf93IpmWeOLtPbtkaMtUyz3GNl6H01yWizAMwH0MTtYoo80hRlHmkJMo8UhJlntF12zMNM9LAnHMb9yzTH9NR4qBtY5R5xizgKPMA1ESZB4AJGjp+TKrME2WM+Hm6HFSoGTNRuui/7rrXTpeNxCWfcsvWkKmWeY5rvAylvy4RZR6A+RiaqFVEmUeKoswjJVHmkZIo84yu255pmJEG5pybOn+ZdEy7xFb7lHl6JrjfAhxOY2WeI877Tr4sAI1L/40/efN0yjzpJZMe8ojTs8sdRZR52stxjpeh9NcnoswDMA0f99BbT7//3779nJN/zRqaqOXEcy2f8xNP/nVXlHmkKMo8UhJlHimJMs/ouu2ZhhnZZM7ZiPRSSnGWHtqnzNMzwf0W4HCUefpR5gGYiPTf+JM3T6PME5dG6p9l5YyzTtvp5ZKUedrKcY+XoXTr00WZB2A6lpOvWz/2E95w0cm/nmJoopY67czbHhvPdfKvu6TMI0VR5pGSKPNISZR5RtdtzzTMSOmcsxEPWiYdz9ctQ/uUeXomtt8CHJ4yTz/KPAATkf4bf/LmaZR5zr3wzO6Xp72SxvNveVx2uaOKMk9bOe7xMpRunboo8wBMR5xNJyZgH/sJb7j25E0rhiZqffHYj/2E2/44Cj0nb9olZR4pijKPlESZR0qizDO6bnumYUb+v/b+BEqyqzwTtaOwhqrKLDQPVZkljI3xgDGSEGYSIAlNqKRKMdjgCWOD2wOehLFpt7ER2BgzGTAzYgYhiZJqkgd6xr5u3752X9vdt6d1r+81bXe72z0BHrr7X/+6f//7zapdOnXqREZkZkRkRMbzrPUuKSNPRJzMqor4Yu/v7D1MzTlDvr+k/ff5q0qYfZp5GrbZv1uAzZvyZp7F/cevbb92jzGaeQC2ifZr/MmbZ7+Z58WvvbJ+cNqyxgzNPLOTafj70i/1vGo08wBsL6UAO3KiEDv+D0/edEqzSEtO3rwq23SV2/red0I088hQ0cwjw0QzjwwTzTwjV3+f7TBHmvVmcvLmWfV7Jc2/y/ma7aH559qOZh6AeTflzTwAsBH96v6ZbuZJA0zOP9nKxgzNPLORafn70i/13Go08wBsL3V1nmRx+eE/ztcnv9W3UMsxObbevkWr8oRmHhkqmnlkmGjmkWGimWfk6u+zHeZIs95MTt48i55U0v67nJV62B7af7bNaOYBmHeaeQDYhvrV/TPbzPO6X71ptSEj57/VjRnXfutjV8+jmfU283QdNy3ZDs080/T3pV+afx8SzTwA208pwk6usHMii8vH7zx5+xmFWhp3sq3WI7dv2ao8oZlHhopmHhkmmnlkmGjmGbn6+2yHOdKsN5OTN8+i95W0/y5fVML20P6zbUYzD8C808wDwDbUr+6fyWaeN/3mbf/zim84f/UD0zQ0ZqRxJ+fSzHqaeS7ev9B53LRk1pt5pu3vS780/04kmnkAtp/m6jw1i8vHX9d12+mNPFu6Kk9o5pGhoplHholmHhkmmnlGrv4+22GONGvL5OTNs+i/ljT/Ht9fwvbR/LNtZxqbeW4rGZtt9O8WYDQ08wCwDfWr+2eumWcaGzOa2zfVrKeZ5+pbljqPm5bMcjPPrDTyJM2/E4lmHoDtqRRip63OM1y2dFWe0MwjQ0UzjwwTzTwyTDTzjFz9fbbDHGnXmCdvnjUvKWn/Pc5tbB/tP99mhm3mSbNO1/1rRtnMc23J2GyTf7cAo6OZB4BtqF/dP3PNPHVLq6xmM6gxI40caeDI8V3fH1XyPHmOZvo183Q1/rz4tVd2HjstmeVmnmn8+9Iv9e9DjWYegO2pa3WeQdniVXlCM48MFc08Mkw088gw0cwzcvX32Q5zpF1jnrx51rQbK7JKjy22tpfmn28709jMM1bb5N8twOho5gFgG+pX989UM09tzMhKK2m86DqmmZf90jWrx0+iKSKr6+S5anKuXcd1NfO87ldv6jx2WjKrzTzT/PelK/XvQ41mHoDtqxRj61idZ8tX5QnNPDJUNPPIMNHMI8NEM8/I1d9nO8yRdp158uZZ8lUl7b/D7ythe2n/GTcz7JZqWS2n6/4162nmaW/r1swflYzVNvh3CzBamnkA2Ib61f0z08yz3saMNM3UVVbajTVZoaU23+SYfH+Yx1wrP/Cep68+Xk2/RoyswtM8btq32EpmsZlnlH9f8mdbt+rKCj9rbaG2meTxm9HMA7B9rWd1nilYlSc088hQ0cwjw0QzjwwTzTwjV3+f7TBH2nXmyZtnSddqK7eVsL20/4ybGbYJJ6s1dd2/Zj3NPF33rxm2uWjDtsG/W4DR0swDwBZo1+XjznmPOXJ+nncmmnnqiikbTbv5Ig0Z7WPSyLHZhp7m4+bxuo6pTSY1aSLpOm6aMmvNPKP8+5JVk7qOGXWjTf7ujfs5xh3NPADrUwqyIVbnmYpVeUIzjwwVzTwyTDTzyDDRzDNy9ffZDnOkXWuevHmWZBWU5t/fsa+KwpZo/hm3s54mnN8r6XqMZFTNPN9fMlbb4N8twGhp5gFgC7Tr8nFnZpp5uralWm+yssowj7fZ5on2Y6eppPn9dmPIza94/Gnfn9bMUjPPqP++pLGn65hksyv05O9D/o7k70FXg1mS7+V8sppU12NMUzTzAKzPMKvzTMmqPKGZR4aKZh4ZJpp5ZJho5hm5+vtshznSrjVP3jwrsgJP++/vG0vYftp/zs2spwknfz+6HiMZdnu2rq3dmsn3x2rG/90CjJ5mHgC2QLsuH3dmopknzQ5166PNpNkIMajZI8/ZPIf1Js0X9bFy7nm+3J7HrVs1JcNu/zQNmZVmnnH8fVmrmScNOM3nX2+6HnOtbLZ5aNzRzAOwfqUoW2N1nqlZlSc088hQ0cwjw0QzjwwTzTwjV3+f7TBH2vXmyZtnRZov2n9/n1TC9tP+c25mPc08+fvR9RjJ50qGcW1J1/2TrPwzdjP+7xZg9DTzALAF2nX5uDMTzTyjWGUlaT5mGmjWaviozTebSXsrrXayAtCsNPIks9LMM46/L4Mes3nsetP1eGtFMw/A9rPW6jxTtCpPaOaRoaKZR4aJZh4ZJpp5Rq7+PtthjrTrzZM3z4KLStp/dyfSSMGWaP9ZN7OeZp7ot9XWsM08XStC1bykZOxm+N8twHho5gFgjkz9NlvjSFZwSUNNfvZ2RtHMk+Rxrr5l6bTtk7IaT3vrrVnILG2zNY7kz7LfNlhdx89rNPMAbMyeztV5pmpVntDMI0NFM48ME808Mkw084xc/X22wxxp15wnb54FaZpo/939/hK2p/afdTPrbebp+ruT/FHJMPJ8Xff/ryVpMhu7Gf53CzAemnkAmCNz2cxT8+LXXnnGKj3NLZbkROa9mSfJSkrNLdSS/N3pOnZeo5kHYGO6VueZslV5QjOPDBXNPDJMNPPIMNHMM3L199kOc6Rdc568eRZ0ra7yVSVsT+0/62bW28wTadzpeqxhmnGygk/XfTdyHhsyw/9uAcZDMw8Ac2Sum3mSbF2U30GiOaM7mnkeSXNFp6y81HXMvEYzD8DG7TltdZ6pW5UnNPPIUNHMI8NEM48ME808I1d/n+0wRx6pN2eqKeBJJe2/t/eXsH21/7yb2UgTTb/VeQZtk9W1vVsy7Ko+IzGj/24BxkczDwBzZO6beZqrraSxp+uYeY9mnkeSrdLq35dRbcm2XaKZB2DjmqvzTOGqPKGZR4aKZh4ZJpp5ZJho5hm5+vtshznSbAhITt487d5X0v57O6gJg9mU1ZbSqNX+824mjTQb2d6qa4Wd3LaWfltsXVsyMTP67xZgfDTzADBH5rqZJ1tq1W228t9spdR13LxHM8+JvOyXrln9PSRZoafrmHmOZh6AzdmzujrPVK7KE6vNPJd+5eL//OkHbxDpm0dffO5qPfA9b3lK5/dFkmu/9bGrf0+uvnW58/siySs/8Mz6+eK/l7B59ffZDnNkBpsC0rTxX0uaf2fz9UaaOZg+aYpJw0waePpthdWV/B3IfXLfNHYN01yTRqH236Wk30o/XStCJW8smagZ/HcLMF6aeQCYI3PbzPMD73n6aY08aezpOk408yTN7diyOo/GrzOjmQdgc7I6z5SuyhOvKTn1XigiIjLhsHldv9eEOTKDTQHfX9L+OztoNRVmQ79VbzaaYf5e3FbSdd80BqXZJ/LfnFtX409WiZq4Gfx3C7BxR1bOP/l//a23mWeYxwSAKTV3zTyv+9WbTtsqKf+vkWftzHMzT5q+Lt6/cOrvy9W3LGnk6RPNPADb2reU/L8l/5+SPxdZI//fkvxd+U+N20Ta+YuS/D35q8ZtIu38x5L8PcnrCpt36nNtK8yRGWwK6FqtJU0WWTWF2bYVzTyRlXy6GnUGZeIr8lQz+O8WYHOO3vmxk//XbdhmnjTxHL3zHZp5AJhlc7kyTxp40qCRbZO6vi+nZ56bedL8lZWbsq3Wj3/sWZ3HyIlo5gEAAJha9fNaO8yRGWsK6LeKSpJmDGbbVjXzRJrBfq+k63HaSUNZ/i5umRn7dwuweUdWXtY7eucflP9eefKW0w3TzJP75jGO3vm6k7cAwEya2222ZPjYZkuGiWYeAACAqVU/r7XDHJmxpoBsadT++1qTRgzYrDTpZMWdNAK1V+vJ1ltZxWfLzdi/W4DROHrnH6826hxZufPkLY8Y1MxzZOW6cvsXV2NVHgBmnGYeGRjNPDJMNPMAAABMrfp5rR3miKYAmD3+3QJz6cTqPLVh5/TVdZqNPElTjj3RyHPm/QBgBmnmkYHRzCPDRDMPAADA1Kqf19phjmgKgNnj3y0wt+rqPCfyD0/e2t3MkxV4jt75scbtVuUBYFvQzCMDo5lHholmHgAAgKlVP6+1wxzRFACzx79bYG6dvjpP8gfltitbt2Urrtz2B63brcoDwLagmUcGRjOPDBPNPAAAAFOrfl5rhzmiKQBmj3+3wFw7fXWefqnbaj3ytVV5ANgmNPPIwGjmkWGimQcAAGBq1c9r7TBHNAXA7PHvFphrZ67OM0ysygPAtqGZRwZGM48ME808AAAAU6t+XmuHOaIpAGaPf7fA3BtudZ4aq/IAsK1o5pGB0cwjw0QzDwAAwNSqn9faYY5oCoDZ498tMPfWtzqPVXkA2FY088jAaOaRYaKZBwAAYGrVz2vtMEc0BcDs8e8WoBhudR6r8gCw7WjmkYHRzCPDRDMPAADA1Kqf19phjmgKgNnj3y1AMdzqPFblAWDb0cwjA6OZR4aJZh4AAICpVT+vtcMc0RQAs8e/W4CT1l6dx6o8AGxLmnlkYDTzyDDRzAMAADC16ue1dpgjmgJg9vh3C3DS2qvzWJUHgG1JM48MjGYeGSaaeQAAAKZW/bzWDnNEUwDMHv9uARq6V+exKg8A25ZmHhkYzTwyTDTzAAAATK36ea0d5oimAJg9/t0CNHSvzmNVHgC2Lc08MjCaeWSYaOYBAACYWvXzWjvMEU0BMHv8uwVoOX11HqvyALCtaeaRgdHMI8NEMw8AAMDUqp/X2mGOtJsCRpnFK459y8mngbl246t++3+OK1/59M953QY4fXUeq/IAsK1p5pGB0cwjw0QzDwAAwNSqn9faYY50NeGMKpp54ISuJpxRRTMPwEknVuexKg8A255mHhkYzTwyTDTzAAAATK36ea0d5khXE86oopkHTuhqwhlVNPMAnHRidR6r8gCw7WnmkYHRzCPDRDMPAADA1Kqf19phjnQ14YwqmnnghK4mnFFFMw9Ag1V5AJgDmnlkYDTzyDDRzAMAADC16ue1dpgjabhp5uTNwBTz7xYAAOaXZh4ZGM08Mkw08wAAAEyt+nmtHQAAAACmkGYeGRjNPDJMNPMAAABMrfp5rR0AAAAAppBmHhkYzTwyTDTzAAAATK36ea0dAAAAAKaQZh4ZGM08Mkw08wAAAEyt+nmtHQAAAACmkGYeGRjNPDJMNPMAAABMrfp5rR0AAAAAppBmHhkYzTwyTDTzAAAATK36ea0dAAAAAKaQZh4ZGM08Mkw08wAAAEyt+nmtHQAAAACmkGYeGRjNPDJMNPMAAABMrfp5rR0AAAAAppBmHhkYzTwyTDTzAAAATK36ea0dAAAAAKaQZh4ZGM08Mkw08wAAAEyt+nmtHQAAAACmkGYeGRjNPDJMNPMAAABMrfp5rR0AAAAAppBmHhkYzTwyTDTzAAAATK36ea0dAAAAAKaQZh4ZGM08Mkw08wAAAEyt+nmtHQAAAACmkGYeGRjNPDJMNPMAAABMrfp5rR0AAAAAppBmHhkYzTwyTDTzAAAATK36ea0dAAAAAKaQZh4ZGM08Mkw08wAAAEyt+nmtHQAAAACmkGYeGRjNPDJMNPMAAABMrfp5rR0AAAAAppBmHhkYzTwyTDTzAAAATK36ea0dAAAAAKaQZh4ZGM08Mkw08wAAAEyt+nmtHQAAAACmkGYeGRjNPDJMNPMAAABMrfp5rR0AAAAAppBmHhkYzTwyTDTzAAAATK36ea0dAAAAAKaQZh4ZGM08Mkw08wAAAEyt+nmtHQAAAACm0Gozz6s+8Zz/+dZ/dLtIZ2747q9ZHeR71rc+tvP7Isnf/Oz1dTBYMw8AAMB0qZ/X2gEAAABgCv2/JV2DOSIiG83/rwQAAIDp0fXZLQEAAABgCmnmEZFRRzMPAADAdOn67JYAAAAAMKXOL9kpMiD+nsgwyd8TAAAApktXI08CAAAAAAAAAABMWFcjTwIAAAAAAAAAAExYVyNPAgAAAAAAAAAATFhXI08CAAAAAAAAAABMWFcjTwIAAAAAAAAAAExYVyNPAgAAAAAAAAAATFhXI08CAAAAAAAAAABMWFcjTwIAAAAAAAAAAExYVyNPAgAAAAAAAAAATFhXI08CAAAAAAAAAABMWFcjTwIAAAAAAAAAAExYVyNPAgAAAAAAAAAATFhXI08CAAAAAAAAAABMWFcjTwIAAAAAAAAAE7WjkUdNSer5AExKVyNPAgAAAMMyxgYAAABs3HmPOXL+wtKxux/Jkdc/ksNvmHj23X9jOa2zS84q+YqSOuAAMAldjTwJAAAArO3Iyo+X3L2ah1Zev5oHD75hS/LAHS8vZ5TxNWNsAAAAMGsWl48+f8/+h//ntGTh8nu+s5zW+Tm1kl0l55QYbAAmpauRJwEAAID+jqyc3zt65/+cmjxwx73lrDLGtqdkd0nG2NLUY4wNAAAApl1W4+lqqtmq7LrwFU8rp7Wv5OKS80rS0JMriNLQAzBuXY08CQAAAPT34MHrO5tqtiq/csNPlLPKGNtlJWnqqQ09LpoDAACAabdn+fjRrqaarcji0uE/K6d0Zck3lnxVyeUlaeipVw4BjFtXI08CAAAA/ezoPXTwrs6mmq3KrY+9o5xXxtgeX7JUkoaeXDRndR4AAACYcjsWlx/+Ymdjzb5P/+FZC89/5Vec89gXluNuLbm55KaSG5NdF//MW7rul5y9++nfW465reR5JbeU1Ps995zzXvGqxaX7/6jrfgt7P/o7J497dkmaeh5bkhV6dpZkdR4DDcC4dTXyJAAAANDPjt6RlaOdTTX3Hvij3g9f9freY8/7lnJcxtiaY2U39p61/B2d90teeeXPl2MOlJwxxtZ7wdf8jd5Hbvntzvs9ePCvyjF5royxPaXka0ouLcmWW1bABgAAgCm2Y/e+o1d1NdXsvuxdx8r37yxJI89KSQYNMgBwYrCg17t+4fJ7Ptd138Wle/+4fP/FJblvHiNNPRloyP2uK7n+7IVnf3vXfXdd8sbPlu8fLMngRAYaHleSgYbazAMwbl2NPAkAAAD086jekZUvnNFUk0aeK/Z8V/n+C0qeX5LVcjLGlrGyG1bz41f/7Bn3q7nmsleWY9IElDG2jM9lzCz3u77kut5Xn3+w98Ad//6M+33wpv+tfL9eoHdtyTeUZAXsR5do5gEAAIAptmPP/qN3tRtqsjrOo85efkX5/neUZLDhW0vS0JMrgFYbeUqes7j00L9v3zfZfdm7frt8/+Ul31mS+2aQIgMUuV+uBnpOyXWLSw/+h/Z9zznve95dvvdtJRmgeGbJ15ZkX2/NPMCkdDXyJAAAANDt/tuvPqOhJqvj7N/z0vLdJONsGfNKQ0+98O1EQ87br/vYGfdNPvG8Pynfz+rXLyvJhXMZn0tzzon7nRhnu673Kzc8eMZ9737GkfK97y7J82U875tK9pVkO3vNPAAAADDFduxZPn602UyzuHz0L89aOPhj5XsZYHhJSa78yQBDBgieVpKtr77prJ1XPb15v2Z2XvDDHynHpJknAxRZZSdXC2WVndz3CSXZq/uJi0v3/ZPm/RaXD//1o87al6uN8ry539NLsjLPJSXnlmQ/b4Bx62rkSQAAAKDboYPfe0ZDzc89/Z7ynYyt5YK3/DfjXWmsyRjbk0ueuJpP3fb3z7hv8t7n/kH5/veU5GK7XPiW+2a8LGNsuW9W23li7z3Pff8Z9/2eb3xn+V6aiNIAlHG9jMnlgrlss5UxNs08AAAAMKUetbh8/AvNhprdl73noXJ7BgeagwxZSSeDBI8v2V+ytOuSt7yweb9mztr5pJ8qx6SZJ/fP0r/fXJJ9ua8oyXK+e0v2Lez91Eeb91vY9/F/UW7PAEWuNMpqPk8teWzJRSXnlGjmASahq5EnAQAAgG6HVz5xWjPNp277/XJrttbKqtW5aC5NNWnGyQVvWYn6K0v29W5+zNeV+375tPvWvPqaB8oxWZUn98+K2WkCSlNOxtiyyk6ac/b13vKc7zvjvkuL31e+l2aejLE9q+TrSi4uWSjJGNuOEgAAAGDaPHr/x7+62UyzuHzsL77inMdmL+0MLmSgIftw58qdq0rSVJMmnAtKzl9c+vRPN+/7yGMc/uvy/TTkZKAhTUFpBMqVQkslGTDIvtxZzvf8hb2femvzvrsufcfD5fY0EWWgI0sGX12S5qE859klrhgCJqGrkScBAACAbkdWvnBaM833PTErX2eMqyaNPNeUpJEnY2wZJzu/96ZnPfu0+zVz5+PeVo5JQ07G6bLy9ZNKMkZ34r4nVtk5v/eO6w+edr9P3/b/lNtzn6yanTG2XDCX1a8zxrarJGNsmnkAAABgGi0uHX7Bac00l737Q+XmNPBkNZ7sp51Bgiz5+9UlWR1nsSQr5JyzuHzsWPO+NQuXfyBXHaWRJ8v/Znuu5mDB7pLsyZ2cvbDvgV9s3vfcC37k58vt2WIrVwzVvbwzuJEGIHt5A5PS1ciTAAAAwJnuPXDBac009x74vXLr9SVp4sk4V1bVyRhZVq7OqtUZY9tZcnbvgdtffdp9aw4dzAVzWV0nq/JknO6ZJVk1O/fPGFtdxfqc3kdvueW0+77j+qPl9lxkl1WzM8aWC+ayElDG2LKVvUYeAAAAmFa79372yYtLR39lYd8DH8iWV19x7jekeSfbYiU3l2SQIVcLZdneOsiQQYKz29tz1ey8+O5j5fu5YihX/txUklV9MliQK4Vy/zTk5DG+YmHfZ9/YvO/ZC9dmVZ4MTuT5ry3J8r+XlOS5Lf8LTEpXI08CAAAAbTt6D9zx2N6hg+8u/31v7+PP+0jvx65OE86zS24vubEk21x9Y0lWrs4Fb2moySrUX9E7vHLstEacmo/c8i/L919Rkgvf8jh1O/qsypP758K3jJWd1bv3wI2n3fdHrrq73J6L7HLBXn3u5ZJssZUmIAAAAGCK5UN/GmwuLcnqOVnqNwMM2VorzTTZgzuDDFm2t17ts2P33oeubjbhNHPOed/93nJMVuXJUr65AqkOVOSKoQxSZJAhSVPPzp0XfNcVZ+9+5pO+4twn5DmzJVfd2iv7h2dFIMv/ApPW1ciTAAAAQNupca6SbC2fi9pycVtW0snFcvlv3cK+rlydMbYTY13t7blq3vzsz5Xvp5knY2x1O/o05GScrrkdff57Vu+7vuGK3s2P+brelZc8o/e482sTUd1iKyv6XFaSMbaMBwIAAABTLAMHuZLnwpIrSr6h5JtLMjjwxJIMPmR7rVy1c2qbqz3Lh7+3q5EnOWvnk15TDsnyv1lGOA1BWdkngwUZ0KiDBbWhJ8+dVXfS7JPnTjNRrhbKf/N1Biiyok9d/lczDzAJXY08CQAAALQ1x7kyjpVxrqw2fWVJxtkyxpaL6LI9Vl0Z58R9Dh28qrORJ3nZE95VjvnekoyxZausPE4eo70dfR4rY3wZY8sK19nKKxfJPa0kjUS50C7jfhn/qxfrAQAAAFMsH97zIT5XDWUwIM07GWzIijiPKckAQB1kOHG1ULG4fOwTXY08i0v3fqF8O1cMZYutLOObQYOvKsnyv+3BgjxWriLK1Uh5nlydVAc68t+cS+6XK4bqij4Ak9DVyJMAAABAl4xbZewr42gZ58q4VsbXcpFbxthyoVuacJrjYzt6Dx18fmcjT3LlJa8ux7ysZKUkW3Z9fUnGyvIceYw6Vpb/ZtwuY2hZ+Wd/SS6SSxPPN5VkbC6rcqfRqNkEBDC36gtnXkyTOvlRX1gBACBqjdjMpKRGzYf4NNRkid4MNuwryQBDVuTJh/wMMuSYU+e2uHz8C13NPLsufWuW/315SZb/fV7Jk0sygJCBhObyv1Xq5Dx+BjMyqJArlzLYkf/mXOrz10EOgEnoauRJgK2R+iM1RB1nM8YGAECXWiM2M0kZP8vqPBnnyrhWxtf2lqQBJ7el2abWs5Ettt7Z2cjzyef9m/L97y7JVvbZkj4XzGXFna7t6OvPWpuJ8nxZ7Tqr8TQbibJqdvN+APNlz/7j99XJjMXlY28vN2XSok6ANAccAACYU4vLD3+s1I1/sGf/sc8vLj34wnJT6sUktWPzQ/24pS7Nc9XBhgwGZEneNPfkA35twDlVv553xb0XNBt4mjn3vO+ty//mZ7qp5EklGbTIgEGeo/1z5XHz8+a5M9iQ4zIokSaenENt5FE/A5PU1ciTAJN0ZOX1pyYzDq/8frnFGBsAAKd76OBdpV78g1I7/mHvwYNvKLc0x9jqWNSkasY6zpXnz7hWkvGujLF1jXE9qpz350/VvM284/rfLt9/aUm2sr+lJBfM5QK4jJ3V7eib2s+dVbhz4V6Sc8h98vuY1O8CYPosLh//cp3MKP//F+dc+NNZxqxOSGRyJC+iBhsAAObU7n2/emWzAWbP/qP/tNycD9Vpoqn14iQbWPI8qU/zgb5OktUBj/Z57FhcPvr808//kZy188qfKMdk+d87S64rSS2cK5Hys3X9TPk6yXPleTO4kd9BBhhyDvU+7fsBjFNXI08CTNKRO3/ztAmNj936I+XWC0sygZEJitQLk6yZAACYNkfv/ONT9eKRlS/13nhtxqLqGFttYJnUvGwdw0qNWsfYkjrGlvN4xD03X1jO+4unzr+ZH7ryo+WIrMrz4pLnlmS7rKx+nTHEPGaXPH6epznGVsca6+8BYD4tLh97eXtCY2Hp3veXb+XFNdsGpPsxgw1eMAEA5tSe/UfvateM5174uhvLt+rWUrlyJh+0z/yQP151wKGZth1d558sLH32P5XvZ/nfXDV0e8kzSh5fkkm31MD5Wboes6rPWY9b61iAcepq5EmASXngjsedMaFx6I5/Vr6TrQIuL0l9kYmMTJIYYwMAmEdHVq48o2b8+K1vK9/JFlNbPS9bx7b6j289cMcNZ5x/zZMueU054jtLXlTy7JKvL8nq1xkzzM/TT33O/Lw1a58HwBzYsWf52P1nTGwsH/n35XtXlmQiI28eGWxIN+RaL7QAAGxPO7K1VrtmXNj36cPle08oeWxJJqjS0JOrZtLQM01KzXv8aPv8V3+Gyz/wv5fv1+V/by25puSrSvKzpP4dZuCgHmOAAdhKXY08CTAZO3qHD76hc1LjR698efn+15Vki4E0QWdyJg09agcAgHlzZOXuM+rFwytfLt/5xpKvLtlXkoae6dxi6sGDrzrj/JNDB/+6fPcVJd9ektWvc8Hc40rSoFR/lrU0x9dqAObao5pbbDWz+9I3vbd8/yklGWzIG0eWd8vkjBdPAIA5snvvQ1d31YvJOYs35EqbNIHnw/llObwkk1PTJDXvF7rOf+fFdx8r308zz7eVZKWhJ5VkhUq1LzBruhp5EmAydvQO3/lbnRMbH73lH5fvP63kiSVZpac2DdcrjgEAmA87Sn34yBZbzfzs03+xfP/qkq8tyWo2GZtKE8x0NbYcXjnWef7vv/GflO+mmeclJXeUfHNJmtkvKpnGi/8Aptue/Udf1TWpkSzs+1iuUr6+5Mkl6QQddqsBAAC2kYWlI6/vqheTXZfcfU85JMvmpqHnMSWPLqkDDVNhzWak8172nnJIlv/9lpLrSrJHeRrZp7EpCWAtXY08CTAJhw5c1zmpkTx08L+XI9I0/PSSTM7k6uQ9JZPenhQAgK10/+1Xd9aLyadv+3/KEZmXratGX1CS7amma172yMoXOs//zc/+XPluVqTMGFtWv05jUnZ/ySpDtpkFWK/F/cc+1zWpUXPOnpUfL4c9pyTbJ2TrhEzObMUejQAAbJE9+4/9YVetmCwuH/mrckg+oGfp3ExOXVySK4cyOTUVAw179h/ubGBfXD781486a++PlkOyxdYLSq4tyTazWWHIFrPArGk38dQAk3Bk5Z2dkxo1v3jtA+Wom0quKskqgJmcMakBADBPHlp5fWetWPP0fd9bjspFc9M5L3vo4FWd55287AnvKkfk/DPG9tySrEppbhlgI8674siTuyY1mtl1yRvvL4dmciZdoJZCAwCYM7v3Hb2qq05s5qyFAz9RDs3kVFbnWSqZqituFpePfaLrvBeX7v1C+XaW/80WW1n+96kljy1JQ5KaF5g1XY08CTAJR1f+rHNSo+ajt/7LclTqjazO8zUlWZ1H8zAAwLy498AFfVe1qfmZp32sHPm8kszLZgXs7JoyLWNUO3oPHfyezvNOrrw044MvK1kpeVbJ15dM3UV/ALNgx+Ly0dd1TWo0s7jvvj8txz6/JFcp50rrdFBmSbdMznjRBQDY3nYsLB27u6tObGb3Ze/5fDn29pI0w2QZ4EtKstXWNExOlbr3+Be6znvXpW/N8r9p5vnWkgyUZHtZV8oDs6qrkScBxu3Iygs7JzTaedreHylHZ+uEXKWcLQcWSjI5Y4wNAGB7SyPM8ztrxGYOHfzrcuydJV3zslttR6l7P9553p983r8p308jz0tLDpQ8reRxJdO5VRjAlHvUnv0P/0kmMRb23ftLe5aP/llzYqOZcxZv+5vl+CyH9qSSK0qyp3cmZ/Ki64UXAGCbOu+Key9YXH74j1MTLuz99FvadWJNtqsqh7+oJNuzfkPJvpLdJVvdAL4jP0PXOSfnnve9dfnfF5bcWPJNJXtLLP8LzKKuRp4EGK8dvcMHf211EuOzd/zt3n13/O4Zkxs1b3jG4XJ8VsB+SkkaoLOaockNAIDtL40wR1drwgcP/i8l//aMWrHmyZelAbzfvOxWelT5GT7fec5vetbfKd9PI8+3l9xccnVJdnzJGFtWozSnDDCsxaWjL8oExuLy8b84+7xXPHlh70c+1p7cqNl96Tv+QbnLbSW50loXJQDAnFhcPvr81IOlZvzSOYs3f93i0gO/264Va3ZeeNf7y12m7cN6VqNc/Rm6ctbOK+vyv7niqTYiZVUhy/8Cs6irkScBxuneA1/TO7ryl6uTGB+86a7eW57zs2dMbtTce+DPyz0OltRtB9QdAADz4J6bLyz14BdXa8K3PefO3vtvfM9pdWIz77z+t8o92vOyuWhua+dlT/wM3ef80ie8pxzxXSUvLrmhxEqUABu1Z/nY/ZnAWNz3wCfKl4/ZecErvq09uVGzuHTov5Rj6gTHE0qyp3e6QDPQ4GplAIBtas/y8aOpBxf23fvm8uVjdl/6i323aV24/AP/ezkmW209o+TxJReVbPVAQ99twhaXPp3lf7+7JAMNWf736SVfUzIdAyQA69fVyJMA43T44BtWJzAOr/zf5atMWDyxd+iO/3zGBEfNix//c+WYm0quLFkqyeo8tvcEANjOHjp412otmFV5UgM+6ZJnnlEn1jyy1Va98CzzslvfAP7AHTd0nm/ypEteU474jpKsfp3G9a8rmaYtwgBmw859R/YvLh//ciYxFi79+WwnkK7OJy/s+8QaV1r/5PvKMbeUXFWSgQkDDQAA29h5jznylYvLD38xteCui155TbnpcV9x7hOuW1x66N+3a8Was3Y95QfKcfXqm2nYrmpHbUhqZ+HyD/x++X6W/81AQ+rc/IyPLck5T8PSxQDr1dXIkwDjs6N3eOX3VycwPvW8t5avU0tc1fuVGx48Y4Kj5j03/E455o6SXGmdrbYuLkntkckZAAC2o7o91T03/3D5KitaX9n74E2/cUatWPPjT35vOSbjVVkBe39JLj7LvOzW1YwPHnxV57meaD56Rcm3layU5IK5ry7JKpTqXIB12LFn//G7MoGxuHz475avcwVQuiOv3n3pm3+lPclRs7D3w39YjskywPUFOF2g2TYhkzMAAGwzdUWbxeUjD5cvUzNmK4hrdl/2vkPtWrFm18U/k1UfswxwGmMeU3JhSZbS3aoP7Y9aXD7+ha5z3XnBD3+0fD+r8rykpO5DnsGRXOmUcwaYNV2NPAkwHjt6h29/zuoExpGVvypf58rjrPJ3Ve9vPPGVZ0xy1Dx08L+XY3LF8rNLcqX1vpKsCuiKZQCA7ejQwatW68AjK1/qPe+xWc36RM34qif/zBm1Ys1HbvmX5ZjaGJNFGbZ+XvbwyrHOc33/jf+kfPflJdliq44LXlGSccGtbUACmDE79iw//NuZwFjY+8l0f+bF9BtLsuLONy8uH/2r9kRHzaPOvSpXWl9Xkq22MqFjn0MAgO0pDeB/kBpw4fJ7vrN8nZoxNeBVX3Hu19/YrhNrFpcP12WAry352pItXU53996Hru46z+Qrdj339eWQ/GzfUpIa12QaMOu6GnkSYDx29A7f+eHVCYzP3vFg+TorWaeeyBjb03qfOvAHZ0x01Pytp366HJOttnKlda7MtjIgAMD2tKN3ZOXu1Rrwvtt/sXxdF1nIlqtPLXXkn51RK9Zcc/kPlWMyZpV53NSaW3kBWn6OL3Se593POFy+/70lLyq5uSQ/W8bYzivZyhW7AWbLo/cfuubEBMbxPy1fposzy/9mG4Tkmxb2fuSh9kRHzc6L35CBiSzp9uSS3C9bbWVyJi/CBhsAALaJR5pgjv7T8mWWxK014zeVPGlx6fC/a9eKNWfveUmaZLpWupl4vbhn/+FXdZ3jyaajLP/77SXPL3lmSa6KsvokMMu6GnkSYDwe1Tu6cmLy5Z3Pub18naacTLSkXrqy9/brfvmMiY6aj9z6r8sxuc8zStIAfVFJLpozxgYAsJ3ce+CCUv/98WoN+OqnpMmlXjCXcbYrex+46d7T6sRm/uY3f6ocU7eGz/asmZfNuNWk68Udp1YX6srLnvCucszLSjLGdn1JauKMse0pyao86luAYSzuP/621QmMpUO/Ur5M92eWZssgQ64cevyuC3/0+e3Jjppyn/9Sjsme3rnSOl2j2dM7Aw1eiAEAtpGFpSOvT/23sO/+N5UvcyVNtlnNIMNqzbj70rf9rXatWLP7snf/VjkmS+o+tSS1Zvb0zmo3E5+c2rN8/GjXOS7s+1iWKk4zT7bYSn37zSWZgMtE2lZuCwawGV2NPAkwDg+tvGJ18uLBg9maPqsRpl5KM3MmL7I96df1Hjr4H8+Y7Kh5yde+thxzQ0lqrL0lWZ3HlcsAANvJQwefv1r7PXgw29hfVpIL5lIvZozt63rXXP6UM+rEmkMHczHawZJnlaS+zAV3uWhu0vOyO8rP8T2d55jsW/zBcsx3l9Q55NqsviXjgQAzKyvyrE5gXPamDBZkwiJ7M+ZNI1cipxv0MYtLD/1ee8Kj5uzzvuvucsyNJRmcyMROukCzDYGBBgCAbeC8K+69YHH5+BdKvrT74ldlm4jHlKRmzETTas149sKzn7i4fOzLXfViY6utuj1rBipyJc7EJ6fyc3Sd465L3/q58u3s5Z0ttm4tyRYXWa5YbQvMsq5GngQYh8MHf2118uLTz3tL+SqrEaZeygVzuQAukzRf2fvUbfedMdlR89bn/Fo5Jg3QT1k9VlMxAMD2c2Tl6Grt94GbstV7xp5y4VvG2NLwcqJmvO/2z51RK9a85OteV46pW1dlkYatGLvKFlsf7zy/Tz7v35Tvp5Hnu0rqxX1pcq+7u6SRRzMPwCCLS0dflMmLxeUjf6d8mSuG8oaRN4tMsuQNIxMtly7u++Rr2xMeNbsve9ffK8dkGeBcvZz7ZHWe7OltoAEAYPbtWFw+urpSY/nv8fJ16sN8AM/kVK4YqjXj5YtLD9zfrhVrdl74qveWY+r2rGkYv7BkopNTaUrqOrfk3PO+N8v/Zi/vF5RkS7AMoqQ+dkU8MMu6GnkSYNQeuONxvaMrf7maE1sIZNuDNPGkmSfjbbkA7rLe2559sHPSI7n3wH8ox6QWyZXWuW9qkUx4ZHLGhAcAwKw7snJ+qfu+WP77pd4dX50asS6ykHnZjLelZry894GbfvSMWrHmXTf8ZjkmK9487eR9sjpP5mUnuUX8o8rP8IXO83vTszLnnGae7yhJ01EumMvPmQv7cp7qWoAh7NizfGx1wmVh7yd/uHyd7s008tSkGzSTLNkG4fzF5WN/2Z70SBaXjvy38v0MNDy7JEu6ZRngLJOWgQYAAGZbqRlPbE21sPej316+7qoZUy9esPuSV1/ZrhVrTm5jtVLyjJKs5pNJruzpPamBhlNNSV05a+eVP1GOyV7eOcda16ZJfSuWKgYYla5GngQYrR29wwffsDp58dk7HixfZxImkzJpyEnzcyYvUldknO383gN3/OMzJj1qvv9Jby/HZAXsXGmdBujmpId6BABglj108K7Vmu+BO3LRW3ORhdSMWQk7NWPG2c7rPXjwT8+oFZMTW229qKSugJ3as87LTqZevOfmCzvPLXnpE95TjsiqPC8uqVvIZvxwoSQX9gEwhB2Ly8e/XPIX5f+zbG8GCPJmkcGGdHLmTSQDBpnAWNiz9MDqJE5Xdl74qg+WY24qqdsu6K4EANgGHr18z4WLyw9/MdtTnXveC3KFeWrGNLqkISdfZ1We1Iup//YsLh9d3cK1K2ftuuaHyjHXl9QP8blfPsRPombcsbB05PVd57Ww9Nn/VL6fK4ZeWnKg5Okl+fkyeJKr4bMqj7oWmEVdjTwJMFo7eofv/K3VyYsP3Zx6oo6xpZknkzNphj6vJLXP7t4nb33bGZMeNe++4X8tx2Q7glxpnckd9QgAwPaQrak+f6Lme252PMnYWGrFzMtmHCpNOdmKKmNsC71P3fahM2rFmh+7+v3lmKx6kxWws2p2VpbORXOpF8dfMx664wWd55Vcv//15YhsIZaGo1ww11xxcpKrBwHMrj37j9+VyYvFpUMfK19mEiYv9hloyEBBBh3S/ZkX1rz4n7vr8l95QXvio2b33g//03JMnfjIm06uNEoXqIEGAIAZtmf/0dWacWHfA79YvswH79SMueonNeP+ktR9qRdXs7D3wz/SrhVrdl38tz5Vjrm15CklaQSqe2VPomZ8VBqSus5rcenTdS/vDDTk/K4pmfxACMDodTXyJMAoHTpw3erExeGV/7t8ldUHa72UyZna/JwrkVP35OK3C3tHVv7qjImP5MGD/6N8/86SeqV17psJnawUaNtPAIBZdejgVav13uGVzKlmDjaLI2ReNo08qR9TRz5SM77o8Y89o1as+fAt/6ock622nlmSmjOLNkxuXvahldd3nlfypEteU47I6t6pabNCd8YQ87NNeiswgNm1uP/Y5zJ5sWvve/Nimu7PrMaTQYIMMmSrrEyu5ErpLMuWF9dHLy4f+dftyY+aR5179SvKMXW5tEz0ZPIj9zPQAAAwo/bsP/b51Hq7LntvBghqzZiBhgwypObLVeapGVfrxnPPe/FXtuvEmsXlw1kG+GDJs0qyuk/29J7INla79z50ddc5JYtLn/qTckiaeTLQkNUm67YWk1w5CGAcuhp5EmCUjqy8c3Xi4v7b31e+yio8mbDI+FgmZlJTZHIlDcKpKzJWtqd334EjZ0x81Lz2aZ8sx6TB+OqSNE9ndZ6MzxljAwCYVUdW7l6t9e67vXnBXMbHMtaWMbd6wVydm31076GDf3JGrVjzlMt/oByTedlvKsm87mTmZe89cEH5Wb7QeU7J3oUfLUe9pCRjid9cki1nUw/n58oYIABr2bX068snJi+O/2n5MpMoeSHNAEPeNOqejJm8yIt+vfJnYWHfvb/Unvyo2XXxz368HPO8klzJnMfIm44XZgCAGXXeFQ889kStdzRXDNWaMZNTqRnrSo7NmjFZXFw6dF+7Vqw5a9dTfrAcUxtmMtmVBvKxDjScd8W9FywuHzvWdT5JmozO2nnlq8uh31ZyY0mzmcfWscAs62rkSYBROrLyR6sTF7/87ExYpF7KqtXfWFIvmEvzc71YLjXP7tXtuNoTHzUfvOn3yzErJc0rmTOxk/sDADCLjqz84Wqt95pvflL5Ks07qRUzxpb6Masxphmn1owZY9vd+8gtrzyjVqz56ad+ohyT7VknOS+7o/fQwbs6z6fmh678aDkuzTzZSkwzD8B6LS4ffd3qxMXSg3lBzaBCGnky0FD38W5veZCce85Fr/u69uRHzeK++9IYlFV+sqRbHitvPAYaAABm046FpWN3p85rbLGVK4Vq3diuGWt2Lez98He0a8Wa3Ze95/PlmHyYf2pJBi3SEDSWD/O79/3qlSe2CTv+B13n0ky22tp54V3vP3vhWd9R7ppBlTTzZEsLzTzALOtq5EmAUTmy8sLVSYsTW2ylXkrzTcbXsvp1Ji5S62S7hNQ6dZwttc9i78GDf3zG5EfN0/b+SDnm+pI0BaXuymPkfuoSAIBZU7fYeujgb5Wv6gVzGWdL3Vi3sa81Y60bz+294onLZ9SJNYcOZgXszMteW5LHSS2acbo0BI3WkZXzy7k/v/z3xIqUayXnlUaj7/qGv1numa32241G6lmANezYs/zwP8+kxckttvIm8XUlmZTJG0de7JtXIdcX1bz4715cPvQP2pMfNecs3pZ9EOuSbnlcWxMAAMymHXv2H/vD1Hg7L37rs8vXuWIoAwNp5knNmMbtZq1Xk68XFpeP/mm7VkxObrX1wpI8Zq4+SmN5HWgYWc143mOOnN/1/MNk12Xv+WB5iEzE5aqhDKSMdeUggDHqauRJgNHY0Tt88P7VSYsTW2ylXsoYW02+bl8wF6l7dvU+fdsHz5j8qHnDMw6XY7LVVq60TgN01+MAADD9dvTO3GIr405JxtnqFllZIKHWesmJmvEzB07Um1158mU/XI55bkkuTBvfvOzRO/tvEbtWPnbrb5Z752fMz5wxtsw9q2cB+nn0/kPXnJioWN1iK8v0pvszVwvlxbReMdQ1oZJuyXMX9n7sR9sTHjW7L33HPyjHZKutLJuWSR4DDQAAM2j33oeuPlHjndpiK1fRZFIqAw11W9ZaMzal8WXnwr77P9iuFWuyAk45JlttXVWSx2qugDOSmnH3vqNXLS4//MUTOf6lEzn25ZK/WFw++peLy0f+Ko1Fq1k6/N9O/X+5fedFr8mVQ7XRKPVszi0/l3oWmDVdjTwJMBo7ekdX/mx1ouKRLbaykk5qpjpp0TWhkjG2c3p/62lXnzHhUXPvgT8vxxwseVZJ6pLUY3ksVzMDAMyWUjPeeWJFxke22MoFcxlje2xJ5mqbqzDWWu9Ezfi+G7/rtDqxmXfdkGaZzMtmBew83gUlo5+XPXH+X+wdWfnSag6vfLn30Mpf9B46+Je9Bw/+1epqPO3k9vc897Pl3qmPswJ2xth2l7hoDqCfxf3H35ZJlIV996X7c19Jmm7SzJMX+byB5IW+Tlg05YU1kzXnLy4f/4v2pEyyuHTov5TvZ0/vXGn9DSV5A8rkTN5wvDADAMyIhaUjr099t7Dv/jeVL9PUksGF1He5MrxusZVBhtR5TasDDbsvec2T2rVizcLeD/6TcsyBkqeXZKIrS+3mw/woBxryODmXDGDkXOuV8mk6zxVLmRz7tpLvLHlZSbbXenFJ9hrPpFkGVzIhl4mznFt7QAVgFnQ18iTAKDy08orVSZQHD/6j8lUadzLG9sSSTM7UOqKr+Tk1T8bd9vQ+e/B/PTUZ086LH/+z5ZgbS64sqfVXHssYGwDArMj2VKntHjz4cPmqLrKQMbbMy6bJJStDZ1We9oVktWZ8dHmMPzmjVkzSNHNiq63nlNR52XE0gK+O95WcV5LVunPuuUgvz5um9m8p+a6TeWnJt5Zkvvi6kqtLcnzOLSsQdY0nAlDsyIo8q5Mol70p22HlSuhMoKQrMhMzGXjIC2nXwECdEFlY3PfAJ9qTMjXnnv+DbyvH3FySF/G6nLCBBgCAGbK4fPwLqe12X/yq1HRZpjeTU7kqPAMOtWG760qaOtCwZ3H52J+0a8Was3Z98/eXY64vSR1aa9Cux9uoeh4ZwMhEWmrdTIQ9s+SWkgw0vKgkgw1p4sn/v6AkVzPlvLKlRSbi0vzeXuoYYFZ0NfIkwCgcPvhrq5Mon37eW8pXqZcyxpat5/Pf5gVz7cmK1BOpK3b1Pnnba8+YlKl5x/VZAfv2klxpnVomKyN2PR4AANPqyMrR1druQzfnQrKMM6WuqxfM5et+F8zVmnGhd9+B959RK9bc9eT3lGOa87KpQTMvO6qaMeeRMbaMjaXxKA1IWSQiF+nlgrmMsT2/JA08Nfk6t2cu+mkl+Xlzbrmgr6txCWDu7Vi44uiNqxMoy8f+Zfm6XjGUSYq8iNbtEjLh0TWRcmqgYdfe96+0J2RqFi5/3++UY/ICnRfnPH4mT7pW+gEAYAotLh99/mptt3z0t8qXadzJ4EImpdLMk4mqupJOBgXaH7xP1YwL+z72ynatWLPr4td+vByTxpknl2QQII85yitzcg55rCxTnMfOeafuTUNPJsTS1JOrh3KFUJp38t+sLpkaNufUbFxKfZx6No9poAGYJV2NPAkwCkdX/vLkBEpW/ku9lFojK/Pk/zPuliuXuyZSUk8kqS/29I6s/NUZkzLJA7d/sXw/zcapUVKbZLInNVgeEwCAaXfvgQtKXXdie6o7H5c507rIQpphBl0wFydqxpc9Yf8ZtWLN+2/6vXJMVqBuzsvWhplRyDnksVK7pvEoK3jneVL35mK4jLGlXs3YWk2+zu35fq2Ps6JP6uOM/+XxjLEBNOzYs3zs/kyeLC4d+pXydZbnzVYDSQYE6io6Wf43gwxdkxX5Oi+yC+Wx/l17UubEYx/5b48696pcaZ0X67wZNQcavDADAEy3HYvLxz+euu7kFlup5R5/Mpmgqls8tGvGZnLbzp0XvGx/u1asWVg69B/LMVkGOB/s89j5QN+1DcVG5TxyfnnMugRwBkwy2FDr3zS0J6lZ6//nZ8ygSo7N4ESuZqrbbGnmAWZNVyNPAmzWkZXXr06ePHjwD8tXqZdSQ6S+yKqDmZhpXzDXriHydeqeXb0Hbv+7Z0zK1Nz15A+WY24qyZXWqU8y2ZOJFDUJAMB029HaYqsuspBxsNSNdYutXIjWrBnbWZ2X7bvVVvKUy3+wHFPnZTN2l8fM/UYh55AxtjxeatE0C+U5mhf/1fG1mnyd2/P9HJd6OT9r6uPa7J7HBeCkRy0uH//y6uTJvnt/adclb/vBXRe/4a5dF/5gthbIC2quVs5kRV5I84KcF9O8ebSzc/e+j9y+uHT4d9uTMjW7Ln7tJ8txWdItVzU/tqRuTVDfeAAAmELnXXHvBYvLD38xNd3Oi9+clWsysNBsckmDSz64p7arzTxdWR1oWHurrSf/cDkmy+1mO4rUorUOHUW9mMeo55GGntSjGTTIFU8ZPMnPkWQwoSZf53s5JsemaakOfhhkAGZRVyNPAmzOjt6RO39zdeLks3f87d67bnhN783P/rne3c+4q3wvVx5nLCyTHKk/0niTWqJzjK334Ztu7t134MgZEzI1H7jxD8pxB0qyjUEmfuoKialz1CYAANOr1Iwnt9j6zIFcMJdFFeoiC0ldZCG1XWrDfuNsJxrAP33bB8+oFWt++qntedlc2FbnZUch55Hzy2NmXDDzyal3c/FcvzG2JN/PcXWMLbVx/TkBqBaXj728axJlHNm9955/Vp4yW23lSutM/GQyxEADAMCUO7XFVkmpH7+8Z/nBf7m4dP/vLS595u8tLt33dxeXPvu5xaWH7l1cOvzpcuwn+yVbdO1ZPvK/lP//02ad2MyuS9/2G+Ups9VWtqZ4XEkGAtJ4M6qaMY+Rx8qASAY+MmCQQYc8R7/k+0lz4k0NC8yqrkaeBNiMew98Teckyjjy4MH/UZ7x+SXZFjSr/qTxOE1CtUYBAGAa3XPzhaWe++JqTZdttg7d8S9KHfl7vU/d9vd7n77t7/U+c+Bv9+67/b7eA3fcW2q+T/UeOvjJPjle8lvlmH9+Wp3YzH0H/lN5xjovm0ahrBKZ5plRjmnlcdKIkzG2jJnVMbSu8bWaeowxNoC1LO4/9rmuSZRx5Zw9t/9kedrnluRK63RfpgvUQAMAwBTbs3z8aFdtN44sLh/+6/KU2WorKwBl9Z+siJPVeUa5Ck4eJ/VnHjNJPTpM6vEGGYBZ1tXIkwCbcWTlnZ2TKOPKLzzzUHnWW0typXVWTczqPHXlQAAAptGDB1/VWduNKye22rqx5EklWR1nHPOyzXG29ljaWjHGBtDPzn1H9tdJk4Wlz7yv3JTVcq4pyVU9zyrJUr3ZezuTKFmyN3s2Zg/DruR7uXL6CQt7P/TJ5oRMMzsv/vkMNGQZ4KeUZK/wrM5joAEAYEqd95gj59ctthaXHrh/4fL3vnHhsne8ddcld79x1yU//4bdl/7i6xYuf/ebFva+/+dLHfj68v1XLVz+/rva2X3ZO1+++9JffsXC5e/5id2X3/Mri8uH/nW7Vqw59/zvf0t56iwDnFo0ywtndZ5c4TPKgQaAedXVyJMAG5ftEv5odcLk0MHf6X3nN2TL0KtLMsaWBuWMs2XMLavo5KrojKH1G2erY2zf0HvTs+4+Y0Km5iO3/qtyTBqgn1GSbU/TAJ0rnDMxAgDANDqy8vnVWu7Bg/9H7+PP+0jvl697S+91T/+F3uuf8Ybezz/z7t47rn9z7z3P/YXe+298Q+/dz31V+f+7zsjbr3v5avL9D938rt5nDvzuGbVizVue8+vlWTMvmxWws9VWVucxLwsw5XYsLh99XSZLFpeP/0X5OlfwZP/up5Y0m3lydU9uf0JJ3a8xTT/t5PavL/mmr9h90/PaEzI1i8uH/nM5JssAX1uS+2UZ4CyplskZAACmzMLSsbtP1HHHv3T2wvWpCTMJlZoxk1RdNWMawVMXJrV+rMlt+f6VOy/6mVe3a8Wa3Ze9+zfLMQdLnlaSCa3so133zwZgc7oaeRJgY9LI88JTEybvuuEV5bbUO5kwSb10XUnGwfJ1rohOLVXrpPb4WlLrptRWV/UeuONPT5uQaeZbH/+6ckzG8XJsGqCzmmEmZ1zdDAAwbQ4dvOpUHfemZ72w3JKary6y8OyS1IxZDKHWjGuNsSW5/Zt6T7joutNqxGYOHcwK2HmuPH6Oz64pdV5WzQgwpXbs2f/wn6xOmCwdOly+ziRJJmFyNU9zYiZvIleW5I0jW2NlcKBf8v0c++SFfZ/6x80JmWbOPu/bf6Eck6228phpItpTkskZbxoAANOl1IzH/yA13MLSZ99fvs4VPKn30mSTianUjhlkyG3NRp7mwELX5FQGJK5cXDr8Z+1aMTm51daLSvIcedylkt0lGsABNq+rkScBNmZH7/DBX1udLDm88h/K11mJOrVR6qRsaVCbedIMndV68r1BY2zJ6hhb773PfeCMSZmaNz/7N8ox2Wor9VhW9Tm/JJMztisAAJguaQA/seriQwf/Wfm6LrKQhu/Ui88sqfVixs0yHrbWGFtNjvum3j03/+oZtWLNK574tnLMTSVZAfsxJc15WTUjwLRZXD728jpZsnD5PXeVm/KCnw/+edPI5Exze60MBmTiJoMRg5JjH7f70rf+XHNCppndl77jH5RjbivJm1KWDc62CZmcMdAAADBFFpePPv9UDXfZe15WbkptmJoxTd9p/k49l7oxgw/NAYb2wELuV5Ovc+w37r78ns8068Rmdl744x8ox2SrrTScp858dIkGcIDN62rkSYCNuPfA15yaKLnvwJFyS7a8Sv2SOimTMrlQLrVSaqS6tdYw42yrY2y9Fz7+eadNxjRz74E/L8dkNcPUZRnHy1ZbmZzJaoa2JwUAmBb3Hrig1G9fXK3h7juQC+ZS66VxJ3OyWTUn/83XafpuXiy31hhbkmO+ofczT33VaXViM++8/rfKMdlqK+N5qVUvLDEvCzCt9iwfuz+TJI0ttvLGUDs+80aRJptcAX1ZSfZPvGjI5NgMHFyxuHzsL9uTMqvPuXTov5TvZ0/veqV1js8ywBlo8KYBADAl9iwfP7pavy0f/9I5izfUgYQ082SCKnVjbsvgQ67qSe2Y7OuTLONb/z/bQOw/a9dTrmnXijULez/4T8oxt5dkEiyDFak1F0oMNABsTlcjTwJsxOGDbzg1UXJii63USxljSxNP6qVMsGTsLbVQtg7N2NkwY211jG1/7747fve0CZlmXvz4nyvHpAE6DdapsbI6T1Yz1MwDADAtHjr4/FP12y89+wXlljTiZHwtNWOS1XjS+J2m7tR0g8bYanJcjn9c78GD//a0OrHmxFZbzy/JvGye5/KSXDR3VomaEWCa7Fr69eXF5eNfXp0oWfpsrhhK405dyi2NPOnKzIt/VszJi3kmTYZNmnJyBdDFe5YeWJ386crOC3/yfeWYW0oyqLG/JM9loAEAYEqcd8W9FywuP/zF1G6Lyw/+erkpTTtpxE4zT2rGNNikjstEU60bUwcOkxx7Xslli8tH/7RdK9actespP1COyfaseb4MUBhoANi8rkaeBNiIwyu/vzpJcmKLray4kwmSNPNkm6w09qTpOfVSmmwybpZ0jam1U8fYLup9/Na3nzEpU/OeG36nHHNHSa7mzgRQGoaymmFqJgAApsGRlaOrtdvhlX9Tvkqjd71gLjVjLpZLE0/quI2OsV3S++Rt95xRK9b8+NWZl832rGkgyvNndZ5zSrLQAgDTYs/+43fVCZKFyz/wE+WmTMrkzSLNPHnzSAdnXsR3lqTBJi/k60kGC3bv2vveO5uTMc0sXP6+DDRkGeAs6ZZmojrQkPsDALC1dpy+xda7vrfcluadNIDnQ3+dmKorLGZp3tSOqeeGSY7dVXL+4r6Pv7ZZJzaz6+Kf+UQ5JtuzZnAjgxq5St1AA8DmdDXyJMB6Hb79OacmSD5z4Gi5JavwZIwtjTVp6klzT8a8UivVGmY9yRhbaqbzeodX/vq0CZmaB27/Yvn+i0qeU5KJoFytnefLmJ7VDAEAttqJLbZO1G6fvu2D5ZbMi6ZWzHhX/psL6LJaTppz0tS93jG25NG9V11z1Wl1YjPvv+n3yjGZl31GSRZ1yM4suZ8GcIApsmNx/7HPZXLk5BZbGVTIIEOW4s3ETH0BTydnbeTJB/9hk6ukk7yBLO5ZPvbv2pMyq8+9dOS/Percq76/HFO32spKQHmDysAGAABba0dzi62zF56dJp4kdWNWVsygQ7tmTA3YVR92JcfmPjt3XfiK5XatWLOwdOg/lmOyDPC1JWkmysBGJrRMTgFsXFcjTwKsz47ekZV3npogeft1GedKvZRaqV4wV1e+znhXJkraNdFaqWNsue/u3gO3/93TJmSauevJmRS6qSTPnQbo1GiZnKmPBQDA1tjRe+jgXafqtrdf9/JyWxqwM8aWZp40g6dmzCqOtWZczxhbUmvGhfJcf3JandjMNZf/UDmmbrXVnJfNYwCw1Xbu/ewVpyZITmyxleaduod33jjS3JNVeXIFT32z2Ii82excWLrvvc0JmWZ2XfzaT5Zjsqd3mojyvFkGrg40AACwRR69fM+FrS220ryT5u/Ui9nyKpNEqRnzob/dyDOMemyacnYtLh36jXatWHPWrmteWY65oSTPm2WAc5VSGsfX83wAPKKrkScB1mdH78id/9fqxMiJLbZSL2WMK8lYW8bc6iqG9WK5jch9z+l9+JYfO2NCpuYDN/5hOeb2klxp/fiSUYztAQCweWkA//xqzXZk5Uu9Zy49qdyWZJytXjCXmjHjXe1GnmHUY3Pfc3sfveW1Z9SKNT/91MzL3lKSWjWrAaWBKBfNqRkBpsHC0pG768TI7svf/+pyU7o/c7VQ3jSyQk622BrF1TsZaDh74bK3XtecjGlm9957/lk5JgMNzyzJldbZPzwTQt40AAC20J79h191qma77J25YihXCaVmTDNPu2bcTO22Ojm1sPejP9ysE5vZdenbfqMc87ySPP9Xl+TqdgMNABvX1ciTAOtxZOWFpyZGHtliK/VKmnnqBXOpWzbbVJP7ZnImW239h9MmZGoePPg/yvezmuH1JVkdKKsZplarTdcAAGyF+2+/+lTN9pkD95dbxrXIwoma8du//jGn1YnN3HfgP5Vj7ijJCtipXeu87GYazwEYkWyX8C8yKXJyi61MhuQK56eX5A0jV+7kw/4o9tXOffPiv2dx+ci/bk/K1Dzq3Ku/rxzz3JKcx96SDDTUzlMAALbAnv3HPp9aLVts7Tz/O55Vbsryu08tyZVDqRlTt41iKd7VgYadF3zXI6tHtrK4fPivyzErJc8uSSN6vVrJ5BTAxnQ18iTAehw+eP+piZG3PucHyi1posnKOGnmSe2U5ufmioIbVcfYFnr33374tAmZZl77tFxpnQboPH9WM0wjUcb31EsAAFvloZXXn6rXTmyxla1Yx7HIQq0ZF3sP3PHrp9WJzTzl8h8sx9xYkjG+fSVZnce8LMAW23HeFUeefGpiZOmBXDGUN4y8WTytJAMO6f5MF2YGGfLCvRl508gL/+6FfZ95U3NCppldF//sJ8oxt5VkX8hs13BRSSaF8oYDAMCE7d539Kpaq2X7q3JTVlBM43cawFMzZhneS0oyyDCKmnF1cmpx6cHPNOvEZs7a9ZQMNGR71tSuGeTIQIPJKYCN6WrkSYD1OLryZ6sTIie22Eqzc+qlNPN0XTC3GXWMbWfvI7d+5xkTMjUfvOn3yzF3luQccsX3Zav32Xy9BgDARh1Z+cJqrZYttp6xL3VixtbGtchCasZdvY/e+kNn1Io1P/3UzMtm15Q0FGVe2LwswBTYsWf52IfqhMjC3g+9odyWrstcrZNmnlzlPOqJkbxxnLu49z3XNidjmlncd9+flmOyDHCWdMtEkYEGAICts2Nh6dipbVkX9t5zd7ktV5Zn6d+szJOacX9JrvQexQf9U5NTC3s/+u3NOrGZ3Ze9+zfLMVkGOHVrVpdMM9EoGtAB5lFXI08CDOuhlVefmhC578DfL7ekXsoYW7aSz+rTzQvmRjExkpoptddC7/DBPz9tQqaZp+39kXJM3Wor43yjWEkRAICNePDg9afqtPtvzwVz2doqTTztRRZGNS96omb8/ictnVYjNnPoYFbAfkFJVuLO+WT17Wxnv9kGdAA24VGLy8e/XCdEzlp8YV6ksydjklVx0v2ZRppRb1mQF//da221dc7iba8px9xQksGOTA4tlhhoAACYvB2Lyw//ca3Tdp7/7dnaKqvhZHIqV+yk+TpXDI1ya9TVgYZdF71y3+LysVP1ajMnt9p6UclzStJQlGWAR3HVEsA86mrkSYDh7OgdufM3T02IvO/GXyy3pfE542u5ynocF8xFaq+dvfsOHDltQqaZNzzjcDnm1pKcS1ZTzDlkcibnoGYCAJicUjOufPxUnfaW53xfuS3zoO1FFkZ1wVx1sma8/b7T6sRmnnxZGsCfW5JFH7I96yi2hgVgo/bsP37XqQmRE1ts5U0iAwz5cJ8Bh3zAv7AkkyKj/ICfN59zF/bd+0vNCZlmdl78+ofKMdnTOxNEudLaQAMAwBZYXD76/FqjNbbYSr2YBvDUjKnVsvxurvJOnTeqWm11oGFx6YH7m3ViM2fvefHPl2NuKklzUbZnHcV+4gDzqKuRJwGGcejAdacmQk5ssZUrmjMhk1UMk7rydL1gblR1SsbJzu596OaXnjYZ08xHbv3X5ZiDJfVK61zpPeq6DQCAQe65+cJSn31xtUbLFltP25txtTTytBdZGOUFc5G675zeR2555Wl1YjOv+eZPl2NuK0nt+riSNBSNen4YgGEtLh//R3UiZPdl7/2pclO6P7P0b940spRbOi/HMSGyOtCwePnbn9OcjGlmcd9n/m05pg40fH1Jtk3I6jx5wxnVmxcAAAPsWT5+tNZou/d+7JfLTdky4hklqRlztc5jSs4rSc04yg/4qwMNC5ff853NOrGZ3Ze9+7fKMQdK0pD+NSXjaEQHmAddjTwJMIzDd3741ETIvbcdK7dkXC1jbJkMGecFc3ms1EyPXm0iak7INPP0fa8sx9xYki0cspphLpob5QQRAACDPHTwrlP12YkttjL/mQbwrkUWRtl4nZrvrN7LnrD/tBqxmRNbbd1ZUlfAvrSkzssaYwOYpPOuOPLkOgmyuHz8L8pNuTIn3Z/ZNiH/zRtIPtyPYx/tPFZe/BfX3mrrQBqMcqV1BhqWSka9FDEAAGs47zFHvnJx+eEvpjYrNeOXzj3vxdeVm1ObZXIqgwypGVOn5cN9XXp3pAMNOy942f52nVhzcqut55fkvNJkNI6rlwDmQVcjTwIMtqN3dOXPTk2EvOlZaZxJnZSJkKw4nYvn6gVzo96qII+Vmmd374HbHzptQqaZn3/mg+WY20tyPo8tyaqKo9y6AQCAQY6sfP5UffbmZ/+NcksawOsFc+1FFlLjjapuzOOk7lvoHTr426fVic1cc/kPlWNuLskK2OPYIhaAIezYs3zs1HYFi0v3HS+35arqfKDPSjiZoMl2Cem6zBtGJkNGqQ407FrY95k3NSdkmtl16VsfLsdkoCFXMWWgIcsAZ9Bj1OcDAECHhaVjd9fabHHps58rN6VhJgMMtWbMsrupGbMdaj7cj3pyKgMNuxeXHvxMs05sZueFd72vHHNrSSbN9peMel9xgHnQ1ciTAGvb0Tuy8vpTEyCHD/55uS31UsbY0mycuikX0O0tqRfMjVLqpWRn72O3fsdpkzHNfOJ5f1yOeUFJ3Wor51PrNwAAxu3Bg9efqs0Or3y5d83ldTWe1Gf5b7tmHPUYW+Zld/Y+fusPnlYnNvOuG36zHJNdU7JaUFYJqvOyxtgAJmXnviOnXd2885LXvbTcnEGGbE9wbUkGHcY9EZI3jnMX977n2ua5NLO4fOg/l2NeWNIcaMjScqOeKAIAoOW8K+69YHH54T+utdmuS9/8A+XmDC6k0Tor89QrhrL87zhqxlMDDQt7P/rtzTqxmYW9H/q9ckwGGlLL1uaicTSkA2xnXY08CbC2Hb0jd/5fpyZAPnbrR8ttWfE6dUmaeXJVcyZCsn38uOqT1EwZK9u92kzUnJBp5kVf8/pyzHNLckFfarg9JaNeKQgAgDOlAfzoqbrsMwf+drktqzemoSfzsqnPJlEzntN75VX7TqsRmzmx1daLSrLCZN3Bpc7LAjAJi/uPv+3UBMjysX9XbkrzTiZkMtCQbss0zkxii4LVgYa1tto69/wf+OVyTN3T+zEldXm5vOkYbAAAGJM9y0e/p9Zki8vHvnzWrifX5u8kSwDnQ32arcdZM64ONOy66JX7mjViO2ftuibLANettrLt1ziuYgLYzroaeRJgLQ+tvOK0CZCfvOa7yq2plTLOVi+YyxYF4145MLXYub37Dhw57Xya+eXr/2E55raSNGanAToN2ZmcSQ2nZgIAGJcH7njsaXXZG6/9wXJrGnkyJ5u6cRKLLERqxp3lfH79tPNp5kev/kA55qaSNKV/Zck4tooFoEtW5VlcPv7lOvGxuPdT95Wbc4V1Jj/qvozZYmsSH+jzZnTuwr57f6k5GdPMwt5P/J/lmAw05A3ta0oMNAAAjNl5jzly/p79x/6w1mSLSw/kiqFcJZQVEzNBlQGH1GZZbnexJHXduGqz1YGGxaVD9zXrxGZ2XvzzD5ZjbilJLZsrmbKnd7aOUDMCDKerkScB1nJ45fdPTXwcOviFcksuRssYWxp5UjN9bUlWDcwqOOO8YC6Pe3bvQze/9LTJmGYePPg/es/Yl5UWc6X1E0pyIV/Oa5x1HAAAR1beeaomyxZbV1+aOc/MyaZeTKN1Flm4vGTciyyk7jun95FbXnlandjMJ5/3b8oxt5fk3B5fclFJLppTMwKM2aMW9x/7XHPiY/elb/25cnveNLLMbl6Y6wo455VkBZxxToDkhf/s3Zd/5KXNc2rn3PNf+ZZy3PUl2cohV3/n3LKqT+4PAMCI7dl/9K5mPbb7srf/dLk5DTw3lKRmrFfnTKJpZnWgYWHfx17ZPKdmFpcP//XZu5/28nJcJs4yAJJlicfdZASwnXQ18iRAt2yV8MikzImJj18rt2cyJitMpyZJ7VRXwKkTIONs5snEz6NPO6d23nnD3y/HpAE6W4E1t0vNfVMzqZsAAEbp0MGrSh32xVP12L0H/k65NeNq7UUWJtE0c6JmfNkT9p86n658/zf9UjkuY4Dtedlx1bIAc6t+EN+xZ/nY/e2Jj92Xf+DT5XvPLskH+UzM5MqcbE2QyY8sm1YnZkb9xpHHW33TWLj849/ZPq9mFvfd96eP2vnNLy3HZhDksSW5ArzuGTnq8wIAmFerNd/uvQ9dvbj88Beb9dg5e247UL6XZX8zOZVG8Lr8b67mHlcD+Or5lGQQ4+zdl73v9uY5tbO47xP/vBxXlwHO5FQGQVLP1sEGdSNAf12NPAnwiFqb7OgdPviGMyY97jvwr8r3sorhrSVp5qnNz5n8SPNzbeZ55HFGI4+Tx83jL5xxXs08dPC/937oykzOpK7Llda5AjwrYKehp3luAABs3Ima6p6bL+wdWfn8afXYO65/c/leXWQhzTxZZGHcF8zVGi+PnbnVPaedUzsPHvyr3mPP+5ZyXLbczwrYWWmyq2Yc9XkCbHv1xfhRC/sOfWuyuHzklxeXj/+jrkmPZHHpgS8s7P3Qb+6+/H2fWdj7kY/tuvSXfyCr5Szs/eR3lMfJ5EydBKlLu230xXnH4tLRF9Xz2rP80KsXlw+/Y8/+Y/+267yaWVw68t8W9n3yf9t9+fvfs/vin8pkUvaNTMNR3jjqKj3jeIMDANjO6gfv1SwsHb2+1I1faNdiuy65+43l+7li6OaSuvxvrszJFUPjmPypj5XH/YrFy994ycLSg+9tn1c7i0uH/nz35R+8f9clb3xluV/OL/VibQJXKwL019XIk8C8O1GPPHTwRb1DB7+vd3jlXeX/f71z0iM5dMd/6X38ef9H7/03/WrvnluO9N534y/2PnzLj5Xbfrj3y9fnArqMsY1iLCsrA71w9Zw+e8ffKPmp3oMrH+09ePAPO8+rnU/f9n+unt+bn/1D5bFy0Vy2dEjNlHNL3ZRzq/UYAACD1drpRE408hw9ow778C0Pl+83F1nIBXPLJblgbhyLLNTHWh1j673tORf3PnbrS844r6588KbfWG0+un5/6tjaoF5rxVGfJ8D2tmf/w3/SntAYSZYPHyoPn47L2tRTP9APZc/yw/+883E3k+Vj/27P0qHDi0sPvKY8Rd486mCDSRoAgDXs3verV55o2jn6/FLnfe+e/Ydftbh87F179h/7w8Xl41/qrL1KFvZ+7B/tvvyDf2fXpe/68O5L3/a3dl3ypm/Zffk9ty1e/ktfXx62Tkq1P9APLVt7LS7/6jvKOXy8nMvncz7ltn+61jkNyuLSod9Y2Hfvm3dd+IoMitQriNSMAGfqauRJYD4dWfnVzgmNzebIyr8vj55m6GbjzPB1yZGV+zofdzM5svJXvUMHf6f3wB3v7b31OZlMao7/qZkAAPo5svKVvQcPXt976ODze4fueEH5/1etNn8fXvnNUmc9srVWO/ce+KPee2/8u71fvu4jvTc967W9u5/x4t67n3t7743XfkN51E2PsZXzuq48zzvKfz9e8vnV8zmy8oclXyj50hnnM0weuON3ep858IHe656eejH1bLtmBKCfhSuOP3dx+fiXuyYxNpvFpcO/W54iS6jV1XAy4DD0i/O4zqumPEWuIMryc/XK8JybgQYAgJZSl93ZVU+NIotL9/2N8hQbmphKg1HXY44qi8vH/qQ8TbOW1dADcLp2E08NzKejK3/WOYkxipzY2irbgWY1nHp183ATIEfuzMRQ9+OOIh+6+cfLszRrpkzQqJkAALqs1bCzmaT55pExttowM3w9dvTOPz7jMUeZVz8lW4NlJaHUsus/P4A5lBfJfPhPJ2QGAy4pWSp5bMnjSrIVwjeVXFOS/buzfNudJS8peXHJt5bcXnJDSfZovLokx2fptK8t+eqSPF4aZ/ICPWzTTL6f43J87pf753Gyx+LXlORK7npeWVbueSUvLPmukpeVvPzkf19akv0Z7yjJOWY/ybxZ5Nyyl2S2UchgQ3vPRgAAGrIiz+LSgy9c2PeZb13Y+/Fv23XZe+8496I3XXfuRa9/7rkXvu7Gcy74qeedc/6P33HuhT/x8p0XveZv7rzwx1+386Kf/JWdF/3UO3dd8voP7b70Te9euOwdb919+YfevXvvx355cd9Hfm5x38dfu/vyD6Z+Sz1WP8yvqyZbWHrohoV999+4sO+TL1nc94kf2n35+1+6+7J3f8/uy9758t2Xvv37dl3yph/cdckv/PDOi37m1TsvfNXPlnN6Vzm3D+y88Efv2XXRa+7bdfHfvHfnxT//UDnu/l2XvOXTuy59x0d3XfaeD+6+7APvLY/xU+Up9pekQb3uQZ7BhpybmhGgu5EngXnUHMtKU0sabzLulPGnjLE1x7IyxpZtSFdKMsZWc7DkppJ8/yklV5U8sST3fXzJFSWXlWS7gozlZUxvUE3SdV77SjL2lzG2XMmd83pyybUlOa+M/WUb/e8uyRjb95RknC3n+PySHPPMkowD5v4Zr2uO/9UL+tRLAABtWZUnK/Lce+BbVreuyuo677j+YO91T7+h97NPf27v1U+5tfejV9/e+4lrvqf3yqt+oPfjV/9sue2dp/IL176n99bnvL33/hvf0/vwLe/ofejm1/U+estre/fc/MPl0TPGlvneunPK8DXZvQe+qnff7c/tfeq2by2P9e2rj/crN7ys9/brXt57y3O+r/eLz/qB3s8/85W9n37qT/Re9eSf6f3kU97R+7Gr39/7kas+VP7/vt5PPeUzvbufcbic32d7b3rWvb23PefjvXfd8KHee5/7vt4Hb/qV3rOXU9emQd28LMCQ8gKZCYl8yM4ERV5EH1NSG2ay7FmaXzLQkA/p15ekoScNPMmBkhtL0lCTPRrzwT8DDc2GnjxeJkDWO9BQm4xyvwxU5HEycJHzygt+nqeeVxp1bi3JIEgGFdLYk/9m8CHnmIGQnONTS3K/DDSk0ShbJ2SgIYMZeS5vGgAAZ2rWZrXROpNTqc9qs3Xqq9SNqQlTm6XZOvVYJqVSN6aOTC2WY9IwnkmtTCKlWSYTSnnM9V5pXs+r1rKpGTPJlfPJczRr2UxOpSZMk3ca0r+t5DtLMlH17SVpAE/tmJoy55qfIxNUqT1znnnsnF+eS80IcEJXI08C86g9lpWxsNQ59WK5QWNsSZpkrivJ99PMk3G23Kc29KQmqRempSbJ8w2qSZrnlVom51XrpfYYWy7Uy/PnvFIzpTbKGNsLSlLX5RybtVLOL/fPeF2allIv1QboTBwNU88BAMyT1GapkzI3m51DLixJDZW6sd0E/s0lzylJbZb5z4yxpUZ7bkldYCHjcanFMj6XGi8N1lm4ITVZGmbyPMOOsdUG8Iz95TEyh5q51Mz1Zs73SSWp/1Kr5hxSG2Y8LQ3fdYwtybhb6sfbSnJcxuRS26YezuOlnm3WjIPqWYC5lRfIvJDnBT1X5tQX5rz458N4BgzyZpAX2axqkxfcNMXkQ3s+3Ce5WihvGpmcqQMNuU9t6MkbSH1hXu9AQ47PAEVdlaeeVwYZ8jz1vPLGUc8rk0d5c8h/k5xjvlfPsZ5bXZ2nOTHjTQMA4Ey1NquTQGm8SQNOmnkyqdT8YJ86LYMNqc9Sh2XQodlUnQ/uOTYTSKnv8hipQevqN6lL81zrbeZpTprlfGoTeJ4vgw2ZoMqkU84nzeiZLMtkVJJBkTT6pHbMuea4HF8bj/IzpuldMw/A6boaeRKYR+2xrLr6Ta1Hhh1jSw2V76eeSj3SbOjJ5E7qpkz6NFcMXEvzvFJrZYwu57XWGFvOI+eTc2uPsaWWqudY66U8Vs4t43c5t0xMDVvPAQDMk9RmtZknCw2kdsqYU23maY5pZTwrNVrmN+v4WpI6LHVlarmMW+X43C/3z+Nk3jP1aGqyPE+eb5B6XrWZJ2N/7R1TUtPWFR1zDjmX1IrNMbYkX+f2nHPOPXVtas7UjM0544wB5jnVjAB91A/07aus072ZF/28qOYNIC/UmXTJi3VebDNRU5Pb8r28WeS4fHjPfTIwkMfJm1DejPKmNOybRjTfNOrSxM3zyvPk+fK8ebOq55U3k2ZyW77XfkPL4Ed9Q7OcGwBAf81JoDS05Oqc2szTrM1qXZb6qzaG1+TrZu1Y68ZaM7YHGjbazJMar55PnqfWiXXAIeeSAY8MPGQCKsnASP3/3J7v13POY9RmnjyHq4YAHtHVyJPAvEqN0G9ipj3G1hzLqkmdlNubtVIdY8tj1NUMM1aWcaz1jLGtdV7tMbacR85n0Bhbs5bLuWX8LueW2ky9BABwptRHqZNSy6U2S/2U2qxrXjY1V+qvjE+lsadmrTG2jNVlPjWPm8evNeOguqx5XnW+uDanr3eMraY5xpbjc//8fM1mHg3gAGvIi3NeJOskSF7YM0mRD/Z5oc+LdZIJmyQTJO3U79XU++T+eZxM+GRSJg1D6/kgv57zquk6v5p6TD23vFHk3PJmkXPLcw17bgAA8yZ1XCaBUjulhkrjTbP+SjNOBh/yQT9X7mSCKAMRNfk6jTb5Xo7JB/ccn/umPktt1qwZh/0g3z6v1It5zOa5JHnunENtQEoyIJFkICGpX+d7Oa5OTOXx6iCDBnCAR3Q18iQwr+okSOqZ1DW1Nhl2LKv9vXqfOsaWsbGMkWWsbD0TH13nlVoujznMebVTj6nnlsdKrVTPrTZmq5cAAM7UnP9M40zqqFqPpdZqj7HVMa1BY2y5Xx4jtVltsF5Pzdg+rzxOziePnedon89aY2x1nK1+P+ed+zYv5kttqmYEGCAvknmxzAftvHDmRToTFXkhTfJBfL2p983j5PEy6VGbZYZ9Ua7nlfuN6rySev9cVd08t2HfzAAA5lFqs9o4k9ostVStq9qpdVc++HclE0j1/2t91q7LNloz1vMa9PzNZGKsX3J8Hivnl589v4Nhzw1gu+tq5ElgXqVGSFKXpK4ZxVhWvW8dY0u9s5F6qX1eqZnquXU97zBpnlser56begkAoL/USV3zn826saZdf7XHuJqpxzTrso2OsdWasX0e7efcyBhbzi+Pr2YEGFJeLOuLdDN5Id1o6mPUx96oUZ9XTX2szZ4fAMA8qDVT6qh8qE9jSz5490sGDfolgwF1MirJ8bVRptZn65Hjc7/2eTWfs1/qufRLjmmfHwAndDXyJDDvam3STB2P2kjaj7XeWqkp922eX9fzrTfN89rMuQEAzItaj9WxrEHjbEl7TKsrOS6Ptd5GnqqeV2q89jl1PV8zXeNqzeSYen61hgRgSPUD9ziyWV2POcoAADC8rnpqPcmH9Zr29zaj/VjrTfO8xnF+ANtNVyNPApxZQ4wym9X1mKMKAADD66qnNpJRj2G1H2u9aY+vjfr8AAAAgBFrf3Cflg/vXedVA0C3rkaeBAAAgMmYtjGs5vm0AwAAAADAmHU18iQAAAAAAAAAAMCEdTXyJAAAAAAAAAAAwIR1NfIkAAAAAAAAAADAhHU18iQAAAAAAAAAAMCEdTXyJAAAAAAAAAAAwIR1NfIkAAAAAAAAAADAhHU18iQAAAAAAAAAAMCEdTXyJAAAAAAAAAAAwIR1NfIkAAAAAAAAAADAhHU18iQAAAAAAAAAAMCEdTXyJAAAAAAAAAAAwIR1NfIkAAAAAAAAAADAhHU18iQAAAAAAAAAAMCEdTXyJAAAAAAAAAAAwIR1NfIkAAAAAAAAAADAhHU18iQAAAAAAAAAAMCEdTXyJAAAAAAAAAAAwIR1NfIkAAAAAAAAAADAhHU18iQAAAAAAAAAAMCEdTXyJAAAAAAAAAAAwIR1NfIkAAAAAAAAAADAhHU18iQAAAAAAAAAAMCEdTXyJAAAAAAAAAAAwIR1NfIkAAAAAAAAAADAhHU18iQAAAAAMFe+v+RzJRetfrU+t5W8sST3bw+0/V7J+0peUrJdfVVJfn/3l+Tnbf8O8nvJ7yC/p/V4Ukke79rVrwAAplfqodQ86635UnvmPqmV+tWSqbFyzEbq1Fkyjpo698ljbvffHbD9tF8Ha2AWZBwn790Z11mv5hjTH5U0//7/15LUCT9VkuO2o3HVhjk2j5ffLQDANEvdkrGc1EPr1RxbSu3YrKNSW9Z6aLvWklXq8NTM/X4PqSfze1hPPZn6M4+33X93wJTJC1VetOqLWD4UD/vilReu9sDCWsmx26kxJW8Gzd/dMMmbRt5AhtF8g8mb9nreVAAAJiUDBTX8DowAACTlSURBVM26ZZiGk9Q1qW/aH6gHZTvWROOqqTMoUe+T37MGcWCWNF/3moFplzGf+vc177/DNvRkUiB1TvPv+6Bsp4bdcdeG7bFPkzAAwDSqF/k3a51hpAZdz9hSksaUjTSfT7OMfeXn6vp5u5Lac5hm7/yemvfTIA5MRD64Nt8UkmHeGPIheT0vhu0MM8Ez7ZqDMxvJMAMH+T2177Pd3lgBgNnWbBhJhpm0ajf/rDe573ZoTBl3TZ3Hb9f6wzaVA2y15mtXMzCtajNK8+9r3oeHaTTJe/pGa6Nhn2OaTaI2TH3afI78f54XAGBapJ5p10SDxn5S47THftab7dKYkkb3rp9vmAwzN96u9dMsPut1ODDF2h9ik2FerLrut5EMmuSZZu0X7I0mv8dBv4d2Q88w9wEAmIR2TbSR2mYzGTSgMc0mVVN3NfQMU/MDbLXm61YzMI263m+HbbIZxRhTJhJm1SRrw676a5brSQBg++iqiTZS22w0szxW1FWLbyTDNDW1a/dha36Adel6gc9VwYOM6gUxmdWBhlEMsjQzzAv9Rq54BwAYp66aaNAV0aOcrElmtSaadE2d52svtTzLgzTAfGi+ZjUD06brfT01yqCxnhhlbTSLNdFW1Ib5fvt+gybKAADGqasmGrSycmqa9jzvZjOrNdGo5m3z+xxGc/vWREMPMFJdL/AZ3B/mhaa9RFkeJ28ozQ/KWaJ22MmJWdP1hprfXW5vbpmV30cacIbdnzK/10Hab0bDDFAAAIxD14fkQVevdNWgXbVkaqrUVsNuP5W6c9ZsRU3d9fvX0ANMs+brVTMwTboaeZJhxmtS87Tfm1P/pAaoY3Q5JjVC85h+GTThM222sjbsGt/LbQAAk9ZVlwy6cKtfDZpxnuaFdjkuteWwzS6pxZpznbMgP1/752j/HlJbthtw+mXQhYrR9fvP17WGB9iwrg/KyTCDDDmmeZ+88PV7Ycrtw7wwDvOiOC3yM7V/d4OacHKfYd8kh3mDbL855HyG+bMDABiVrtpm0CBDtCdg8vWgD7nt1Qn7ZZYmX7aypu43wAEwjdqvVzUwLfI+3TWJMszy/NF8j8/4Tt6n+8l7ffM5upLaapZsdW3Ybq4e9n4AAKPS1cgzzOIL7Wbv3GfQXGHqya754XZmaZwov6fmogqpzdf6PQzTJD9sg3xXY76GHmBT8gLW9UI97AtT80P2MC/m7RfRrsxSM0/7RX7Y31sM09AzzOo8XW8O+XrWOmUBgNnUVdOkFhn0QbU9AbWeyaaugY128mF5Vmx1Td01cTVMHQowae3XqhqYBnl/7mrkGbbGadZGqaWGuVBrUCPLeuqrrTYttWHXn+FaTVUAAKPSr6YZNMaTOrQ5TzjMuFzVb564nWEfb6s1522HbaQZdNHceuZ+uy6am6UxSmCK9BtkyMTAMJofstfzAXvQQMMwgxXTojmJst4Bkvaba1eGfYHv+p0O+yYFALBR/QYZcvsgzSag9QwyVKm9ms/ZlVmohaahps7vqas5aJg/R4BJar9O1cA06HfR1rAXWzVrm0ETNk1rjS0Ns1LitJiW2jA1VPt+OZ9ZGq8EAGZPv6aaYS76ao/PraeWjPbCBV2Zhebm1Hr1d7ieerKr/msmY3Dr0dUcNMyfI8Bp+n3IXc+LfN4g1ts00pywaCcvrrOi/eK+kTeyrqug2xlW1wTMLA3aAACzpV9NN2xDSnOAYiOrwHRd6dLOegcvtso01NTtgZ8aE1fANOl6nUpgq/WbAFnPVbxp+skg/3ruE2s1sax34mErTVNt2NWYlXG39dRqAADDajahNJPbhqk/ms0jwy4S0JTnaD5vV9Zbo26V1Hupj9c7Jtj1M9esd2wsdX3X48xSbQ5ssX6DDMNOvmzGWhMPs/JmEM2fY9jVjNqGGWgY9k2i3wSMNwcAYNT6DTIkw35Ybt5nI9uDDjPQsJ3roHHU1F3N4SaugGnSfo2qga3U7z152MmXzerXzDOp5x+V5rlvdW3YbwLGRXMAwDj0q+eGHd9p3j9zhRuRJqDmc7ez3eugrp852ei8eVdzeOKiOWCgtQb+h5182Yx+DSyzNsjQ/D1udHm0foMDzaznz6RrAia/140MggAA9NNvkGE9H3DrfTbaFB1dtU8zs9Qovl7jqKn7NYdv5Op4gHHoeo1KYKvkPTfvvV1/LydVh/SbeJm1Oqie97TUhv0mYFKDAQCMSuqTrppjPeM7zXG6jc4H9qt9ajba1DIL1moK3+i8eb/5342snATMmX4fbCf1QrxdPgw3m3k22ukazd9BV9bzRtFvAmY7v8kCAJPVr95I1lO31PtstCk6moMVXdnOzTzjqqn7fVbY6OAFwCh1vT4lsFX6vR9P6oK17TRJUM99WmrDfr/bSf3ZAgDbX796I1lP3VJroM00RfdrKqrZzvOM47q4rd9nhe08Xgls0lovxptpSBlWlg/bqucetWYzz2YmN5q/h66sV78rwlw5BABs1lpXn693wKDebzMfYAdN2GzXBpRx1tTZfqLrsV05BEyDrtenBLZCc1yonc00pKxHtjtoP3fes2ex2aSe/zTVhl2/38SqhQDAKKxVu6xnhZ36OJtpuBnUzLNdG1BSN3dd2DaKer7f+F3GVtfz5wvMibUmX3L7uOX520v/5nlnsZFnlJq/j3Y20kXbr9NzMx25AACx1gf7NIFM2qAJm+34wXjcNfVaV4XNe90ObL2u16YEtsJadUgG7sct78vt5805zWIjz6iMujbs+h3XmIABADZjrcbwNBRP2qBmnu06JtQ1pzrKxu2uRqFkUs3/wAxZ64V43C8aXZMO+XoSgxvTbK0362QjbxhrDTSYgAEANmqtxvBkKyY0us6jJrXmdjOpmrrfQIPmcGCrdb02JTBpa43nTOL9smvsZ7teLb0e7d9JMxupDddqcjYBAwBsxlpNyFsxlzeoKXo7Noy3G3ky7jnqXU66moVqNIcDpwyafBnnG0PXpEOaVLbjC/969dvGoGYjL+RrDTSYgAEANmqtxvCtqDH6LVVbs92amCdZU6810KA5HNhKXa9LCUzaWpMd427yaDfypA5b7/ZR29G4asP8frseLzEBAwBsxKAL/beixlhrDnk7NjG3x75S34/j996u3ZvZjr9XYIPG0TQyjK5Jh2byvUxCzOuH37V+N5t5Ed+qxi0AYPuatg/1qSG7ziXZbg3Mk66p1/rsoDkc2Epdr0sJTNJWNhSvNRmQWi1bMszruM+4asP8TrseMzEBAwBsxFr1xVaMu2Q1mq5zqdluc7jtRp5m8vvP90fVLD/os8O8zo8DLXnx6XqRSMb1xpAXqLUmfdrJi+M8rdaTF+iu30PNZl7A1yoE0l0KALAea00cJVsxabRWfbudJrG2oqYeNNDg6n9gq3S9JiUwSWsN/ifjGpAf9LzNpE4a9RYB025cteFaTc6p0eZpLBMA2LxBc4Op+SZtrTpzK85nXAZdLNdO5lMzRrZZa43r2SoXGDgYn8aPURs04dMveRGdlw/Ba10xtNkX77W2wUh0egIA67FWo3Ayig+267HWFUPbqXF5K2vqrset2U4DOcBs6XpNSmCS1hqMz/dGbb2TDs1spwbntYyzNhy0Dca8/I4BgNEYtJNKvj9JqTW7ziPZTo3L671Yrib32ey4Z+rRrsdOxrXgBjBDBjV2jLLrLy/q67lSqCsZoNju0kzT701jFM1Vg5bEm3QxAADMtq56oplJ6zehlQ/A22GQYRpq6rUmDccxUQkwjK7XpAQmZVBjx6ibivN8G5l0aGYeVugZZ22Y+3c9ds04LpIEALavtRo7kkmvhrzWwgOTvnhvXAY1UA1K6vHNLJKw1u842S6/Z2CDBr0xjPJD/VpNKutJXti2s35Xt2fwYRQTUHnh73r8GgMNAMCwBk1abbZpZL36fQBPDbpdPvxOQ009basxAUTX61ECkzLogrlRj2cNGvgfJpudfJh2k6gN16rL8j0AgGF11RPNTPIitbXmErfT6oNrXbA2bDYz/jmomcgCDDDnul4Ymhl1l2de/HPlS158mh+a8//rucJ4uw409Fs1Z1SNPFXXc9QYaAAAhjVo0mrUV6CvpV+Tyygna6bFVtfUg/7cDTQAW6Hr9SiBSRl0wdwoV7+u0mCb9/6MJ9Vxo/w3EyypFbrOo53cfzuaVG046M99u9WhAMB4DLpgLpmkfk0u220b0dTO+VnTKN+cE08tmfq9q57sykZ/L4P+3C3AAHMsHya7XhiambS8aA3zwrgdBxryhtFvkGGUjTzRfo52tmuzFAAwWoNWaBnHpFU//SZSRt2cPgvGXVMPaubZrpOCwHTrej1KYFIGvfdOuibJWFLek7vOpZ3tOA40qdpwUDPPdpvwAgDGY9AKLak5JqXfuM8kx/mmRerkYVbvSSP9RqQ27Xq8mo0+LrANDHqBSLZCv9Vp2hl1g8tW6/rwn4GgcVzBM2igYR72TAcANm9QTTGpD/n9BhnmefJknDX1oM8Rm1leGGCjul6PEpiUrr9/zUy6macaZvJhu21pP8nasN9z1Wy33y0AMB6DaopJNfP0G/OZ5wu3+q342M5G51a7HquZ7TYfDgxp0BtDslWGuXJoqwZBxqFrn/NxNfLEtEy8AQCzrauOaGYSNUW/phVXQY+vph7UzJMATFrXa1ECkzDMe+NWjWNl8qHrfJqZ1OTQJEy6NpyWiTcAYLYNmrebRE3Rr2nFCswnasn276WdjY6Ddj1WM9tpPhxYh2n+sDnMFmDbpeGk6w1gnI08MagocNUQADCMrjqimXF/2Ey91DXIoJHnhHHV1MNMWLpqCJi0rteiBCZhmPfGrTRoa9RkO9iK2nDQ+KoVCwGAYQyatxv3nGjGcbpWdNTI84iuOrOZjc6rdz1WM3ZTgTk1zc08kX0Au86rZjs083QNMoy7kScGFQVb/WcPAMyGrjqimXE28/QbZNDIc7px1NTDTFiOu5ELoK3rtSiBSZj2Zp5hriSedVtVGw4aX00AAAbZ6maertWdNfKcbtAK2ONq5tkO8+HABgz6sLnVDR1b/cY1bhlk2IpGnhj0u93qP3sAYDZ01RHNjLOho6ue0chzpnHU1Jp5gGnU9VqUwCRMezPPtJ/fKGxVbThofDUBABhkHOM3w+qqZzTynGlQ3bfRudWux2pmnH/2wBQb14vOqGzlG9e4dV0tNKlGnhj0u93qP3sAYDZ01RHNjKuho+tKGI083cZRU2vmAaZR12tRApOgmWdrbWVtOGh8NQEAGGSr5kRTM7WfSyNPt3HNq3c9VjOzPB8ObMK4XnRGZdAb1yxP2LT3Kp9kI08M+t1u9Z89ADAbuuqIZsbR0PH9Je3n0cjT3zhqas08wDTqei1KYBJmvZkn23LOqq2uDTXzAACjMGj8ZhwNHZmXbD+PRp7+BtV9G/3ddT1WM5p5YE7NejPPJJtfRql9tdCkG3li0O92q//sAYDZ0FVHNDPqho6uq4U08qxtHDW1Zh5gGnW9FiUwCbPezJOLzmbRNNSGmnkAgFEYNH4z6oaOjAdlfrL5HBp51jao7kuT+UZ0PVYzmnlgTs1yM0/eYGbRqBp5sk3XZn4Xg4oCb9gAwDC66ohmRtnQMcrJmuZ2p7PaID6scdTUw0xYflUJwCR1vRYlMAmz3syz0YmHrTQtteGg8dVZXvUIAJicSTbzjLKR540l9TFmsaZcj0F130bHGLseq5lJN6sDU6JrGdpmtrqZp/1G0swsNpu0G3kyUJCmnI1o/tnlcdZrkkUBALB9rVWvJaNq5mlP1uR5N/oBOfdrPtZG67FZMY6aetonLIH51PValMAktOuLrmylQWOAs9aEO0214bRfLAkAzIaslNhVS9SMat4utU97rGgzzSLNx7otN2xja/0ZbaaBu+vxmhnV+CowYwYNwucFeKsMGgQZ9MKV++dFtb6J5L+ZrNiqwYn2oMlmGnmiecXQRiZhBjXzbPfuWQBgNCZRU7TrwtR1uW2jmlcMrfVBOwMQzZ8vx2bgZJaafzZbU/czzZ8jgPnV9XqUwKR0/f1rZjP1y2atNfEwTLNJaqDmWFT+f6uuEN6q2rCfQc08s7qFGQAwWZOoKTKmlXqn+bibqekydtZ8rH5zsKnVpmnOdqPq+XdlM81WXY/XzFZ+jgC2UF60u14UmlmvvHDXN4I64bERa71pDfpg3b46p51JDza0z2ezjTztN8eN/I6b9++KLk8AYBjNyY+ubOaDbOTDavOD8mYnazJI0Hy8fpNX7RUVm9nsOQxjGmrqtaz1uMkwk4IAo9b1epTApDSbXbqy3rGWjB01a5JMgGykBsnjrDXxsNY4We671s+12TGu9dqq2nAtzebvrmy2HgYA5kN77q+dzY61dNV1m50vbT9el62es02tWOu11H2przdSvw66sG2jjUmDHjcB5lidJOiX9ej3grORD/ZrnVfe0PrJ86w1QFEz7jeHKm8SzefNG8ZGBznyRpDzbv98a/0++mnevysbPUcAYL4M+kC+mcmL1CPNmjD/v9HJmjxWaqb2IEOakdqG+RC92YmjtUxDTT3IoGaert8rwLh1vR4lMClrNQMneY9fj35NIusd01qrXkt9sZZB7/nJRmqUjdiq2nCQQc08m6m5AID5kTnArlqiZrPNPM2VGjOutZl50tS1zcdLuurK1FxbOWfb7/k3Mq63Vq2/mXGwQeOQg+p1YJsb5UBD+4W7mTzPsNbaxzvPsZZBE0rNbLRLcljtq3vGlfUOBrUbjNrJYAgAwDDGOdDQnlwZR7qajQbVxzXjqpmmoaYeZK1zTMY1CAOwlq7XowQmZdCY1HqanNcau1nP5EO7AaadQY+z1n2bWU+NslFbVRsOMmjsb9zjjwDA9jGo9tqoQStrjyJdY4BbPWe71thYasvUysNYqzbPn9mwj9NlrXNMJlFnA1Ns0Avpeq4eGXQlyjAfiPOC2O9D8DAvrMNcMVQzzhfAnOckBhmS9cqfadfj1LiSGgBYj7UGGlIPbcSwDTWbTVdT9KCatplxNK1MQ009yKA6d7OPD7ARXa9HCUzKoCbn9Yy3DLpCN+/zw7zfrlVTDVPHdN2vX8bZtLKVteFa8mfQ9Tg1G62FAYD5NKjm2ch4y3oaajaTrvGqrZ6zHfT8w1yEmN95v3Gw9TTZ9zOo0coqjzDnBn3oHGayoBrmg/VaAwX5wLzZSYdBjSrtjMugq5VHlfy+1mvQm5c3BgBgPQZ96FyvQVekjDJdH7jXc7XSMB/612saaupBuh67xqQVsFW6XpMSmKR+A/3JeuqGQY1ByVrv67l9rZpi2IbktX6edtYzhrgeW10brmVQ05UL5gCA9Rg0x7nexuPUNl2PM46kZmvb6jnbYRqZ1moiSk3erx4eRSNPDLqobxTjeMCMW6vxZD1L8OdFrd/EQTN5YawNI3kRyv+v9WKV49fzYrWegYb1vvENYz2dppvNRiaQ1vpdb6Q5CACYb4MGBtbzwXbQhMio02XYmrZm1Kalpu5n0J9R1+ANwCR0vSYlMElrNZ6sd8xlmAbjrJCY50z9EKm7Mi7Vr5bI7esZC1vPBMxGxqgGmYbacC2DxgBHMcEDAMyXtcaE1jPmkjGgYcaXRpV+NeZWz9kO8/ypY9P4U8fNch4ZR+s6Nslj1vp7s7oev2az2+QD28RaH8wzKLAe+ZA6qjeHPHedoFiPvNiuNZHRzDjeGLqeZ1zZyBU+a/355M0JAGC91vpgPOyV3zFsDTeK5Jz7SU271vZhzYzDNNTU/aw1SZmMajADYL26XpMSmKSMSXX9PaxZ7/vkWpMI681GG3tTyw1Tl4yjmWdaasN+1rpAcr1jqgAAsVZD93rm8Ca58EDSr87c6jnbPP8wDT3DJDXxKFejzPhf1/PUrGdMFdjm1pqsWO8H/Ry/1lVAg5IX1VG8QOUxBk3CzHozz3qvfB70xmDyBQDYiNRdXbVFsp7m40lO2Ay6umXYmnZcpqWmbltr0kpjOLCVul6XEpi0tRpwNtJgm7GrjdZIqSNyPpsd78n91/q5kllv5tnIlc9r1WkmXwCAjUjd1VVbJOtpPp5kM09qokG2as62Gub5+yX3y+9zvfPlg6x1wVyeE+CUtSZgNnMlb+6bCZx8+O56kcwLfL6XAYGcw6ibSeokSPt5a8b5xjCN1npjGMegCwAwP/p9IN7IVc7TJPXpWg0sk7DVNXXTWpNW81ZbA9Ol63UpgUlbawJmIyssV3ncjOukLsn7ftfjp+7K9zIWNo735TxmnqPruedtXGmtC+ZSL416sgcAmB9rNVHPco0xDXO2qeFyDqld16prU3On9s7x47LWeGPOEeA0/SZg8qYx6/q9II7zRXga9XtjSky+AACbsVZz+DibSyalq4klt82TNBW1fwc18zaBB0yfrtemBLZCvwmY7XCFbb8mloy9zZO1tsAw+QIAbMZazeEZf5t15mxPNDZ1/Q4SjeFAp34TMNthkqKr03PeJl/WevPfDg1bAMDW69ccvt6tQadRmlXaP9e8TVqtdWXYdmjYAmZb12tTAlthrTGY7TBJ0fVzbYd6bz361b3boWELANh6/cZgtsNYlDnbtS+K3A4NW8CYdE1SbIcXjq4uz3lrYOl3xVDeIE2+AACjkJX+uuqN7TCpkZqp/XPN04frta4Y2syWIQCj0vX6lMBW6ZqkSGZ9PKrfyjzzNLa01mqF+R4AwGZlHKZrLCqZ9brLnG3/nVRyO0Bf/T6Qz/IETL+Jh3naVmqtN/15u3IKABivfkvlznLjS9eETWqreVrytt+EZD4nzNPvAZheXa9RCWyVvD/2W71llidgui4Wm7ftNvtdDDlvqzYCAOOV+buummOWG1/M2fa/GDKZp63GgA3qN1A/qxMwXYMM89bZ2O/PdN4GWwCA8evXRDzLzeFdV8vM02o0/f5Mk3kabAGmW9drVAJbqd9A/axOwKQJqasmmKfVaPr9mc5bozcAMBn9mohntTncnG3/P9PM5QIMpeuFZBYnYNKA1P45knmadFhrQs0gAwAwDv0mOWaxOTyTbe2fY94ma/o1hlvhEZgmXa9TCWy1fu+jszYBk9qnq8F53i4U6zf54ipqAGAc+s3xzWJzuDnb/mOmVngE1qXfm8MsdQX2W35ulrd42Ih+E1AGGQCAceqauJqlJpicpzrqxERj+3eQzOqKAsD21fValcA06GoAmaUmmNQDXY08uW1WartR6DcBNW9jjQDAZPVrAJmlJhhztid0bcM7bzU1MCKZpOhq6Jn2yYu8efW7Smbe3hT6vcHP0/LHAMDW6WqGmYUrTVIzdn24nseG6K66et6WPwZmQ/u1qgamQQbnu5phpn2Vu5x3GrS7xgfnbdIhP2vX72Getl4FALZOV1PxLOzAYc72Ef0ufJzVLdOAKdDVDDLNH9YzudI+3yQvhvP2ptBvkGHefg8AwNbq+sA+zfVIvyuFMkAyb408XYMMrhYCplX79aoGpkXXOE2+nub6Ik3YzfOtSX03b/VAV01rpUIAYJK6xmmmuR4xZ/uIrvn2af8sAMyIvKC2X2Cm9c2ha2Ak5zqPXY2zNnEGAGxPqc/aV6JP84fV9ofrnGsGS+ZtwmrWmvoB2q9ZNTBNUv+0x62m+f21PWGU5uZ5HFuatYkzAGD7Sg3SrkumtT4zZ3tC1+9hmsdGgRnU1dAzrcvI1qup08wyry+E+bNp/3lp5AEAtko+tHY19Ezrh/d6FXoGGOaxeSV/LrM00QgQzdesZmDa9GvomUZ5708DT843DS3zKFvVN/+sEo08AMBW6mroSc0yjczZdo+JauQBRi5vBO3BBg0i06fdeJU/s2l9EwcA5kcmg9pbNWgQmT7582gPMuTPzZ8TMO2ar1vNwDTK4H37/VaDyPTparya16YmAGC6tFcO1CAyndqNV/kM4M8JGJuuD7EaeqZHVyOPNwUAYJp0fYjVKDIduhp5TCwCs6L52tUMTCvvu9PNGCgAMO3MCU43Y6DAlsgLTZZDa745ePGZDs1BIG8KAMC0ymBDc3LEFc7Tob2NhAkrYJY0X7+agWnX3ir92hK2XvPPxcQYADCtUqNkW9Rat2T+lq3X3sJe0z4wcRncT8OID7PTJW8IGXAAAJhm+VCbusWH2emS2l6ND8yiOkjaDsyCNPBk4kUj7XTJn0f+XFwsBwBMs9QquVBO3TJd8mehxgcAAAAA5lpXI08CAAAAAAAAAABMWFcjTwIAAAAAAAAAAExYVyNPAgAAAAAAAAAATFhXI08CAAAAAAAAAABMWFcjTwIAAAAAAAAAAExYVyNPAgAAAAAAAAAATFhXI08CAAAAAAAAAABMWFcjTwIAAAAAAAAAAExYVyNPAgAAAAAAAAAATFhXI08CAAAAAAAAAABMWFcjTwIAAAAAAAAAAExYVyNPAgAAAAAAAAAATFhXI08CAAAAAAAAAABMWFcjTwIAAAAAAAAAAExYVyNPAgAAAAAAAAAATFhXI08CAAAAAAAAAABMWFcjTwIAAAAAAAAAAExYVyNPAgAAAAAAAAAATFhXI08CAAAAAAAAAABMWFcjTwIAAAAAAAAAAExYVyNPAgAAAAAAAAAATFhXI08CAAAAAAAAAABMWFcjTwIAAAAAAAAAAExYVyNPAgAAAAAAAAAATFhXI08CAAAAAAAAAABMWFcjTwIAAAAAAAAAAExYVyNPAgAAAAAAAAAATFhXI08CAAAAAAAAAABMWFcjTwIAAAAAAAAAAExYVyNPAgAAAAAAAAAATFhXI08CAAAAAAAAAABMWFcjTwIAAAAAAAAAAExYVyNPAgAAAAAAAAAATFhXI08CAAAAAAAAAABMWFcjTwIAAAAAAAAAAExYVyNPAgAAAAAAAAAATFhXI08CAAAAAAAAAABMWFcjTwIAAAAAAAAAAExYVyNPAgAAAAAAAAAATFhXI08CAAAAAAAAAABMWFcjTwIAAAAAAAAAAExYVyNPAgAAAAAAAAAATFhXI08CAAAAAAAAAABMWFcjTwIAAAAAAAAAAExYVyNPAgAAAAAAAAAATFhXI08CAAAAAAAAAABMWFcjTwIAAAAAAAAAAExYVyNPAgAAAAAAAAAATFhXI08CAAAAAAAAAABMWFcjTwIAAAAAAAAAAExYVyNPAgAAAAAAAAAATFhXI08CAAAAAAAAAABMWFcjTwIAAAAAAAAAAExYVyNPAgAAAAAAAAAATFhXI08CAAAAAAAAAABMWFcjTwIAAAAAAAAAAExYVyNPAgAAAAAAAAAATFhXI08CAAAAAAAAAABMWFcjTwIAAAAAAAAAAExYVyNPAgAAAAAAAAAATFhXI08CAAAAAAAAAABMWFcjTwIAAAAAAAAAAExYVyNPAgAAAAAAAAAATFhXI08CAAAAAAAAAABMWFcjTwIAAAAAAAAAAExYVyNPAgAAAAAAAAAATFhXI08CAAAAAAAAAABMWFcjTwIAAAAAAAAAAExYVyNPAgAAAAAAAAAATFhXI08CAAAAAAAAAABMWFcjTwIAAAAAAAAAAExYVyNPAgAAAAAAAAAATFhXI08CAAAAAAAAAABMWFcjTwIAAAAAAAAAAExYVyNPAgAAAAAAAAAATFhXI08CAAAAAAAAAABMWFcjTwIAAAAAAAAAAExYVyNPAgAAAAAAAAAATFhXI08CAAAAAAAAAABMWFcjTwIAAAAAAAAAAExYVyNPAgAAAAAAAAAATFhXI08CAAAAAAAAAABMWFcjTwIAAAAAAAAAAExYVyNPAgAAAAAAAAAATFhXI08CAAAAAAAAAABMWFcjTwIAAAAAAAAAAExYVyNPAgAAAAAAAAAATFhXI08CAAAAAAAAAABMWFcjTwIAAAAAAAAAAExYVyNPAgAAAAAAAAAATFhXI08CAAAAAAAAAABMWFcjTwIAAAAAAAAAAExYVyNPAgAAAAAAAAAATFhXI08CAAAAAAAAAABMWFcjTwIAAAAAAAAAAExYVyNPAgAAAAAAAAAATFhXI08CAAAAAAAAAABMWFcjTwIAAAAAAAAAAExYVyNPAgAAAAAAAAAATFhXI08CAAAAAAAAAABMWFcjTwIAAAAAAAAAAExYVyNPAgAAAAAAAAAATFhXI08CAAAAAAAAAABMWFcjTwIAAAAAAAAAAExYVyNPAgAAAAAAAAAATFhXI08CAAAAAAAAAABMWFcjTwIAAAAAAAAAAExYVyNPAgAAAAAAAAAATFhXI08CAAAAAAAAAABMWFcjTwIAAAAAAAAAAExYVyNPAgAAAAAAAAAATFhXI08CAAAAAAAAAABMWFcjTwIAAAAAAAAAAExYVyNPAgAAAAAAAAAATFhXI08CAAAAAAAAAABMWFcjTwIAAAAAAAAAAExYVyNPAgAAAAAAAAAATFhXI08CAAAAAAAAAABMWFcjTwIAAAAAAAAAAExYVyNPAgAAAAAAAAAATFhXI08CAAAAAAAAAABMWFcjTwIAAAAAAAAAAExYVyNPAgAAAAAAAAAATFhXI08CAAAAAAAAAABMWFcjTwIAAAAAAAAAAExYVyNPAgAAAAAAAAAATFhXI08CAAAAAAAAAABM2IE+AQAAAAAAAAAAAAAAAAAAAAAAAAAAAAAAAAAAAAAAAFhbr/f/B1LoiruxZjowAAAAAElFTkSuQmCC)"
      ],
      "metadata": {
        "id": "RcfDq3y6gY49"
      }
    },
    {
      "cell_type": "code",
      "source": [
        ""
      ],
      "metadata": {
        "id": "mxEzCUkkgaTl"
      },
      "execution_count": null,
      "outputs": []
    },
    {
      "cell_type": "markdown",
      "source": [
        "## `reshape` metodi\n",
        "\n",
        "---\n",
        "\n",
        "\n",
        "\n",
        "---\n",
        "\n"
      ],
      "metadata": {
        "id": "ocLn_ZPciBZr"
      }
    },
    {
      "cell_type": "code",
      "source": [
        "a = np.arange(6)    # array = 0-5\n",
        "a"
      ],
      "metadata": {
        "colab": {
          "base_uri": "https://localhost:8080/"
        },
        "id": "gHRI0wcRiEnq",
        "outputId": "8ea86096-7739-4752-e461-c7ecb7bef28a"
      },
      "execution_count": null,
      "outputs": [
        {
          "output_type": "execute_result",
          "data": {
            "text/plain": [
              "array([0, 1, 2, 3, 4, 5])"
            ]
          },
          "metadata": {},
          "execution_count": 77
        }
      ]
    },
    {
      "cell_type": "code",
      "source": [
        "a = a.reshape(3,2)    # shape = 3x2\n",
        "a"
      ],
      "metadata": {
        "id": "wVpO31mciMnH",
        "colab": {
          "base_uri": "https://localhost:8080/"
        },
        "outputId": "b3812cab-f32c-4b1d-8bf9-1cdbbd5d3aeb"
      },
      "execution_count": null,
      "outputs": [
        {
          "output_type": "execute_result",
          "data": {
            "text/plain": [
              "array([[0, 1],\n",
              "       [2, 3],\n",
              "       [4, 5]])"
            ]
          },
          "metadata": {},
          "execution_count": 78
        }
      ]
    },
    {
      "cell_type": "markdown",
      "source": [
        "## `Transpose`\n",
        "\n",
        "---\n",
        "\n",
        "\n",
        "\n",
        "---"
      ],
      "metadata": {
        "id": "zzBunZBii6iR"
      }
    },
    {
      "cell_type": "code",
      "source": [
        "a.T   # a massivning Transpose ko'rinishi"
      ],
      "metadata": {
        "colab": {
          "base_uri": "https://localhost:8080/"
        },
        "id": "eDWeqTkli-DC",
        "outputId": "07250348-468f-4020-dc95-933b9d91e75a"
      },
      "execution_count": null,
      "outputs": [
        {
          "output_type": "execute_result",
          "data": {
            "text/plain": [
              "array([[0, 2, 4],\n",
              "       [1, 3, 5]])"
            ]
          },
          "metadata": {},
          "execution_count": 79
        }
      ]
    },
    {
      "cell_type": "code",
      "source": [
        ""
      ],
      "metadata": {
        "id": "BMlXoDZvjE8m"
      },
      "execution_count": null,
      "outputs": []
    },
    {
      "cell_type": "markdown",
      "source": [
        "## `swapping axis`\n",
        "\n",
        "---\n",
        "\n",
        "\n",
        "\n",
        "---\n",
        "\n"
      ],
      "metadata": {
        "id": "oETfEek-jXvJ"
      }
    },
    {
      "cell_type": "code",
      "source": [
        "a"
      ],
      "metadata": {
        "colab": {
          "base_uri": "https://localhost:8080/"
        },
        "id": "Y8wLyy1hjcwy",
        "outputId": "9006e439-aca7-44b7-9595-949310802e6c"
      },
      "execution_count": null,
      "outputs": [
        {
          "output_type": "execute_result",
          "data": {
            "text/plain": [
              "array([[0, 1],\n",
              "       [2, 3],\n",
              "       [4, 5]])"
            ]
          },
          "metadata": {},
          "execution_count": 80
        }
      ]
    },
    {
      "cell_type": "code",
      "source": [
        "a.swapaxes(1,0)   # a massivning Transpose ko'rinishi"
      ],
      "metadata": {
        "colab": {
          "base_uri": "https://localhost:8080/"
        },
        "id": "oaAVIpO2jeyO",
        "outputId": "00893db9-658e-4882-e3e1-625e4c12bb29"
      },
      "execution_count": null,
      "outputs": [
        {
          "output_type": "execute_result",
          "data": {
            "text/plain": [
              "array([[0, 2, 4],\n",
              "       [1, 3, 5]])"
            ]
          },
          "metadata": {},
          "execution_count": 81
        }
      ]
    },
    {
      "cell_type": "code",
      "source": [
        ""
      ],
      "metadata": {
        "id": "i4IVz1cejjQ2"
      },
      "execution_count": null,
      "outputs": []
    },
    {
      "cell_type": "markdown",
      "source": [
        "## `Transpose`ning ishlatilishiga misol $aa^T$\n",
        "\n",
        "---\n",
        "\n",
        "\n",
        "\n",
        "---\n",
        "\n"
      ],
      "metadata": {
        "id": "zSM6Eb8fjz6E"
      }
    },
    {
      "cell_type": "code",
      "source": [
        "a"
      ],
      "metadata": {
        "colab": {
          "base_uri": "https://localhost:8080/"
        },
        "id": "TWyFhhxMj6vW",
        "outputId": "80c9f723-356e-4c6d-994c-98f328466e35"
      },
      "execution_count": null,
      "outputs": [
        {
          "output_type": "execute_result",
          "data": {
            "text/plain": [
              "array([[0, 1],\n",
              "       [2, 3],\n",
              "       [4, 5]])"
            ]
          },
          "metadata": {},
          "execution_count": 82
        }
      ]
    },
    {
      "cell_type": "code",
      "source": [
        "np.dot(a, a.T)    # aa^T dan hosil bo'lgan massiv"
      ],
      "metadata": {
        "colab": {
          "base_uri": "https://localhost:8080/"
        },
        "id": "NmgVOwRRkFFG",
        "outputId": "0a769688-06ae-41bb-ef4f-2bab303ad8f2"
      },
      "execution_count": null,
      "outputs": [
        {
          "output_type": "execute_result",
          "data": {
            "text/plain": [
              "array([[ 1,  3,  5],\n",
              "       [ 3, 13, 23],\n",
              "       [ 5, 23, 41]])"
            ]
          },
          "metadata": {},
          "execution_count": 83
        }
      ]
    },
    {
      "cell_type": "code",
      "source": [
        ""
      ],
      "metadata": {
        "id": "kuy9rJeskIbV"
      },
      "execution_count": null,
      "outputs": []
    },
    {
      "cell_type": "markdown",
      "source": [
        "#***# 7 Universal funksiyalar***"
      ],
      "metadata": {
        "id": "oGhWH1YbvSNX"
      }
    },
    {
      "cell_type": "markdown",
      "source": [
        "\n",
        "\n",
        "##7.1   **Unary** funksiyalar (**bitta argument** qabul qiluvchi funksiya)\n",
        "\n",
        "*    **`sqrt`, `square`, `exp`, `log`, `modf`, `sign`, `isnan`**  funksiyalarini ko'rib chiqamiz\n",
        "---\n",
        "\n",
        "\n"
      ],
      "metadata": {
        "id": "iuUFXgoqvwqi"
      }
    },
    {
      "cell_type": "code",
      "source": [
        "arr = np.arange(10)   # 0 ~ 10 gacha massiv\n",
        "arr"
      ],
      "metadata": {
        "colab": {
          "base_uri": "https://localhost:8080/"
        },
        "id": "NYGaKoLcval_",
        "outputId": "97e6bee1-e8ed-45e8-bed2-d36af9108ffb"
      },
      "execution_count": null,
      "outputs": [
        {
          "output_type": "execute_result",
          "data": {
            "text/plain": [
              "array([0, 1, 2, 3, 4, 5, 6, 7, 8, 9])"
            ]
          },
          "metadata": {},
          "execution_count": 84
        }
      ]
    },
    {
      "cell_type": "markdown",
      "source": [
        "###  **`sqrt`**  massivning har bir elementini **kvadrat ildizini** qaytaradi"
      ],
      "metadata": {
        "id": "For3SR5Rw6OT"
      }
    },
    {
      "cell_type": "code",
      "source": [
        "arr"
      ],
      "metadata": {
        "colab": {
          "base_uri": "https://localhost:8080/"
        },
        "id": "VRWdOM2MyICF",
        "outputId": "024342e9-6aa8-4f57-bb96-399b8c3ffe6b"
      },
      "execution_count": null,
      "outputs": [
        {
          "output_type": "execute_result",
          "data": {
            "text/plain": [
              "array([0, 1, 2, 3, 4, 5, 6, 7, 8, 9])"
            ]
          },
          "metadata": {},
          "execution_count": 85
        }
      ]
    },
    {
      "cell_type": "code",
      "source": [
        "np.sqrt(arr)"
      ],
      "metadata": {
        "colab": {
          "base_uri": "https://localhost:8080/"
        },
        "id": "0WANpjASwy4U",
        "outputId": "5354565d-352f-4e3e-b1e8-e08370531c51"
      },
      "execution_count": null,
      "outputs": [
        {
          "output_type": "execute_result",
          "data": {
            "text/plain": [
              "array([0.        , 1.        , 1.41421356, 1.73205081, 2.        ,\n",
              "       2.23606798, 2.44948974, 2.64575131, 2.82842712, 3.        ])"
            ]
          },
          "metadata": {},
          "execution_count": 86
        }
      ]
    },
    {
      "cell_type": "markdown",
      "source": [
        "### **`square`** massivning har bir elementini **kvadratga** oshiradi"
      ],
      "metadata": {
        "id": "WpzBDQ0zxztr"
      }
    },
    {
      "cell_type": "code",
      "source": [
        "arr"
      ],
      "metadata": {
        "colab": {
          "base_uri": "https://localhost:8080/"
        },
        "id": "JlFkodHIyGKL",
        "outputId": "a88c44db-7fc7-4f8e-b4f2-10118d5fc094"
      },
      "execution_count": null,
      "outputs": [
        {
          "output_type": "execute_result",
          "data": {
            "text/plain": [
              "array([0, 1, 2, 3, 4, 5, 6, 7, 8, 9])"
            ]
          },
          "metadata": {},
          "execution_count": 87
        }
      ]
    },
    {
      "cell_type": "code",
      "source": [
        "np.square(arr)"
      ],
      "metadata": {
        "colab": {
          "base_uri": "https://localhost:8080/"
        },
        "id": "tLqbuFsaxJDj",
        "outputId": "dbd875fd-f268-4505-b7ae-9b03f6f8e722"
      },
      "execution_count": null,
      "outputs": [
        {
          "output_type": "execute_result",
          "data": {
            "text/plain": [
              "array([ 0,  1,  4,  9, 16, 25, 36, 49, 64, 81])"
            ]
          },
          "metadata": {},
          "execution_count": 88
        }
      ]
    },
    {
      "cell_type": "markdown",
      "source": [
        "### **`exp`** massivning har bir elementini **eksponentini** qaytaradi"
      ],
      "metadata": {
        "id": "Lx0jLECFyLKY"
      }
    },
    {
      "cell_type": "code",
      "source": [
        "arr"
      ],
      "metadata": {
        "colab": {
          "base_uri": "https://localhost:8080/"
        },
        "id": "HUOwvUmIyB6t",
        "outputId": "c151a6a2-d2e2-49b1-d010-72b5e29082f6"
      },
      "execution_count": null,
      "outputs": [
        {
          "output_type": "execute_result",
          "data": {
            "text/plain": [
              "array([0, 1, 2, 3, 4, 5, 6, 7, 8, 9])"
            ]
          },
          "metadata": {},
          "execution_count": 89
        }
      ]
    },
    {
      "cell_type": "code",
      "source": [
        "np.exp(arr)"
      ],
      "metadata": {
        "colab": {
          "base_uri": "https://localhost:8080/"
        },
        "id": "WuGwjwKeycwr",
        "outputId": "1409fcb6-a70a-4ca2-84e0-62004e106be7"
      },
      "execution_count": null,
      "outputs": [
        {
          "output_type": "execute_result",
          "data": {
            "text/plain": [
              "array([1.00000000e+00, 2.71828183e+00, 7.38905610e+00, 2.00855369e+01,\n",
              "       5.45981500e+01, 1.48413159e+02, 4.03428793e+02, 1.09663316e+03,\n",
              "       2.98095799e+03, 8.10308393e+03])"
            ]
          },
          "metadata": {},
          "execution_count": 90
        }
      ]
    },
    {
      "cell_type": "markdown",
      "source": [
        "### **`log`** massivning har bir elementini **logorifmini** hisoblaydi"
      ],
      "metadata": {
        "id": "QL6EwsSiyuBP"
      }
    },
    {
      "cell_type": "code",
      "source": [
        "arr"
      ],
      "metadata": {
        "colab": {
          "base_uri": "https://localhost:8080/"
        },
        "id": "T8pwFciByeKr",
        "outputId": "ba3a5622-6af5-446a-9b09-360fa8102f8a"
      },
      "execution_count": null,
      "outputs": [
        {
          "output_type": "execute_result",
          "data": {
            "text/plain": [
              "array([0, 1, 2, 3, 4, 5, 6, 7, 8, 9])"
            ]
          },
          "metadata": {},
          "execution_count": 91
        }
      ]
    },
    {
      "cell_type": "code",
      "source": [
        "np.log(arr)"
      ],
      "metadata": {
        "colab": {
          "base_uri": "https://localhost:8080/"
        },
        "id": "SRvjUpd_zZGz",
        "outputId": "c0b8a5d0-5a02-4862-df65-2aebe6d8fe37"
      },
      "execution_count": null,
      "outputs": [
        {
          "output_type": "stream",
          "name": "stderr",
          "text": [
            "/usr/local/lib/python3.7/dist-packages/ipykernel_launcher.py:1: RuntimeWarning: divide by zero encountered in log\n",
            "  \"\"\"Entry point for launching an IPython kernel.\n"
          ]
        },
        {
          "output_type": "execute_result",
          "data": {
            "text/plain": [
              "array([      -inf, 0.        , 0.69314718, 1.09861229, 1.38629436,\n",
              "       1.60943791, 1.79175947, 1.94591015, 2.07944154, 2.19722458])"
            ]
          },
          "metadata": {},
          "execution_count": 92
        }
      ]
    },
    {
      "cell_type": "code",
      "source": [
        "np.log(arr[1:])"
      ],
      "metadata": {
        "colab": {
          "base_uri": "https://localhost:8080/"
        },
        "id": "ViqK5HNKza5r",
        "outputId": "ab9d9adf-8710-470d-c84d-5c87255f9455"
      },
      "execution_count": null,
      "outputs": [
        {
          "output_type": "execute_result",
          "data": {
            "text/plain": [
              "array([0.        , 0.69314718, 1.09861229, 1.38629436, 1.60943791,\n",
              "       1.79175947, 1.94591015, 2.07944154, 2.19722458])"
            ]
          },
          "metadata": {},
          "execution_count": 93
        }
      ]
    },
    {
      "cell_type": "markdown",
      "source": [
        "### **`modf`** **haqiqiy** sonlarni **butun va qoldiq** qismini ajratib beruvchi funksiya"
      ],
      "metadata": {
        "id": "sfWI6ZoeznI2"
      }
    },
    {
      "cell_type": "code",
      "source": [
        "arr1 = np.random.randn(6)   # 6 ta elementdan iborat taxminiy qiymatlarga ega massiv\n",
        "arr1"
      ],
      "metadata": {
        "colab": {
          "base_uri": "https://localhost:8080/"
        },
        "id": "WTbEnTS9zeM8",
        "outputId": "9daebbb2-8b37-420b-be0c-bcb385d29ef7"
      },
      "execution_count": null,
      "outputs": [
        {
          "output_type": "execute_result",
          "data": {
            "text/plain": [
              "array([ 0.0883557 , -1.73235827, -0.63792242,  0.14844216, -1.03519999,\n",
              "        1.00953789])"
            ]
          },
          "metadata": {},
          "execution_count": 94
        }
      ]
    },
    {
      "cell_type": "code",
      "source": [
        "qoldiq, butun = np.modf(arr1)   # arr1 ning elementlarini qoldiq va butun qismlarni ikkita massivga ajratadi\n",
        "print(qoldiq)\n",
        "print(butun)"
      ],
      "metadata": {
        "colab": {
          "base_uri": "https://localhost:8080/"
        },
        "id": "KorL-vsu0JlL",
        "outputId": "8addf9a6-91df-43e7-e7d6-27d0d588a0bc"
      },
      "execution_count": null,
      "outputs": [
        {
          "output_type": "stream",
          "name": "stdout",
          "text": [
            "[ 0.0883557  -0.73235827 -0.63792242  0.14844216 -0.03519999  0.00953789]\n",
            "[ 0. -1. -0.  0. -1.  1.]\n"
          ]
        }
      ]
    },
    {
      "cell_type": "markdown",
      "source": [
        "### **`sign`** funksiyasi massiv elementlarining qiymati **manfiy** bo'lsa **`-1`** **musbat** bo'lsa **`1`** ni qaytaradi"
      ],
      "metadata": {
        "id": "h09Br9ew0736"
      }
    },
    {
      "cell_type": "code",
      "source": [
        "arr1"
      ],
      "metadata": {
        "colab": {
          "base_uri": "https://localhost:8080/"
        },
        "id": "yCH_GuGA0d8T",
        "outputId": "af9b246f-7280-44bf-964f-34090548147c"
      },
      "execution_count": null,
      "outputs": [
        {
          "output_type": "execute_result",
          "data": {
            "text/plain": [
              "array([ 0.0883557 , -1.73235827, -0.63792242,  0.14844216, -1.03519999,\n",
              "        1.00953789])"
            ]
          },
          "metadata": {},
          "execution_count": 96
        }
      ]
    },
    {
      "cell_type": "code",
      "source": [
        "np.sign(arr1)"
      ],
      "metadata": {
        "colab": {
          "base_uri": "https://localhost:8080/"
        },
        "id": "Gh4GsJTT14Qa",
        "outputId": "97c7cb67-4195-41dd-b4e5-142a77328dcd"
      },
      "execution_count": null,
      "outputs": [
        {
          "output_type": "execute_result",
          "data": {
            "text/plain": [
              "array([ 1., -1., -1.,  1., -1.,  1.])"
            ]
          },
          "metadata": {},
          "execution_count": 97
        }
      ]
    },
    {
      "cell_type": "markdown",
      "source": [
        "### **`isnan`** massivning elementlarida **NaN** ma'lumoti bo'lsa **`True`** aksincha bo'lsa **`False`** qaytaradi"
      ],
      "metadata": {
        "id": "FBryRyBE2og_"
      }
    },
    {
      "cell_type": "code",
      "source": [
        "arr1"
      ],
      "metadata": {
        "colab": {
          "base_uri": "https://localhost:8080/"
        },
        "id": "M3Fo-qli16OR",
        "outputId": "136003eb-424b-4dec-ca95-6f7744c06323"
      },
      "execution_count": null,
      "outputs": [
        {
          "output_type": "execute_result",
          "data": {
            "text/plain": [
              "array([ 0.0883557 , -1.73235827, -0.63792242,  0.14844216, -1.03519999,\n",
              "        1.00953789])"
            ]
          },
          "metadata": {},
          "execution_count": 98
        }
      ]
    },
    {
      "cell_type": "code",
      "source": [
        "np.isnan(arr1)"
      ],
      "metadata": {
        "colab": {
          "base_uri": "https://localhost:8080/"
        },
        "id": "z3ow58M03DMO",
        "outputId": "7a5d22e4-25c1-4cca-ff2a-0ea090db59bb"
      },
      "execution_count": null,
      "outputs": [
        {
          "output_type": "execute_result",
          "data": {
            "text/plain": [
              "array([False, False, False, False, False, False])"
            ]
          },
          "metadata": {},
          "execution_count": 99
        }
      ]
    },
    {
      "cell_type": "code",
      "source": [
        "arr1[0] = np.NaN  # 0 - elementni nan ga almashtiramiz"
      ],
      "metadata": {
        "id": "SRYJb2VK3FHi"
      },
      "execution_count": null,
      "outputs": []
    },
    {
      "cell_type": "code",
      "source": [
        "arr1"
      ],
      "metadata": {
        "colab": {
          "base_uri": "https://localhost:8080/"
        },
        "id": "Zurf3zWu3Qx7",
        "outputId": "0a5b3c3c-fd42-420f-c29c-2e5ef6ce89a4"
      },
      "execution_count": null,
      "outputs": [
        {
          "output_type": "execute_result",
          "data": {
            "text/plain": [
              "array([        nan, -1.73235827, -0.63792242,  0.14844216, -1.03519999,\n",
              "        1.00953789])"
            ]
          },
          "metadata": {},
          "execution_count": 101
        }
      ]
    },
    {
      "cell_type": "code",
      "source": [
        "np.isnan(arr1)"
      ],
      "metadata": {
        "colab": {
          "base_uri": "https://localhost:8080/"
        },
        "id": "4fzThVPf3SeT",
        "outputId": "8b0e01e9-a470-4b79-e632-893cb5e3dea2"
      },
      "execution_count": null,
      "outputs": [
        {
          "output_type": "execute_result",
          "data": {
            "text/plain": [
              "array([ True, False, False, False, False, False])"
            ]
          },
          "metadata": {},
          "execution_count": 102
        }
      ]
    },
    {
      "cell_type": "code",
      "source": [
        ""
      ],
      "metadata": {
        "id": "_IienGX73Vgz"
      },
      "execution_count": null,
      "outputs": []
    },
    {
      "cell_type": "markdown",
      "source": [
        "### **Unary functions** `picture`"
      ],
      "metadata": {
        "id": "pr8wqAOP4RGg"
      }
    },
    {
      "cell_type": "markdown",
      "source": [
        "#### Unary functions\n",
        "\n",
        "\n",
        "---\n",
        "\n",
        "![unary.png](data:image/png;base64,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)\n"
      ],
      "metadata": {
        "id": "qbYW8Bx33ije"
      }
    },
    {
      "cell_type": "markdown",
      "source": [
        "## 7.2 **Binary** funksiyalar (**ikkita argument** qabul qiluvchi funksiya)\n",
        "* **`add`, `multiply`, `maximum`** funksiyalrini ko'rib chiqamiz\n",
        "\n",
        "---"
      ],
      "metadata": {
        "id": "4YKPlzUQ5N_6"
      }
    },
    {
      "cell_type": "markdown",
      "source": [
        "### **`add`** ikkita massivning mos elementlarini **qo'shadi**"
      ],
      "metadata": {
        "id": "rjeGMdD56H80"
      }
    },
    {
      "cell_type": "code",
      "source": [
        "arr2 = np.random.randn(6)\n",
        "arr3 = np.random.randn(6)"
      ],
      "metadata": {
        "id": "2MyOHoHO6OhX"
      },
      "execution_count": null,
      "outputs": []
    },
    {
      "cell_type": "code",
      "source": [
        "arr2"
      ],
      "metadata": {
        "colab": {
          "base_uri": "https://localhost:8080/"
        },
        "id": "Mg2OlQdV8iBM",
        "outputId": "dc0faf13-9445-4534-b653-aa3405422923"
      },
      "execution_count": null,
      "outputs": [
        {
          "output_type": "execute_result",
          "data": {
            "text/plain": [
              "array([-0.2563957 , -0.19172186,  0.39200838, -0.58888379, -0.84362975,\n",
              "       -1.75363625])"
            ]
          },
          "metadata": {},
          "execution_count": 104
        }
      ]
    },
    {
      "cell_type": "code",
      "source": [
        "arr3"
      ],
      "metadata": {
        "colab": {
          "base_uri": "https://localhost:8080/"
        },
        "id": "hp_JmjKe8jn7",
        "outputId": "a59536d9-7b18-43fb-85ec-8c2594a9a9f3"
      },
      "execution_count": null,
      "outputs": [
        {
          "output_type": "execute_result",
          "data": {
            "text/plain": [
              "array([-1.28269532,  1.25401624,  1.10403519, -0.15982508, -1.48415596,\n",
              "        0.2109601 ])"
            ]
          },
          "metadata": {},
          "execution_count": 105
        }
      ]
    },
    {
      "cell_type": "code",
      "source": [
        "np.add(arr2, arr3)    # arr2 va arr3 ning elementlarini mos ravishda qo'shib beradi"
      ],
      "metadata": {
        "colab": {
          "base_uri": "https://localhost:8080/"
        },
        "id": "ojxyRgZX8nI6",
        "outputId": "ca225295-b74f-40a1-e11c-ff73adfc342b"
      },
      "execution_count": null,
      "outputs": [
        {
          "output_type": "execute_result",
          "data": {
            "text/plain": [
              "array([-1.53909102,  1.06229438,  1.49604357, -0.74870887, -2.32778572,\n",
              "       -1.54267615])"
            ]
          },
          "metadata": {},
          "execution_count": 106
        }
      ]
    },
    {
      "cell_type": "markdown",
      "source": [
        "### **`multiply`** ikkita massivning mos elementlarini **ko'paytiradi**"
      ],
      "metadata": {
        "id": "3f4IvOF56gTe"
      }
    },
    {
      "cell_type": "code",
      "source": [
        "arr2"
      ],
      "metadata": {
        "colab": {
          "base_uri": "https://localhost:8080/"
        },
        "id": "APOck8456wrz",
        "outputId": "75fdc3f6-26f2-414e-cd25-d47d28ba47a7"
      },
      "execution_count": null,
      "outputs": [
        {
          "output_type": "execute_result",
          "data": {
            "text/plain": [
              "array([-0.2563957 , -0.19172186,  0.39200838, -0.58888379, -0.84362975,\n",
              "       -1.75363625])"
            ]
          },
          "metadata": {},
          "execution_count": 107
        }
      ]
    },
    {
      "cell_type": "code",
      "source": [
        "arr3"
      ],
      "metadata": {
        "colab": {
          "base_uri": "https://localhost:8080/"
        },
        "id": "B_ayWTUY9CaS",
        "outputId": "8b1bec7c-1ca1-410e-a619-1dafc1091be4"
      },
      "execution_count": null,
      "outputs": [
        {
          "output_type": "execute_result",
          "data": {
            "text/plain": [
              "array([-1.28269532,  1.25401624,  1.10403519, -0.15982508, -1.48415596,\n",
              "        0.2109601 ])"
            ]
          },
          "metadata": {},
          "execution_count": 108
        }
      ]
    },
    {
      "cell_type": "code",
      "source": [
        "np.multiply(arr2, arr3)   # arr2 va arr3 ning elementlarini mos ravishda ko'paytirib beradi"
      ],
      "metadata": {
        "colab": {
          "base_uri": "https://localhost:8080/"
        },
        "id": "YKPJOR3q9CXu",
        "outputId": "7416f493-f1a8-4245-9b90-4b0bbe1893b8"
      },
      "execution_count": null,
      "outputs": [
        {
          "output_type": "execute_result",
          "data": {
            "text/plain": [
              "array([ 0.32887757, -0.24042233,  0.43279104,  0.0941184 ,  1.25207813,\n",
              "       -0.36994727])"
            ]
          },
          "metadata": {},
          "execution_count": 109
        }
      ]
    },
    {
      "cell_type": "markdown",
      "source": [
        "### **`maximum`** massivlarning elementlarini **taqqoslab** ulardan **kattasining** qiymatini qaytaradi"
      ],
      "metadata": {
        "id": "xLWOcmRo6i8Z"
      }
    },
    {
      "cell_type": "code",
      "source": [
        "arr2"
      ],
      "metadata": {
        "colab": {
          "base_uri": "https://localhost:8080/"
        },
        "id": "LxfQD5DY6rDZ",
        "outputId": "1ee01a50-1476-42c1-8610-0208fd2af251"
      },
      "execution_count": null,
      "outputs": [
        {
          "output_type": "execute_result",
          "data": {
            "text/plain": [
              "array([-0.2563957 , -0.19172186,  0.39200838, -0.58888379, -0.84362975,\n",
              "       -1.75363625])"
            ]
          },
          "metadata": {},
          "execution_count": 110
        }
      ]
    },
    {
      "cell_type": "code",
      "source": [
        "arr3"
      ],
      "metadata": {
        "colab": {
          "base_uri": "https://localhost:8080/"
        },
        "id": "PX5O8sWo9R-Z",
        "outputId": "f6ac4418-a38c-4f2c-ac39-6787a624fa3a"
      },
      "execution_count": null,
      "outputs": [
        {
          "output_type": "execute_result",
          "data": {
            "text/plain": [
              "array([-1.28269532,  1.25401624,  1.10403519, -0.15982508, -1.48415596,\n",
              "        0.2109601 ])"
            ]
          },
          "metadata": {},
          "execution_count": 111
        }
      ]
    },
    {
      "cell_type": "code",
      "source": [
        "np.maximum(arr2, arr3)    # arr2 va arr3 larning elementlarini taqqoslab, kattasining elementini qaytaradi"
      ],
      "metadata": {
        "colab": {
          "base_uri": "https://localhost:8080/"
        },
        "id": "lZWlqTNN9SeJ",
        "outputId": "eef6cdab-ffb5-4ab0-d91a-04068cf0927b"
      },
      "execution_count": null,
      "outputs": [
        {
          "output_type": "execute_result",
          "data": {
            "text/plain": [
              "array([-0.2563957 ,  1.25401624,  1.10403519, -0.15982508, -0.84362975,\n",
              "        0.2109601 ])"
            ]
          },
          "metadata": {},
          "execution_count": 112
        }
      ]
    },
    {
      "cell_type": "code",
      "source": [
        ""
      ],
      "metadata": {
        "id": "r2-KVqbp-bai"
      },
      "execution_count": null,
      "outputs": []
    },
    {
      "cell_type": "markdown",
      "source": [
        "### **Binary functions** `picture`"
      ],
      "metadata": {
        "id": "6C2Ad-LlBrou"
      }
    },
    {
      "cell_type": "markdown",
      "source": [
        "#### Binary functions\n",
        "\n",
        "---\n",
        "\n",
        "![binary_func.png](data:image/png;base64,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)"
      ],
      "metadata": {
        "id": "yOMLwGPcB1J2"
      }
    },
    {
      "cell_type": "markdown",
      "source": [
        "# ***# 8 Mantiqiy shart operatorlari (`where`)***\n",
        "* 2.1.3 Massivga yo'naltirilgan dasturlash"
      ],
      "metadata": {
        "id": "vxI87ZJcEDIP"
      }
    },
    {
      "cell_type": "markdown",
      "source": [
        "### **`where`** shart operatori"
      ],
      "metadata": {
        "id": "BvNuGiJWpe3g"
      }
    },
    {
      "cell_type": "code",
      "source": [
        "# Massivlar\n",
        "xarr = np.arange(1.1, 1.6, 0.1)   # x array = array([1.1, 1.2, 1.3, 1.4, 1.5])\n",
        "yarr = np.arange(2.1, 2.6, 0.1)   # y array = array([2.1, 2.2, 2.3, 2.4, 2.5])"
      ],
      "metadata": {
        "id": "irnvzz38E82W"
      },
      "execution_count": null,
      "outputs": []
    },
    {
      "cell_type": "code",
      "source": [
        "# Shart\n",
        "shart = np.array([True, False, True, True, False])"
      ],
      "metadata": {
        "id": "vSaa7CJVpbJs"
      },
      "execution_count": null,
      "outputs": []
    },
    {
      "cell_type": "code",
      "source": [
        "# where\n",
        "result = np.where(shart, xarr, yarr) # shart == True : xarr elementi,  agar   shart == False : yarr elementi\n",
        "result"
      ],
      "metadata": {
        "colab": {
          "base_uri": "https://localhost:8080/"
        },
        "id": "wqgWC93lpbG5",
        "outputId": "b7512ebd-b646-4f3c-fba7-925c37ea5b06"
      },
      "execution_count": null,
      "outputs": [
        {
          "output_type": "execute_result",
          "data": {
            "text/plain": [
              "array([1.1, 2.2, 1.3, 1.4, 2.5])"
            ]
          },
          "metadata": {},
          "execution_count": 115
        }
      ]
    },
    {
      "cell_type": "code",
      "source": [
        "arr = np.random.randn(4,4)    # 4x4 taxminiy massiv\n",
        "arr"
      ],
      "metadata": {
        "colab": {
          "base_uri": "https://localhost:8080/"
        },
        "id": "qnub_VROpagv",
        "outputId": "da218c6b-af58-474f-d0fb-32d4b135554f"
      },
      "execution_count": null,
      "outputs": [
        {
          "output_type": "execute_result",
          "data": {
            "text/plain": [
              "array([[ 4.71922580e-02, -1.85838109e+00,  1.15031417e+00,\n",
              "         5.52542190e-04],\n",
              "       [ 7.79140588e-02,  1.13728626e+00, -9.92365606e-01,\n",
              "        -1.39160412e+00],\n",
              "       [-2.22933969e+00, -4.16989983e-01,  1.21289020e+00,\n",
              "        -1.12526133e+00],\n",
              "       [ 3.37503383e-01,  7.15837552e-01,  7.42916335e-01,\n",
              "        -1.84478149e+00]])"
            ]
          },
          "metadata": {},
          "execution_count": 116
        }
      ]
    },
    {
      "cell_type": "code",
      "source": [
        "result = np.where(arr<0, -2, 2)   # arr ning manfiy elementlarini -2 ga, musbat elementlarini esa 2 ga almashtiramiz\n",
        "result"
      ],
      "metadata": {
        "colab": {
          "base_uri": "https://localhost:8080/"
        },
        "id": "D7fo-JXApaY7",
        "outputId": "1e56f017-f512-4ec5-b428-b331ca9686c0"
      },
      "execution_count": null,
      "outputs": [
        {
          "output_type": "execute_result",
          "data": {
            "text/plain": [
              "array([[ 2, -2,  2,  2],\n",
              "       [ 2,  2, -2, -2],\n",
              "       [-2, -2,  2, -2],\n",
              "       [ 2,  2,  2, -2]])"
            ]
          },
          "metadata": {},
          "execution_count": 117
        }
      ]
    },
    {
      "cell_type": "code",
      "source": [
        ""
      ],
      "metadata": {
        "id": "nOnY-2r9paT0"
      },
      "execution_count": null,
      "outputs": []
    },
    {
      "cell_type": "markdown",
      "source": [
        "# ***# 9 Arifmetik amallar***"
      ],
      "metadata": {
        "id": "8UA-DOszFWKn"
      }
    },
    {
      "cell_type": "code",
      "source": [
        "# data\n",
        "arr1 = np.arange(6).reshape(2,3)       # 0-6 gacha elementlardan tashkil topgan array\n",
        "arr2 = np.arange(6,12).reshape(2,3)    # 6 dan 11 gacha bo'lgan elementlardan tashkil topgan array"
      ],
      "metadata": {
        "id": "d447lrUSFYBv"
      },
      "execution_count": null,
      "outputs": []
    },
    {
      "cell_type": "code",
      "source": [
        "arr1"
      ],
      "metadata": {
        "colab": {
          "base_uri": "https://localhost:8080/"
        },
        "id": "pLkVnCY_uFdT",
        "outputId": "192596d2-8ba9-456a-e8dd-9835dfbfaea4"
      },
      "execution_count": null,
      "outputs": [
        {
          "output_type": "execute_result",
          "data": {
            "text/plain": [
              "array([[0, 1, 2],\n",
              "       [3, 4, 5]])"
            ]
          },
          "metadata": {},
          "execution_count": 119
        }
      ]
    },
    {
      "cell_type": "code",
      "source": [
        "arr2"
      ],
      "metadata": {
        "colab": {
          "base_uri": "https://localhost:8080/"
        },
        "id": "d0L0_VqeuFae",
        "outputId": "3e0fd63c-3d21-4688-c414-3d1eb09cf8bb"
      },
      "execution_count": null,
      "outputs": [
        {
          "output_type": "execute_result",
          "data": {
            "text/plain": [
              "array([[ 6,  7,  8],\n",
              "       [ 9, 10, 11]])"
            ]
          },
          "metadata": {},
          "execution_count": 120
        }
      ]
    },
    {
      "cell_type": "code",
      "source": [
        "# Ko'paytirish\n",
        "arr1 * arr2"
      ],
      "metadata": {
        "colab": {
          "base_uri": "https://localhost:8080/"
        },
        "id": "b8Hq0WfGth0-",
        "outputId": "9fa9d7c3-4512-4295-dbd4-3030836c3267"
      },
      "execution_count": null,
      "outputs": [
        {
          "output_type": "execute_result",
          "data": {
            "text/plain": [
              "array([[ 0,  7, 16],\n",
              "       [27, 40, 55]])"
            ]
          },
          "metadata": {},
          "execution_count": 121
        }
      ]
    },
    {
      "cell_type": "code",
      "source": [
        "# Bo'lish\n",
        "arr2/arr1"
      ],
      "metadata": {
        "colab": {
          "base_uri": "https://localhost:8080/"
        },
        "id": "4lYnWUgGthyN",
        "outputId": "9af6d281-f830-4aba-dacd-35874639a053"
      },
      "execution_count": null,
      "outputs": [
        {
          "output_type": "stream",
          "name": "stderr",
          "text": [
            "/usr/local/lib/python3.7/dist-packages/ipykernel_launcher.py:2: RuntimeWarning: divide by zero encountered in true_divide\n",
            "  \n"
          ]
        },
        {
          "output_type": "execute_result",
          "data": {
            "text/plain": [
              "array([[inf, 7. , 4. ],\n",
              "       [3. , 2.5, 2.2]])"
            ]
          },
          "metadata": {},
          "execution_count": 122
        }
      ]
    },
    {
      "cell_type": "code",
      "source": [
        "# Qo'shish\n",
        "arr1 + arr2"
      ],
      "metadata": {
        "colab": {
          "base_uri": "https://localhost:8080/"
        },
        "id": "tiwAmKBJthvL",
        "outputId": "14961210-7a11-4262-bdc8-986fa45183a4"
      },
      "execution_count": null,
      "outputs": [
        {
          "output_type": "execute_result",
          "data": {
            "text/plain": [
              "array([[ 6,  8, 10],\n",
              "       [12, 14, 16]])"
            ]
          },
          "metadata": {},
          "execution_count": 123
        }
      ]
    },
    {
      "cell_type": "code",
      "source": [
        "# Ayirish\n",
        "arr2 - arr1   # arr2 ning elementlaridan arr1 ning mos elementlarini ayirish"
      ],
      "metadata": {
        "colab": {
          "base_uri": "https://localhost:8080/"
        },
        "id": "vp-e5LEkuf9J",
        "outputId": "1e307c07-75f2-4071-a562-028bbaa00f35"
      },
      "execution_count": null,
      "outputs": [
        {
          "output_type": "execute_result",
          "data": {
            "text/plain": [
              "array([[6, 6, 6],\n",
              "       [6, 6, 6]])"
            ]
          },
          "metadata": {},
          "execution_count": 124
        }
      ]
    },
    {
      "cell_type": "code",
      "source": [
        "# kvadratga oshirish (square)\n",
        "arr1 ** 2"
      ],
      "metadata": {
        "colab": {
          "base_uri": "https://localhost:8080/"
        },
        "id": "Zy9gBxB9uf6P",
        "outputId": "5e487170-575d-4848-8553-e3ad6aa256ec"
      },
      "execution_count": null,
      "outputs": [
        {
          "output_type": "execute_result",
          "data": {
            "text/plain": [
              "array([[ 0,  1,  4],\n",
              "       [ 9, 16, 25]])"
            ]
          },
          "metadata": {},
          "execution_count": 125
        }
      ]
    },
    {
      "cell_type": "code",
      "source": [
        "# kvadrat ildiz (sqrt)\n",
        "arr2 ** 0.5"
      ],
      "metadata": {
        "colab": {
          "base_uri": "https://localhost:8080/"
        },
        "id": "vzd7dy6Su9EI",
        "outputId": "f62143b3-3412-4c20-e88c-7d83d933bf41"
      },
      "execution_count": null,
      "outputs": [
        {
          "output_type": "execute_result",
          "data": {
            "text/plain": [
              "array([[2.44948974, 2.64575131, 2.82842712],\n",
              "       [3.        , 3.16227766, 3.31662479]])"
            ]
          },
          "metadata": {},
          "execution_count": 126
        }
      ]
    },
    {
      "cell_type": "code",
      "source": [
        "# kvadrat ildiz (sqrt)\n",
        "np.sqrt(arr2)"
      ],
      "metadata": {
        "colab": {
          "base_uri": "https://localhost:8080/"
        },
        "id": "AaoLZa3Nu9Aw",
        "outputId": "8c56ff19-9e8f-41df-a2d9-a9e9030211b8"
      },
      "execution_count": null,
      "outputs": [
        {
          "output_type": "execute_result",
          "data": {
            "text/plain": [
              "array([[2.44948974, 2.64575131, 2.82842712],\n",
              "       [3.        , 3.16227766, 3.31662479]])"
            ]
          },
          "metadata": {},
          "execution_count": 127
        }
      ]
    },
    {
      "cell_type": "markdown",
      "source": [
        "# ***# 10 Matematik va Statistik amallar***"
      ],
      "metadata": {
        "id": "5ykB8gLvFZQ8"
      }
    },
    {
      "cell_type": "code",
      "source": [
        "arr = np.array([[1, 1, 1, 1, 1, 1, 1],\n",
        "                 [2, 2, 2, 2, 2, 2, 2],\n",
        "                 [3, 3, 3, 3, 3, 3, 3]])\n",
        "arr"
      ],
      "metadata": {
        "colab": {
          "base_uri": "https://localhost:8080/"
        },
        "id": "pjAglaIP1eTr",
        "outputId": "c272f5ee-5ec7-4213-a192-10348d943df2"
      },
      "execution_count": null,
      "outputs": [
        {
          "output_type": "execute_result",
          "data": {
            "text/plain": [
              "array([[1, 1, 1, 1, 1, 1, 1],\n",
              "       [2, 2, 2, 2, 2, 2, 2],\n",
              "       [3, 3, 3, 3, 3, 3, 3]])"
            ]
          },
          "metadata": {},
          "execution_count": 128
        }
      ]
    },
    {
      "cell_type": "markdown",
      "source": [
        "## **Asosiy statistik metodlar (`picture`)**\n"
      ],
      "metadata": {
        "id": "5mRfBtESwFKA"
      }
    },
    {
      "cell_type": "markdown",
      "source": [
        "#### `picture`\n",
        "\n",
        "![statistics.png](data:image/png;base64,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)"
      ],
      "metadata": {
        "id": "oinfEdwHwcYa"
      }
    },
    {
      "cell_type": "markdown",
      "source": [
        "## **`sum`** metodi"
      ],
      "metadata": {
        "id": "1O49qO1S1R9X"
      }
    },
    {
      "cell_type": "code",
      "source": [
        "# arr ning barcha elementlari yig'indisi  \n",
        "\n",
        "arr.sum()   # 1-usul \n",
        "np.sum(arr) # 2-usul"
      ],
      "metadata": {
        "colab": {
          "base_uri": "https://localhost:8080/"
        },
        "id": "7S7ZjaR51XRZ",
        "outputId": "fe5b9a59-56c5-4f71-f5af-c07b7b257263"
      },
      "execution_count": null,
      "outputs": [
        {
          "output_type": "execute_result",
          "data": {
            "text/plain": [
              "42"
            ]
          },
          "metadata": {},
          "execution_count": 129
        }
      ]
    },
    {
      "cell_type": "code",
      "source": [
        "arr[[0,2]].sum()"
      ],
      "metadata": {
        "colab": {
          "base_uri": "https://localhost:8080/"
        },
        "id": "ulNFC2tH4BIx",
        "outputId": "b94b647b-5683-49e5-e518-bb3d9062cffd"
      },
      "execution_count": null,
      "outputs": [
        {
          "output_type": "execute_result",
          "data": {
            "text/plain": [
              "28"
            ]
          },
          "metadata": {},
          "execution_count": 130
        }
      ]
    },
    {
      "cell_type": "code",
      "source": [
        "np.sum(arr[0])"
      ],
      "metadata": {
        "colab": {
          "base_uri": "https://localhost:8080/"
        },
        "id": "3LgSKIlC36Uc",
        "outputId": "015b025f-235e-4cdc-edda-35035dc3c737"
      },
      "execution_count": null,
      "outputs": [
        {
          "output_type": "execute_result",
          "data": {
            "text/plain": [
              "7"
            ]
          },
          "metadata": {},
          "execution_count": 131
        }
      ]
    },
    {
      "cell_type": "markdown",
      "source": [
        "***sum axis*** \n",
        "\n",
        "---"
      ],
      "metadata": {
        "id": "7mWFsRz05tXx"
      }
    },
    {
      "cell_type": "code",
      "source": [
        "arr.sum(axis=1)"
      ],
      "metadata": {
        "colab": {
          "base_uri": "https://localhost:8080/"
        },
        "id": "KWA2V1-r511M",
        "outputId": "272da871-3c56-49cc-eb46-683bf6925d9b"
      },
      "execution_count": null,
      "outputs": [
        {
          "output_type": "execute_result",
          "data": {
            "text/plain": [
              "array([ 7, 14, 21])"
            ]
          },
          "metadata": {},
          "execution_count": 132
        }
      ]
    },
    {
      "cell_type": "code",
      "source": [
        "arr.sum(axis=0)"
      ],
      "metadata": {
        "colab": {
          "base_uri": "https://localhost:8080/"
        },
        "id": "iAiOBC3E5-B0",
        "outputId": "8aba0b0e-d4af-4015-b62a-cca10cd16996"
      },
      "execution_count": null,
      "outputs": [
        {
          "output_type": "execute_result",
          "data": {
            "text/plain": [
              "array([6, 6, 6, 6, 6, 6, 6])"
            ]
          },
          "metadata": {},
          "execution_count": 133
        }
      ]
    },
    {
      "cell_type": "markdown",
      "source": [
        "## **`mean`** metodi"
      ],
      "metadata": {
        "id": "rEObb4Y92qVh"
      }
    },
    {
      "cell_type": "code",
      "source": [
        "arr"
      ],
      "metadata": {
        "colab": {
          "base_uri": "https://localhost:8080/"
        },
        "id": "LxHSec265h7J",
        "outputId": "786288a6-dbf2-4e43-8970-94a1b460ccc1"
      },
      "execution_count": null,
      "outputs": [
        {
          "output_type": "execute_result",
          "data": {
            "text/plain": [
              "array([[1, 1, 1, 1, 1, 1, 1],\n",
              "       [2, 2, 2, 2, 2, 2, 2],\n",
              "       [3, 3, 3, 3, 3, 3, 3]])"
            ]
          },
          "metadata": {},
          "execution_count": 134
        }
      ]
    },
    {
      "cell_type": "code",
      "source": [
        "arr.mean()    # 1-usul \n",
        "np.mean(arr)  # 2-usul "
      ],
      "metadata": {
        "colab": {
          "base_uri": "https://localhost:8080/"
        },
        "id": "VFgNTrPp2qCQ",
        "outputId": "10063827-1167-4691-902f-29396c965154"
      },
      "execution_count": null,
      "outputs": [
        {
          "output_type": "execute_result",
          "data": {
            "text/plain": [
              "2.0"
            ]
          },
          "metadata": {},
          "execution_count": 135
        }
      ]
    },
    {
      "cell_type": "code",
      "source": [
        "arr[[1,2]].mean()"
      ],
      "metadata": {
        "colab": {
          "base_uri": "https://localhost:8080/"
        },
        "id": "_lZYux_r3d3J",
        "outputId": "40b795af-5dba-4447-c31a-a8818caca592"
      },
      "execution_count": null,
      "outputs": [
        {
          "output_type": "execute_result",
          "data": {
            "text/plain": [
              "2.5"
            ]
          },
          "metadata": {},
          "execution_count": 136
        }
      ]
    },
    {
      "cell_type": "code",
      "source": [
        "np.mean(arr[[0,1]])"
      ],
      "metadata": {
        "colab": {
          "base_uri": "https://localhost:8080/"
        },
        "id": "h4DtqipV2p_q",
        "outputId": "31894717-5d1b-4656-c071-5fd834566c27"
      },
      "execution_count": null,
      "outputs": [
        {
          "output_type": "execute_result",
          "data": {
            "text/plain": [
              "1.5"
            ]
          },
          "metadata": {},
          "execution_count": 137
        }
      ]
    },
    {
      "cell_type": "markdown",
      "source": [
        "## **`cumsum`** metodi"
      ],
      "metadata": {
        "id": "rrdYEHoL24D2"
      }
    },
    {
      "cell_type": "code",
      "source": [
        "arr"
      ],
      "metadata": {
        "colab": {
          "base_uri": "https://localhost:8080/"
        },
        "id": "5Vu-sfq_4mVx",
        "outputId": "3cdee42c-88f0-40c9-a1aa-df70db007990"
      },
      "execution_count": null,
      "outputs": [
        {
          "output_type": "execute_result",
          "data": {
            "text/plain": [
              "array([[1, 1, 1, 1, 1, 1, 1],\n",
              "       [2, 2, 2, 2, 2, 2, 2],\n",
              "       [3, 3, 3, 3, 3, 3, 3]])"
            ]
          },
          "metadata": {},
          "execution_count": 138
        }
      ]
    },
    {
      "cell_type": "code",
      "source": [
        "arr.cumsum()    # 1-usul\n",
        "np.cumsum(arr)  # 2-usul"
      ],
      "metadata": {
        "colab": {
          "base_uri": "https://localhost:8080/"
        },
        "id": "AW4HvfcT2p8d",
        "outputId": "2305afe2-5f53-4f0b-c7ea-2ddc8f21ec29"
      },
      "execution_count": null,
      "outputs": [
        {
          "output_type": "execute_result",
          "data": {
            "text/plain": [
              "array([ 1,  2,  3,  4,  5,  6,  7,  9, 11, 13, 15, 17, 19, 21, 24, 27, 30,\n",
              "       33, 36, 39, 42])"
            ]
          },
          "metadata": {},
          "execution_count": 139
        }
      ]
    },
    {
      "cell_type": "code",
      "source": [
        "arr[0].cumsum()"
      ],
      "metadata": {
        "colab": {
          "base_uri": "https://localhost:8080/"
        },
        "id": "aowdv-bQ4wyc",
        "outputId": "dd62594e-587f-43ed-d77e-380cb8dedf39"
      },
      "execution_count": null,
      "outputs": [
        {
          "output_type": "execute_result",
          "data": {
            "text/plain": [
              "array([1, 2, 3, 4, 5, 6, 7])"
            ]
          },
          "metadata": {},
          "execution_count": 140
        }
      ]
    },
    {
      "cell_type": "code",
      "source": [
        "np.cumsum(arr[[1,2]])"
      ],
      "metadata": {
        "colab": {
          "base_uri": "https://localhost:8080/"
        },
        "id": "wDw7HIDg424m",
        "outputId": "42f7a46a-54ce-436a-f4b5-bae9ad03c02a"
      },
      "execution_count": null,
      "outputs": [
        {
          "output_type": "execute_result",
          "data": {
            "text/plain": [
              "array([ 2,  4,  6,  8, 10, 12, 14, 17, 20, 23, 26, 29, 32, 35])"
            ]
          },
          "metadata": {},
          "execution_count": 141
        }
      ]
    },
    {
      "cell_type": "markdown",
      "source": [
        "***cumsum axis***\n",
        "\n",
        "---"
      ],
      "metadata": {
        "id": "90m0fRn56eHf"
      }
    },
    {
      "cell_type": "code",
      "source": [
        "np.cumsum(arr, axis=1)"
      ],
      "metadata": {
        "colab": {
          "base_uri": "https://localhost:8080/"
        },
        "id": "TrJBbxMw6TVP",
        "outputId": "c4bb144c-3698-4a52-8ede-4634c6ba6c92"
      },
      "execution_count": null,
      "outputs": [
        {
          "output_type": "execute_result",
          "data": {
            "text/plain": [
              "array([[ 1,  2,  3,  4,  5,  6,  7],\n",
              "       [ 2,  4,  6,  8, 10, 12, 14],\n",
              "       [ 3,  6,  9, 12, 15, 18, 21]])"
            ]
          },
          "metadata": {},
          "execution_count": 142
        }
      ]
    },
    {
      "cell_type": "code",
      "source": [
        "np.cumsum(arr, axis=0)"
      ],
      "metadata": {
        "colab": {
          "base_uri": "https://localhost:8080/"
        },
        "id": "EpSSeD4a6YX2",
        "outputId": "4ecef04f-fd90-496e-d645-641164e22328"
      },
      "execution_count": null,
      "outputs": [
        {
          "output_type": "execute_result",
          "data": {
            "text/plain": [
              "array([[1, 1, 1, 1, 1, 1, 1],\n",
              "       [3, 3, 3, 3, 3, 3, 3],\n",
              "       [6, 6, 6, 6, 6, 6, 6]])"
            ]
          },
          "metadata": {},
          "execution_count": 143
        }
      ]
    },
    {
      "cell_type": "code",
      "source": [
        ""
      ],
      "metadata": {
        "id": "BSv9C3RU6-3l"
      },
      "execution_count": null,
      "outputs": []
    },
    {
      "cell_type": "markdown",
      "source": [
        "# ***# 11 Tartiblash (Sorting)***"
      ],
      "metadata": {
        "id": "QtK-27dmFbeJ"
      }
    },
    {
      "cell_type": "markdown",
      "source": [
        "### Tartiblash **(`Sorting`)**"
      ],
      "metadata": {
        "id": "4VOdGjoV3YYl"
      }
    },
    {
      "cell_type": "code",
      "source": [
        "# data\n",
        "arr = np.random.rand(4)   # 4 ta taxminiy elementlardan tashkil topgan array\n",
        "arr"
      ],
      "metadata": {
        "colab": {
          "base_uri": "https://localhost:8080/",
          "height": 0
        },
        "id": "G6cglt4t3m-J",
        "outputId": "3c2ec7e2-f135-40e6-fb5d-cf5e2f41bfa8"
      },
      "execution_count": 159,
      "outputs": [
        {
          "output_type": "execute_result",
          "data": {
            "text/plain": [
              "array([0.96628811, 0.49935829, 0.18510454, 0.31522395])"
            ]
          },
          "metadata": {},
          "execution_count": 159
        }
      ]
    },
    {
      "cell_type": "markdown",
      "source": [
        "#### **`sort`** funksiyasi"
      ],
      "metadata": {
        "id": "oe3cARat4Gt5"
      }
    },
    {
      "cell_type": "code",
      "source": [
        "# 1-usul\n",
        "sorted_arr = np.sort(arr)   # arr massivining tartiblangan ko'rinishini yangi o'zgaruvchiga yuklaydi\n",
        "sorted_arr"
      ],
      "metadata": {
        "id": "kdn8G4rs3m7G",
        "colab": {
          "base_uri": "https://localhost:8080/",
          "height": 0
        },
        "outputId": "b360d701-a95f-4bcd-aa30-134b39e0108d"
      },
      "execution_count": 173,
      "outputs": [
        {
          "output_type": "execute_result",
          "data": {
            "text/plain": [
              "array([0.18510454, 0.31522395, 0.49935829, 0.96628811])"
            ]
          },
          "metadata": {},
          "execution_count": 173
        }
      ]
    },
    {
      "cell_type": "code",
      "source": [
        "# 2-usul\n",
        "arr.sort()    # arr massivining tartiblangan ko'rinishini qaytaradi\n",
        "arr"
      ],
      "metadata": {
        "id": "h8J_rhVqFdEC",
        "colab": {
          "base_uri": "https://localhost:8080/",
          "height": 0
        },
        "outputId": "5bebc967-30a3-4555-ff54-bae59761de00"
      },
      "execution_count": 186,
      "outputs": [
        {
          "output_type": "execute_result",
          "data": {
            "text/plain": [
              "array([0.18510454, 0.31522395, 0.49935829, 0.96628811])"
            ]
          },
          "metadata": {},
          "execution_count": 186
        }
      ]
    },
    {
      "cell_type": "code",
      "source": [
        "# teskari tartiblash\n",
        "rev_arr = -np.sort(-arr)    # arr massivining teskari tartiblangan ko'rinishi\n",
        "rev_arr"
      ],
      "metadata": {
        "colab": {
          "base_uri": "https://localhost:8080/",
          "height": 0
        },
        "id": "gRZSK_G26sL0",
        "outputId": "b622f695-8d26-4868-ce5a-c32f245b599e"
      },
      "execution_count": 198,
      "outputs": [
        {
          "output_type": "execute_result",
          "data": {
            "text/plain": [
              "array([0.96628811, 0.49935829, 0.31522395, 0.18510454])"
            ]
          },
          "metadata": {},
          "execution_count": 198
        }
      ]
    },
    {
      "cell_type": "code",
      "source": [
        "# 2D array (massiv) \n",
        "arr2d = np.random.randn(2, 4)   # 2x4 shakldagi random massiv\n",
        "arr2d"
      ],
      "metadata": {
        "colab": {
          "base_uri": "https://localhost:8080/",
          "height": 0
        },
        "id": "NbMXKqUF6tMt",
        "outputId": "bd04fdfa-2c2a-4725-8fbb-d88f346aa4bd"
      },
      "execution_count": 167,
      "outputs": [
        {
          "output_type": "execute_result",
          "data": {
            "text/plain": [
              "array([[ 0.03377059,  2.03027891, -0.48600779, -0.28914083],\n",
              "       [-0.55337423,  0.90015205, -2.16448136,  0.14790831]])"
            ]
          },
          "metadata": {},
          "execution_count": 167
        }
      ]
    },
    {
      "cell_type": "code",
      "source": [
        "# axis = 0 --> Qator\n",
        "row_srt = np.sort(arr2d, axis = 0 )   # Tartibli ustun\n",
        "row_srt"
      ],
      "metadata": {
        "colab": {
          "base_uri": "https://localhost:8080/",
          "height": 0
        },
        "id": "5XTZ1PVo6tKS",
        "outputId": "54e504a5-2afd-4dbb-cdca-8453fcb57dc9"
      },
      "execution_count": 168,
      "outputs": [
        {
          "output_type": "execute_result",
          "data": {
            "text/plain": [
              "array([[-0.55337423,  0.90015205, -2.16448136, -0.28914083],\n",
              "       [ 0.03377059,  2.03027891, -0.48600779,  0.14790831]])"
            ]
          },
          "metadata": {},
          "execution_count": 168
        }
      ]
    },
    {
      "cell_type": "code",
      "source": [
        "# axis = 1 --> Ustun\n",
        "col_srt = np.sort(arr2d, axis = 1)    # Tartibli qator\n",
        "col_srt"
      ],
      "metadata": {
        "colab": {
          "base_uri": "https://localhost:8080/",
          "height": 0
        },
        "id": "CkYPtVcd6tHl",
        "outputId": "6c0c4b84-e93c-44c6-f7a4-8b56a0ee139b"
      },
      "execution_count": 199,
      "outputs": [
        {
          "output_type": "execute_result",
          "data": {
            "text/plain": [
              "array([[-0.48600779, -0.28914083,  0.03377059,  2.03027891],\n",
              "       [-2.16448136, -0.55337423,  0.14790831,  0.90015205]])"
            ]
          },
          "metadata": {},
          "execution_count": 199
        }
      ]
    },
    {
      "cell_type": "markdown",
      "source": [
        "# ***# 12 Takrorlanmas va Boshqa amallar***"
      ],
      "metadata": {
        "id": "kopYogkLFdiQ"
      }
    },
    {
      "cell_type": "markdown",
      "source": [
        "### **`unique`**, **`in1d`**, **`setdiff1d`** va boshqa usullar"
      ],
      "metadata": {
        "id": "XNKV0C6iD3fZ"
      }
    },
    {
      "cell_type": "code",
      "source": [
        "# data \n",
        "names = np.array(['Sarvar', 'Abdurahmon', 'Hasan', 'Temur', 'Sarvar', 'Temur', 'Hasan'])\n",
        "ints = np.array([3, 3, 3, 2, 2, 1, 1, 4, 4])"
      ],
      "metadata": {
        "id": "xv6Q5g_AFfs8"
      },
      "execution_count": 187,
      "outputs": []
    },
    {
      "cell_type": "code",
      "source": [
        "# unique ''names''\n",
        "np.unique(names)    # names dagi takrorlanmas elementlarni qaytaradi (takrorlansa ham faqat bittasini qabul qiladi)"
      ],
      "metadata": {
        "colab": {
          "base_uri": "https://localhost:8080/",
          "height": 0
        },
        "id": "WwnLCyzoE2Mo",
        "outputId": "73bbf483-6f35-475f-9ab1-382fe9682c01"
      },
      "execution_count": 188,
      "outputs": [
        {
          "output_type": "execute_result",
          "data": {
            "text/plain": [
              "array(['Abdurahmon', 'Hasan', 'Sarvar', 'Temur'], dtype='<U10')"
            ]
          },
          "metadata": {},
          "execution_count": 188
        }
      ]
    },
    {
      "cell_type": "code",
      "source": [
        "# unique ''ints''\n",
        "np.unique(ints)"
      ],
      "metadata": {
        "colab": {
          "base_uri": "https://localhost:8080/",
          "height": 0
        },
        "id": "8hy1resXE2Kg",
        "outputId": "99427833-2ee2-4fa2-8e86-785fd36038a9"
      },
      "execution_count": 190,
      "outputs": [
        {
          "output_type": "execute_result",
          "data": {
            "text/plain": [
              "array([1, 2, 3, 4])"
            ]
          },
          "metadata": {},
          "execution_count": 190
        }
      ]
    },
    {
      "cell_type": "code",
      "source": [
        "# set\n",
        "set(names)    # names dagi unique(takrorlanmas) elementlarni qaytaradi"
      ],
      "metadata": {
        "colab": {
          "base_uri": "https://localhost:8080/",
          "height": 0
        },
        "id": "uH4NUXrrE2Hw",
        "outputId": "52888b04-6d1f-4aeb-9882-be1d3ec6c57c"
      },
      "execution_count": 191,
      "outputs": [
        {
          "output_type": "execute_result",
          "data": {
            "text/plain": [
              "{'Abdurahmon', 'Hasan', 'Sarvar', 'Temur'}"
            ]
          },
          "metadata": {},
          "execution_count": 191
        }
      ]
    },
    {
      "cell_type": "markdown",
      "source": [
        "***`in1d`*** usuli\n",
        "\n",
        "---\n",
        "\n",
        "\n",
        "\n",
        "---\n",
        "\n"
      ],
      "metadata": {
        "id": "wQuzsCWdFtFR"
      }
    },
    {
      "cell_type": "code",
      "source": [
        "# data\n",
        "arr1 = np.array([6, 0, 0, 3, 2, 5, 6])\n",
        "arr2 = np.array([0, 2, 3])"
      ],
      "metadata": {
        "id": "cXY4Z0K3E2FB"
      },
      "execution_count": 192,
      "outputs": []
    },
    {
      "cell_type": "code",
      "source": [
        "np.in1d(arr1, arr2)   # arr2 dagi elementlarni arr1d da mavjudligini tekshirish"
      ],
      "metadata": {
        "colab": {
          "base_uri": "https://localhost:8080/",
          "height": 0
        },
        "id": "2OmHZdjOG9mG",
        "outputId": "602c392b-c38a-4967-a63f-3c6612e61c00"
      },
      "execution_count": 194,
      "outputs": [
        {
          "output_type": "execute_result",
          "data": {
            "text/plain": [
              "array([False,  True,  True,  True,  True, False, False])"
            ]
          },
          "metadata": {},
          "execution_count": 194
        }
      ]
    },
    {
      "cell_type": "markdown",
      "source": [
        "***`setdiff1d`*** usuli\n",
        "\n",
        "---\n",
        "\n",
        "\n",
        "\n",
        "---\n",
        "\n"
      ],
      "metadata": {
        "id": "LcJqMHrYHTV1"
      }
    },
    {
      "cell_type": "code",
      "source": [
        "# data\n",
        "names1 = np.array(['Jasur', 'Abdurahmon', 'Hasan', 'Muhammad', 'Sarvar', 'Temur'])\n",
        "names2 = np.array(['Sarvar', 'Abdurahmon', 'Hasan', 'Temur', 'Sarvar', 'Temur'])"
      ],
      "metadata": {
        "id": "42viqs1pHSS8"
      },
      "execution_count": 195,
      "outputs": []
    },
    {
      "cell_type": "code",
      "source": [
        "np.setdiff1d(names1, names2)    # names1 ning names2 dagi takrorlanmas qismini qaytaradi"
      ],
      "metadata": {
        "colab": {
          "base_uri": "https://localhost:8080/",
          "height": 0
        },
        "id": "ULtPFdtlIC-u",
        "outputId": "f46bb31b-6427-4417-dc9c-8c311bf19510"
      },
      "execution_count": 197,
      "outputs": [
        {
          "output_type": "execute_result",
          "data": {
            "text/plain": [
              "array(['Jasur', 'Muhammad'], dtype='<U10')"
            ]
          },
          "metadata": {},
          "execution_count": 197
        }
      ]
    },
    {
      "cell_type": "markdown",
      "source": [
        "# ***# 13 Fayllar bilan ishlash***\n",
        " \"Anvar Narzullayev\""
      ],
      "metadata": {
        "id": "zp1rN5dRFgH6"
      }
    },
    {
      "cell_type": "code",
      "source": [
        "import numpy as np"
      ],
      "metadata": {
        "id": "vFaMzjZLFhuO"
      },
      "execution_count": 201,
      "outputs": []
    },
    {
      "cell_type": "code",
      "source": [
        "arr = np.arange(10)\n",
        "arr"
      ],
      "metadata": {
        "colab": {
          "base_uri": "https://localhost:8080/"
        },
        "id": "Zrg2pB73PBa7",
        "outputId": "194c5397-6f9e-4c40-d930-248dc63fc88f"
      },
      "execution_count": 274,
      "outputs": [
        {
          "output_type": "execute_result",
          "data": {
            "text/plain": [
              "array([0, 1, 2, 3, 4, 5, 6, 7, 8, 9])"
            ]
          },
          "metadata": {},
          "execution_count": 274
        }
      ]
    },
    {
      "cell_type": "markdown",
      "source": [
        "**`np.save(`** *'faylga nom berish'*, *array* **`)`**\n",
        "\n",
        "---\n"
      ],
      "metadata": {
        "id": "a7dI7jVHTeyC"
      }
    },
    {
      "cell_type": "code",
      "source": [
        "# save --> faylni saqlash\n",
        "np.save('data', arr)"
      ],
      "metadata": {
        "id": "Nwream5IPBX8"
      },
      "execution_count": 204,
      "outputs": []
    },
    {
      "cell_type": "markdown",
      "source": [
        "**`np.load(`** *'fayl nomi'.npy* **`)`**\n",
        "\n",
        "---\n"
      ],
      "metadata": {
        "id": "-BK2GRrHUsho"
      }
    },
    {
      "cell_type": "code",
      "source": [
        "# load -- fayldan o'qish\n",
        "arr2 = np.load('data.npy')\n",
        "arr2"
      ],
      "metadata": {
        "colab": {
          "base_uri": "https://localhost:8080/"
        },
        "id": "oRUaYqSYPBVb",
        "outputId": "17a61594-f97e-4591-d5c5-b2e61e874919"
      },
      "execution_count": 205,
      "outputs": [
        {
          "output_type": "execute_result",
          "data": {
            "text/plain": [
              "array([0, 1, 2, 3, 4, 5, 6, 7, 8, 9])"
            ]
          },
          "metadata": {},
          "execution_count": 205
        }
      ]
    },
    {
      "cell_type": "markdown",
      "source": [
        "**`np.savez(`** *'faylga nom berish'*, *a = array1, b = array2, n = array n* **`)`**\n",
        "\n",
        "---\n"
      ],
      "metadata": {
        "id": "xJJdp0qETryb"
      }
    },
    {
      "cell_type": "code",
      "source": [
        "arr1 = np.arange(20)"
      ],
      "metadata": {
        "id": "1BmCZQFEPBTB"
      },
      "execution_count": 266,
      "outputs": []
    },
    {
      "cell_type": "code",
      "source": [
        "print(arr)\n",
        "print(arr1)"
      ],
      "metadata": {
        "colab": {
          "base_uri": "https://localhost:8080/"
        },
        "id": "cYpm4tb_Y_Yr",
        "outputId": "73a7b5c1-a2e7-4e5b-a329-dfce40cf9ce2"
      },
      "execution_count": 267,
      "outputs": [
        {
          "output_type": "stream",
          "name": "stdout",
          "text": [
            "[0 1 2 3 4 5 6 7 8 9]\n",
            "[ 0  1  2  3  4  5  6  7  8  9 10 11 12 13 14 15 16 17 18 19]\n"
          ]
        }
      ]
    },
    {
      "cell_type": "code",
      "source": [
        "# savez --> bir necha fayllarni saqlash\n",
        "np.savez('arrays.npz', a = arr, b = arr1)"
      ],
      "metadata": {
        "id": "r-5YpO06Qen2"
      },
      "execution_count": 246,
      "outputs": []
    },
    {
      "cell_type": "code",
      "source": [
        "arrays = np.load('arrays.npz')"
      ],
      "metadata": {
        "id": "dkdRT9YPQejZ"
      },
      "execution_count": 247,
      "outputs": []
    },
    {
      "cell_type": "code",
      "source": [
        "arrays['a']"
      ],
      "metadata": {
        "colab": {
          "base_uri": "https://localhost:8080/"
        },
        "id": "PmQPjDlCPBQf",
        "outputId": "a0c66388-bf3a-42a0-92b2-e8f78786711c"
      },
      "execution_count": 254,
      "outputs": [
        {
          "output_type": "execute_result",
          "data": {
            "text/plain": [
              "array([0, 1, 2, 3, 4, 5, 6, 7, 8, 9])"
            ]
          },
          "metadata": {},
          "execution_count": 254
        }
      ]
    },
    {
      "cell_type": "code",
      "source": [
        "arrays['b']"
      ],
      "metadata": {
        "colab": {
          "base_uri": "https://localhost:8080/"
        },
        "id": "zeoSp9_-Sj1R",
        "outputId": "18b2c50c-d01b-4fad-a874-20f0f3115aeb"
      },
      "execution_count": 255,
      "outputs": [
        {
          "output_type": "execute_result",
          "data": {
            "text/plain": [
              "array([ 0,  1,  2,  3,  4,  5,  6,  7,  8,  9, 10, 11, 12, 13, 14, 15, 16,\n",
              "       17, 18, 19])"
            ]
          },
          "metadata": {},
          "execution_count": 255
        }
      ]
    },
    {
      "cell_type": "code",
      "source": [
        "# savez_compressed --> arraylarni siqilgan holatda saqlab qo'yish\n",
        "np.savez_compressed('array_comp.npz', a = arr, b = arr1)"
      ],
      "metadata": {
        "id": "oMUV8FKlSjyB"
      },
      "execution_count": 256,
      "outputs": []
    },
    {
      "cell_type": "code",
      "source": [
        "arr_comp = np.load('array_comp.npz')"
      ],
      "metadata": {
        "id": "sJcBFIA0S4YZ"
      },
      "execution_count": 257,
      "outputs": []
    },
    {
      "cell_type": "code",
      "source": [
        "arr_comp['a']"
      ],
      "metadata": {
        "colab": {
          "base_uri": "https://localhost:8080/"
        },
        "id": "FGcRQb03S4Vt",
        "outputId": "c3c9e4ca-9a00-4931-dabc-c9a8d4bd6f3b"
      },
      "execution_count": 263,
      "outputs": [
        {
          "output_type": "execute_result",
          "data": {
            "text/plain": [
              "array([0, 1, 2, 3, 4, 5, 6, 7, 8, 9])"
            ]
          },
          "metadata": {},
          "execution_count": 263
        }
      ]
    },
    {
      "cell_type": "code",
      "source": [
        ""
      ],
      "metadata": {
        "id": "a-pSb_vLW0I5"
      },
      "execution_count": null,
      "outputs": []
    },
    {
      "cell_type": "markdown",
      "source": [
        "### resault **`savez`** and **`savez_compressed`**  \"`picture`\""
      ],
      "metadata": {
        "id": "Byp4QE8qYDZL"
      }
    },
    {
      "cell_type": "markdown",
      "source": [
        "![arr_npy1.png](data:image/png;base64,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)![arr_com_npz1.png](data:image/png;base64,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)"
      ],
      "metadata": {
        "id": "lRQ0VZMqX4e5"
      }
    },
    {
      "cell_type": "markdown",
      "source": [
        "# ***# 14 Chiziqli Algebra***\n",
        "[NumPy va Chiziqli Algebra haqida yaxshi maqola: ](https://towardsdatascience.com/introduction-to-linear-algebra-with-numpy-79adeb7bc060)"
      ],
      "metadata": {
        "id": "68yKq2myZlWF"
      }
    },
    {
      "cell_type": "code",
      "source": [
        "x = np.array([[1, 2, 3], [4, 5, 6]], dtype = np.float64)\n",
        "x"
      ],
      "metadata": {
        "colab": {
          "base_uri": "https://localhost:8080/"
        },
        "id": "cKkj03m7ZxY4",
        "outputId": "1ca87522-7119-4365-b08e-53e96e2c4f4a"
      },
      "execution_count": 279,
      "outputs": [
        {
          "output_type": "execute_result",
          "data": {
            "text/plain": [
              "array([[1., 2., 3.],\n",
              "       [4., 5., 6.]])"
            ]
          },
          "metadata": {},
          "execution_count": 279
        }
      ]
    },
    {
      "cell_type": "code",
      "source": [
        "y = np.array([[5, 5, 5], [4, 4, 4]], dtype = np.float64)\n",
        "y"
      ],
      "metadata": {
        "colab": {
          "base_uri": "https://localhost:8080/"
        },
        "id": "umbscDMraaDY",
        "outputId": "f5940570-0185-48a4-9043-ca0a2c9c567a"
      },
      "execution_count": 280,
      "outputs": [
        {
          "output_type": "execute_result",
          "data": {
            "text/plain": [
              "array([[5., 5., 5.],\n",
              "       [4., 4., 4.]])"
            ]
          },
          "metadata": {},
          "execution_count": 280
        }
      ]
    },
    {
      "cell_type": "code",
      "source": [
        "x + y"
      ],
      "metadata": {
        "colab": {
          "base_uri": "https://localhost:8080/"
        },
        "id": "OKpmnzs1a94v",
        "outputId": "db2774c2-e7bc-4576-97c5-1817f91cc98b"
      },
      "execution_count": 281,
      "outputs": [
        {
          "output_type": "execute_result",
          "data": {
            "text/plain": [
              "array([[ 6.,  7.,  8.],\n",
              "       [ 8.,  9., 10.]])"
            ]
          },
          "metadata": {},
          "execution_count": 281
        }
      ]
    },
    {
      "cell_type": "code",
      "source": [
        "y - x"
      ],
      "metadata": {
        "colab": {
          "base_uri": "https://localhost:8080/"
        },
        "id": "CRDY6OGxbAhq",
        "outputId": "dd87ae28-143e-4cbe-87a8-b240d0c41834"
      },
      "execution_count": 282,
      "outputs": [
        {
          "output_type": "execute_result",
          "data": {
            "text/plain": [
              "array([[ 4.,  3.,  2.],\n",
              "       [ 0., -1., -2.]])"
            ]
          },
          "metadata": {},
          "execution_count": 282
        }
      ]
    },
    {
      "cell_type": "code",
      "source": [
        "x * 5"
      ],
      "metadata": {
        "colab": {
          "base_uri": "https://localhost:8080/"
        },
        "id": "ytx-XsJibC-i",
        "outputId": "d44aa5cf-2ed0-4429-ec24-4e689526a7c9"
      },
      "execution_count": 283,
      "outputs": [
        {
          "output_type": "execute_result",
          "data": {
            "text/plain": [
              "array([[ 5., 10., 15.],\n",
              "       [20., 25., 30.]])"
            ]
          },
          "metadata": {},
          "execution_count": 283
        }
      ]
    },
    {
      "cell_type": "code",
      "source": [
        ""
      ],
      "metadata": {
        "id": "QPNIjyCTpSNF"
      },
      "execution_count": null,
      "outputs": []
    },
    {
      "cell_type": "markdown",
      "source": [
        "**Matrirtsalar ustida amallar**\n",
        "\n",
        "---\n",
        "\n",
        "\n",
        "\n",
        "---\n",
        "\n",
        "\n",
        "\n",
        "---\n",
        "\n"
      ],
      "metadata": {
        "id": "A9Su0hrdpUvH"
      }
    },
    {
      "cell_type": "code",
      "source": [
        "x = np.array([[1, 2, 3], [4, 5, 6]], dtype = np.float64)    # 2x3 matritsa (array)\n",
        "x"
      ],
      "metadata": {
        "colab": {
          "base_uri": "https://localhost:8080/"
        },
        "id": "k7QGk4DgpcA3",
        "outputId": "e9aa6f36-c405-4abf-b030-870f9fdae503"
      },
      "execution_count": 284,
      "outputs": [
        {
          "output_type": "execute_result",
          "data": {
            "text/plain": [
              "array([[1., 2., 3.],\n",
              "       [4., 5., 6.]])"
            ]
          },
          "metadata": {},
          "execution_count": 284
        }
      ]
    },
    {
      "cell_type": "code",
      "source": [
        "y = np.array([[6, 23], [-1, 7], [8, 9]], dtype = np.float64)    # 3x2 matritsa (array)\n",
        "y"
      ],
      "metadata": {
        "colab": {
          "base_uri": "https://localhost:8080/"
        },
        "id": "6WTF2BlS1z6N",
        "outputId": "c51abeec-49b3-47e4-9684-d5cbd947af44"
      },
      "execution_count": 286,
      "outputs": [
        {
          "output_type": "execute_result",
          "data": {
            "text/plain": [
              "array([[ 6., 23.],\n",
              "       [-1.,  7.],\n",
              "       [ 8.,  9.]])"
            ]
          },
          "metadata": {},
          "execution_count": 286
        }
      ]
    },
    {
      "cell_type": "code",
      "source": [
        "x.dot(y)    # x ni y ga ko'paytirish"
      ],
      "metadata": {
        "colab": {
          "base_uri": "https://localhost:8080/"
        },
        "id": "UeUg3aI42JjC",
        "outputId": "0abb1b74-349f-42c6-fdb8-502613c25175"
      },
      "execution_count": 288,
      "outputs": [
        {
          "output_type": "execute_result",
          "data": {
            "text/plain": [
              "array([[ 28.,  64.],\n",
              "       [ 67., 181.]])"
            ]
          },
          "metadata": {},
          "execution_count": 288
        }
      ]
    },
    {
      "cell_type": "code",
      "source": [
        "np.dot(x, y)    # x ni y ga ko'paytirish"
      ],
      "metadata": {
        "colab": {
          "base_uri": "https://localhost:8080/"
        },
        "id": "bBHOjzRP2NUr",
        "outputId": "29d3d630-9461-4b36-f7a5-ecead212a2d9"
      },
      "execution_count": 289,
      "outputs": [
        {
          "output_type": "execute_result",
          "data": {
            "text/plain": [
              "array([[ 28.,  64.],\n",
              "       [ 67., 181.]])"
            ]
          },
          "metadata": {},
          "execution_count": 289
        }
      ]
    },
    {
      "cell_type": "code",
      "source": [
        "y.dot(x)    # y ni x ga ko'paytirish"
      ],
      "metadata": {
        "colab": {
          "base_uri": "https://localhost:8080/"
        },
        "id": "5y1BAbBR2YHN",
        "outputId": "7637e2c9-f21e-4a94-b3ee-3cfd09f48813"
      },
      "execution_count": 290,
      "outputs": [
        {
          "output_type": "execute_result",
          "data": {
            "text/plain": [
              "array([[ 98., 127., 156.],\n",
              "       [ 27.,  33.,  39.],\n",
              "       [ 44.,  61.,  78.]])"
            ]
          },
          "metadata": {},
          "execution_count": 290
        }
      ]
    },
    {
      "cell_type": "code",
      "source": [
        "np.dot(y,x)    # y ni x ga ko'paytirish"
      ],
      "metadata": {
        "colab": {
          "base_uri": "https://localhost:8080/"
        },
        "id": "apofyEmm2a6q",
        "outputId": "82a567ea-a4ab-4e18-8ad4-5120c06ba3af"
      },
      "execution_count": 291,
      "outputs": [
        {
          "output_type": "execute_result",
          "data": {
            "text/plain": [
              "array([[ 98., 127., 156.],\n",
              "       [ 27.,  33.,  39.],\n",
              "       [ 44.,  61.,  78.]])"
            ]
          },
          "metadata": {},
          "execution_count": 291
        }
      ]
    }
  ]
}
