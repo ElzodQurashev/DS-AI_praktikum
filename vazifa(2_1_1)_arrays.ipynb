{
  "cells": [
    {
      "cell_type": "markdown",
      "metadata": {
        "id": "view-in-github",
        "colab_type": "text"
      },
      "source": [
        "<a href=\"https://colab.research.google.com/github/ElzodQurashev/DS-AI_praktikum/blob/main/vazifa(2_1_1)_arrays.ipynb\" target=\"_parent\"><img src=\"https://colab.research.google.com/assets/colab-badge.svg\" alt=\"Open In Colab\"/></a>"
      ]
    },
    {
      "cell_type": "markdown",
      "metadata": {
        "id": "oELCyyJmRgKr"
      },
      "source": [
        "Faqatgina `YOUR CODE HERE` yoki \"YOUR ANSWER HERE\" deyilgan joyga dasturingizni yoki javobingizni yozing"
      ]
    },
    {
      "cell_type": "code",
      "execution_count": null,
      "metadata": {
        "id": "yUhPPXLZRgK1"
      },
      "outputs": [],
      "source": [
        "NAME = \"Elzod Qurashev\"\n",
        "COLLABORATORS = \"Mohirdev\""
      ]
    },
    {
      "cell_type": "markdown",
      "metadata": {
        "id": "Xp7CoGuLRgK4"
      },
      "source": [
        "---"
      ]
    },
    {
      "cell_type": "markdown",
      "metadata": {
        "deletable": false,
        "editable": false,
        "nbgrader": {
          "cell_type": "markdown",
          "checksum": "535c21960d4663d5edac398cb445d087",
          "grade": false,
          "grade_id": "jupyter",
          "locked": true,
          "schema_version": 3,
          "solution": false
        },
        "id": "2pJkFCq7RgK5"
      },
      "source": [
        "For this problem set, we'll be using the Jupyter notebook:\n",
        "\n",
        "![](jupyter.png)"
      ]
    },
    {
      "cell_type": "markdown",
      "metadata": {
        "id": "EwZ1OMmWRgK6"
      },
      "source": [
        "---\n",
        "# Ma'lumotlar tahlili\n",
        "\n",
        "## 2.1.1. N-O'lchovli massivlarga ishlov berish\n"
      ]
    },
    {
      "cell_type": "code",
      "execution_count": null,
      "metadata": {
        "id": "i74DMJYQRgK7"
      },
      "outputs": [],
      "source": [
        "# Numpy kutubxonasini chaqirib olish\n",
        "import numpy as np"
      ]
    },
    {
      "cell_type": "markdown",
      "metadata": {
        "id": "6arSCdRVRgK8"
      },
      "source": [
        "### Masala(1): 1-o'lchamli massivlar yaratish (4 points)\n",
        "\n",
        "**Masala sharti :** Elementlari ixtiyoriy  *n* ta  (*n* > 0, butun son) bo'lgan 1-o'lchamli massiv (array) yaratuvchi funksiyani tuzing. \n",
        "\n",
        "**Yordam :**  `array` yoki `random` funksiyasidan foydalaning. \n"
      ]
    },
    {
      "cell_type": "code",
      "execution_count": null,
      "metadata": {
        "deletable": false,
        "nbgrader": {
          "cell_type": "code",
          "checksum": "9e35c9ace5b3c33bc1d80237fd6daca2",
          "grade": false,
          "grade_id": "one_dim",
          "locked": false,
          "schema_version": 3,
          "solution": true
        },
        "id": "EAxoGQB8RgK9"
      },
      "outputs": [],
      "source": [
        "def one_dim(n):\n",
        "    \"\"\" n ta elementdan tashkil topgan 1-o'lchamli massiv   \n",
        "    \"\"\"\n",
        "     # YOUR CODE HERE\n",
        "    arr = np.random.randint(0,n,n)\n",
        "    return arr\n",
        "    # arr = np.arange(1,n+1)\n",
        "    # return arr\n",
        "    raise NotImplementedError()"
      ]
    },
    {
      "cell_type": "code",
      "source": [
        "one_dim(5)"
      ],
      "metadata": {
        "colab": {
          "base_uri": "https://localhost:8080/"
        },
        "id": "4YjWrbtybrzc",
        "outputId": "4d2a9d6c-3401-40a6-af34-6f2b527f9ff5"
      },
      "execution_count": null,
      "outputs": [
        {
          "output_type": "execute_result",
          "data": {
            "text/plain": [
              "array([1, 3, 0, 0, 1])"
            ]
          },
          "metadata": {},
          "execution_count": 7
        }
      ]
    },
    {
      "cell_type": "markdown",
      "metadata": {
        "id": "2yFBktJyRgK_"
      },
      "source": [
        "Sizning funksiyangiz `n`elementlari soni, `ndim` massiv o'lchami, hamda numpy array ekanligi orqali tekshiriladi: funksiyangizni pastdagi cellda tekshirib ko'ring"
      ]
    },
    {
      "cell_type": "code",
      "execution_count": null,
      "metadata": {
        "deletable": false,
        "editable": false,
        "nbgrader": {
          "cell_type": "code",
          "checksum": "01e7b44c02b60d079cb42ad0468de31c",
          "grade": true,
          "grade_id": "correct_one_dim",
          "locked": false,
          "points": 4,
          "schema_version": 3,
          "solution": false
        },
        "id": "ZtVctCxARgLA"
      },
      "outputs": [],
      "source": [
        "\"\"\"Check that squares returns the correct output for several inputs\"\"\"\n",
        "for i in range(1, 10):\n",
        "    assert len(one_dim(i)) == i  # n elementlar soni\n",
        "    arr = one_dim(i) # massiv\n",
        "    assert arr.ndim == 1 # massiv o'lchami\n",
        "    assert type(arr) == np.ndarray # #numpy array "
      ]
    },
    {
      "cell_type": "markdown",
      "metadata": {
        "id": "k8vGFx3sRgLC"
      },
      "source": [
        "### Masala(2) 2-o'lchamli massivlar yaratish (6 points)\n",
        "\n",
        "**Masala :** Shakli `shape(r, c)` bo'lgan 2-o'lchamli massiv (array) yaratuvchi funksiyani tuzing.  \n",
        "\n",
        "**Yordam :** numpy kutubxonasida massivlar yaratuvchi funksiyalarining istalganidan foydlanishingiz mumkin. \n"
      ]
    },
    {
      "cell_type": "code",
      "execution_count": null,
      "metadata": {
        "deletable": false,
        "nbgrader": {
          "cell_type": "code",
          "checksum": "f8c5bc59c7ec8f5ac5cd6987305bda9a",
          "grade": false,
          "grade_id": "two_dim",
          "locked": false,
          "schema_version": 3,
          "solution": true,
          "task": false
        },
        "id": "K_5E5K59RgLC"
      },
      "outputs": [],
      "source": [
        "def two_dim(r, c):\n",
        "    \"\"\" r ta qator, c ta ustundan tashkil topgan 2-o'lchamli massiv  \n",
        "    \"\"\"\n",
        "     # YOUR CODE HERE\n",
        "    arr = np.zeros((r,c))\n",
        "    return arr\n",
        "    raise NotImplementedError()"
      ]
    },
    {
      "cell_type": "markdown",
      "metadata": {
        "id": "PRaASLKzRgLD"
      },
      "source": [
        "Funksiyangizni pastdagi cellda test qilib ko'ring"
      ]
    },
    {
      "cell_type": "code",
      "execution_count": null,
      "metadata": {
        "deletable": false,
        "editable": false,
        "nbgrader": {
          "cell_type": "code",
          "checksum": "b728809a382d34a899c960d9944bbfe8",
          "grade": true,
          "grade_id": "correct_two_dim",
          "locked": true,
          "points": 6,
          "schema_version": 3,
          "solution": false,
          "task": false
        },
        "id": "hEuRiDJ6RgLF"
      },
      "outputs": [],
      "source": [
        "arr = two_dim(3, 2) # massiv\n",
        "assert arr.shape == (3, 2) # shape\n",
        "assert arr.ndim == 2 # massiv o'lchami\n",
        "assert type(arr) == np.ndarray # #numpy array "
      ]
    },
    {
      "cell_type": "code",
      "source": [
        "two_dim(4,4)"
      ],
      "metadata": {
        "id": "CCTxUxH3SU9_",
        "colab": {
          "base_uri": "https://localhost:8080/"
        },
        "outputId": "1d49bcda-d8c8-468b-e9b2-03e0fe525fa9"
      },
      "execution_count": null,
      "outputs": [
        {
          "output_type": "execute_result",
          "data": {
            "text/plain": [
              "array([[0., 0., 0., 0.],\n",
              "       [0., 0., 0., 0.],\n",
              "       [0., 0., 0., 0.],\n",
              "       [0., 0., 0., 0.]])"
            ]
          },
          "metadata": {},
          "execution_count": 11
        }
      ]
    },
    {
      "cell_type": "code",
      "source": [
        ""
      ],
      "metadata": {
        "id": "Canecx4ZcTzg"
      },
      "execution_count": null,
      "outputs": []
    }
  ],
  "metadata": {
    "kernelspec": {
      "display_name": "Python 3 (ipykernel)",
      "language": "python",
      "name": "python3"
    },
    "language_info": {
      "codemirror_mode": {
        "name": "ipython",
        "version": 3
      },
      "file_extension": ".py",
      "mimetype": "text/x-python",
      "name": "python",
      "nbconvert_exporter": "python",
      "pygments_lexer": "ipython3",
      "version": "3.9.7"
    },
    "colab": {
      "name": "vazifa(2_1_1)_arrays.ipynb",
      "provenance": [],
      "collapsed_sections": [],
      "include_colab_link": true
    }
  },
  "nbformat": 4,
  "nbformat_minor": 0
}
