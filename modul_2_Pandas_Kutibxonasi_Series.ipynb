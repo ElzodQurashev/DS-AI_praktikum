{
  "nbformat": 4,
  "nbformat_minor": 0,
  "metadata": {
    "colab": {
      "name": "modul_2_Pandas_Kutibxonasi_Series.ipynb",
      "provenance": [],
      "collapsed_sections": [
        "E-84LtralAi2"
      ],
      "toc_visible": true,
      "authorship_tag": "ABX9TyNrDjwepuGLqTD3q+AyHgQt",
      "include_colab_link": true
    },
    "kernelspec": {
      "name": "python3",
      "display_name": "Python 3"
    },
    "language_info": {
      "name": "python"
    }
  },
  "cells": [
    {
      "cell_type": "markdown",
      "metadata": {
        "id": "view-in-github",
        "colab_type": "text"
      },
      "source": [
        "<a href=\"https://colab.research.google.com/github/ElzodQurashev/DS-AI_praktikum/blob/ds_practicum/modul_2_Pandas_Kutibxonasi_Series.ipynb\" target=\"_parent\"><img src=\"https://colab.research.google.com/assets/colab-badge.svg\" alt=\"Open In Colab\"/></a>"
      ]
    },
    {
      "cell_type": "markdown",
      "source": [
        "![Imgur](https://i.imgur.com/5pXzCIu.png)\n",
        "\n",
        "# Data Science va Sun'iy Intellekt Praktikum\n",
        "\n",
        "## Ma'lumotlar tahlili. Pandas kutubxonasi.\n",
        "\n",
        "### 2.2 Pandas kutubxonasi bilan tanishuv\n",
        "\n"
      ],
      "metadata": {
        "id": "E-84LtralAi2"
      }
    },
    {
      "cell_type": "markdown",
      "source": [
        "**`pandas`** kutubxonasi ma'lumotlar muhandisining eng muhim ish quroli hisoblanadi. Data Science loyihalar ustida ishlar ekanmiz, 90% amallar aynan **`pandas`** yordamida amalga oshiriladi. **`pandas`** o'zining maxsus ma'lumotlar tuzilmalariga ega va bu tuzilmalar ma'lumotlarga ishlov berish, tozalash va boshqa amllarni bir necha barobar osonlashtiradi.\n",
        "\n",
        "Avvalgi bo'limda ko'rilgan **`numpy`** kutubxonasidan farqli ravishda, **`pandas`** kutubxonasi faqatgina sonlardan iborat massivlar bilan emas, balki turli ko'rinishdagi ma'lumotlardan iborat jadvallar bilan ishlashga moslashgan."
      ],
      "metadata": {
        "id": "EBDkiPfblfQc"
      }
    },
    {
      "cell_type": "code",
      "source": [
        "import pandas as pd   # Pandas library\n",
        "import numpy as np   # NumPy library\n",
        "from pandas import Series   # Series ma'lumotlar tuzilmasi"
      ],
      "metadata": {
        "id": "nMHJeMUklzub"
      },
      "execution_count": 2,
      "outputs": []
    },
    {
      "cell_type": "markdown",
      "source": [
        "# **# 0 *``Series`` ma'lumotlar tuzilmasi*** "
      ],
      "metadata": {
        "id": "DGbjX8WyrXdb"
      }
    },
    {
      "cell_type": "code",
      "source": [
        "obj = Series([4, 5, 6, -6.5])   # Oddiy va sodda Series tuzish   \n",
        "obj"
      ],
      "metadata": {
        "colab": {
          "base_uri": "https://localhost:8080/"
        },
        "id": "ydnSv0HNrliP",
        "outputId": "433f1a96-94ec-4db9-f0d1-dbe36a45ebac"
      },
      "execution_count": 2,
      "outputs": [
        {
          "output_type": "execute_result",
          "data": {
            "text/plain": [
              "0    4.0\n",
              "1    5.0\n",
              "2    6.0\n",
              "3   -6.5\n",
              "dtype: float64"
            ]
          },
          "metadata": {},
          "execution_count": 2
        }
      ]
    },
    {
      "cell_type": "code",
      "source": [
        "type(obj)   # Ma'lumot turini tekshirish (demak bu Series)"
      ],
      "metadata": {
        "colab": {
          "base_uri": "https://localhost:8080/"
        },
        "id": "-X1GoPHjFGt6",
        "outputId": "6c90f297-7503-4c1c-dbf0-207532b0b29a"
      },
      "execution_count": 3,
      "outputs": [
        {
          "output_type": "execute_result",
          "data": {
            "text/plain": [
              "pandas.core.series.Series"
            ]
          },
          "metadata": {},
          "execution_count": 3
        }
      ]
    },
    {
      "cell_type": "code",
      "source": [
        "obj.values    # Series qiymatlari"
      ],
      "metadata": {
        "colab": {
          "base_uri": "https://localhost:8080/"
        },
        "id": "8dDAtuWnFIg-",
        "outputId": "be229802-8258-4015-d1d9-71eddeefb716"
      },
      "execution_count": 4,
      "outputs": [
        {
          "output_type": "execute_result",
          "data": {
            "text/plain": [
              "array([ 4. ,  5. ,  6. , -6.5])"
            ]
          },
          "metadata": {},
          "execution_count": 4
        }
      ]
    },
    {
      "cell_type": "code",
      "source": [
        "obj.index   # Series indekslari"
      ],
      "metadata": {
        "colab": {
          "base_uri": "https://localhost:8080/"
        },
        "id": "6GNMmZlbBdJj",
        "outputId": "6a5f3bee-44ed-4d0b-8d62-d1848bb2cf43"
      },
      "execution_count": 5,
      "outputs": [
        {
          "output_type": "execute_result",
          "data": {
            "text/plain": [
              "RangeIndex(start=0, stop=4, step=1)"
            ]
          },
          "metadata": {},
          "execution_count": 5
        }
      ]
    },
    {
      "cell_type": "code",
      "source": [
        "obj[0]"
      ],
      "metadata": {
        "colab": {
          "base_uri": "https://localhost:8080/"
        },
        "id": "52PRLx5vBgHa",
        "outputId": "5d155a0c-755a-42a4-f90c-703f16681dde"
      },
      "execution_count": 6,
      "outputs": [
        {
          "output_type": "execute_result",
          "data": {
            "text/plain": [
              "4.0"
            ]
          },
          "metadata": {},
          "execution_count": 6
        }
      ]
    },
    {
      "cell_type": "code",
      "source": [
        "\n",
        "#  index berish\n",
        "obj2 = Series([6, 3, 2, 5], index = ['a','b','c','d'])\n",
        "obj2"
      ],
      "metadata": {
        "colab": {
          "base_uri": "https://localhost:8080/"
        },
        "id": "gx41FuwNBmTC",
        "outputId": "75e69277-6315-401e-f69b-18e9cd635fd0"
      },
      "execution_count": 30,
      "outputs": [
        {
          "output_type": "execute_result",
          "data": {
            "text/plain": [
              "a    6\n",
              "b    3\n",
              "c    2\n",
              "d    5\n",
              "dtype: int64"
            ]
          },
          "metadata": {},
          "execution_count": 30
        }
      ]
    },
    {
      "cell_type": "code",
      "source": [
        "obj2['a']   # indeks bo'yicha murojaat"
      ],
      "metadata": {
        "colab": {
          "base_uri": "https://localhost:8080/"
        },
        "id": "HwuEF4x8CeT7",
        "outputId": "12f0a680-e885-4651-f58a-4c98992d5809"
      },
      "execution_count": 8,
      "outputs": [
        {
          "output_type": "execute_result",
          "data": {
            "text/plain": [
              "6"
            ]
          },
          "metadata": {},
          "execution_count": 8
        }
      ]
    },
    {
      "cell_type": "code",
      "source": [
        "obj2[['d','b','a']]   # bir nechta indeks bo'yicha murojaat"
      ],
      "metadata": {
        "colab": {
          "base_uri": "https://localhost:8080/"
        },
        "id": "nsYauHl-Craa",
        "outputId": "0ffe261e-8a3e-4a37-83f5-de213c64b93f"
      },
      "execution_count": 9,
      "outputs": [
        {
          "output_type": "execute_result",
          "data": {
            "text/plain": [
              "d    5\n",
              "b    3\n",
              "a    6\n",
              "dtype: int64"
            ]
          },
          "metadata": {},
          "execution_count": 9
        }
      ]
    },
    {
      "cell_type": "code",
      "source": [
        "obj2[['d','d','d']]   # bir necha marta bir xil indeksga murojaat"
      ],
      "metadata": {
        "colab": {
          "base_uri": "https://localhost:8080/"
        },
        "id": "n14TOkDmC2Wz",
        "outputId": "b0be01f3-a5da-4330-b83b-b76bd58ab8ac"
      },
      "execution_count": 10,
      "outputs": [
        {
          "output_type": "execute_result",
          "data": {
            "text/plain": [
              "d    5\n",
              "d    5\n",
              "d    5\n",
              "dtype: int64"
            ]
          },
          "metadata": {},
          "execution_count": 10
        }
      ]
    },
    {
      "cell_type": "code",
      "source": [
        "obj2['x'] = 7   # yangi indeks va element qo'shish\n",
        "obj2"
      ],
      "metadata": {
        "colab": {
          "base_uri": "https://localhost:8080/"
        },
        "id": "Ua8I7jCkC_oS",
        "outputId": "fe5663e0-abdd-4501-f5ad-3b0361306d89"
      },
      "execution_count": 11,
      "outputs": [
        {
          "output_type": "execute_result",
          "data": {
            "text/plain": [
              "a    6\n",
              "b    3\n",
              "c    2\n",
              "d    5\n",
              "x    7\n",
              "dtype: int64"
            ]
          },
          "metadata": {},
          "execution_count": 11
        }
      ]
    },
    {
      "cell_type": "code",
      "source": [
        "#  filtrga misol\n",
        "obj2[obj2>4]    # obj2 ni 4 dan katta qiymatga ega bo'lganlarini chaqirish"
      ],
      "metadata": {
        "colab": {
          "base_uri": "https://localhost:8080/"
        },
        "id": "Dq4YRKIXDdWS",
        "outputId": "a2d2ca4f-2f2c-48a6-ee62-8ede19efdef6"
      },
      "execution_count": 12,
      "outputs": [
        {
          "output_type": "execute_result",
          "data": {
            "text/plain": [
              "a    6\n",
              "d    5\n",
              "x    7\n",
              "dtype: int64"
            ]
          },
          "metadata": {},
          "execution_count": 12
        }
      ]
    },
    {
      "cell_type": "code",
      "source": [
        "np.sort(obj2)   # tartiblangan ko'rinishi (asl ma'lumot o'zgarmaydi)"
      ],
      "metadata": {
        "colab": {
          "base_uri": "https://localhost:8080/"
        },
        "id": "a-Ar56BkELPy",
        "outputId": "5d537073-b5e0-43f1-f4aa-beadd1acf316"
      },
      "execution_count": 13,
      "outputs": [
        {
          "output_type": "execute_result",
          "data": {
            "text/plain": [
              "array([2, 3, 5, 6, 7])"
            ]
          },
          "metadata": {},
          "execution_count": 13
        }
      ]
    },
    {
      "cell_type": "code",
      "source": [
        "obj2*2    # ko'paytirish, bo'lish, qo'shish, ayirish "
      ],
      "metadata": {
        "colab": {
          "base_uri": "https://localhost:8080/"
        },
        "id": "bh7LBtg1Ef_7",
        "outputId": "18a3add0-8a75-4915-f454-93ea2e71a59b"
      },
      "execution_count": 32,
      "outputs": [
        {
          "output_type": "execute_result",
          "data": {
            "text/plain": [
              "a    8\n",
              "b    5\n",
              "c    4\n",
              "d    7\n",
              "dtype: int64"
            ]
          },
          "metadata": {},
          "execution_count": 32
        }
      ]
    },
    {
      "cell_type": "code",
      "source": [
        "np.exp(obj2)    # eksponenta"
      ],
      "metadata": {
        "colab": {
          "base_uri": "https://localhost:8080/"
        },
        "id": "0KDZ8ivzEhOq",
        "outputId": "fd2fa82b-0fff-4308-fda9-98341a3767b7"
      },
      "execution_count": 15,
      "outputs": [
        {
          "output_type": "execute_result",
          "data": {
            "text/plain": [
              "a     403.428793\n",
              "b      20.085537\n",
              "c       7.389056\n",
              "d     148.413159\n",
              "x    1096.633158\n",
              "dtype: float64"
            ]
          },
          "metadata": {},
          "execution_count": 15
        }
      ]
    },
    {
      "cell_type": "markdown",
      "source": [
        "# **# 1 *Lug'atdan  Series***"
      ],
      "metadata": {
        "id": "OBUxJ4QxFx2o"
      }
    },
    {
      "cell_type": "code",
      "source": [
        "# Dictionary (lug'at)\n",
        "cars_dict = {'Malibu':40000, 'Lacetti':20000, 'Toyota':45000, 'Mazda':52000, 'Honda':38000}\n",
        "type(cars_dict)"
      ],
      "metadata": {
        "colab": {
          "base_uri": "https://localhost:8080/"
        },
        "id": "OO4HzOcPGMpP",
        "outputId": "e0a7fb16-95e5-4096-ba61-84c04902bb1f"
      },
      "execution_count": 34,
      "outputs": [
        {
          "output_type": "execute_result",
          "data": {
            "text/plain": [
              "dict"
            ]
          },
          "metadata": {},
          "execution_count": 34
        }
      ]
    },
    {
      "cell_type": "code",
      "source": [
        "# Series from dict (lug'atdan Series)\n",
        "cars1 = Series(cars_dict)\n",
        "cars1"
      ],
      "metadata": {
        "colab": {
          "base_uri": "https://localhost:8080/"
        },
        "id": "vH-0HVGBHuaC",
        "outputId": "b8c7be39-22a0-4474-cab7-3b11b5b3f807"
      },
      "execution_count": 35,
      "outputs": [
        {
          "output_type": "execute_result",
          "data": {
            "text/plain": [
              "Malibu     40000\n",
              "Lacetti    20000\n",
              "Toyota     45000\n",
              "Mazda      52000\n",
              "Honda      38000\n",
              "dtype: int64"
            ]
          },
          "metadata": {},
          "execution_count": 35
        }
      ]
    },
    {
      "cell_type": "code",
      "source": [
        "type(cars1)   # turi"
      ],
      "metadata": {
        "colab": {
          "base_uri": "https://localhost:8080/"
        },
        "id": "8Lc0YdkGIAgE",
        "outputId": "aae0807c-41be-46ad-ec20-bdaabc4b54e3"
      },
      "execution_count": 36,
      "outputs": [
        {
          "output_type": "execute_result",
          "data": {
            "text/plain": [
              "pandas.core.series.Series"
            ]
          },
          "metadata": {},
          "execution_count": 36
        }
      ]
    },
    {
      "cell_type": "code",
      "source": [
        "'Malibu' in cars1   # element Seriesda borligini tekshirish"
      ],
      "metadata": {
        "colab": {
          "base_uri": "https://localhost:8080/"
        },
        "id": "klY0hIxRIJFh",
        "outputId": "6971255b-3dc0-4806-fb02-9f48c615e4f8"
      },
      "execution_count": 37,
      "outputs": [
        {
          "output_type": "execute_result",
          "data": {
            "text/plain": [
              "True"
            ]
          },
          "metadata": {},
          "execution_count": 37
        }
      ]
    },
    {
      "cell_type": "code",
      "source": [
        "'BMW' in cars1   # element Seriesda borligini tekshirish"
      ],
      "metadata": {
        "colab": {
          "base_uri": "https://localhost:8080/"
        },
        "id": "HXWMvLasJfHB",
        "outputId": "3073e910-17c2-4062-8c3e-c08b88a5e643"
      },
      "execution_count": 38,
      "outputs": [
        {
          "output_type": "execute_result",
          "data": {
            "text/plain": [
              "False"
            ]
          },
          "metadata": {},
          "execution_count": 38
        }
      ]
    },
    {
      "cell_type": "code",
      "source": [
        "cars1['Toyota']   # indeks bo'yicha murojaat"
      ],
      "metadata": {
        "colab": {
          "base_uri": "https://localhost:8080/"
        },
        "id": "jVuAfMM5Jha4",
        "outputId": "d3d86863-a849-49d3-c966-408b93ff8386"
      },
      "execution_count": 39,
      "outputs": [
        {
          "output_type": "execute_result",
          "data": {
            "text/plain": [
              "45000"
            ]
          },
          "metadata": {},
          "execution_count": 39
        }
      ]
    },
    {
      "cell_type": "code",
      "source": [
        "# List (ro'yxat) indeks uchun.\n",
        "models = ['Honda', 'Mazda', 'Lacetti', 'Jaguar', 'Malibu', 'Toyota', 'BMW']"
      ],
      "metadata": {
        "id": "gR0OMRYXJkKZ"
      },
      "execution_count": 40,
      "outputs": []
    },
    {
      "cell_type": "code",
      "source": [
        "cars2 = Series(cars_dict, index = models)   # avvaldan yozib olingan o'zgaruvchi orqali ineks berish\n",
        "cars2                                       # elementi yo'q indekslar NaN qiymat oladi"
      ],
      "metadata": {
        "colab": {
          "base_uri": "https://localhost:8080/"
        },
        "id": "df7ubE6yKOcP",
        "outputId": "311bcbc3-3a72-43ba-c57d-a5e8ddc14b50"
      },
      "execution_count": 41,
      "outputs": [
        {
          "output_type": "execute_result",
          "data": {
            "text/plain": [
              "Honda      38000.0\n",
              "Mazda      52000.0\n",
              "Lacetti    20000.0\n",
              "Jaguar         NaN\n",
              "Malibu     40000.0\n",
              "Toyota     45000.0\n",
              "BMW            NaN\n",
              "dtype: float64"
            ]
          },
          "metadata": {},
          "execution_count": 41
        }
      ]
    },
    {
      "cell_type": "code",
      "source": [
        "# cars2['Jaguar'] = 30000\n",
        "# cars2"
      ],
      "metadata": {
        "id": "QFAd4PDfKL65"
      },
      "execution_count": 42,
      "outputs": []
    },
    {
      "cell_type": "markdown",
      "source": [
        "# **# 2** ***Series metodlari***"
      ],
      "metadata": {
        "id": "IsWNlBS-K4A4"
      }
    },
    {
      "cell_type": "code",
      "source": [
        "cars2"
      ],
      "metadata": {
        "colab": {
          "base_uri": "https://localhost:8080/"
        },
        "id": "yLcx-NHwLlc4",
        "outputId": "cc324d15-ba86-462c-c9b1-9cb436ea0d66"
      },
      "execution_count": 47,
      "outputs": [
        {
          "output_type": "execute_result",
          "data": {
            "text/plain": [
              "Honda      38000.0\n",
              "Mazda      52000.0\n",
              "Lacetti    20000.0\n",
              "Jaguar         NaN\n",
              "Malibu     40000.0\n",
              "Toyota     45000.0\n",
              "BMW            NaN\n",
              "dtype: float64"
            ]
          },
          "metadata": {},
          "execution_count": 47
        }
      ]
    },
    {
      "cell_type": "code",
      "source": [
        "# isnull()\n",
        "cars2.isnull()    # NaN qiymatlar borligini tekshirish"
      ],
      "metadata": {
        "colab": {
          "base_uri": "https://localhost:8080/"
        },
        "id": "0gvEslZFLKCJ",
        "outputId": "108fd4b5-0ce5-411b-fde0-fd4e7686624d"
      },
      "execution_count": 48,
      "outputs": [
        {
          "output_type": "execute_result",
          "data": {
            "text/plain": [
              "Honda      False\n",
              "Mazda      False\n",
              "Lacetti    False\n",
              "Jaguar      True\n",
              "Malibu     False\n",
              "Toyota     False\n",
              "BMW         True\n",
              "dtype: bool"
            ]
          },
          "metadata": {},
          "execution_count": 48
        }
      ]
    },
    {
      "cell_type": "code",
      "source": [
        "# notnull()    # NaN qiymatlar yo'qligini tekshirish\n",
        "cars2.notnull()"
      ],
      "metadata": {
        "colab": {
          "base_uri": "https://localhost:8080/"
        },
        "id": "M_TitcB3Lir5",
        "outputId": "12af84e7-28f9-4d57-9c32-5be298ff382e"
      },
      "execution_count": 49,
      "outputs": [
        {
          "output_type": "execute_result",
          "data": {
            "text/plain": [
              "Honda       True\n",
              "Mazda       True\n",
              "Lacetti     True\n",
              "Jaguar     False\n",
              "Malibu      True\n",
              "Toyota      True\n",
              "BMW        False\n",
              "dtype: bool"
            ]
          },
          "metadata": {},
          "execution_count": 49
        }
      ]
    },
    {
      "cell_type": "code",
      "source": [
        "cars2"
      ],
      "metadata": {
        "colab": {
          "base_uri": "https://localhost:8080/"
        },
        "id": "ys_-XRdcLrUb",
        "outputId": "4d59a3ff-f02f-4a27-e6e9-3d78ab4e62df"
      },
      "execution_count": 50,
      "outputs": [
        {
          "output_type": "execute_result",
          "data": {
            "text/plain": [
              "Honda      38000.0\n",
              "Mazda      52000.0\n",
              "Lacetti    20000.0\n",
              "Jaguar         NaN\n",
              "Malibu     40000.0\n",
              "Toyota     45000.0\n",
              "BMW            NaN\n",
              "dtype: float64"
            ]
          },
          "metadata": {},
          "execution_count": 50
        }
      ]
    },
    {
      "cell_type": "code",
      "source": [
        "cars1"
      ],
      "metadata": {
        "colab": {
          "base_uri": "https://localhost:8080/"
        },
        "id": "YNfloMtBL7oR",
        "outputId": "57b5e0b4-5d09-4e5c-e638-5079f15be6ae"
      },
      "execution_count": 51,
      "outputs": [
        {
          "output_type": "execute_result",
          "data": {
            "text/plain": [
              "Malibu     40000\n",
              "Lacetti    20000\n",
              "Toyota     45000\n",
              "Mazda      52000\n",
              "Honda      38000\n",
              "dtype: int64"
            ]
          },
          "metadata": {},
          "execution_count": 51
        }
      ]
    },
    {
      "cell_type": "code",
      "source": [
        "# Qo'shish\n",
        "cars1+cars2"
      ],
      "metadata": {
        "colab": {
          "base_uri": "https://localhost:8080/"
        },
        "id": "sqVOuO0cL8JB",
        "outputId": "03ad4a88-3b4b-4421-9f71-bedf29eb1f80"
      },
      "execution_count": 52,
      "outputs": [
        {
          "output_type": "execute_result",
          "data": {
            "text/plain": [
              "BMW             NaN\n",
              "Honda       76000.0\n",
              "Jaguar          NaN\n",
              "Lacetti     40000.0\n",
              "Malibu      80000.0\n",
              "Mazda      104000.0\n",
              "Toyota      90000.0\n",
              "dtype: float64"
            ]
          },
          "metadata": {},
          "execution_count": 52
        }
      ]
    },
    {
      "cell_type": "code",
      "source": [
        "# Nom berish (name), (index.name) Seriesga va indeksga nom berish\n",
        "cars2.name = 'Avtosalon'\n",
        "cars2.index.name = 'Car Models'"
      ],
      "metadata": {
        "id": "6hPMOAQCL_WM"
      },
      "execution_count": 53,
      "outputs": []
    },
    {
      "cell_type": "code",
      "source": [
        "cars2"
      ],
      "metadata": {
        "colab": {
          "base_uri": "https://localhost:8080/"
        },
        "id": "Ugxfh3DqMaNp",
        "outputId": "b1b377eb-9637-4bb9-cd9d-318c552c525b"
      },
      "execution_count": 54,
      "outputs": [
        {
          "output_type": "execute_result",
          "data": {
            "text/plain": [
              "Car Models\n",
              "Honda      38000.0\n",
              "Mazda      52000.0\n",
              "Lacetti    20000.0\n",
              "Jaguar         NaN\n",
              "Malibu     40000.0\n",
              "Toyota     45000.0\n",
              "BMW            NaN\n",
              "Name: Avtosalon, dtype: float64"
            ]
          },
          "metadata": {},
          "execution_count": 54
        }
      ]
    },
    {
      "cell_type": "code",
      "source": [
        "cars2.name"
      ],
      "metadata": {
        "colab": {
          "base_uri": "https://localhost:8080/",
          "height": 35
        },
        "id": "7YnWg-6oMiC5",
        "outputId": "0fbf55a4-e057-42d0-b958-8e4ef246ea24"
      },
      "execution_count": 55,
      "outputs": [
        {
          "output_type": "execute_result",
          "data": {
            "application/vnd.google.colaboratory.intrinsic+json": {
              "type": "string"
            },
            "text/plain": [
              "'Avtosalon'"
            ]
          },
          "metadata": {},
          "execution_count": 55
        }
      ]
    },
    {
      "cell_type": "code",
      "source": [
        "cars2.index.name"
      ],
      "metadata": {
        "colab": {
          "base_uri": "https://localhost:8080/",
          "height": 35
        },
        "id": "2GfDk-FBNDPh",
        "outputId": "3f4c402c-5f66-46a4-e8f0-340c09d3cb0b"
      },
      "execution_count": 56,
      "outputs": [
        {
          "output_type": "execute_result",
          "data": {
            "application/vnd.google.colaboratory.intrinsic+json": {
              "type": "string"
            },
            "text/plain": [
              "'Car Models'"
            ]
          },
          "metadata": {},
          "execution_count": 56
        }
      ]
    },
    {
      "cell_type": "markdown",
      "source": [
        "## **`Series` obyektiga oid ba'zi parametr va metodlar**\n",
        "\n",
        "---\n",
        "\n",
        "\n"
      ],
      "metadata": {
        "id": "DRE1F6zRNLGC"
      }
    },
    {
      "cell_type": "code",
      "source": [
        "cars2"
      ],
      "metadata": {
        "colab": {
          "base_uri": "https://localhost:8080/"
        },
        "id": "J7_4tJA9IIrI",
        "outputId": "ab13e212-bea6-4a94-b181-0c87faca9817"
      },
      "execution_count": 57,
      "outputs": [
        {
          "output_type": "execute_result",
          "data": {
            "text/plain": [
              "Car Models\n",
              "Honda      38000.0\n",
              "Mazda      52000.0\n",
              "Lacetti    20000.0\n",
              "Jaguar         NaN\n",
              "Malibu     40000.0\n",
              "Toyota     45000.0\n",
              "BMW            NaN\n",
              "Name: Avtosalon, dtype: float64"
            ]
          },
          "metadata": {},
          "execution_count": 57
        }
      ]
    },
    {
      "cell_type": "code",
      "source": [
        "cars2.index    # Series.indexes"
      ],
      "metadata": {
        "colab": {
          "base_uri": "https://localhost:8080/"
        },
        "id": "EHDf6V8GNY5A",
        "outputId": "9dce346a-2ebc-491e-da7e-ffc73c10965a"
      },
      "execution_count": 58,
      "outputs": [
        {
          "output_type": "execute_result",
          "data": {
            "text/plain": [
              "Index(['Honda', 'Mazda', 'Lacetti', 'Jaguar', 'Malibu', 'Toyota', 'BMW'], dtype='object', name='Car Models')"
            ]
          },
          "metadata": {},
          "execution_count": 58
        }
      ]
    },
    {
      "cell_type": "code",
      "source": [
        "cars2.values    # Series.values"
      ],
      "metadata": {
        "colab": {
          "base_uri": "https://localhost:8080/"
        },
        "id": "VgrGrPMcNjLo",
        "outputId": "93ed734f-b935-4626-c315-78be4d55ba60"
      },
      "execution_count": 59,
      "outputs": [
        {
          "output_type": "execute_result",
          "data": {
            "text/plain": [
              "array([38000., 52000., 20000.,    nan, 40000., 45000.,    nan])"
            ]
          },
          "metadata": {},
          "execution_count": 59
        }
      ]
    },
    {
      "cell_type": "code",
      "source": [
        "# .hasnans\n",
        "cars2.hasnans   # NaN qiymatlar borligi \"True\" yo'qligi \"False\""
      ],
      "metadata": {
        "colab": {
          "base_uri": "https://localhost:8080/"
        },
        "id": "ptnfMzfQNpNw",
        "outputId": "d63d51df-5ea7-4e18-c1b2-57aa16bdc2f7"
      },
      "execution_count": 60,
      "outputs": [
        {
          "output_type": "execute_result",
          "data": {
            "text/plain": [
              "True"
            ]
          },
          "metadata": {},
          "execution_count": 60
        }
      ]
    },
    {
      "cell_type": "code",
      "source": [
        "# dtype\n",
        "cars2.dtype"
      ],
      "metadata": {
        "colab": {
          "base_uri": "https://localhost:8080/"
        },
        "id": "zX0beM9QNwS5",
        "outputId": "7cdd3730-9a6e-4f12-c83d-edf8127babc7"
      },
      "execution_count": 61,
      "outputs": [
        {
          "output_type": "execute_result",
          "data": {
            "text/plain": [
              "dtype('float64')"
            ]
          },
          "metadata": {},
          "execution_count": 61
        }
      ]
    },
    {
      "cell_type": "code",
      "source": [
        "cars2.is_unique    # qiymatlar takrorlanmas ekanini tekshirish"
      ],
      "metadata": {
        "id": "EaRdo1pmOPza",
        "colab": {
          "base_uri": "https://localhost:8080/"
        },
        "outputId": "346c21fc-697e-494c-8028-d845d899ef5c"
      },
      "execution_count": 62,
      "outputs": [
        {
          "output_type": "execute_result",
          "data": {
            "text/plain": [
              "False"
            ]
          },
          "metadata": {},
          "execution_count": 62
        }
      ]
    },
    {
      "cell_type": "code",
      "source": [
        "cars2.shape    # Series hajmi"
      ],
      "metadata": {
        "colab": {
          "base_uri": "https://localhost:8080/"
        },
        "id": "QfNkjMZs_TyV",
        "outputId": "710c38df-7e04-42c7-cf57-47af1c3b9fc1"
      },
      "execution_count": 63,
      "outputs": [
        {
          "output_type": "execute_result",
          "data": {
            "text/plain": [
              "(7,)"
            ]
          },
          "metadata": {},
          "execution_count": 63
        }
      ]
    },
    {
      "cell_type": "code",
      "source": [
        "cars2.size    # Series hajmi"
      ],
      "metadata": {
        "colab": {
          "base_uri": "https://localhost:8080/"
        },
        "id": "OHF3T-E0H1kJ",
        "outputId": "428574a3-b40b-4185-b498-9dca930fdb03"
      },
      "execution_count": 64,
      "outputs": [
        {
          "output_type": "execute_result",
          "data": {
            "text/plain": [
              "7"
            ]
          },
          "metadata": {},
          "execution_count": 64
        }
      ]
    },
    {
      "cell_type": "code",
      "source": [
        "# iloc\n",
        "cars2.iloc[2]    # ma'lumotlarga indeks tartib raqami bo'yicha murojaat qilish"
      ],
      "metadata": {
        "colab": {
          "base_uri": "https://localhost:8080/"
        },
        "id": "iRjv-CckH2uB",
        "outputId": "b11495c1-b748-4212-a89b-691fe95269e5"
      },
      "execution_count": 65,
      "outputs": [
        {
          "output_type": "execute_result",
          "data": {
            "text/plain": [
              "20000.0"
            ]
          },
          "metadata": {},
          "execution_count": 65
        }
      ]
    },
    {
      "cell_type": "code",
      "source": [
        "cars2.iloc[-1]"
      ],
      "metadata": {
        "colab": {
          "base_uri": "https://localhost:8080/"
        },
        "id": "taOJQJq3IETJ",
        "outputId": "0da6d24b-1e74-439b-cad7-084793cdab34"
      },
      "execution_count": 66,
      "outputs": [
        {
          "output_type": "execute_result",
          "data": {
            "text/plain": [
              "nan"
            ]
          },
          "metadata": {},
          "execution_count": 66
        }
      ]
    },
    {
      "cell_type": "code",
      "source": [
        "cars2['Honda']    # ma'lumotlarga indeks bo'yicha murojaat qilish"
      ],
      "metadata": {
        "colab": {
          "base_uri": "https://localhost:8080/"
        },
        "id": "WnGAlAFhIQnh",
        "outputId": "6f3c704f-6111-4e12-dfbc-237347b578eb"
      },
      "execution_count": 67,
      "outputs": [
        {
          "output_type": "execute_result",
          "data": {
            "text/plain": [
              "38000.0"
            ]
          },
          "metadata": {},
          "execution_count": 67
        }
      ]
    },
    {
      "cell_type": "code",
      "source": [
        "# loc\n",
        "cars2.loc['Toyota']    # ma'lumotlarga indeks bo'yicha murojaat qilish"
      ],
      "metadata": {
        "colab": {
          "base_uri": "https://localhost:8080/"
        },
        "id": "hniLZVWeIayA",
        "outputId": "07457b64-db9b-44dd-a4b5-9fee387e8ead"
      },
      "execution_count": 68,
      "outputs": [
        {
          "output_type": "execute_result",
          "data": {
            "text/plain": [
              "45000.0"
            ]
          },
          "metadata": {},
          "execution_count": 68
        }
      ]
    },
    {
      "cell_type": "code",
      "source": [
        "cars2.max()    # max qiymat "
      ],
      "metadata": {
        "colab": {
          "base_uri": "https://localhost:8080/"
        },
        "id": "VHdT-CqBI5h-",
        "outputId": "016e98a3-745a-4a37-97e7-a705f99c073c"
      },
      "execution_count": 69,
      "outputs": [
        {
          "output_type": "execute_result",
          "data": {
            "text/plain": [
              "52000.0"
            ]
          },
          "metadata": {},
          "execution_count": 69
        }
      ]
    },
    {
      "cell_type": "code",
      "source": [
        "cars2.min()    # min qiymat"
      ],
      "metadata": {
        "colab": {
          "base_uri": "https://localhost:8080/"
        },
        "id": "-CQPxf6AIjup",
        "outputId": "2e0754d1-2dbb-4c4a-8d99-1b629c1a0872"
      },
      "execution_count": 70,
      "outputs": [
        {
          "output_type": "execute_result",
          "data": {
            "text/plain": [
              "20000.0"
            ]
          },
          "metadata": {},
          "execution_count": 70
        }
      ]
    },
    {
      "cell_type": "code",
      "source": [
        "cars2.mean()    # o'rtacha qiymat"
      ],
      "metadata": {
        "colab": {
          "base_uri": "https://localhost:8080/"
        },
        "id": "fHTz-yX3JwlY",
        "outputId": "ae31f0c6-5dc9-49cf-c2bd-280ed166f87c"
      },
      "execution_count": 71,
      "outputs": [
        {
          "output_type": "execute_result",
          "data": {
            "text/plain": [
              "39000.0"
            ]
          },
          "metadata": {},
          "execution_count": 71
        }
      ]
    },
    {
      "cell_type": "code",
      "source": [
        "cars2.sum()    # cars2 sum"
      ],
      "metadata": {
        "colab": {
          "base_uri": "https://localhost:8080/"
        },
        "id": "ST1anSH2J-14",
        "outputId": "02364eca-8837-4479-a397-adbaee826a76"
      },
      "execution_count": 72,
      "outputs": [
        {
          "output_type": "execute_result",
          "data": {
            "text/plain": [
              "195000.0"
            ]
          },
          "metadata": {},
          "execution_count": 72
        }
      ]
    },
    {
      "cell_type": "code",
      "source": [
        "np.sum(cars2)    # cars2 sum"
      ],
      "metadata": {
        "colab": {
          "base_uri": "https://localhost:8080/"
        },
        "id": "CrOa1-__KLrh",
        "outputId": "6aaba6ad-7410-4f86-f662-9659c8513667"
      },
      "execution_count": 73,
      "outputs": [
        {
          "output_type": "execute_result",
          "data": {
            "text/plain": [
              "195000.0"
            ]
          },
          "metadata": {},
          "execution_count": 73
        }
      ]
    },
    {
      "cell_type": "code",
      "source": [
        "next = \" Keyingi dars DataFrame ma'lumotlar tuzilmasi \""
      ],
      "metadata": {
        "id": "vullHJuPLqig"
      },
      "execution_count": 74,
      "outputs": []
    }
  ]
}